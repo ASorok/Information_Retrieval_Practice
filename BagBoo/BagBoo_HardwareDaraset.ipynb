{
 "cells": [
  {
   "cell_type": "code",
   "execution_count": 1,
   "metadata": {
    "collapsed": false
   },
   "outputs": [
    {
     "name": "stdout",
     "output_type": "stream",
     "text": [
      "Populating the interactive namespace from numpy and matplotlib\n"
     ]
    }
   ],
   "source": [
    "from bagboo import *\n",
    "import numpy as np\n",
    "import sklearn.datasets as ds\n",
    "import pylab as pl\n",
    "import pandas as pd\n",
    "from sklearn.tree import DecisionTreeRegressor\n",
    "from sklearn.ensemble import GradientBoostingRegressor\n",
    "import random as r\n",
    "import sys\n",
    "%pylab inline"
   ]
  },
  {
   "cell_type": "code",
   "execution_count": 2,
   "metadata": {
    "collapsed": false
   },
   "outputs": [
    {
     "name": "stdout",
     "output_type": "stream",
     "text": [
      "Dataset Shape: (209, 10)\n"
     ]
    }
   ],
   "source": [
    "machine = pd.read_csv(\"./data/machine.data.csv\", sep=',',header=None)\n",
    "machine = machine.values\n",
    "print \"Dataset Shape:\", machine.shape\n",
    "machine_data = machine[:, 2:9]\n",
    "machine_target = machine[:, 9]\n",
    "\n",
    "machine_train_data = machine_data[:160]\n",
    "machine_test_data = machine_data[160:]\n",
    "\n",
    "machine_train_target = machine_target[:160]\n",
    "machine_test_target = machine_target[160:]"
   ]
  },
  {
   "cell_type": "markdown",
   "metadata": {
    "collapsed": true
   },
   "source": [
    "## Calculate dependence error from count bagging iteration. Boosting count is fixed."
   ]
  },
  {
   "cell_type": "code",
   "execution_count": 14,
   "metadata": {
    "collapsed": false,
    "scrolled": true
   },
   "outputs": [
    {
     "name": "stderr",
     "output_type": "stream",
     "text": [
      "Learning estimator number: 2/15; MSE error on train dataset: 121.548077276"
     ]
    },
    {
     "name": "stdout",
     "output_type": "stream",
     "text": [
      "MSE on test Dataset: 8456.06575069 Iteration of Bagging: 0 / 200\n",
      "MSE on train Dataset: 2873.73805117 Iteration of Bagging: 0 / 200\n"
     ]
    },
    {
     "name": "stderr",
     "output_type": "stream",
     "text": [
      "Learning estimator number: 2/15; MSE error on train dataset: 1773.97113198"
     ]
    },
    {
     "name": "stdout",
     "output_type": "stream",
     "text": [
      "MSE on test Dataset: 12904.2296084 Iteration of Bagging: 1 / 200\n",
      "MSE on train Dataset: 4009.74360579 Iteration of Bagging: 1 / 200\n"
     ]
    },
    {
     "name": "stderr",
     "output_type": "stream",
     "text": [
      "Iteration of bagging:3/200"
     ]
    },
    {
     "name": "stdout",
     "output_type": "stream",
     "text": [
      "MSE on test Dataset: 4365.64852239 Iteration of Bagging: 2 / 200\n",
      "MSE on train Dataset: 2289.756526 Iteration of Bagging: 2 / 200\n"
     ]
    },
    {
     "name": "stderr",
     "output_type": "stream",
     "text": [
      "Learning estimator number: 2/15; MSE error on train dataset: 126.617202182"
     ]
    },
    {
     "name": "stdout",
     "output_type": "stream",
     "text": [
      "MSE on test Dataset: 6110.16689158 Iteration of Bagging: 3 / 200\n",
      "MSE on train Dataset: 2854.18872287 Iteration of Bagging: 3 / 200\n"
     ]
    },
    {
     "name": "stderr",
     "output_type": "stream",
     "text": [
      "Learning estimator number: 4/15; MSE error on train dataset: 315.728874078"
     ]
    },
    {
     "name": "stdout",
     "output_type": "stream",
     "text": [
      "MSE on test Dataset: 8346.58216404 Iteration of Bagging: 4 / 200\n",
      "MSE on train Dataset: 3254.05450189 Iteration of Bagging: 4 / 200\n"
     ]
    },
    {
     "name": "stderr",
     "output_type": "stream",
     "text": [
      "Learning estimator number: 1/15; MSE error on train dataset: 171.144774801"
     ]
    },
    {
     "name": "stdout",
     "output_type": "stream",
     "text": [
      "MSE on test Dataset: 10182.6505293 Iteration of Bagging: 5 / 200\n",
      "MSE on train Dataset: 3586.06279237 Iteration of Bagging: 5 / 200\n"
     ]
    },
    {
     "name": "stderr",
     "output_type": "stream",
     "text": [
      "Learning estimator number: 1/15; MSE error on train dataset: 658.239017102"
     ]
    },
    {
     "name": "stdout",
     "output_type": "stream",
     "text": [
      "MSE on test Dataset: 10956.5925107 Iteration of Bagging: 6 / 200\n",
      "MSE on train Dataset: 3885.28633984 Iteration of Bagging: 6 / 200\n"
     ]
    },
    {
     "name": "stderr",
     "output_type": "stream",
     "text": [
      "Learning estimator number: 4/15; MSE error on train dataset: 989.137916258"
     ]
    },
    {
     "name": "stdout",
     "output_type": "stream",
     "text": [
      "MSE on test Dataset: 10814.1194015 Iteration of Bagging: 7 / 200\n",
      "MSE on train Dataset: 2879.25446154 Iteration of Bagging: 7 / 200\n"
     ]
    },
    {
     "name": "stderr",
     "output_type": "stream",
     "text": [
      "Learning estimator number: 3/15; MSE error on train dataset: 3320.23910635"
     ]
    },
    {
     "name": "stdout",
     "output_type": "stream",
     "text": [
      "MSE on test Dataset: 11847.5982613 Iteration of Bagging: 8 / 200\n",
      "MSE on train Dataset: 2759.63283588 Iteration of Bagging: 8 / 200\n"
     ]
    },
    {
     "name": "stderr",
     "output_type": "stream",
     "text": [
      "Learning estimator number: 3/15; MSE error on train dataset: 402.477776603"
     ]
    },
    {
     "name": "stdout",
     "output_type": "stream",
     "text": [
      "MSE on test Dataset: 10983.5746481 Iteration of Bagging: 9 / 200\n",
      "MSE on train Dataset: 2479.30542288 Iteration of Bagging: 9 / 200\n"
     ]
    },
    {
     "name": "stderr",
     "output_type": "stream",
     "text": [
      "Learning estimator number: 4/15; MSE error on train dataset: 69.6828049923"
     ]
    },
    {
     "name": "stdout",
     "output_type": "stream",
     "text": [
      "MSE on test Dataset: 11644.4641559 Iteration of Bagging: 10 / 200\n",
      "MSE on train Dataset: 2763.01718434 Iteration of Bagging: 10 / 200\n"
     ]
    },
    {
     "name": "stderr",
     "output_type": "stream",
     "text": [
      "Learning estimator number: 3/15; MSE error on train dataset: 438.804582009"
     ]
    },
    {
     "name": "stdout",
     "output_type": "stream",
     "text": [
      "MSE on test Dataset: 12169.898875 Iteration of Bagging: 11 / 200\n",
      "MSE on train Dataset: 2878.35619931 Iteration of Bagging: 11 / 200\n"
     ]
    },
    {
     "name": "stderr",
     "output_type": "stream",
     "text": [
      "Learning estimator number: 3/15; MSE error on train dataset: 1662.07428917"
     ]
    },
    {
     "name": "stdout",
     "output_type": "stream",
     "text": [
      "MSE on test Dataset: 12614.3132129 Iteration of Bagging: 12 / 200\n",
      "MSE on train Dataset: 2894.07504166 Iteration of Bagging: 12 / 200\n"
     ]
    },
    {
     "name": "stderr",
     "output_type": "stream",
     "text": [
      "Iteration of bagging:14/200"
     ]
    },
    {
     "name": "stdout",
     "output_type": "stream",
     "text": [
      "MSE on test Dataset: 10628.378331 Iteration of Bagging: 13 / 200\n",
      "MSE on train Dataset: 2502.81906963 Iteration of Bagging: 13 / 200\n"
     ]
    },
    {
     "name": "stderr",
     "output_type": "stream",
     "text": [
      "Learning estimator number: 5/15; MSE error on train dataset: 1127.6183351"
     ]
    },
    {
     "name": "stdout",
     "output_type": "stream",
     "text": [
      "MSE on test Dataset: 11110.761779 Iteration of Bagging: 14 / 200\n",
      "MSE on train Dataset: 2624.08061321 Iteration of Bagging: 14 / 200\n"
     ]
    },
    {
     "name": "stderr",
     "output_type": "stream",
     "text": [
      "\r",
      "Learning estimator number: 6/15; MSE error on train dataset: 990.064597597\r",
      "Learning estimator number: 7/15; MSE error on train dataset: 877.864487308\r",
      "Learning estimator number: 8/15; MSE error on train dataset: 786.452439389\r",
      "Learning estimator number: 9/15; MSE error on train dataset: 711.908005626\r",
      "Learning estimator number: 10/15; MSE error on train dataset: 650.952232102\r",
      "Learning estimator number: 11/15; MSE error on train dataset: 601.142428091\r",
      "Learning estimator number: 12/15; MSE error on train dataset: 560.476648669\r",
      "Learning estimator number: 13/15; MSE error on train dataset: 527.084329905\r",
      "Learning estimator number: 14/15; MSE error on train dataset: 461.724321776"
     ]
    },
    {
     "name": "stdout",
     "output_type": "stream",
     "text": [
      "MSE on test Dataset: 9520.73297595 Iteration of Bagging: 15 / 200\n",
      "MSE on train Dataset: 2381.21065194 Iteration of Bagging: 15 / 200\n"
     ]
    },
    {
     "name": "stderr",
     "output_type": "stream",
     "text": [
      "Learning estimator number: 1/15; MSE error on train dataset: 1981.25784314"
     ]
    },
    {
     "name": "stdout",
     "output_type": "stream",
     "text": [
      "MSE on test Dataset: 9020.30578424 Iteration of Bagging: 16 / 200\n",
      "MSE on train Dataset: 2357.29792627 Iteration of Bagging: 16 / 200\n"
     ]
    },
    {
     "name": "stderr",
     "output_type": "stream",
     "text": [
      "Learning estimator number: 4/15; MSE error on train dataset: 3918.44451836"
     ]
    },
    {
     "name": "stdout",
     "output_type": "stream",
     "text": [
      "MSE on test Dataset: 7918.96190952 Iteration of Bagging: 17 / 200\n",
      "MSE on train Dataset: 2135.16326354 Iteration of Bagging: 17 / 200\n"
     ]
    },
    {
     "name": "stderr",
     "output_type": "stream",
     "text": [
      "Learning estimator number: 2/15; MSE error on train dataset: 155.142093474"
     ]
    },
    {
     "name": "stdout",
     "output_type": "stream",
     "text": [
      "MSE on test Dataset: 7234.51333633 Iteration of Bagging: 18 / 200\n",
      "MSE on train Dataset: 1950.65754147 Iteration of Bagging: 18 / 200\n"
     ]
    },
    {
     "name": "stderr",
     "output_type": "stream",
     "text": [
      "Learning estimator number: 3/15; MSE error on train dataset: 1514.55158483"
     ]
    },
    {
     "name": "stdout",
     "output_type": "stream",
     "text": [
      "MSE on test Dataset: 7752.99999934 Iteration of Bagging: 19 / 200\n",
      "MSE on train Dataset: 2022.15257403 Iteration of Bagging: 19 / 200\n"
     ]
    },
    {
     "name": "stderr",
     "output_type": "stream",
     "text": [
      "Learning estimator number: 2/15; MSE error on train dataset: 268.430469368"
     ]
    },
    {
     "name": "stdout",
     "output_type": "stream",
     "text": [
      "MSE on test Dataset: 6960.74701094 Iteration of Bagging: 20 / 200\n",
      "MSE on train Dataset: 1846.51234089 Iteration of Bagging: 20 / 200\n"
     ]
    },
    {
     "name": "stderr",
     "output_type": "stream",
     "text": [
      "Learning estimator number: 1/15; MSE error on train dataset: 141.501160303"
     ]
    },
    {
     "name": "stdout",
     "output_type": "stream",
     "text": [
      "MSE on test Dataset: 7213.43614311 Iteration of Bagging: 21 / 200\n",
      "MSE on train Dataset: 1885.50883804 Iteration of Bagging: 21 / 200\n"
     ]
    },
    {
     "name": "stderr",
     "output_type": "stream",
     "text": [
      "Learning estimator number: 3/15; MSE error on train dataset: 785.860601402"
     ]
    },
    {
     "name": "stdout",
     "output_type": "stream",
     "text": [
      "MSE on test Dataset: 7689.95128694 Iteration of Bagging: 22 / 200\n",
      "MSE on train Dataset: 1969.40064719 Iteration of Bagging: 22 / 200\n"
     ]
    },
    {
     "name": "stderr",
     "output_type": "stream",
     "text": [
      "Iteration of bagging:24/200"
     ]
    },
    {
     "name": "stdout",
     "output_type": "stream",
     "text": [
      "MSE on test Dataset: 8319.21348607 Iteration of Bagging: 23 / 200\n",
      "MSE on train Dataset: 1973.72069552 Iteration of Bagging: 23 / 200\n"
     ]
    },
    {
     "name": "stderr",
     "output_type": "stream",
     "text": [
      "Learning estimator number: 1/15; MSE error on train dataset: 992.87622293"
     ]
    },
    {
     "name": "stdout",
     "output_type": "stream",
     "text": [
      "MSE on test Dataset: 7650.00767101 Iteration of Bagging: 24 / 200\n",
      "MSE on train Dataset: 1832.3580498 Iteration of Bagging: 24 / 200\n"
     ]
    },
    {
     "name": "stderr",
     "output_type": "stream",
     "text": [
      "Learning estimator number: 1/15; MSE error on train dataset: 2150.86415548"
     ]
    },
    {
     "name": "stdout",
     "output_type": "stream",
     "text": [
      "MSE on test Dataset: 7715.802742 Iteration of Bagging: 25 / 200\n",
      "MSE on train Dataset: 1851.12963468 Iteration of Bagging: 25 / 200\n"
     ]
    },
    {
     "name": "stderr",
     "output_type": "stream",
     "text": [
      "Learning estimator number: 3/15; MSE error on train dataset: 254.220795867"
     ]
    },
    {
     "name": "stdout",
     "output_type": "stream",
     "text": [
      "MSE on test Dataset: 7032.07140908 Iteration of Bagging: 26 / 200\n",
      "MSE on train Dataset: 1742.90518323 Iteration of Bagging: 26 / 200\n"
     ]
    },
    {
     "name": "stderr",
     "output_type": "stream",
     "text": [
      "Learning estimator number: 1/15; MSE error on train dataset: 569.773014811"
     ]
    },
    {
     "name": "stdout",
     "output_type": "stream",
     "text": [
      "MSE on test Dataset: 7321.74754014 Iteration of Bagging: 27 / 200\n",
      "MSE on train Dataset: 1744.88594212 Iteration of Bagging: 27 / 200\n"
     ]
    },
    {
     "name": "stderr",
     "output_type": "stream",
     "text": [
      "Learning estimator number: 2/15; MSE error on train dataset: 325.105001648"
     ]
    },
    {
     "name": "stdout",
     "output_type": "stream",
     "text": [
      "MSE on test Dataset: 7668.48219773 Iteration of Bagging: 28 / 200\n",
      "MSE on train Dataset: 1728.32845037 Iteration of Bagging: 28 / 200\n"
     ]
    },
    {
     "name": "stderr",
     "output_type": "stream",
     "text": [
      "Learning estimator number: 3/15; MSE error on train dataset: 1565.02801803"
     ]
    },
    {
     "name": "stdout",
     "output_type": "stream",
     "text": [
      "MSE on test Dataset: 7525.86949147 Iteration of Bagging: 29 / 200\n",
      "MSE on train Dataset: 1727.82830532 Iteration of Bagging: 29 / 200\n"
     ]
    },
    {
     "name": "stderr",
     "output_type": "stream",
     "text": [
      "Learning estimator number: 1/15; MSE error on train dataset: 470.537932092"
     ]
    },
    {
     "name": "stdout",
     "output_type": "stream",
     "text": [
      "MSE on test Dataset: 6931.62055508 Iteration of Bagging: 30 / 200\n",
      "MSE on train Dataset: 1631.45144485 Iteration of Bagging: 30 / 200\n"
     ]
    },
    {
     "name": "stderr",
     "output_type": "stream",
     "text": [
      "Learning estimator number: 1/15; MSE error on train dataset: 5027.81495477"
     ]
    },
    {
     "name": "stdout",
     "output_type": "stream",
     "text": [
      "MSE on test Dataset: 7241.51315661 Iteration of Bagging: 31 / 200\n",
      "MSE on train Dataset: 1630.70904778 Iteration of Bagging: 31 / 200\n"
     ]
    },
    {
     "name": "stderr",
     "output_type": "stream",
     "text": [
      "Iteration of bagging:33/200"
     ]
    },
    {
     "name": "stdout",
     "output_type": "stream",
     "text": [
      "MSE on test Dataset: 6791.72436239 Iteration of Bagging: 32 / 200\n",
      "MSE on train Dataset: 1562.51420941 Iteration of Bagging: 32 / 200\n"
     ]
    },
    {
     "name": "stderr",
     "output_type": "stream",
     "text": [
      "Iteration of bagging:34/200"
     ]
    },
    {
     "name": "stdout",
     "output_type": "stream",
     "text": [
      "MSE on test Dataset: 6981.77067282 Iteration of Bagging: 33 / 200\n",
      "MSE on train Dataset: 1635.65437448 Iteration of Bagging: 33 / 200\n"
     ]
    },
    {
     "name": "stderr",
     "output_type": "stream",
     "text": [
      "Learning estimator number: 3/15; MSE error on train dataset: 1554.47551465"
     ]
    },
    {
     "name": "stdout",
     "output_type": "stream",
     "text": [
      "MSE on test Dataset: 7009.36570583 Iteration of Bagging: 34 / 200\n",
      "MSE on train Dataset: 1675.09457198 Iteration of Bagging: 34 / 200\n"
     ]
    },
    {
     "name": "stderr",
     "output_type": "stream",
     "text": [
      "Iteration of bagging:36/200"
     ]
    },
    {
     "name": "stdout",
     "output_type": "stream",
     "text": [
      "MSE on test Dataset: 6562.60285505 Iteration of Bagging: 35 / 200\n",
      "MSE on train Dataset: 1600.45960555 Iteration of Bagging: 35 / 200\n"
     ]
    },
    {
     "name": "stderr",
     "output_type": "stream",
     "text": [
      "Learning estimator number: 3/15; MSE error on train dataset: 92.8899532434"
     ]
    },
    {
     "name": "stdout",
     "output_type": "stream",
     "text": [
      "MSE on test Dataset: 6609.54600845 Iteration of Bagging: 36 / 200\n",
      "MSE on train Dataset: 1636.21883325 Iteration of Bagging: 36 / 200\n"
     ]
    },
    {
     "name": "stderr",
     "output_type": "stream",
     "text": [
      "Iteration of bagging:38/200"
     ]
    },
    {
     "name": "stdout",
     "output_type": "stream",
     "text": [
      "MSE on test Dataset: 6862.51011564 Iteration of Bagging: 37 / 200\n",
      "MSE on train Dataset: 1700.55608274 Iteration of Bagging: 37 / 200\n"
     ]
    },
    {
     "name": "stderr",
     "output_type": "stream",
     "text": [
      "Iteration of bagging:39/200"
     ]
    },
    {
     "name": "stdout",
     "output_type": "stream",
     "text": [
      "MSE on test Dataset: 6884.7221701 Iteration of Bagging: 38 / 200\n",
      "MSE on train Dataset: 1616.10712152 Iteration of Bagging: 38 / 200\n"
     ]
    },
    {
     "name": "stderr",
     "output_type": "stream",
     "text": [
      "Iteration of bagging:40/200"
     ]
    },
    {
     "name": "stdout",
     "output_type": "stream",
     "text": [
      "MSE on test Dataset: 7160.16563978 Iteration of Bagging: 39 / 200\n",
      "MSE on train Dataset: 1670.74493951 Iteration of Bagging: 39 / 200\n"
     ]
    },
    {
     "name": "stderr",
     "output_type": "stream",
     "text": [
      "Iteration of bagging:41/200"
     ]
    },
    {
     "name": "stdout",
     "output_type": "stream",
     "text": [
      "MSE on test Dataset: 7427.33928761 Iteration of Bagging: 40 / 200\n",
      "MSE on train Dataset: 1673.69047949 Iteration of Bagging: 40 / 200\n"
     ]
    },
    {
     "name": "stderr",
     "output_type": "stream",
     "text": [
      "Learning estimator number: 1/15; MSE error on train dataset: 2235.06414894"
     ]
    },
    {
     "name": "stdout",
     "output_type": "stream",
     "text": [
      "MSE on test Dataset: 7467.8712194 Iteration of Bagging: 41 / 200\n",
      "MSE on train Dataset: 1649.63047736 Iteration of Bagging: 41 / 200\n"
     ]
    },
    {
     "name": "stderr",
     "output_type": "stream",
     "text": [
      "Iteration of bagging:43/200"
     ]
    },
    {
     "name": "stdout",
     "output_type": "stream",
     "text": [
      "MSE on test Dataset: 7469.105831 Iteration of Bagging: 42 / 200\n",
      "MSE on train Dataset: 1588.92832074 Iteration of Bagging: 42 / 200\n"
     ]
    },
    {
     "name": "stderr",
     "output_type": "stream",
     "text": [
      "Learning estimator number: 1/15; MSE error on train dataset: 3311.50306923"
     ]
    },
    {
     "name": "stdout",
     "output_type": "stream",
     "text": [
      "MSE on test Dataset: 7507.05994307 Iteration of Bagging: 43 / 200\n",
      "MSE on train Dataset: 1631.39608722 Iteration of Bagging: 43 / 200\n"
     ]
    },
    {
     "name": "stderr",
     "output_type": "stream",
     "text": [
      "Iteration of bagging:45/200"
     ]
    },
    {
     "name": "stdout",
     "output_type": "stream",
     "text": [
      "MSE on test Dataset: 7345.99601475 Iteration of Bagging: 44 / 200\n",
      "MSE on train Dataset: 1625.58448745 Iteration of Bagging: 44 / 200\n"
     ]
    },
    {
     "name": "stderr",
     "output_type": "stream",
     "text": [
      "Iteration of bagging:46/200"
     ]
    },
    {
     "name": "stdout",
     "output_type": "stream",
     "text": [
      "MSE on test Dataset: 7660.78414109 Iteration of Bagging: 45 / 200\n",
      "MSE on train Dataset: 1636.15742026 Iteration of Bagging: 45 / 200\n"
     ]
    },
    {
     "name": "stderr",
     "output_type": "stream",
     "text": [
      "Iteration of bagging:47/200"
     ]
    },
    {
     "name": "stdout",
     "output_type": "stream",
     "text": [
      "MSE on test Dataset: 7881.25278372 Iteration of Bagging: 46 / 200\n",
      "MSE on train Dataset: 1683.72707864 Iteration of Bagging: 46 / 200\n"
     ]
    },
    {
     "name": "stderr",
     "output_type": "stream",
     "text": [
      "Iteration of bagging:48/200"
     ]
    },
    {
     "name": "stdout",
     "output_type": "stream",
     "text": [
      "MSE on test Dataset: 8104.90813628 Iteration of Bagging: 47 / 200\n",
      "MSE on train Dataset: 1734.73321491 Iteration of Bagging: 47 / 200\n"
     ]
    },
    {
     "name": "stderr",
     "output_type": "stream",
     "text": [
      "Learning estimator number: 1/15; MSE error on train dataset: 407.906333921"
     ]
    },
    {
     "name": "stdout",
     "output_type": "stream",
     "text": [
      "MSE on test Dataset: 7747.12971075 Iteration of Bagging: 48 / 200\n",
      "MSE on train Dataset: 1682.44942943 Iteration of Bagging: 48 / 200\n"
     ]
    },
    {
     "name": "stderr",
     "output_type": "stream",
     "text": [
      "Iteration of bagging:50/200"
     ]
    },
    {
     "name": "stdout",
     "output_type": "stream",
     "text": [
      "MSE on test Dataset: 7972.01230318 Iteration of Bagging: 49 / 200\n",
      "MSE on train Dataset: 1689.3118496 Iteration of Bagging: 49 / 200\n"
     ]
    },
    {
     "name": "stderr",
     "output_type": "stream",
     "text": [
      "Learning estimator number: 1/15; MSE error on train dataset: 395.700871607"
     ]
    },
    {
     "name": "stdout",
     "output_type": "stream",
     "text": [
      "MSE on test Dataset: 8156.4358461 Iteration of Bagging: 50 / 200\n",
      "MSE on train Dataset: 1734.41066148 Iteration of Bagging: 50 / 200\n"
     ]
    },
    {
     "name": "stderr",
     "output_type": "stream",
     "text": [
      "Iteration of bagging:52/200"
     ]
    },
    {
     "name": "stdout",
     "output_type": "stream",
     "text": [
      "MSE on test Dataset: 8055.55278426 Iteration of Bagging: 51 / 200\n",
      "MSE on train Dataset: 1740.72131668 Iteration of Bagging: 51 / 200\n"
     ]
    },
    {
     "name": "stderr",
     "output_type": "stream",
     "text": [
      "Learning estimator number: 3/15; MSE error on train dataset: 4134.39790351"
     ]
    },
    {
     "name": "stdout",
     "output_type": "stream",
     "text": [
      "MSE on test Dataset: 8257.38456512 Iteration of Bagging: 52 / 200\n",
      "MSE on train Dataset: 1743.43626631 Iteration of Bagging: 52 / 200\n"
     ]
    },
    {
     "name": "stderr",
     "output_type": "stream",
     "text": [
      "Learning estimator number: 1/15; MSE error on train dataset: 638.14950296"
     ]
    },
    {
     "name": "stdout",
     "output_type": "stream",
     "text": [
      "MSE on test Dataset: 8364.30177743 Iteration of Bagging: 53 / 200\n",
      "MSE on train Dataset: 1714.64071272 Iteration of Bagging: 53 / 200\n"
     ]
    },
    {
     "name": "stderr",
     "output_type": "stream",
     "text": [
      "Learning estimator number: 1/15; MSE error on train dataset: 83.9639613878"
     ]
    },
    {
     "name": "stdout",
     "output_type": "stream",
     "text": [
      "MSE on test Dataset: 8528.88092119 Iteration of Bagging: 54 / 200\n",
      "MSE on train Dataset: 1748.99798789 Iteration of Bagging: 54 / 200\n"
     ]
    },
    {
     "name": "stderr",
     "output_type": "stream",
     "text": [
      "Learning estimator number: 5/15; MSE error on train dataset: 1158.77546349"
     ]
    },
    {
     "name": "stdout",
     "output_type": "stream",
     "text": [
      "MSE on test Dataset: 8695.85927511 Iteration of Bagging: 55 / 200\n",
      "MSE on train Dataset: 1790.74954905 Iteration of Bagging: 55 / 200\n"
     ]
    },
    {
     "name": "stderr",
     "output_type": "stream",
     "text": [
      "Learning estimator number: 5/15; MSE error on train dataset: 638.378516861"
     ]
    },
    {
     "name": "stdout",
     "output_type": "stream",
     "text": [
      "MSE on test Dataset: 8288.56253726 Iteration of Bagging: 56 / 200\n",
      "MSE on train Dataset: 1742.59398806 Iteration of Bagging: 56 / 200\n"
     ]
    },
    {
     "name": "stderr",
     "output_type": "stream",
     "text": [
      "Learning estimator number: 3/15; MSE error on train dataset: 532.338551994"
     ]
    },
    {
     "name": "stdout",
     "output_type": "stream",
     "text": [
      "MSE on test Dataset: 8362.44854914 Iteration of Bagging: 57 / 200\n",
      "MSE on train Dataset: 1780.87727685 Iteration of Bagging: 57 / 200\n"
     ]
    },
    {
     "name": "stderr",
     "output_type": "stream",
     "text": [
      "Learning estimator number: 2/15; MSE error on train dataset: 1399.60555929"
     ]
    },
    {
     "name": "stdout",
     "output_type": "stream",
     "text": [
      "MSE on test Dataset: 8563.67682163 Iteration of Bagging: 58 / 200\n",
      "MSE on train Dataset: 1809.54685887 Iteration of Bagging: 58 / 200\n"
     ]
    },
    {
     "name": "stderr",
     "output_type": "stream",
     "text": [
      "Learning estimator number: 2/15; MSE error on train dataset: 474.915476344"
     ]
    },
    {
     "name": "stdout",
     "output_type": "stream",
     "text": [
      "MSE on test Dataset: 8665.15443808 Iteration of Bagging: 59 / 200\n",
      "MSE on train Dataset: 1836.77368085 Iteration of Bagging: 59 / 200\n"
     ]
    },
    {
     "name": "stderr",
     "output_type": "stream",
     "text": [
      "Iteration of bagging:61/200"
     ]
    },
    {
     "name": "stdout",
     "output_type": "stream",
     "text": [
      "MSE on test Dataset: 8654.99026294 Iteration of Bagging: 60 / 200\n",
      "MSE on train Dataset: 1768.69944868 Iteration of Bagging: 60 / 200\n"
     ]
    },
    {
     "name": "stderr",
     "output_type": "stream",
     "text": [
      "Learning estimator number: 14/15; MSE error on train dataset: 86.5667480987"
     ]
    },
    {
     "name": "stdout",
     "output_type": "stream",
     "text": [
      "MSE on test Dataset: 8730.06877986 Iteration of Bagging: 61 / 200\n",
      "MSE on train Dataset: 1807.99075864 Iteration of Bagging: 61 / 200\n"
     ]
    },
    {
     "name": "stderr",
     "output_type": "stream",
     "text": [
      "Learning estimator number: 4/15; MSE error on train dataset: 2265.32108512"
     ]
    },
    {
     "name": "stdout",
     "output_type": "stream",
     "text": [
      "MSE on test Dataset: 8869.67328043 Iteration of Bagging: 62 / 200\n",
      "MSE on train Dataset: 1847.87570748 Iteration of Bagging: 62 / 200\n"
     ]
    },
    {
     "name": "stderr",
     "output_type": "stream",
     "text": [
      "Learning estimator number: 5/15; MSE error on train dataset: 99.3337303291"
     ]
    },
    {
     "name": "stdout",
     "output_type": "stream",
     "text": [
      "MSE on test Dataset: 8864.4944484 Iteration of Bagging: 63 / 200\n",
      "MSE on train Dataset: 1799.55287246 Iteration of Bagging: 63 / 200\n"
     ]
    },
    {
     "name": "stderr",
     "output_type": "stream",
     "text": [
      "\r",
      "Learning estimator number: 6/15; MSE error on train dataset: 91.3027055311\r",
      "Learning estimator number: 7/15; MSE error on train dataset: 86.5579155104\r",
      "Learning estimator number: 8/15; MSE error on train dataset: 78.9016819718\r",
      "Learning estimator number: 9/15; MSE error on train dataset: 74.084439093\r",
      "Learning estimator number: 10/15; MSE error on train dataset: 67.8642923827\r",
      "Learning estimator number: 11/15; MSE error on train dataset: 63.433466611\r",
      "Learning estimator number: 12/15; MSE error on train dataset: 58.6317294096\r",
      "Learning estimator number: 13/15; MSE error on train dataset: 55.5263029223\r",
      "Learning estimator number: 14/15; MSE error on train dataset: 51.6381123068\r",
      "Iteration of bagging:65/200"
     ]
    },
    {
     "name": "stdout",
     "output_type": "stream",
     "text": [
      "MSE on test Dataset: 9002.65664653 Iteration of Bagging: 64 / 200\n",
      "MSE on train Dataset: 1835.91029644 Iteration of Bagging: 64 / 200\n"
     ]
    },
    {
     "name": "stderr",
     "output_type": "stream",
     "text": [
      "Learning estimator number: 6/15; MSE error on train dataset: 408.394642292"
     ]
    },
    {
     "name": "stdout",
     "output_type": "stream",
     "text": [
      "MSE on test Dataset: 9156.99729372 Iteration of Bagging: 65 / 200\n",
      "MSE on train Dataset: 1855.42602483 Iteration of Bagging: 65 / 200\n"
     ]
    },
    {
     "name": "stderr",
     "output_type": "stream",
     "text": [
      "Learning estimator number: 4/15; MSE error on train dataset: 452.374859903"
     ]
    },
    {
     "name": "stdout",
     "output_type": "stream",
     "text": [
      "MSE on test Dataset: 9114.45809811 Iteration of Bagging: 66 / 200\n",
      "MSE on train Dataset: 1872.08573841 Iteration of Bagging: 66 / 200\n"
     ]
    },
    {
     "name": "stderr",
     "output_type": "stream",
     "text": [
      "Learning estimator number: 2/15; MSE error on train dataset: 317.847157345"
     ]
    },
    {
     "name": "stdout",
     "output_type": "stream",
     "text": [
      "MSE on test Dataset: 9129.27578908 Iteration of Bagging: 67 / 200\n",
      "MSE on train Dataset: 1808.8901878 Iteration of Bagging: 67 / 200\n"
     ]
    },
    {
     "name": "stderr",
     "output_type": "stream",
     "text": [
      "Learning estimator number: 1/15; MSE error on train dataset: 878.261446002"
     ]
    },
    {
     "name": "stdout",
     "output_type": "stream",
     "text": [
      "MSE on test Dataset: 9282.51080924 Iteration of Bagging: 68 / 200\n",
      "MSE on train Dataset: 1845.62859498 Iteration of Bagging: 68 / 200\n"
     ]
    },
    {
     "name": "stderr",
     "output_type": "stream",
     "text": [
      "Iteration of bagging:70/200"
     ]
    },
    {
     "name": "stdout",
     "output_type": "stream",
     "text": [
      "MSE on test Dataset: 9262.25271793 Iteration of Bagging: 69 / 200\n",
      "MSE on train Dataset: 1865.10763206 Iteration of Bagging: 69 / 200\n"
     ]
    },
    {
     "name": "stderr",
     "output_type": "stream",
     "text": [
      "Learning estimator number: 14/15; MSE error on train dataset: 309.863794975"
     ]
    },
    {
     "name": "stdout",
     "output_type": "stream",
     "text": [
      "MSE on test Dataset: 8998.90172612 Iteration of Bagging: 70 / 200\n",
      "MSE on train Dataset: 1819.23996506 Iteration of Bagging: 70 / 200\n"
     ]
    },
    {
     "name": "stderr",
     "output_type": "stream",
     "text": [
      "Learning estimator number: 4/15; MSE error on train dataset: 70.2086194502"
     ]
    },
    {
     "name": "stdout",
     "output_type": "stream",
     "text": [
      "MSE on test Dataset: 9127.31255324 Iteration of Bagging: 71 / 200\n",
      "MSE on train Dataset: 1847.31776223 Iteration of Bagging: 71 / 200\n"
     ]
    },
    {
     "name": "stderr",
     "output_type": "stream",
     "text": [
      "Iteration of bagging:73/200"
     ]
    },
    {
     "name": "stdout",
     "output_type": "stream",
     "text": [
      "MSE on test Dataset: 9244.48407647 Iteration of Bagging: 72 / 200\n",
      "MSE on train Dataset: 1881.97666299 Iteration of Bagging: 72 / 200\n"
     ]
    },
    {
     "name": "stderr",
     "output_type": "stream",
     "text": [
      "Learning estimator number: 3/15; MSE error on train dataset: 98.7076059298"
     ]
    },
    {
     "name": "stdout",
     "output_type": "stream",
     "text": [
      "MSE on test Dataset: 9389.88641904 Iteration of Bagging: 73 / 200\n",
      "MSE on train Dataset: 1911.3648885 Iteration of Bagging: 73 / 200\n"
     ]
    },
    {
     "name": "stderr",
     "output_type": "stream",
     "text": [
      "Learning estimator number: 4/15; MSE error on train dataset: 1431.44822977"
     ]
    },
    {
     "name": "stdout",
     "output_type": "stream",
     "text": [
      "MSE on test Dataset: 9511.79753534 Iteration of Bagging: 74 / 200\n",
      "MSE on train Dataset: 1942.94774872 Iteration of Bagging: 74 / 200\n"
     ]
    },
    {
     "name": "stderr",
     "output_type": "stream",
     "text": [
      "Learning estimator number: 3/15; MSE error on train dataset: 253.279001142"
     ]
    },
    {
     "name": "stdout",
     "output_type": "stream",
     "text": [
      "MSE on test Dataset: 9205.19805568 Iteration of Bagging: 75 / 200\n",
      "MSE on train Dataset: 1897.84573666 Iteration of Bagging: 75 / 200\n"
     ]
    },
    {
     "name": "stderr",
     "output_type": "stream",
     "text": [
      "Learning estimator number: 1/15; MSE error on train dataset: 3315.94104371"
     ]
    },
    {
     "name": "stdout",
     "output_type": "stream",
     "text": [
      "MSE on test Dataset: 9177.34442121 Iteration of Bagging: 76 / 200\n",
      "MSE on train Dataset: 1894.84594757 Iteration of Bagging: 76 / 200\n"
     ]
    },
    {
     "name": "stderr",
     "output_type": "stream",
     "text": [
      "Learning estimator number: 1/15; MSE error on train dataset: 186.612139011"
     ]
    },
    {
     "name": "stdout",
     "output_type": "stream",
     "text": [
      "MSE on test Dataset: 8886.20160169 Iteration of Bagging: 77 / 200\n",
      "MSE on train Dataset: 1856.82153814 Iteration of Bagging: 77 / 200\n"
     ]
    },
    {
     "name": "stderr",
     "output_type": "stream",
     "text": [
      "Learning estimator number: 2/15; MSE error on train dataset: 452.853050132"
     ]
    },
    {
     "name": "stdout",
     "output_type": "stream",
     "text": [
      "MSE on test Dataset: 9016.37663283 Iteration of Bagging: 78 / 200\n",
      "MSE on train Dataset: 1857.9749017 Iteration of Bagging: 78 / 200\n"
     ]
    },
    {
     "name": "stderr",
     "output_type": "stream",
     "text": [
      "Iteration of bagging:80/200"
     ]
    },
    {
     "name": "stdout",
     "output_type": "stream",
     "text": [
      "MSE on test Dataset: 9168.48432187 Iteration of Bagging: 79 / 200\n",
      "MSE on train Dataset: 1856.04875441 Iteration of Bagging: 79 / 200\n"
     ]
    },
    {
     "name": "stderr",
     "output_type": "stream",
     "text": [
      "Learning estimator number: 2/15; MSE error on train dataset: 162.575199269"
     ]
    },
    {
     "name": "stdout",
     "output_type": "stream",
     "text": [
      "MSE on test Dataset: 9285.3749937 Iteration of Bagging: 80 / 200\n",
      "MSE on train Dataset: 1887.46886271 Iteration of Bagging: 80 / 200\n"
     ]
    },
    {
     "name": "stderr",
     "output_type": "stream",
     "text": [
      "Iteration of bagging:82/200"
     ]
    },
    {
     "name": "stdout",
     "output_type": "stream",
     "text": [
      "MSE on test Dataset: 9390.64181375 Iteration of Bagging: 81 / 200\n",
      "MSE on train Dataset: 1886.00409618 Iteration of Bagging: 81 / 200\n"
     ]
    },
    {
     "name": "stderr",
     "output_type": "stream",
     "text": [
      "Learning estimator number: 4/15; MSE error on train dataset: 515.611969231"
     ]
    },
    {
     "name": "stdout",
     "output_type": "stream",
     "text": [
      "MSE on test Dataset: 9395.52801649 Iteration of Bagging: 82 / 200\n",
      "MSE on train Dataset: 1837.85963705 Iteration of Bagging: 82 / 200\n"
     ]
    },
    {
     "name": "stderr",
     "output_type": "stream",
     "text": [
      "Learning estimator number: 3/15; MSE error on train dataset: 432.725029352"
     ]
    },
    {
     "name": "stdout",
     "output_type": "stream",
     "text": [
      "MSE on test Dataset: 9495.5952002 Iteration of Bagging: 83 / 200\n",
      "MSE on train Dataset: 1861.3623358 Iteration of Bagging: 83 / 200\n"
     ]
    },
    {
     "name": "stderr",
     "output_type": "stream",
     "text": [
      "Iteration of bagging:85/200"
     ]
    },
    {
     "name": "stdout",
     "output_type": "stream",
     "text": [
      "MSE on test Dataset: 9602.98262024 Iteration of Bagging: 84 / 200\n",
      "MSE on train Dataset: 1862.49783083 Iteration of Bagging: 84 / 200\n"
     ]
    },
    {
     "name": "stderr",
     "output_type": "stream",
     "text": [
      "Learning estimator number: 4/15; MSE error on train dataset: 121.633082459"
     ]
    },
    {
     "name": "stdout",
     "output_type": "stream",
     "text": [
      "MSE on test Dataset: 9708.6279078 Iteration of Bagging: 85 / 200\n",
      "MSE on train Dataset: 1888.95583796 Iteration of Bagging: 85 / 200\n"
     ]
    },
    {
     "name": "stderr",
     "output_type": "stream",
     "text": [
      "Learning estimator number: 4/15; MSE error on train dataset: 1169.22837531"
     ]
    },
    {
     "name": "stdout",
     "output_type": "stream",
     "text": [
      "MSE on test Dataset: 9806.64220529 Iteration of Bagging: 86 / 200\n",
      "MSE on train Dataset: 1922.87567079 Iteration of Bagging: 86 / 200\n"
     ]
    },
    {
     "name": "stderr",
     "output_type": "stream",
     "text": [
      "Learning estimator number: 4/15; MSE error on train dataset: 4200.44921139"
     ]
    },
    {
     "name": "stdout",
     "output_type": "stream",
     "text": [
      "MSE on test Dataset: 9513.69706908 Iteration of Bagging: 87 / 200\n",
      "MSE on train Dataset: 1885.74494011 Iteration of Bagging: 87 / 200\n"
     ]
    },
    {
     "name": "stderr",
     "output_type": "stream",
     "text": [
      "Learning estimator number: 3/15; MSE error on train dataset: 1214.52979723"
     ]
    },
    {
     "name": "stdout",
     "output_type": "stream",
     "text": [
      "MSE on test Dataset: 9517.01967482 Iteration of Bagging: 88 / 200\n",
      "MSE on train Dataset: 1866.4766912 Iteration of Bagging: 88 / 200\n"
     ]
    },
    {
     "name": "stderr",
     "output_type": "stream",
     "text": [
      "Learning estimator number: 1/15; MSE error on train dataset: 223.638416503"
     ]
    },
    {
     "name": "stdout",
     "output_type": "stream",
     "text": [
      "MSE on test Dataset: 9480.91012419 Iteration of Bagging: 89 / 200\n",
      "MSE on train Dataset: 1879.37461699 Iteration of Bagging: 89 / 200\n"
     ]
    },
    {
     "name": "stderr",
     "output_type": "stream",
     "text": [
      "Iteration of bagging:91/200"
     ]
    },
    {
     "name": "stdout",
     "output_type": "stream",
     "text": [
      "MSE on test Dataset: 9520.01480713 Iteration of Bagging: 90 / 200\n",
      "MSE on train Dataset: 1906.82397467 Iteration of Bagging: 90 / 200\n"
     ]
    },
    {
     "name": "stderr",
     "output_type": "stream",
     "text": [
      "Learning estimator number: 5/15; MSE error on train dataset: 1227.02193858"
     ]
    },
    {
     "name": "stdout",
     "output_type": "stream",
     "text": [
      "MSE on test Dataset: 9607.05219432 Iteration of Bagging: 91 / 200\n",
      "MSE on train Dataset: 1907.11575573 Iteration of Bagging: 91 / 200\n"
     ]
    },
    {
     "name": "stderr",
     "output_type": "stream",
     "text": [
      "Learning estimator number: 4/15; MSE error on train dataset: 3533.11948108"
     ]
    },
    {
     "name": "stdout",
     "output_type": "stream",
     "text": [
      "MSE on test Dataset: 9371.04218711 Iteration of Bagging: 92 / 200\n",
      "MSE on train Dataset: 1872.22911399 Iteration of Bagging: 92 / 200\n"
     ]
    },
    {
     "name": "stderr",
     "output_type": "stream",
     "text": [
      "\r",
      "Learning estimator number: 5/15; MSE error on train dataset: 3152.44044528\r",
      "Learning estimator number: 6/15; MSE error on train dataset: 2784.60888988\r",
      "Learning estimator number: 7/15; MSE error on train dataset: 2518.53573694\r",
      "Learning estimator number: 8/15; MSE error on train dataset: 2302.62266593\r",
      "Learning estimator number: 9/15; MSE error on train dataset: 2126.95353825\r",
      "Learning estimator number: 10/15; MSE error on train dataset: 1915.09129402\r",
      "Learning estimator number: 11/15; MSE error on train dataset: 1790.74607596\r",
      "Learning estimator number: 12/15; MSE error on train dataset: 1720.91200074\r",
      "Learning estimator number: 13/15; MSE error on train dataset: 1613.17423459\r",
      "Learning estimator number: 14/15; MSE error on train dataset: 1555.33147764\r",
      "Iteration of bagging:94/200"
     ]
    },
    {
     "name": "stdout",
     "output_type": "stream",
     "text": [
      "MSE on test Dataset: 9207.32843085 Iteration of Bagging: 93 / 200\n",
      "MSE on train Dataset: 1844.54201333 Iteration of Bagging: 93 / 200\n"
     ]
    },
    {
     "name": "stderr",
     "output_type": "stream",
     "text": [
      "Learning estimator number: 4/15; MSE error on train dataset: 526.972200542"
     ]
    },
    {
     "name": "stdout",
     "output_type": "stream",
     "text": [
      "MSE on test Dataset: 9304.8500918 Iteration of Bagging: 94 / 200\n",
      "MSE on train Dataset: 1868.18764677 Iteration of Bagging: 94 / 200\n"
     ]
    },
    {
     "name": "stderr",
     "output_type": "stream",
     "text": [
      "Learning estimator number: 4/15; MSE error on train dataset: 1219.21275518"
     ]
    },
    {
     "name": "stdout",
     "output_type": "stream",
     "text": [
      "MSE on test Dataset: 9357.36306197 Iteration of Bagging: 95 / 200\n",
      "MSE on train Dataset: 1888.04029822 Iteration of Bagging: 95 / 200\n"
     ]
    },
    {
     "name": "stderr",
     "output_type": "stream",
     "text": [
      "Learning estimator number: 3/15; MSE error on train dataset: 102.615593725"
     ]
    },
    {
     "name": "stdout",
     "output_type": "stream",
     "text": [
      "MSE on test Dataset: 9423.77301522 Iteration of Bagging: 96 / 200\n",
      "MSE on train Dataset: 1869.43594389 Iteration of Bagging: 96 / 200\n"
     ]
    },
    {
     "name": "stderr",
     "output_type": "stream",
     "text": [
      "Learning estimator number: 4/15; MSE error on train dataset: 126.316564738"
     ]
    },
    {
     "name": "stdout",
     "output_type": "stream",
     "text": [
      "MSE on test Dataset: 9520.77572086 Iteration of Bagging: 97 / 200\n",
      "MSE on train Dataset: 1895.02103883 Iteration of Bagging: 97 / 200\n"
     ]
    },
    {
     "name": "stderr",
     "output_type": "stream",
     "text": [
      "Learning estimator number: 3/15; MSE error on train dataset: 60.5470124424"
     ]
    },
    {
     "name": "stdout",
     "output_type": "stream",
     "text": [
      "MSE on test Dataset: 9616.23930733 Iteration of Bagging: 98 / 200\n",
      "MSE on train Dataset: 1918.66548806 Iteration of Bagging: 98 / 200\n"
     ]
    },
    {
     "name": "stderr",
     "output_type": "stream",
     "text": [
      "Learning estimator number: 3/15; MSE error on train dataset: 283.095950203"
     ]
    },
    {
     "name": "stdout",
     "output_type": "stream",
     "text": [
      "MSE on test Dataset: 9695.7836589 Iteration of Bagging: 99 / 200\n",
      "MSE on train Dataset: 1943.09969296 Iteration of Bagging: 99 / 200\n"
     ]
    },
    {
     "name": "stderr",
     "output_type": "stream",
     "text": [
      "Learning estimator number: 3/15; MSE error on train dataset: 146.798313848"
     ]
    },
    {
     "name": "stdout",
     "output_type": "stream",
     "text": [
      "MSE on test Dataset: 9742.49497454 Iteration of Bagging: 100 / 200\n",
      "MSE on train Dataset: 1926.19828422 Iteration of Bagging: 100 / 200\n"
     ]
    },
    {
     "name": "stderr",
     "output_type": "stream",
     "text": [
      "Learning estimator number: 3/15; MSE error on train dataset: 126.446173244"
     ]
    },
    {
     "name": "stdout",
     "output_type": "stream",
     "text": [
      "MSE on test Dataset: 9825.29856751 Iteration of Bagging: 101 / 200\n",
      "MSE on train Dataset: 1958.81258637 Iteration of Bagging: 101 / 200\n"
     ]
    },
    {
     "name": "stderr",
     "output_type": "stream",
     "text": [
      "Iteration of bagging:103/200"
     ]
    },
    {
     "name": "stdout",
     "output_type": "stream",
     "text": [
      "MSE on test Dataset: 9913.43362132 Iteration of Bagging: 102 / 200\n",
      "MSE on train Dataset: 1984.95122088 Iteration of Bagging: 102 / 200\n"
     ]
    },
    {
     "name": "stderr",
     "output_type": "stream",
     "text": [
      "Iteration of bagging:104/200"
     ]
    },
    {
     "name": "stdout",
     "output_type": "stream",
     "text": [
      "MSE on test Dataset: 9680.96541285 Iteration of Bagging: 103 / 200\n",
      "MSE on train Dataset: 1952.89728216 Iteration of Bagging: 103 / 200\n"
     ]
    },
    {
     "name": "stderr",
     "output_type": "stream",
     "text": [
      "Iteration of bagging:105/200"
     ]
    },
    {
     "name": "stdout",
     "output_type": "stream",
     "text": [
      "MSE on test Dataset: 9722.0400218 Iteration of Bagging: 104 / 200\n",
      "MSE on train Dataset: 1930.77934787 Iteration of Bagging: 104 / 200\n"
     ]
    },
    {
     "name": "stderr",
     "output_type": "stream",
     "text": [
      "Learning estimator number: 3/15; MSE error on train dataset: 332.507971628"
     ]
    },
    {
     "name": "stdout",
     "output_type": "stream",
     "text": [
      "MSE on test Dataset: 9810.1310362 Iteration of Bagging: 105 / 200\n",
      "MSE on train Dataset: 1961.82598954 Iteration of Bagging: 105 / 200\n"
     ]
    },
    {
     "name": "stderr",
     "output_type": "stream",
     "text": [
      "Iteration of bagging:107/200"
     ]
    },
    {
     "name": "stdout",
     "output_type": "stream",
     "text": [
      "MSE on test Dataset: 9867.04297634 Iteration of Bagging: 106 / 200\n",
      "MSE on train Dataset: 1979.8205173 Iteration of Bagging: 106 / 200\n"
     ]
    },
    {
     "name": "stderr",
     "output_type": "stream",
     "text": [
      "Iteration of bagging:108/200"
     ]
    },
    {
     "name": "stdout",
     "output_type": "stream",
     "text": [
      "MSE on test Dataset: 9700.29157618 Iteration of Bagging: 107 / 200\n",
      "MSE on train Dataset: 1950.85959755 Iteration of Bagging: 107 / 200\n"
     ]
    },
    {
     "name": "stderr",
     "output_type": "stream",
     "text": [
      "Iteration of bagging:109/200"
     ]
    },
    {
     "name": "stdout",
     "output_type": "stream",
     "text": [
      "MSE on test Dataset: 9746.75557298 Iteration of Bagging: 108 / 200\n",
      "MSE on train Dataset: 1964.45992771 Iteration of Bagging: 108 / 200\n"
     ]
    },
    {
     "name": "stderr",
     "output_type": "stream",
     "text": [
      "Iteration of bagging:110/200"
     ]
    },
    {
     "name": "stdout",
     "output_type": "stream",
     "text": [
      "MSE on test Dataset: 9827.38524086 Iteration of Bagging: 109 / 200\n",
      "MSE on train Dataset: 1986.52818798 Iteration of Bagging: 109 / 200\n"
     ]
    },
    {
     "name": "stderr",
     "output_type": "stream",
     "text": [
      "Iteration of bagging:111/200"
     ]
    },
    {
     "name": "stdout",
     "output_type": "stream",
     "text": [
      "MSE on test Dataset: 9581.39123627 Iteration of Bagging: 110 / 200\n",
      "MSE on train Dataset: 1955.66364392 Iteration of Bagging: 110 / 200\n"
     ]
    },
    {
     "name": "stderr",
     "output_type": "stream",
     "text": [
      "Learning estimator number: 1/15; MSE error on train dataset: 355.246195781"
     ]
    },
    {
     "name": "stdout",
     "output_type": "stream",
     "text": [
      "MSE on test Dataset: 9556.76935009 Iteration of Bagging: 111 / 200\n",
      "MSE on train Dataset: 1968.61726422 Iteration of Bagging: 111 / 200\n"
     ]
    },
    {
     "name": "stderr",
     "output_type": "stream",
     "text": [
      "Iteration of bagging:113/200"
     ]
    },
    {
     "name": "stdout",
     "output_type": "stream",
     "text": [
      "MSE on test Dataset: 9498.37493562 Iteration of Bagging: 112 / 200\n",
      "MSE on train Dataset: 1976.57454777 Iteration of Bagging: 112 / 200\n"
     ]
    },
    {
     "name": "stderr",
     "output_type": "stream",
     "text": [
      "Learning estimator number: 4/15; MSE error on train dataset: 155.547417631"
     ]
    },
    {
     "name": "stdout",
     "output_type": "stream",
     "text": [
      "MSE on test Dataset: 9543.33541415 Iteration of Bagging: 113 / 200\n",
      "MSE on train Dataset: 1997.7789196 Iteration of Bagging: 113 / 200\n"
     ]
    },
    {
     "name": "stderr",
     "output_type": "stream",
     "text": [
      "Learning estimator number: 4/15; MSE error on train dataset: 385.346802284"
     ]
    },
    {
     "name": "stdout",
     "output_type": "stream",
     "text": [
      "MSE on test Dataset: 9624.00533411 Iteration of Bagging: 114 / 200\n",
      "MSE on train Dataset: 2018.84165044 Iteration of Bagging: 114 / 200\n"
     ]
    },
    {
     "name": "stderr",
     "output_type": "stream",
     "text": [
      "\r",
      "Learning estimator number: 5/15; MSE error on train dataset: 368.232840725\r",
      "Learning estimator number: 6/15; MSE error on train dataset: 339.471919907\r",
      "Learning estimator number: 7/15; MSE error on train dataset: 324.740091881\r",
      "Learning estimator number: 8/15; MSE error on train dataset: 300.772571635\r",
      "Learning estimator number: 9/15; MSE error on train dataset: 288.336086301\r",
      "Learning estimator number: 10/15; MSE error on train dataset: 278.131543173\r",
      "Learning estimator number: 11/15; MSE error on train dataset: 257.419744643\r",
      "Learning estimator number: 12/15; MSE error on train dataset: 248.648336402\r",
      "Learning estimator number: 13/15; MSE error on train dataset: 229.610548557\r",
      "Learning estimator number: 14/15; MSE error on train dataset: 222.188355218\r",
      "Iteration of bagging:116/200"
     ]
    },
    {
     "name": "stdout",
     "output_type": "stream",
     "text": [
      "MSE on test Dataset: 9662.39898875 Iteration of Bagging: 115 / 200\n",
      "MSE on train Dataset: 2033.90133847 Iteration of Bagging: 115 / 200\n"
     ]
    },
    {
     "name": "stderr",
     "output_type": "stream",
     "text": [
      "Learning estimator number: 4/15; MSE error on train dataset: 59.9116001958"
     ]
    },
    {
     "name": "stdout",
     "output_type": "stream",
     "text": [
      "MSE on test Dataset: 9745.1092886 Iteration of Bagging: 116 / 200\n",
      "MSE on train Dataset: 2043.41350786 Iteration of Bagging: 116 / 200\n"
     ]
    },
    {
     "name": "stderr",
     "output_type": "stream",
     "text": [
      "Iteration of bagging:118/200"
     ]
    },
    {
     "name": "stdout",
     "output_type": "stream",
     "text": [
      "MSE on test Dataset: 9785.63917179 Iteration of Bagging: 117 / 200\n",
      "MSE on train Dataset: 2064.61836296 Iteration of Bagging: 117 / 200\n"
     ]
    },
    {
     "name": "stderr",
     "output_type": "stream",
     "text": [
      "Learning estimator number: 14/15; MSE error on train dataset: 129.757465598"
     ]
    },
    {
     "name": "stdout",
     "output_type": "stream",
     "text": [
      "MSE on test Dataset: 9839.20252069 Iteration of Bagging: 118 / 200\n",
      "MSE on train Dataset: 2079.99028183 Iteration of Bagging: 118 / 200\n"
     ]
    },
    {
     "name": "stderr",
     "output_type": "stream",
     "text": [
      "Iteration of bagging:120/200"
     ]
    },
    {
     "name": "stdout",
     "output_type": "stream",
     "text": [
      "MSE on test Dataset: 9917.72383587 Iteration of Bagging: 119 / 200\n",
      "MSE on train Dataset: 2100.08119229 Iteration of Bagging: 119 / 200\n"
     ]
    },
    {
     "name": "stderr",
     "output_type": "stream",
     "text": [
      "Iteration of bagging:121/200"
     ]
    },
    {
     "name": "stdout",
     "output_type": "stream",
     "text": [
      "MSE on test Dataset: 9993.24456913 Iteration of Bagging: 120 / 200\n",
      "MSE on train Dataset: 2123.87477549 Iteration of Bagging: 120 / 200\n"
     ]
    },
    {
     "name": "stderr",
     "output_type": "stream",
     "text": [
      "Learning estimator number: 4/15; MSE error on train dataset: 375.269123714"
     ]
    },
    {
     "name": "stdout",
     "output_type": "stream",
     "text": [
      "MSE on test Dataset: 9813.59501723 Iteration of Bagging: 121 / 200\n",
      "MSE on train Dataset: 2093.54688491 Iteration of Bagging: 121 / 200\n"
     ]
    },
    {
     "name": "stderr",
     "output_type": "stream",
     "text": [
      "Learning estimator number: 3/15; MSE error on train dataset: 373.680337092"
     ]
    },
    {
     "name": "stdout",
     "output_type": "stream",
     "text": [
      "MSE on test Dataset: 9874.74863599 Iteration of Bagging: 122 / 200\n",
      "MSE on train Dataset: 2076.89805233 Iteration of Bagging: 122 / 200\n"
     ]
    },
    {
     "name": "stderr",
     "output_type": "stream",
     "text": [
      "Learning estimator number: 2/15; MSE error on train dataset: 347.665748418"
     ]
    },
    {
     "name": "stdout",
     "output_type": "stream",
     "text": [
      "MSE on test Dataset: 9947.51027045 Iteration of Bagging: 123 / 200\n",
      "MSE on train Dataset: 2089.13104112 Iteration of Bagging: 123 / 200\n"
     ]
    },
    {
     "name": "stderr",
     "output_type": "stream",
     "text": [
      "Learning estimator number: 2/15; MSE error on train dataset: 99.7704494388"
     ]
    },
    {
     "name": "stdout",
     "output_type": "stream",
     "text": [
      "MSE on test Dataset: 10039.2972589 Iteration of Bagging: 124 / 200\n",
      "MSE on train Dataset: 2086.27408454 Iteration of Bagging: 124 / 200\n"
     ]
    },
    {
     "name": "stderr",
     "output_type": "stream",
     "text": [
      "Learning estimator number: 14/15; MSE error on train dataset: 36.1164192431"
     ]
    },
    {
     "name": "stdout",
     "output_type": "stream",
     "text": [
      "MSE on test Dataset: 10107.7295043 Iteration of Bagging: 125 / 200\n",
      "MSE on train Dataset: 2086.47451983 Iteration of Bagging: 125 / 200\n"
     ]
    },
    {
     "name": "stderr",
     "output_type": "stream",
     "text": [
      "Learning estimator number: 4/15; MSE error on train dataset: 1165.798283"
     ]
    },
    {
     "name": "stdout",
     "output_type": "stream",
     "text": [
      "MSE on test Dataset: 10042.702242 Iteration of Bagging: 126 / 200\n",
      "MSE on train Dataset: 2083.40579114 Iteration of Bagging: 126 / 200\n"
     ]
    },
    {
     "name": "stderr",
     "output_type": "stream",
     "text": [
      "Learning estimator number: 4/15; MSE error on train dataset: 381.288276415"
     ]
    },
    {
     "name": "stdout",
     "output_type": "stream",
     "text": [
      "MSE on test Dataset: 10103.0301425 Iteration of Bagging: 127 / 200\n",
      "MSE on train Dataset: 2093.97252873 Iteration of Bagging: 127 / 200\n"
     ]
    },
    {
     "name": "stderr",
     "output_type": "stream",
     "text": [
      "Learning estimator number: 6/15; MSE error on train dataset: 803.788856021"
     ]
    },
    {
     "name": "stdout",
     "output_type": "stream",
     "text": [
      "MSE on test Dataset: 10185.7000729 Iteration of Bagging: 128 / 200\n",
      "MSE on train Dataset: 2090.29117776 Iteration of Bagging: 128 / 200\n"
     ]
    },
    {
     "name": "stderr",
     "output_type": "stream",
     "text": [
      "Learning estimator number: 4/15; MSE error on train dataset: 299.085014639"
     ]
    },
    {
     "name": "stdout",
     "output_type": "stream",
     "text": [
      "MSE on test Dataset: 10233.4739174 Iteration of Bagging: 129 / 200\n",
      "MSE on train Dataset: 2062.52194984 Iteration of Bagging: 129 / 200\n"
     ]
    },
    {
     "name": "stderr",
     "output_type": "stream",
     "text": [
      "\r",
      "Learning estimator number: 5/15; MSE error on train dataset: 286.544239537\r",
      "Learning estimator number: 6/15; MSE error on train dataset: 271.766735663\r",
      "Learning estimator number: 7/15; MSE error on train dataset: 253.68894077\r",
      "Learning estimator number: 8/15; MSE error on train dataset: 245.248262622\r",
      "Learning estimator number: 9/15; MSE error on train dataset: 233.866936679\r",
      "Learning estimator number: 10/15; MSE error on train dataset: 219.947268436\r",
      "Learning estimator number: 11/15; MSE error on train dataset: 213.619982685\r",
      "Learning estimator number: 12/15; MSE error on train dataset: 204.534538735\r",
      "Learning estimator number: 13/15; MSE error on train dataset: 193.482397803\r",
      "Learning estimator number: 14/15; MSE error on train dataset: 185.541720767"
     ]
    },
    {
     "name": "stdout",
     "output_type": "stream",
     "text": [
      "MSE on test Dataset: 10254.4578635 Iteration of Bagging: 130 / 200\n",
      "MSE on train Dataset: 2075.95872362 Iteration of Bagging: 130 / 200\n"
     ]
    },
    {
     "name": "stderr",
     "output_type": "stream",
     "text": [
      "Learning estimator number: 14/15; MSE error on train dataset: 176.253517171"
     ]
    },
    {
     "name": "stdout",
     "output_type": "stream",
     "text": [
      "MSE on test Dataset: 10274.9117935 Iteration of Bagging: 131 / 200\n",
      "MSE on train Dataset: 2089.56613888 Iteration of Bagging: 131 / 200\n"
     ]
    },
    {
     "name": "stderr",
     "output_type": "stream",
     "text": [
      "Learning estimator number: 4/15; MSE error on train dataset: 714.94936456"
     ]
    },
    {
     "name": "stdout",
     "output_type": "stream",
     "text": [
      "MSE on test Dataset: 10100.4010492 Iteration of Bagging: 132 / 200\n",
      "MSE on train Dataset: 2064.6793934 Iteration of Bagging: 132 / 200\n"
     ]
    },
    {
     "name": "stderr",
     "output_type": "stream",
     "text": [
      "Learning estimator number: 3/15; MSE error on train dataset: 1553.86384162"
     ]
    },
    {
     "name": "stdout",
     "output_type": "stream",
     "text": [
      "MSE on test Dataset: 10072.3596468 Iteration of Bagging: 133 / 200\n",
      "MSE on train Dataset: 2071.65812443 Iteration of Bagging: 133 / 200\n"
     ]
    },
    {
     "name": "stderr",
     "output_type": "stream",
     "text": [
      "Learning estimator number: 1/15; MSE error on train dataset: 346.920956026"
     ]
    },
    {
     "name": "stdout",
     "output_type": "stream",
     "text": [
      "MSE on test Dataset: 10001.9992458 Iteration of Bagging: 134 / 200\n",
      "MSE on train Dataset: 2043.15808266 Iteration of Bagging: 134 / 200\n"
     ]
    },
    {
     "name": "stderr",
     "output_type": "stream",
     "text": [
      "Iteration of bagging:136/200"
     ]
    },
    {
     "name": "stdout",
     "output_type": "stream",
     "text": [
      "MSE on test Dataset: 10104.3557855 Iteration of Bagging: 135 / 200\n",
      "MSE on train Dataset: 2061.8322672 Iteration of Bagging: 135 / 200\n"
     ]
    },
    {
     "name": "stderr",
     "output_type": "stream",
     "text": [
      "Learning estimator number: 14/15; MSE error on train dataset: 827.832451276"
     ]
    },
    {
     "name": "stdout",
     "output_type": "stream",
     "text": [
      "MSE on test Dataset: 9912.28909366 Iteration of Bagging: 136 / 200\n",
      "MSE on train Dataset: 2039.15700278 Iteration of Bagging: 136 / 200\n"
     ]
    },
    {
     "name": "stderr",
     "output_type": "stream",
     "text": [
      "Learning estimator number: 5/15; MSE error on train dataset: 97.9223618642"
     ]
    },
    {
     "name": "stdout",
     "output_type": "stream",
     "text": [
      "MSE on test Dataset: 9970.9517086 Iteration of Bagging: 137 / 200\n",
      "MSE on train Dataset: 2059.22667685 Iteration of Bagging: 137 / 200\n"
     ]
    },
    {
     "name": "stderr",
     "output_type": "stream",
     "text": [
      "Learning estimator number: 4/15; MSE error on train dataset: 1327.83642185"
     ]
    },
    {
     "name": "stdout",
     "output_type": "stream",
     "text": [
      "MSE on test Dataset: 10005.4246955 Iteration of Bagging: 138 / 200\n",
      "MSE on train Dataset: 2079.7307995 Iteration of Bagging: 138 / 200\n"
     ]
    },
    {
     "name": "stderr",
     "output_type": "stream",
     "text": [
      "Learning estimator number: 4/15; MSE error on train dataset: 392.618451489"
     ]
    },
    {
     "name": "stdout",
     "output_type": "stream",
     "text": [
      "MSE on test Dataset: 9864.59717758 Iteration of Bagging: 139 / 200\n",
      "MSE on train Dataset: 2053.93566671 Iteration of Bagging: 139 / 200\n"
     ]
    },
    {
     "name": "stderr",
     "output_type": "stream",
     "text": [
      "Learning estimator number: 3/15; MSE error on train dataset: 302.748884478"
     ]
    },
    {
     "name": "stdout",
     "output_type": "stream",
     "text": [
      "MSE on test Dataset: 9932.05212013 Iteration of Bagging: 140 / 200\n",
      "MSE on train Dataset: 2050.67363261 Iteration of Bagging: 140 / 200\n"
     ]
    },
    {
     "name": "stderr",
     "output_type": "stream",
     "text": [
      "Iteration of bagging:142/200"
     ]
    },
    {
     "name": "stdout",
     "output_type": "stream",
     "text": [
      "MSE on test Dataset: 9871.44033298 Iteration of Bagging: 141 / 200\n",
      "MSE on train Dataset: 2049.15637742 Iteration of Bagging: 141 / 200\n"
     ]
    },
    {
     "name": "stderr",
     "output_type": "stream",
     "text": [
      "Iteration of bagging:143/200"
     ]
    },
    {
     "name": "stdout",
     "output_type": "stream",
     "text": [
      "MSE on test Dataset: 9919.41123174 Iteration of Bagging: 142 / 200\n",
      "MSE on train Dataset: 2064.27714896 Iteration of Bagging: 142 / 200\n"
     ]
    },
    {
     "name": "stderr",
     "output_type": "stream",
     "text": [
      "Iteration of bagging:144/200"
     ]
    },
    {
     "name": "stdout",
     "output_type": "stream",
     "text": [
      "MSE on test Dataset: 9977.82594625 Iteration of Bagging: 143 / 200\n",
      "MSE on train Dataset: 2075.3976622 Iteration of Bagging: 143 / 200\n"
     ]
    },
    {
     "name": "stderr",
     "output_type": "stream",
     "text": [
      "Learning estimator number: 4/15; MSE error on train dataset: 347.003193178"
     ]
    },
    {
     "name": "stdout",
     "output_type": "stream",
     "text": [
      "MSE on test Dataset: 10030.4691966 Iteration of Bagging: 144 / 200\n",
      "MSE on train Dataset: 2058.95491463 Iteration of Bagging: 144 / 200\n"
     ]
    },
    {
     "name": "stderr",
     "output_type": "stream",
     "text": [
      "Learning estimator number: 3/15; MSE error on train dataset: 58.6588778305"
     ]
    },
    {
     "name": "stdout",
     "output_type": "stream",
     "text": [
      "MSE on test Dataset: 10088.5120685 Iteration of Bagging: 145 / 200\n",
      "MSE on train Dataset: 2038.32625993 Iteration of Bagging: 145 / 200\n"
     ]
    },
    {
     "name": "stderr",
     "output_type": "stream",
     "text": [
      "Learning estimator number: 2/15; MSE error on train dataset: 550.592171499"
     ]
    },
    {
     "name": "stdout",
     "output_type": "stream",
     "text": [
      "MSE on test Dataset: 10141.5763867 Iteration of Bagging: 146 / 200\n",
      "MSE on train Dataset: 2054.11536936 Iteration of Bagging: 146 / 200\n"
     ]
    },
    {
     "name": "stderr",
     "output_type": "stream",
     "text": [
      "Iteration of bagging:148/200"
     ]
    },
    {
     "name": "stdout",
     "output_type": "stream",
     "text": [
      "MSE on test Dataset: 10126.4337321 Iteration of Bagging: 147 / 200\n",
      "MSE on train Dataset: 2039.38440359 Iteration of Bagging: 147 / 200\n"
     ]
    },
    {
     "name": "stderr",
     "output_type": "stream",
     "text": [
      "Iteration of bagging:149/200"
     ]
    },
    {
     "name": "stdout",
     "output_type": "stream",
     "text": [
      "MSE on test Dataset: 10175.2670319 Iteration of Bagging: 148 / 200\n",
      "MSE on train Dataset: 2055.00928712 Iteration of Bagging: 148 / 200\n"
     ]
    },
    {
     "name": "stderr",
     "output_type": "stream",
     "text": [
      "Learning estimator number: 4/15; MSE error on train dataset: 105.465711554"
     ]
    },
    {
     "name": "stdout",
     "output_type": "stream",
     "text": [
      "MSE on test Dataset: 10171.1259254 Iteration of Bagging: 149 / 200\n",
      "MSE on train Dataset: 2042.86683762 Iteration of Bagging: 149 / 200\n"
     ]
    },
    {
     "name": "stderr",
     "output_type": "stream",
     "text": [
      "Learning estimator number: 3/15; MSE error on train dataset: 1455.99593969"
     ]
    },
    {
     "name": "stdout",
     "output_type": "stream",
     "text": [
      "MSE on test Dataset: 10227.9434765 Iteration of Bagging: 150 / 200\n",
      "MSE on train Dataset: 2061.7803241 Iteration of Bagging: 150 / 200\n"
     ]
    },
    {
     "name": "stderr",
     "output_type": "stream",
     "text": [
      "Learning estimator number: 3/15; MSE error on train dataset: 4286.8307866"
     ]
    },
    {
     "name": "stdout",
     "output_type": "stream",
     "text": [
      "MSE on test Dataset: 10083.4168865 Iteration of Bagging: 151 / 200\n",
      "MSE on train Dataset: 2037.18107072 Iteration of Bagging: 151 / 200\n"
     ]
    },
    {
     "name": "stderr",
     "output_type": "stream",
     "text": [
      "Learning estimator number: 1/15; MSE error on train dataset: 122.446651933"
     ]
    },
    {
     "name": "stdout",
     "output_type": "stream",
     "text": [
      "MSE on test Dataset: 10083.4027624 Iteration of Bagging: 152 / 200\n",
      "MSE on train Dataset: 2021.25442861 Iteration of Bagging: 152 / 200\n"
     ]
    },
    {
     "name": "stderr",
     "output_type": "stream",
     "text": [
      "Learning estimator number: 2/15; MSE error on train dataset: 447.401527552"
     ]
    },
    {
     "name": "stdout",
     "output_type": "stream",
     "text": [
      "MSE on test Dataset: 10138.4733511 Iteration of Bagging: 153 / 200\n",
      "MSE on train Dataset: 2036.95178265 Iteration of Bagging: 153 / 200\n"
     ]
    },
    {
     "name": "stderr",
     "output_type": "stream",
     "text": [
      "Iteration of bagging:155/200"
     ]
    },
    {
     "name": "stdout",
     "output_type": "stream",
     "text": [
      "MSE on test Dataset: 10189.4994933 Iteration of Bagging: 154 / 200\n",
      "MSE on train Dataset: 2016.38792552 Iteration of Bagging: 154 / 200\n"
     ]
    },
    {
     "name": "stderr",
     "output_type": "stream",
     "text": [
      "Learning estimator number: 2/15; MSE error on train dataset: 1781.25402745"
     ]
    },
    {
     "name": "stdout",
     "output_type": "stream",
     "text": [
      "MSE on test Dataset: 10237.4647917 Iteration of Bagging: 155 / 200\n",
      "MSE on train Dataset: 2014.11210703 Iteration of Bagging: 155 / 200\n"
     ]
    },
    {
     "name": "stderr",
     "output_type": "stream",
     "text": [
      "Learning estimator number: 1/15; MSE error on train dataset: 114.24148465"
     ]
    },
    {
     "name": "stdout",
     "output_type": "stream",
     "text": [
      "MSE on test Dataset: 10072.6680879 Iteration of Bagging: 156 / 200\n",
      "MSE on train Dataset: 1991.38222957 Iteration of Bagging: 156 / 200\n"
     ]
    },
    {
     "name": "stderr",
     "output_type": "stream",
     "text": [
      "Iteration of bagging:158/200"
     ]
    },
    {
     "name": "stdout",
     "output_type": "stream",
     "text": [
      "MSE on test Dataset: 10123.2624927 Iteration of Bagging: 157 / 200\n",
      "MSE on train Dataset: 2007.23203486 Iteration of Bagging: 157 / 200\n"
     ]
    },
    {
     "name": "stderr",
     "output_type": "stream",
     "text": [
      "Learning estimator number: 5/15; MSE error on train dataset: 639.10113647"
     ]
    },
    {
     "name": "stdout",
     "output_type": "stream",
     "text": [
      "MSE on test Dataset: 10172.9728069 Iteration of Bagging: 158 / 200\n",
      "MSE on train Dataset: 2026.57835162 Iteration of Bagging: 158 / 200\n"
     ]
    },
    {
     "name": "stderr",
     "output_type": "stream",
     "text": [
      "Learning estimator number: 2/15; MSE error on train dataset: 1192.38863696"
     ]
    },
    {
     "name": "stdout",
     "output_type": "stream",
     "text": [
      "MSE on test Dataset: 10227.5824086 Iteration of Bagging: 159 / 200\n",
      "MSE on train Dataset: 2028.0514756 Iteration of Bagging: 159 / 200\n"
     ]
    },
    {
     "name": "stderr",
     "output_type": "stream",
     "text": [
      "Iteration of bagging:161/200"
     ]
    },
    {
     "name": "stdout",
     "output_type": "stream",
     "text": [
      "MSE on test Dataset: 10279.3035346 Iteration of Bagging: 160 / 200\n",
      "MSE on train Dataset: 2037.37648551 Iteration of Bagging: 160 / 200\n"
     ]
    },
    {
     "name": "stderr",
     "output_type": "stream",
     "text": [
      "Learning estimator number: 3/15; MSE error on train dataset: 48.426963473"
     ]
    },
    {
     "name": "stdout",
     "output_type": "stream",
     "text": [
      "MSE on test Dataset: 10333.0949312 Iteration of Bagging: 161 / 200\n",
      "MSE on train Dataset: 2053.74074793 Iteration of Bagging: 161 / 200\n"
     ]
    },
    {
     "name": "stderr",
     "output_type": "stream",
     "text": [
      "Learning estimator number: 2/15; MSE error on train dataset: 91.3596621892"
     ]
    },
    {
     "name": "stdout",
     "output_type": "stream",
     "text": [
      "MSE on test Dataset: 10379.8565125 Iteration of Bagging: 162 / 200\n",
      "MSE on train Dataset: 2073.83481159 Iteration of Bagging: 162 / 200\n"
     ]
    },
    {
     "name": "stderr",
     "output_type": "stream",
     "text": [
      "Learning estimator number: 4/15; MSE error on train dataset: 302.696483892"
     ]
    },
    {
     "name": "stdout",
     "output_type": "stream",
     "text": [
      "MSE on test Dataset: 10433.7251041 Iteration of Bagging: 163 / 200\n",
      "MSE on train Dataset: 2088.71048108 Iteration of Bagging: 163 / 200\n"
     ]
    },
    {
     "name": "stderr",
     "output_type": "stream",
     "text": [
      "Learning estimator number: 4/15; MSE error on train dataset: 108.362843568"
     ]
    },
    {
     "name": "stdout",
     "output_type": "stream",
     "text": [
      "MSE on test Dataset: 10487.0975537 Iteration of Bagging: 164 / 200\n",
      "MSE on train Dataset: 2088.91979019 Iteration of Bagging: 164 / 200\n"
     ]
    },
    {
     "name": "stderr",
     "output_type": "stream",
     "text": [
      "Learning estimator number: 1/15; MSE error on train dataset: 4689.42243329"
     ]
    },
    {
     "name": "stdout",
     "output_type": "stream",
     "text": [
      "MSE on test Dataset: 10530.9738963 Iteration of Bagging: 165 / 200\n",
      "MSE on train Dataset: 2103.99940232 Iteration of Bagging: 165 / 200\n"
     ]
    },
    {
     "name": "stderr",
     "output_type": "stream",
     "text": [
      "Iteration of bagging:167/200"
     ]
    },
    {
     "name": "stdout",
     "output_type": "stream",
     "text": [
      "MSE on test Dataset: 10543.3637714 Iteration of Bagging: 166 / 200\n",
      "MSE on train Dataset: 2088.96484268 Iteration of Bagging: 166 / 200\n"
     ]
    },
    {
     "name": "stderr",
     "output_type": "stream",
     "text": [
      "Iteration of bagging:168/200"
     ]
    },
    {
     "name": "stdout",
     "output_type": "stream",
     "text": [
      "MSE on test Dataset: 10387.1128863 Iteration of Bagging: 167 / 200\n",
      "MSE on train Dataset: 2067.27465896 Iteration of Bagging: 167 / 200\n"
     ]
    },
    {
     "name": "stderr",
     "output_type": "stream",
     "text": [
      "Iteration of bagging:169/200"
     ]
    },
    {
     "name": "stdout",
     "output_type": "stream",
     "text": [
      "MSE on test Dataset: 10236.0988002 Iteration of Bagging: 168 / 200\n",
      "MSE on train Dataset: 2046.71787282 Iteration of Bagging: 168 / 200\n"
     ]
    },
    {
     "name": "stderr",
     "output_type": "stream",
     "text": [
      "Learning estimator number: 4/15; MSE error on train dataset: 353.129352162"
     ]
    },
    {
     "name": "stdout",
     "output_type": "stream",
     "text": [
      "MSE on test Dataset: 10115.4972315 Iteration of Bagging: 169 / 200\n",
      "MSE on train Dataset: 2025.07436528 Iteration of Bagging: 169 / 200\n"
     ]
    },
    {
     "name": "stderr",
     "output_type": "stream",
     "text": [
      "Learning estimator number: 4/15; MSE error on train dataset: 1350.73547748"
     ]
    },
    {
     "name": "stdout",
     "output_type": "stream",
     "text": [
      "MSE on test Dataset: 10173.4616473 Iteration of Bagging: 170 / 200\n",
      "MSE on train Dataset: 2037.2737189 Iteration of Bagging: 170 / 200\n"
     ]
    },
    {
     "name": "stderr",
     "output_type": "stream",
     "text": [
      "Learning estimator number: 4/15; MSE error on train dataset: 3562.49798838"
     ]
    },
    {
     "name": "stdout",
     "output_type": "stream",
     "text": [
      "MSE on test Dataset: 10051.4131972 Iteration of Bagging: 171 / 200\n",
      "MSE on train Dataset: 2015.99329363 Iteration of Bagging: 171 / 200\n"
     ]
    },
    {
     "name": "stderr",
     "output_type": "stream",
     "text": [
      "Learning estimator number: 4/15; MSE error on train dataset: 3512.82492485"
     ]
    },
    {
     "name": "stdout",
     "output_type": "stream",
     "text": [
      "MSE on test Dataset: 9929.33744456 Iteration of Bagging: 172 / 200\n",
      "MSE on train Dataset: 1999.67028661 Iteration of Bagging: 172 / 200\n"
     ]
    },
    {
     "name": "stderr",
     "output_type": "stream",
     "text": [
      "Learning estimator number: 3/15; MSE error on train dataset: 300.209734773"
     ]
    },
    {
     "name": "stdout",
     "output_type": "stream",
     "text": [
      "MSE on test Dataset: 9963.38092978 Iteration of Bagging: 173 / 200\n",
      "MSE on train Dataset: 1995.54992362 Iteration of Bagging: 173 / 200\n"
     ]
    },
    {
     "name": "stderr",
     "output_type": "stream",
     "text": [
      "Learning estimator number: 2/15; MSE error on train dataset: 95.4488328865"
     ]
    },
    {
     "name": "stdout",
     "output_type": "stream",
     "text": [
      "MSE on test Dataset: 9984.96071263 Iteration of Bagging: 174 / 200\n",
      "MSE on train Dataset: 2005.10128994 Iteration of Bagging: 174 / 200\n"
     ]
    },
    {
     "name": "stderr",
     "output_type": "stream",
     "text": [
      "Iteration of bagging:176/200"
     ]
    },
    {
     "name": "stdout",
     "output_type": "stream",
     "text": [
      "MSE on test Dataset: 10029.0113777 Iteration of Bagging: 175 / 200\n",
      "MSE on train Dataset: 2019.29839305 Iteration of Bagging: 175 / 200\n"
     ]
    },
    {
     "name": "stderr",
     "output_type": "stream",
     "text": [
      "Iteration of bagging:177/200"
     ]
    },
    {
     "name": "stdout",
     "output_type": "stream",
     "text": [
      "MSE on test Dataset: 9974.50185624 Iteration of Bagging: 176 / 200\n",
      "MSE on train Dataset: 2002.19803101 Iteration of Bagging: 176 / 200\n"
     ]
    },
    {
     "name": "stderr",
     "output_type": "stream",
     "text": [
      "Learning estimator number: 3/15; MSE error on train dataset: 462.523519377"
     ]
    },
    {
     "name": "stdout",
     "output_type": "stream",
     "text": [
      "MSE on test Dataset: 10021.6029814 Iteration of Bagging: 177 / 200\n",
      "MSE on train Dataset: 2015.37266035 Iteration of Bagging: 177 / 200\n"
     ]
    },
    {
     "name": "stderr",
     "output_type": "stream",
     "text": [
      "Learning estimator number: 2/15; MSE error on train dataset: 383.444830257"
     ]
    },
    {
     "name": "stdout",
     "output_type": "stream",
     "text": [
      "MSE on test Dataset: 10031.6583656 Iteration of Bagging: 178 / 200\n",
      "MSE on train Dataset: 1995.86428008 Iteration of Bagging: 178 / 200\n"
     ]
    },
    {
     "name": "stderr",
     "output_type": "stream",
     "text": [
      "Iteration of bagging:180/200"
     ]
    },
    {
     "name": "stdout",
     "output_type": "stream",
     "text": [
      "MSE on test Dataset: 10020.3542663 Iteration of Bagging: 179 / 200\n",
      "MSE on train Dataset: 2009.65891928 Iteration of Bagging: 179 / 200\n"
     ]
    },
    {
     "name": "stderr",
     "output_type": "stream",
     "text": [
      "Learning estimator number: 4/15; MSE error on train dataset: 1418.50993222"
     ]
    },
    {
     "name": "stdout",
     "output_type": "stream",
     "text": [
      "MSE on test Dataset: 9938.39698744 Iteration of Bagging: 180 / 200\n",
      "MSE on train Dataset: 2000.21943379 Iteration of Bagging: 180 / 200\n"
     ]
    },
    {
     "name": "stderr",
     "output_type": "stream",
     "text": [
      "Learning estimator number: 3/15; MSE error on train dataset: 342.004075432"
     ]
    },
    {
     "name": "stdout",
     "output_type": "stream",
     "text": [
      "MSE on test Dataset: 9823.47718875 Iteration of Bagging: 181 / 200\n",
      "MSE on train Dataset: 1980.0986926 Iteration of Bagging: 181 / 200\n"
     ]
    },
    {
     "name": "stderr",
     "output_type": "stream",
     "text": [
      "Learning estimator number: 2/15; MSE error on train dataset: 102.397753293"
     ]
    },
    {
     "name": "stdout",
     "output_type": "stream",
     "text": [
      "MSE on test Dataset: 9838.16268605 Iteration of Bagging: 182 / 200\n",
      "MSE on train Dataset: 1988.69667207 Iteration of Bagging: 182 / 200\n"
     ]
    },
    {
     "name": "stderr",
     "output_type": "stream",
     "text": [
      "Iteration of bagging:184/200"
     ]
    },
    {
     "name": "stdout",
     "output_type": "stream",
     "text": [
      "MSE on test Dataset: 9884.6330747 Iteration of Bagging: 183 / 200\n",
      "MSE on train Dataset: 2000.81377077 Iteration of Bagging: 183 / 200\n"
     ]
    },
    {
     "name": "stderr",
     "output_type": "stream",
     "text": [
      "Learning estimator number: 1/15; MSE error on train dataset: 180.854554178"
     ]
    },
    {
     "name": "stdout",
     "output_type": "stream",
     "text": [
      "MSE on test Dataset: 9738.889252 Iteration of Bagging: 184 / 200\n",
      "MSE on train Dataset: 1982.09402168 Iteration of Bagging: 184 / 200\n"
     ]
    },
    {
     "name": "stderr",
     "output_type": "stream",
     "text": [
      "Learning estimator number: 2/15; MSE error on train dataset: 152.892879284"
     ]
    },
    {
     "name": "stdout",
     "output_type": "stream",
     "text": [
      "MSE on test Dataset: 9790.54043565 Iteration of Bagging: 185 / 200\n",
      "MSE on train Dataset: 1995.0909396 Iteration of Bagging: 185 / 200\n"
     ]
    },
    {
     "name": "stderr",
     "output_type": "stream",
     "text": [
      "Learning estimator number: 14/15; MSE error on train dataset: 52.1336627942"
     ]
    },
    {
     "name": "stdout",
     "output_type": "stream",
     "text": [
      "MSE on test Dataset: 9833.71808467 Iteration of Bagging: 186 / 200\n",
      "MSE on train Dataset: 2009.31506559 Iteration of Bagging: 186 / 200\n"
     ]
    },
    {
     "name": "stderr",
     "output_type": "stream",
     "text": [
      "Iteration of bagging:188/200"
     ]
    },
    {
     "name": "stdout",
     "output_type": "stream",
     "text": [
      "MSE on test Dataset: 9893.64167203 Iteration of Bagging: 187 / 200\n",
      "MSE on train Dataset: 2010.50675619 Iteration of Bagging: 187 / 200\n"
     ]
    },
    {
     "name": "stderr",
     "output_type": "stream",
     "text": [
      "Learning estimator number: 4/15; MSE error on train dataset: 818.905940432"
     ]
    },
    {
     "name": "stdout",
     "output_type": "stream",
     "text": [
      "MSE on test Dataset: 9879.30266412 Iteration of Bagging: 188 / 200\n",
      "MSE on train Dataset: 2015.46332187 Iteration of Bagging: 188 / 200\n"
     ]
    },
    {
     "name": "stderr",
     "output_type": "stream",
     "text": [
      "Learning estimator number: 3/15; MSE error on train dataset: 144.354173616"
     ]
    },
    {
     "name": "stdout",
     "output_type": "stream",
     "text": [
      "MSE on test Dataset: 9867.23868767 Iteration of Bagging: 189 / 200\n",
      "MSE on train Dataset: 2016.69157611 Iteration of Bagging: 189 / 200\n"
     ]
    },
    {
     "name": "stderr",
     "output_type": "stream",
     "text": [
      "Iteration of bagging:191/200"
     ]
    },
    {
     "name": "stdout",
     "output_type": "stream",
     "text": [
      "MSE on test Dataset: 9933.26972282 Iteration of Bagging: 190 / 200\n",
      "MSE on train Dataset: 2032.16316061 Iteration of Bagging: 190 / 200\n"
     ]
    },
    {
     "name": "stderr",
     "output_type": "stream",
     "text": [
      "Learning estimator number: 5/15; MSE error on train dataset: 421.894102028"
     ]
    },
    {
     "name": "stdout",
     "output_type": "stream",
     "text": [
      "MSE on test Dataset: 9978.66980689 Iteration of Bagging: 191 / 200\n",
      "MSE on train Dataset: 2044.93628924 Iteration of Bagging: 191 / 200\n"
     ]
    },
    {
     "name": "stderr",
     "output_type": "stream",
     "text": [
      "Learning estimator number: 5/15; MSE error on train dataset: 3490.07152618"
     ]
    },
    {
     "name": "stdout",
     "output_type": "stream",
     "text": [
      "MSE on test Dataset: 9978.66593525 Iteration of Bagging: 192 / 200\n",
      "MSE on train Dataset: 2021.78152605 Iteration of Bagging: 192 / 200\n"
     ]
    },
    {
     "name": "stderr",
     "output_type": "stream",
     "text": [
      "\r",
      "Learning estimator number: 6/15; MSE error on train dataset: 3048.7492776\r",
      "Learning estimator number: 7/15; MSE error on train dataset: 2739.7268082\r",
      "Learning estimator number: 8/15; MSE error on train dataset: 2421.33552085\r",
      "Learning estimator number: 9/15; MSE error on train dataset: 2205.22477334\r",
      "Learning estimator number: 10/15; MSE error on train dataset: 1972.46012841\r",
      "Learning estimator number: 11/15; MSE error on train dataset: 1822.88976557\r",
      "Learning estimator number: 12/15; MSE error on train dataset: 1649.89447006\r",
      "Learning estimator number: 13/15; MSE error on train dataset: 1545.66397447\r",
      "Learning estimator number: 14/15; MSE error on train dataset: 1497.98838672\r",
      "Iteration of bagging:194/200"
     ]
    },
    {
     "name": "stdout",
     "output_type": "stream",
     "text": [
      "MSE on test Dataset: 9984.80647841 Iteration of Bagging: 193 / 200\n",
      "MSE on train Dataset: 2010.00786609 Iteration of Bagging: 193 / 200\n"
     ]
    },
    {
     "name": "stderr",
     "output_type": "stream",
     "text": [
      "Learning estimator number: 4/15; MSE error on train dataset: 932.901475733"
     ]
    },
    {
     "name": "stdout",
     "output_type": "stream",
     "text": [
      "MSE on test Dataset: 9859.32865054 Iteration of Bagging: 194 / 200\n",
      "MSE on train Dataset: 1992.92181909 Iteration of Bagging: 194 / 200\n"
     ]
    },
    {
     "name": "stderr",
     "output_type": "stream",
     "text": [
      "Learning estimator number: 2/15; MSE error on train dataset: 84.2941377456"
     ]
    },
    {
     "name": "stdout",
     "output_type": "stream",
     "text": [
      "MSE on test Dataset: 9919.74757631 Iteration of Bagging: 195 / 200\n",
      "MSE on train Dataset: 1995.24708602 Iteration of Bagging: 195 / 200\n"
     ]
    },
    {
     "name": "stderr",
     "output_type": "stream",
     "text": [
      "Iteration of bagging:197/200"
     ]
    },
    {
     "name": "stdout",
     "output_type": "stream",
     "text": [
      "MSE on test Dataset: 9966.09961922 Iteration of Bagging: 196 / 200\n",
      "MSE on train Dataset: 2009.09422449 Iteration of Bagging: 196 / 200\n"
     ]
    },
    {
     "name": "stderr",
     "output_type": "stream",
     "text": [
      "Learning estimator number: 4/15; MSE error on train dataset: 367.720252567"
     ]
    },
    {
     "name": "stdout",
     "output_type": "stream",
     "text": [
      "MSE on test Dataset: 10021.1529401 Iteration of Bagging: 197 / 200\n",
      "MSE on train Dataset: 1997.19292084 Iteration of Bagging: 197 / 200\n"
     ]
    },
    {
     "name": "stderr",
     "output_type": "stream",
     "text": [
      "Iteration of bagging:199/200"
     ]
    },
    {
     "name": "stdout",
     "output_type": "stream",
     "text": [
      "MSE on test Dataset: 10007.698902 Iteration of Bagging: 198 / 200\n",
      "MSE on train Dataset: 2006.19419669 Iteration of Bagging: 198 / 200\n"
     ]
    },
    {
     "name": "stderr",
     "output_type": "stream",
     "text": [
      "Learning estimator number: 4/25; MSE error on train dataset: 269.007574918"
     ]
    },
    {
     "name": "stdout",
     "output_type": "stream",
     "text": [
      "MSE on test Dataset: 10005.4905347 Iteration of Bagging: 199 / 200\n",
      "MSE on train Dataset: 2013.12484975 Iteration of Bagging: 199 / 200\n"
     ]
    },
    {
     "name": "stderr",
     "output_type": "stream",
     "text": [
      "Learning estimator number: 4/25; MSE error on train dataset: 258.270239719"
     ]
    },
    {
     "name": "stdout",
     "output_type": "stream",
     "text": [
      "MSE on test Dataset: 6908.33076551 Iteration of Bagging: 0 / 200\n",
      "MSE on train Dataset: 4725.78355766 Iteration of Bagging: 0 / 200\n"
     ]
    },
    {
     "name": "stderr",
     "output_type": "stream",
     "text": [
      "Learning estimator number: 3/25; MSE error on train dataset: 156.099162563"
     ]
    },
    {
     "name": "stdout",
     "output_type": "stream",
     "text": [
      "MSE on test Dataset: 11005.0481781 Iteration of Bagging: 1 / 200\n",
      "MSE on train Dataset: 5666.74201011 Iteration of Bagging: 1 / 200\n"
     ]
    },
    {
     "name": "stderr",
     "output_type": "stream",
     "text": [
      "Learning estimator number: 5/25; MSE error on train dataset: 1063.4056236"
     ]
    },
    {
     "name": "stdout",
     "output_type": "stream",
     "text": [
      "MSE on test Dataset: 14199.5563307 Iteration of Bagging: 2 / 200\n",
      "MSE on train Dataset: 5687.46168706 Iteration of Bagging: 2 / 200\n"
     ]
    },
    {
     "name": "stderr",
     "output_type": "stream",
     "text": [
      "Learning estimator number: 1/25; MSE error on train dataset: 198.733788358"
     ]
    },
    {
     "name": "stdout",
     "output_type": "stream",
     "text": [
      "MSE on test Dataset: 16046.2831624 Iteration of Bagging: 3 / 200\n",
      "MSE on train Dataset: 4472.32707322 Iteration of Bagging: 3 / 200\n"
     ]
    },
    {
     "name": "stderr",
     "output_type": "stream",
     "text": [
      "Iteration of bagging:5/200"
     ]
    },
    {
     "name": "stdout",
     "output_type": "stream",
     "text": [
      "MSE on test Dataset: 17068.7555626 Iteration of Bagging: 4 / 200\n",
      "MSE on train Dataset: 4631.38612142 Iteration of Bagging: 4 / 200\n"
     ]
    },
    {
     "name": "stderr",
     "output_type": "stream",
     "text": [
      "Learning estimator number: 4/25; MSE error on train dataset: 150.955667038"
     ]
    },
    {
     "name": "stdout",
     "output_type": "stream",
     "text": [
      "MSE on test Dataset: 16510.5174363 Iteration of Bagging: 5 / 200\n",
      "MSE on train Dataset: 3750.7772174 Iteration of Bagging: 5 / 200\n"
     ]
    },
    {
     "name": "stderr",
     "output_type": "stream",
     "text": [
      "Learning estimator number: 2/25; MSE error on train dataset: 5347.41052962"
     ]
    },
    {
     "name": "stdout",
     "output_type": "stream",
     "text": [
      "MSE on test Dataset: 17099.6168963 Iteration of Bagging: 6 / 200\n",
      "MSE on train Dataset: 3919.04160344 Iteration of Bagging: 6 / 200\n"
     ]
    },
    {
     "name": "stderr",
     "output_type": "stream",
     "text": [
      "Learning estimator number: 4/25; MSE error on train dataset: 4329.41089503"
     ]
    },
    {
     "name": "stdout",
     "output_type": "stream",
     "text": [
      "MSE on test Dataset: 18178.7121921 Iteration of Bagging: 7 / 200\n",
      "MSE on train Dataset: 3288.8930232 Iteration of Bagging: 7 / 200\n"
     ]
    },
    {
     "name": "stderr",
     "output_type": "stream",
     "text": [
      "Learning estimator number: 1/25; MSE error on train dataset: 1045.92796534"
     ]
    },
    {
     "name": "stdout",
     "output_type": "stream",
     "text": [
      "MSE on test Dataset: 17888.5617766 Iteration of Bagging: 8 / 200\n",
      "MSE on train Dataset: 2984.32984154 Iteration of Bagging: 8 / 200\n"
     ]
    },
    {
     "name": "stderr",
     "output_type": "stream",
     "text": [
      "Iteration of bagging:10/200"
     ]
    },
    {
     "name": "stdout",
     "output_type": "stream",
     "text": [
      "MSE on test Dataset: 17743.9591443 Iteration of Bagging: 9 / 200\n",
      "MSE on train Dataset: 2865.3111613 Iteration of Bagging: 9 / 200\n"
     ]
    },
    {
     "name": "stderr",
     "output_type": "stream",
     "text": [
      "Learning estimator number: 4/25; MSE error on train dataset: 147.898200511"
     ]
    },
    {
     "name": "stdout",
     "output_type": "stream",
     "text": [
      "MSE on test Dataset: 18118.5677397 Iteration of Bagging: 10 / 200\n",
      "MSE on train Dataset: 2723.89740051 Iteration of Bagging: 10 / 200\n"
     ]
    },
    {
     "name": "stderr",
     "output_type": "stream",
     "text": [
      "Learning estimator number: 24/25; MSE error on train dataset: 39.0098801133"
     ]
    },
    {
     "name": "stdout",
     "output_type": "stream",
     "text": [
      "MSE on test Dataset: 18382.7052064 Iteration of Bagging: 11 / 200\n",
      "MSE on train Dataset: 2837.66433607 Iteration of Bagging: 11 / 200\n"
     ]
    },
    {
     "name": "stderr",
     "output_type": "stream",
     "text": [
      "Learning estimator number: 4/25; MSE error on train dataset: 4439.70412323"
     ]
    },
    {
     "name": "stdout",
     "output_type": "stream",
     "text": [
      "MSE on test Dataset: 18982.9746107 Iteration of Bagging: 12 / 200\n",
      "MSE on train Dataset: 2784.20574711 Iteration of Bagging: 12 / 200\n"
     ]
    },
    {
     "name": "stderr",
     "output_type": "stream",
     "text": [
      "Learning estimator number: 3/25; MSE error on train dataset: 388.919331412"
     ]
    },
    {
     "name": "stdout",
     "output_type": "stream",
     "text": [
      "MSE on test Dataset: 15916.991917 Iteration of Bagging: 13 / 200\n",
      "MSE on train Dataset: 2501.01992864 Iteration of Bagging: 13 / 200\n"
     ]
    },
    {
     "name": "stderr",
     "output_type": "stream",
     "text": [
      "Learning estimator number: 1/25; MSE error on train dataset: 918.916133565"
     ]
    },
    {
     "name": "stdout",
     "output_type": "stream",
     "text": [
      "MSE on test Dataset: 16311.3712861 Iteration of Bagging: 14 / 200\n",
      "MSE on train Dataset: 2585.46197784 Iteration of Bagging: 14 / 200\n"
     ]
    },
    {
     "name": "stderr",
     "output_type": "stream",
     "text": [
      "Learning estimator number: 3/25; MSE error on train dataset: 445.191637602"
     ]
    },
    {
     "name": "stdout",
     "output_type": "stream",
     "text": [
      "MSE on test Dataset: 15946.1151939 Iteration of Bagging: 15 / 200\n",
      "MSE on train Dataset: 2666.44402055 Iteration of Bagging: 15 / 200\n"
     ]
    },
    {
     "name": "stderr",
     "output_type": "stream",
     "text": [
      "Learning estimator number: 2/25; MSE error on train dataset: 542.268403382"
     ]
    },
    {
     "name": "stdout",
     "output_type": "stream",
     "text": [
      "MSE on test Dataset: 15948.007793 Iteration of Bagging: 16 / 200\n",
      "MSE on train Dataset: 2719.296924 Iteration of Bagging: 16 / 200\n"
     ]
    },
    {
     "name": "stderr",
     "output_type": "stream",
     "text": [
      "Learning estimator number: 2/25; MSE error on train dataset: 459.442016245"
     ]
    },
    {
     "name": "stdout",
     "output_type": "stream",
     "text": [
      "MSE on test Dataset: 16249.2393935 Iteration of Bagging: 17 / 200\n",
      "MSE on train Dataset: 2760.28629946 Iteration of Bagging: 17 / 200\n"
     ]
    },
    {
     "name": "stderr",
     "output_type": "stream",
     "text": [
      "Learning estimator number: 2/25; MSE error on train dataset: 380.142062186"
     ]
    },
    {
     "name": "stdout",
     "output_type": "stream",
     "text": [
      "MSE on test Dataset: 16328.7082916 Iteration of Bagging: 18 / 200\n",
      "MSE on train Dataset: 2783.18508071 Iteration of Bagging: 18 / 200\n"
     ]
    },
    {
     "name": "stderr",
     "output_type": "stream",
     "text": [
      "Learning estimator number: 4/25; MSE error on train dataset: 88.1232056502"
     ]
    },
    {
     "name": "stdout",
     "output_type": "stream",
     "text": [
      "MSE on test Dataset: 16384.3609245 Iteration of Bagging: 19 / 200\n",
      "MSE on train Dataset: 2858.37851969 Iteration of Bagging: 19 / 200\n"
     ]
    },
    {
     "name": "stderr",
     "output_type": "stream",
     "text": [
      "Learning estimator number: 4/25; MSE error on train dataset: 293.096282606"
     ]
    },
    {
     "name": "stdout",
     "output_type": "stream",
     "text": [
      "MSE on test Dataset: 16638.6040945 Iteration of Bagging: 20 / 200\n",
      "MSE on train Dataset: 2906.26797365 Iteration of Bagging: 20 / 200\n"
     ]
    },
    {
     "name": "stderr",
     "output_type": "stream",
     "text": [
      "Learning estimator number: 24/25; MSE error on train dataset: 63.8687933315"
     ]
    },
    {
     "name": "stdout",
     "output_type": "stream",
     "text": [
      "MSE on test Dataset: 16749.228755 Iteration of Bagging: 21 / 200\n",
      "MSE on train Dataset: 2838.44345382 Iteration of Bagging: 21 / 200\n"
     ]
    },
    {
     "name": "stderr",
     "output_type": "stream",
     "text": [
      "Iteration of bagging:23/200"
     ]
    },
    {
     "name": "stdout",
     "output_type": "stream",
     "text": [
      "MSE on test Dataset: 16878.9071878 Iteration of Bagging: 22 / 200\n",
      "MSE on train Dataset: 2796.45045202 Iteration of Bagging: 22 / 200\n"
     ]
    },
    {
     "name": "stderr",
     "output_type": "stream",
     "text": [
      "Learning estimator number: 3/25; MSE error on train dataset: 96.3347751363"
     ]
    },
    {
     "name": "stdout",
     "output_type": "stream",
     "text": [
      "MSE on test Dataset: 15725.6122894 Iteration of Bagging: 23 / 200\n",
      "MSE on train Dataset: 2547.19351577 Iteration of Bagging: 23 / 200\n"
     ]
    },
    {
     "name": "stderr",
     "output_type": "stream",
     "text": [
      "Learning estimator number: 2/25; MSE error on train dataset: 179.860443486"
     ]
    },
    {
     "name": "stdout",
     "output_type": "stream",
     "text": [
      "MSE on test Dataset: 15930.8738618 Iteration of Bagging: 24 / 200\n",
      "MSE on train Dataset: 2631.21268237 Iteration of Bagging: 24 / 200\n"
     ]
    },
    {
     "name": "stderr",
     "output_type": "stream",
     "text": [
      "Learning estimator number: 2/25; MSE error on train dataset: 67.1907712824"
     ]
    },
    {
     "name": "stdout",
     "output_type": "stream",
     "text": [
      "MSE on test Dataset: 15853.5001904 Iteration of Bagging: 25 / 200\n",
      "MSE on train Dataset: 2679.70954737 Iteration of Bagging: 25 / 200\n"
     ]
    },
    {
     "name": "stderr",
     "output_type": "stream",
     "text": [
      "Learning estimator number: 4/25; MSE error on train dataset: 583.959956933"
     ]
    },
    {
     "name": "stdout",
     "output_type": "stream",
     "text": [
      "MSE on test Dataset: 15993.7119979 Iteration of Bagging: 26 / 200\n",
      "MSE on train Dataset: 2742.19807206 Iteration of Bagging: 26 / 200\n"
     ]
    },
    {
     "name": "stderr",
     "output_type": "stream",
     "text": [
      "Learning estimator number: 1/25; MSE error on train dataset: 1371.78342486"
     ]
    },
    {
     "name": "stdout",
     "output_type": "stream",
     "text": [
      "MSE on test Dataset: 15675.4038423 Iteration of Bagging: 27 / 200\n",
      "MSE on train Dataset: 2759.76032815 Iteration of Bagging: 27 / 200\n"
     ]
    },
    {
     "name": "stderr",
     "output_type": "stream",
     "text": [
      "Learning estimator number: 1/25; MSE error on train dataset: 371.73810519"
     ]
    },
    {
     "name": "stdout",
     "output_type": "stream",
     "text": [
      "MSE on test Dataset: 15784.9672893 Iteration of Bagging: 28 / 200\n",
      "MSE on train Dataset: 2778.37605094 Iteration of Bagging: 28 / 200\n"
     ]
    },
    {
     "name": "stderr",
     "output_type": "stream",
     "text": [
      "Learning estimator number: 3/25; MSE error on train dataset: 1256.42895802"
     ]
    },
    {
     "name": "stdout",
     "output_type": "stream",
     "text": [
      "MSE on test Dataset: 15626.7915848 Iteration of Bagging: 29 / 200\n",
      "MSE on train Dataset: 2730.66705542 Iteration of Bagging: 29 / 200\n"
     ]
    },
    {
     "name": "stderr",
     "output_type": "stream",
     "text": [
      "Learning estimator number: 3/25; MSE error on train dataset: 3868.20781078"
     ]
    },
    {
     "name": "stdout",
     "output_type": "stream",
     "text": [
      "MSE on test Dataset: 15774.7764411 Iteration of Bagging: 30 / 200\n",
      "MSE on train Dataset: 2744.11378179 Iteration of Bagging: 30 / 200\n"
     ]
    },
    {
     "name": "stderr",
     "output_type": "stream",
     "text": [
      "Learning estimator number: 1/25; MSE error on train dataset: 1128.70149062"
     ]
    },
    {
     "name": "stdout",
     "output_type": "stream",
     "text": [
      "MSE on test Dataset: 15365.8551137 Iteration of Bagging: 31 / 200\n",
      "MSE on train Dataset: 2621.50508691 Iteration of Bagging: 31 / 200\n"
     ]
    },
    {
     "name": "stderr",
     "output_type": "stream",
     "text": [
      "Learning estimator number: 3/25; MSE error on train dataset: 134.426140998"
     ]
    },
    {
     "name": "stdout",
     "output_type": "stream",
     "text": [
      "MSE on test Dataset: 15523.022773 Iteration of Bagging: 32 / 200\n",
      "MSE on train Dataset: 2630.34587736 Iteration of Bagging: 32 / 200\n"
     ]
    },
    {
     "name": "stderr",
     "output_type": "stream",
     "text": [
      "Iteration of bagging:34/200"
     ]
    },
    {
     "name": "stdout",
     "output_type": "stream",
     "text": [
      "MSE on test Dataset: 15627.5874664 Iteration of Bagging: 33 / 200\n",
      "MSE on train Dataset: 2683.02410879 Iteration of Bagging: 33 / 200\n"
     ]
    },
    {
     "name": "stderr",
     "output_type": "stream",
     "text": [
      "Learning estimator number: 3/25; MSE error on train dataset: 786.022739876"
     ]
    },
    {
     "name": "stdout",
     "output_type": "stream",
     "text": [
      "MSE on test Dataset: 14586.6865764 Iteration of Bagging: 34 / 200\n",
      "MSE on train Dataset: 2538.39239261 Iteration of Bagging: 34 / 200\n"
     ]
    },
    {
     "name": "stderr",
     "output_type": "stream",
     "text": [
      "Learning estimator number: 1/25; MSE error on train dataset: 429.438773418"
     ]
    },
    {
     "name": "stdout",
     "output_type": "stream",
     "text": [
      "MSE on test Dataset: 14478.627186 Iteration of Bagging: 35 / 200\n",
      "MSE on train Dataset: 2595.76282962 Iteration of Bagging: 35 / 200\n"
     ]
    },
    {
     "name": "stderr",
     "output_type": "stream",
     "text": [
      "Iteration of bagging:37/200"
     ]
    },
    {
     "name": "stdout",
     "output_type": "stream",
     "text": [
      "MSE on test Dataset: 14654.9188259 Iteration of Bagging: 36 / 200\n",
      "MSE on train Dataset: 2577.60918185 Iteration of Bagging: 36 / 200\n"
     ]
    },
    {
     "name": "stderr",
     "output_type": "stream",
     "text": [
      "Learning estimator number: 24/25; MSE error on train dataset: 1079.40848469"
     ]
    },
    {
     "name": "stdout",
     "output_type": "stream",
     "text": [
      "MSE on test Dataset: 14810.1025591 Iteration of Bagging: 37 / 200\n",
      "MSE on train Dataset: 2603.92425876 Iteration of Bagging: 37 / 200\n"
     ]
    },
    {
     "name": "stderr",
     "output_type": "stream",
     "text": [
      "Iteration of bagging:39/200"
     ]
    },
    {
     "name": "stdout",
     "output_type": "stream",
     "text": [
      "MSE on test Dataset: 14936.043978 Iteration of Bagging: 38 / 200\n",
      "MSE on train Dataset: 2594.68721761 Iteration of Bagging: 38 / 200\n"
     ]
    },
    {
     "name": "stderr",
     "output_type": "stream",
     "text": [
      "Learning estimator number: 2/25; MSE error on train dataset: 4461.5018414"
     ]
    },
    {
     "name": "stdout",
     "output_type": "stream",
     "text": [
      "MSE on test Dataset: 13912.2816812 Iteration of Bagging: 39 / 200\n",
      "MSE on train Dataset: 2511.56562629 Iteration of Bagging: 39 / 200\n"
     ]
    },
    {
     "name": "stderr",
     "output_type": "stream",
     "text": [
      "Learning estimator number: 24/25; MSE error on train dataset: 613.24889796"
     ]
    },
    {
     "name": "stdout",
     "output_type": "stream",
     "text": [
      "MSE on test Dataset: 13819.7794103 Iteration of Bagging: 40 / 200\n",
      "MSE on train Dataset: 2425.43450147 Iteration of Bagging: 40 / 200\n"
     ]
    },
    {
     "name": "stderr",
     "output_type": "stream",
     "text": [
      "Learning estimator number: 2/25; MSE error on train dataset: 3215.75949824"
     ]
    },
    {
     "name": "stdout",
     "output_type": "stream",
     "text": [
      "MSE on test Dataset: 13996.9272244 Iteration of Bagging: 41 / 200\n",
      "MSE on train Dataset: 2471.96923101 Iteration of Bagging: 41 / 200\n"
     ]
    },
    {
     "name": "stderr",
     "output_type": "stream",
     "text": [
      "Learning estimator number: 3/25; MSE error on train dataset: 433.865062102"
     ]
    },
    {
     "name": "stdout",
     "output_type": "stream",
     "text": [
      "MSE on test Dataset: 13246.1001873 Iteration of Bagging: 42 / 200\n",
      "MSE on train Dataset: 2368.03515336 Iteration of Bagging: 42 / 200\n"
     ]
    },
    {
     "name": "stderr",
     "output_type": "stream",
     "text": [
      "Iteration of bagging:44/200"
     ]
    },
    {
     "name": "stdout",
     "output_type": "stream",
     "text": [
      "MSE on test Dataset: 13175.256646 Iteration of Bagging: 43 / 200\n",
      "MSE on train Dataset: 2405.88036954 Iteration of Bagging: 43 / 200\n"
     ]
    },
    {
     "name": "stderr",
     "output_type": "stream",
     "text": [
      "Learning estimator number: 3/25; MSE error on train dataset: 114.539963036"
     ]
    },
    {
     "name": "stdout",
     "output_type": "stream",
     "text": [
      "MSE on test Dataset: 12428.0544099 Iteration of Bagging: 44 / 200\n",
      "MSE on train Dataset: 2318.2023148 Iteration of Bagging: 44 / 200\n"
     ]
    },
    {
     "name": "stderr",
     "output_type": "stream",
     "text": [
      "Iteration of bagging:46/200"
     ]
    },
    {
     "name": "stdout",
     "output_type": "stream",
     "text": [
      "MSE on test Dataset: 12771.4365671 Iteration of Bagging: 45 / 200\n",
      "MSE on train Dataset: 2371.40568479 Iteration of Bagging: 45 / 200\n"
     ]
    },
    {
     "name": "stderr",
     "output_type": "stream",
     "text": [
      "Learning estimator number: 4/25; MSE error on train dataset: 339.024812097"
     ]
    },
    {
     "name": "stdout",
     "output_type": "stream",
     "text": [
      "MSE on test Dataset: 12931.6929843 Iteration of Bagging: 46 / 200\n",
      "MSE on train Dataset: 2372.58262646 Iteration of Bagging: 46 / 200\n"
     ]
    },
    {
     "name": "stderr",
     "output_type": "stream",
     "text": [
      "Learning estimator number: 1/25; MSE error on train dataset: 1685.90555027"
     ]
    },
    {
     "name": "stdout",
     "output_type": "stream",
     "text": [
      "MSE on test Dataset: 13037.8518393 Iteration of Bagging: 47 / 200\n",
      "MSE on train Dataset: 2407.89570162 Iteration of Bagging: 47 / 200\n"
     ]
    },
    {
     "name": "stderr",
     "output_type": "stream",
     "text": [
      "Learning estimator number: 24/25; MSE error on train dataset: 87.1872330956"
     ]
    },
    {
     "name": "stdout",
     "output_type": "stream",
     "text": [
      "MSE on test Dataset: 13153.4824771 Iteration of Bagging: 48 / 200\n",
      "MSE on train Dataset: 2339.37285454 Iteration of Bagging: 48 / 200\n"
     ]
    },
    {
     "name": "stderr",
     "output_type": "stream",
     "text": [
      "Iteration of bagging:50/200"
     ]
    },
    {
     "name": "stdout",
     "output_type": "stream",
     "text": [
      "MSE on test Dataset: 13203.9848854 Iteration of Bagging: 49 / 200\n",
      "MSE on train Dataset: 2310.48421087 Iteration of Bagging: 49 / 200\n"
     ]
    },
    {
     "name": "stderr",
     "output_type": "stream",
     "text": [
      "Learning estimator number: 2/25; MSE error on train dataset: 2802.08057208"
     ]
    },
    {
     "name": "stdout",
     "output_type": "stream",
     "text": [
      "MSE on test Dataset: 13327.1717511 Iteration of Bagging: 50 / 200\n",
      "MSE on train Dataset: 2262.67127599 Iteration of Bagging: 50 / 200\n"
     ]
    },
    {
     "name": "stderr",
     "output_type": "stream",
     "text": [
      "Learning estimator number: 1/25; MSE error on train dataset: 407.02562622"
     ]
    },
    {
     "name": "stdout",
     "output_type": "stream",
     "text": [
      "MSE on test Dataset: 12669.8734046 Iteration of Bagging: 51 / 200\n",
      "MSE on train Dataset: 2186.58672533 Iteration of Bagging: 51 / 200\n"
     ]
    },
    {
     "name": "stderr",
     "output_type": "stream",
     "text": [
      "Learning estimator number: 4/25; MSE error on train dataset: 82.1839656479"
     ]
    },
    {
     "name": "stdout",
     "output_type": "stream",
     "text": [
      "MSE on test Dataset: 12622.8011716 Iteration of Bagging: 52 / 200\n",
      "MSE on train Dataset: 2210.87228551 Iteration of Bagging: 52 / 200\n"
     ]
    },
    {
     "name": "stderr",
     "output_type": "stream",
     "text": [
      "Iteration of bagging:54/200"
     ]
    },
    {
     "name": "stdout",
     "output_type": "stream",
     "text": [
      "MSE on test Dataset: 12706.7913829 Iteration of Bagging: 53 / 200\n",
      "MSE on train Dataset: 2246.46913338 Iteration of Bagging: 53 / 200\n"
     ]
    },
    {
     "name": "stderr",
     "output_type": "stream",
     "text": [
      "Learning estimator number: 1/25; MSE error on train dataset: 1161.46750657"
     ]
    },
    {
     "name": "stdout",
     "output_type": "stream",
     "text": [
      "MSE on test Dataset: 12051.9086698 Iteration of Bagging: 54 / 200\n",
      "MSE on train Dataset: 2157.94541621 Iteration of Bagging: 54 / 200\n"
     ]
    },
    {
     "name": "stderr",
     "output_type": "stream",
     "text": [
      "Learning estimator number: 3/25; MSE error on train dataset: 74.9839199676"
     ]
    },
    {
     "name": "stdout",
     "output_type": "stream",
     "text": [
      "MSE on test Dataset: 12160.6059944 Iteration of Bagging: 55 / 200\n",
      "MSE on train Dataset: 2171.68792061 Iteration of Bagging: 55 / 200\n"
     ]
    },
    {
     "name": "stderr",
     "output_type": "stream",
     "text": [
      "Learning estimator number: 4/25; MSE error on train dataset: 1565.83918304"
     ]
    },
    {
     "name": "stdout",
     "output_type": "stream",
     "text": [
      "MSE on test Dataset: 12276.9046878 Iteration of Bagging: 56 / 200\n",
      "MSE on train Dataset: 2206.85395975 Iteration of Bagging: 56 / 200\n"
     ]
    },
    {
     "name": "stderr",
     "output_type": "stream",
     "text": [
      "Learning estimator number: 4/25; MSE error on train dataset: 1244.59215568"
     ]
    },
    {
     "name": "stdout",
     "output_type": "stream",
     "text": [
      "MSE on test Dataset: 11715.2682248 Iteration of Bagging: 57 / 200\n",
      "MSE on train Dataset: 2141.3704744 Iteration of Bagging: 57 / 200\n"
     ]
    },
    {
     "name": "stderr",
     "output_type": "stream",
     "text": [
      "Iteration of bagging:59/200"
     ]
    },
    {
     "name": "stdout",
     "output_type": "stream",
     "text": [
      "MSE on test Dataset: 11711.2596139 Iteration of Bagging: 58 / 200\n",
      "MSE on train Dataset: 2102.76836074 Iteration of Bagging: 58 / 200\n"
     ]
    },
    {
     "name": "stderr",
     "output_type": "stream",
     "text": [
      "Learning estimator number: 1/25; MSE error on train dataset: 361.535035777"
     ]
    },
    {
     "name": "stdout",
     "output_type": "stream",
     "text": [
      "MSE on test Dataset: 11563.9608363 Iteration of Bagging: 59 / 200\n",
      "MSE on train Dataset: 2101.07093948 Iteration of Bagging: 59 / 200\n"
     ]
    },
    {
     "name": "stderr",
     "output_type": "stream",
     "text": [
      "Learning estimator number: 3/25; MSE error on train dataset: 361.48196379"
     ]
    },
    {
     "name": "stdout",
     "output_type": "stream",
     "text": [
      "MSE on test Dataset: 11598.3738812 Iteration of Bagging: 60 / 200\n",
      "MSE on train Dataset: 2129.79518723 Iteration of Bagging: 60 / 200\n"
     ]
    },
    {
     "name": "stderr",
     "output_type": "stream",
     "text": [
      "Iteration of bagging:62/200"
     ]
    },
    {
     "name": "stdout",
     "output_type": "stream",
     "text": [
      "MSE on test Dataset: 11456.5672078 Iteration of Bagging: 61 / 200\n",
      "MSE on train Dataset: 2125.22586283 Iteration of Bagging: 61 / 200\n"
     ]
    },
    {
     "name": "stderr",
     "output_type": "stream",
     "text": [
      "Iteration of bagging:63/200"
     ]
    },
    {
     "name": "stdout",
     "output_type": "stream",
     "text": [
      "MSE on test Dataset: 11482.0408774 Iteration of Bagging: 62 / 200\n",
      "MSE on train Dataset: 2097.97328501 Iteration of Bagging: 62 / 200\n"
     ]
    },
    {
     "name": "stderr",
     "output_type": "stream",
     "text": [
      "Learning estimator number: 3/25; MSE error on train dataset: 382.405843478"
     ]
    },
    {
     "name": "stdout",
     "output_type": "stream",
     "text": [
      "MSE on test Dataset: 11001.5570015 Iteration of Bagging: 63 / 200\n",
      "MSE on train Dataset: 2039.73016958 Iteration of Bagging: 63 / 200\n"
     ]
    },
    {
     "name": "stderr",
     "output_type": "stream",
     "text": [
      "Learning estimator number: 4/25; MSE error on train dataset: 214.744762481"
     ]
    },
    {
     "name": "stdout",
     "output_type": "stream",
     "text": [
      "MSE on test Dataset: 11164.2908089 Iteration of Bagging: 64 / 200\n",
      "MSE on train Dataset: 2030.37723599 Iteration of Bagging: 64 / 200\n"
     ]
    },
    {
     "name": "stderr",
     "output_type": "stream",
     "text": [
      "Iteration of bagging:66/200"
     ]
    },
    {
     "name": "stdout",
     "output_type": "stream",
     "text": [
      "MSE on test Dataset: 11250.8124976 Iteration of Bagging: 65 / 200\n",
      "MSE on train Dataset: 2011.70832047 Iteration of Bagging: 65 / 200\n"
     ]
    },
    {
     "name": "stderr",
     "output_type": "stream",
     "text": [
      "Learning estimator number: 1/25; MSE error on train dataset: 522.02439435"
     ]
    },
    {
     "name": "stdout",
     "output_type": "stream",
     "text": [
      "MSE on test Dataset: 10840.3707144 Iteration of Bagging: 66 / 200\n",
      "MSE on train Dataset: 1961.91653656 Iteration of Bagging: 66 / 200\n"
     ]
    },
    {
     "name": "stderr",
     "output_type": "stream",
     "text": [
      "Learning estimator number: 4/25; MSE error on train dataset: 138.757174664"
     ]
    },
    {
     "name": "stdout",
     "output_type": "stream",
     "text": [
      "MSE on test Dataset: 11047.2202752 Iteration of Bagging: 67 / 200\n",
      "MSE on train Dataset: 1988.32125625 Iteration of Bagging: 67 / 200\n"
     ]
    },
    {
     "name": "stderr",
     "output_type": "stream",
     "text": [
      "Learning estimator number: 24/25; MSE error on train dataset: 27.7936137075"
     ]
    },
    {
     "name": "stdout",
     "output_type": "stream",
     "text": [
      "MSE on test Dataset: 11061.2734147 Iteration of Bagging: 68 / 200\n",
      "MSE on train Dataset: 2018.30442038 Iteration of Bagging: 68 / 200\n"
     ]
    },
    {
     "name": "stderr",
     "output_type": "stream",
     "text": [
      "Learning estimator number: 4/25; MSE error on train dataset: 3911.44034909"
     ]
    },
    {
     "name": "stdout",
     "output_type": "stream",
     "text": [
      "MSE on test Dataset: 10621.2142241 Iteration of Bagging: 69 / 200\n",
      "MSE on train Dataset: 1965.54226799 Iteration of Bagging: 69 / 200\n"
     ]
    },
    {
     "name": "stderr",
     "output_type": "stream",
     "text": [
      "Iteration of bagging:71/200"
     ]
    },
    {
     "name": "stdout",
     "output_type": "stream",
     "text": [
      "MSE on test Dataset: 10349.1233885 Iteration of Bagging: 70 / 200\n",
      "MSE on train Dataset: 1920.81220495 Iteration of Bagging: 70 / 200\n"
     ]
    },
    {
     "name": "stderr",
     "output_type": "stream",
     "text": [
      "Learning estimator number: 3/25; MSE error on train dataset: 1690.20246052"
     ]
    },
    {
     "name": "stdout",
     "output_type": "stream",
     "text": [
      "MSE on test Dataset: 10452.8991936 Iteration of Bagging: 71 / 200\n",
      "MSE on train Dataset: 1936.14177241 Iteration of Bagging: 71 / 200\n"
     ]
    },
    {
     "name": "stderr",
     "output_type": "stream",
     "text": [
      "Learning estimator number: 3/25; MSE error on train dataset: 436.092363763"
     ]
    },
    {
     "name": "stdout",
     "output_type": "stream",
     "text": [
      "MSE on test Dataset: 10102.502997 Iteration of Bagging: 72 / 200\n",
      "MSE on train Dataset: 1879.19108613 Iteration of Bagging: 72 / 200\n"
     ]
    },
    {
     "name": "stderr",
     "output_type": "stream",
     "text": [
      "Iteration of bagging:74/200"
     ]
    },
    {
     "name": "stdout",
     "output_type": "stream",
     "text": [
      "MSE on test Dataset: 10216.9301693 Iteration of Bagging: 73 / 200\n",
      "MSE on train Dataset: 1893.78447757 Iteration of Bagging: 73 / 200\n"
     ]
    },
    {
     "name": "stderr",
     "output_type": "stream",
     "text": [
      "Learning estimator number: 4/25; MSE error on train dataset: 156.079294383"
     ]
    },
    {
     "name": "stdout",
     "output_type": "stream",
     "text": [
      "MSE on test Dataset: 10264.3157894 Iteration of Bagging: 74 / 200\n",
      "MSE on train Dataset: 1885.30398254 Iteration of Bagging: 74 / 200\n"
     ]
    },
    {
     "name": "stderr",
     "output_type": "stream",
     "text": [
      "Learning estimator number: 1/25; MSE error on train dataset: 137.894532475"
     ]
    },
    {
     "name": "stdout",
     "output_type": "stream",
     "text": [
      "MSE on test Dataset: 10372.2043855 Iteration of Bagging: 75 / 200\n",
      "MSE on train Dataset: 1911.56945926 Iteration of Bagging: 75 / 200\n"
     ]
    },
    {
     "name": "stderr",
     "output_type": "stream",
     "text": [
      "Learning estimator number: 2/25; MSE error on train dataset: 165.030621466"
     ]
    },
    {
     "name": "stdout",
     "output_type": "stream",
     "text": [
      "MSE on test Dataset: 10471.7961974 Iteration of Bagging: 76 / 200\n",
      "MSE on train Dataset: 1935.46845584 Iteration of Bagging: 76 / 200\n"
     ]
    },
    {
     "name": "stderr",
     "output_type": "stream",
     "text": [
      "Learning estimator number: 24/25; MSE error on train dataset: 26.8772785601"
     ]
    },
    {
     "name": "stdout",
     "output_type": "stream",
     "text": [
      "MSE on test Dataset: 10587.4876395 Iteration of Bagging: 77 / 200\n",
      "MSE on train Dataset: 1962.02724731 Iteration of Bagging: 77 / 200\n"
     ]
    },
    {
     "name": "stderr",
     "output_type": "stream",
     "text": [
      "Learning estimator number: 4/25; MSE error on train dataset: 1155.55191314"
     ]
    },
    {
     "name": "stdout",
     "output_type": "stream",
     "text": [
      "MSE on test Dataset: 10690.9255097 Iteration of Bagging: 78 / 200\n",
      "MSE on train Dataset: 1989.45398743 Iteration of Bagging: 78 / 200\n"
     ]
    },
    {
     "name": "stderr",
     "output_type": "stream",
     "text": [
      "Iteration of bagging:80/200"
     ]
    },
    {
     "name": "stdout",
     "output_type": "stream",
     "text": [
      "MSE on test Dataset: 10795.93421 Iteration of Bagging: 79 / 200\n",
      "MSE on train Dataset: 2013.94467206 Iteration of Bagging: 79 / 200\n"
     ]
    },
    {
     "name": "stderr",
     "output_type": "stream",
     "text": [
      "Learning estimator number: 1/25; MSE error on train dataset: 995.930380844"
     ]
    },
    {
     "name": "stdout",
     "output_type": "stream",
     "text": [
      "MSE on test Dataset: 10919.6038401 Iteration of Bagging: 80 / 200\n",
      "MSE on train Dataset: 2024.7135188 Iteration of Bagging: 80 / 200\n"
     ]
    },
    {
     "name": "stderr",
     "output_type": "stream",
     "text": [
      "Learning estimator number: 8/25; MSE error on train dataset: 1075.94009373"
     ]
    },
    {
     "name": "stdout",
     "output_type": "stream",
     "text": [
      "MSE on test Dataset: 11084.4059734 Iteration of Bagging: 81 / 200\n",
      "MSE on train Dataset: 2035.32286384 Iteration of Bagging: 81 / 200\n"
     ]
    },
    {
     "name": "stderr",
     "output_type": "stream",
     "text": [
      "Learning estimator number: 6/25; MSE error on train dataset: 103.284328727"
     ]
    },
    {
     "name": "stdout",
     "output_type": "stream",
     "text": [
      "MSE on test Dataset: 10828.6489292 Iteration of Bagging: 82 / 200\n",
      "MSE on train Dataset: 1997.52104641 Iteration of Bagging: 82 / 200\n"
     ]
    },
    {
     "name": "stderr",
     "output_type": "stream",
     "text": [
      "Learning estimator number: 5/25; MSE error on train dataset: 259.922658237"
     ]
    },
    {
     "name": "stdout",
     "output_type": "stream",
     "text": [
      "MSE on test Dataset: 10905.8246605 Iteration of Bagging: 83 / 200\n",
      "MSE on train Dataset: 2023.85917041 Iteration of Bagging: 83 / 200\n"
     ]
    },
    {
     "name": "stderr",
     "output_type": "stream",
     "text": [
      "Learning estimator number: 24/25; MSE error on train dataset: 111.480139718"
     ]
    },
    {
     "name": "stdout",
     "output_type": "stream",
     "text": [
      "MSE on test Dataset: 10803.9642267 Iteration of Bagging: 84 / 200\n",
      "MSE on train Dataset: 2022.34850564 Iteration of Bagging: 84 / 200\n"
     ]
    },
    {
     "name": "stderr",
     "output_type": "stream",
     "text": [
      "Learning estimator number: 4/25; MSE error on train dataset: 664.387149782"
     ]
    },
    {
     "name": "stdout",
     "output_type": "stream",
     "text": [
      "MSE on test Dataset: 10909.3578625 Iteration of Bagging: 85 / 200\n",
      "MSE on train Dataset: 2045.8833038 Iteration of Bagging: 85 / 200\n"
     ]
    },
    {
     "name": "stderr",
     "output_type": "stream",
     "text": [
      "Learning estimator number: 4/25; MSE error on train dataset: 422.469891363"
     ]
    },
    {
     "name": "stdout",
     "output_type": "stream",
     "text": [
      "MSE on test Dataset: 10859.536527 Iteration of Bagging: 86 / 200\n",
      "MSE on train Dataset: 2050.9534868 Iteration of Bagging: 86 / 200\n"
     ]
    },
    {
     "name": "stderr",
     "output_type": "stream",
     "text": [
      "Iteration of bagging:88/200"
     ]
    },
    {
     "name": "stdout",
     "output_type": "stream",
     "text": [
      "MSE on test Dataset: 10947.5155238 Iteration of Bagging: 87 / 200\n",
      "MSE on train Dataset: 2069.47766181 Iteration of Bagging: 87 / 200\n"
     ]
    },
    {
     "name": "stderr",
     "output_type": "stream",
     "text": [
      "Learning estimator number: 3/25; MSE error on train dataset: 265.173652961"
     ]
    },
    {
     "name": "stdout",
     "output_type": "stream",
     "text": [
      "MSE on test Dataset: 10864.3651221 Iteration of Bagging: 88 / 200\n",
      "MSE on train Dataset: 2025.0468569 Iteration of Bagging: 88 / 200\n"
     ]
    },
    {
     "name": "stderr",
     "output_type": "stream",
     "text": [
      "Learning estimator number: 1/25; MSE error on train dataset: 1286.51154682"
     ]
    },
    {
     "name": "stdout",
     "output_type": "stream",
     "text": [
      "MSE on test Dataset: 10958.6864137 Iteration of Bagging: 89 / 200\n",
      "MSE on train Dataset: 2047.07032388 Iteration of Bagging: 89 / 200\n"
     ]
    },
    {
     "name": "stderr",
     "output_type": "stream",
     "text": [
      "Learning estimator number: 3/25; MSE error on train dataset: 2520.66442182"
     ]
    },
    {
     "name": "stdout",
     "output_type": "stream",
     "text": [
      "MSE on test Dataset: 11058.3467946 Iteration of Bagging: 90 / 200\n",
      "MSE on train Dataset: 2062.88173359 Iteration of Bagging: 90 / 200\n"
     ]
    },
    {
     "name": "stderr",
     "output_type": "stream",
     "text": [
      "Iteration of bagging:92/200"
     ]
    },
    {
     "name": "stdout",
     "output_type": "stream",
     "text": [
      "MSE on test Dataset: 10932.59525 Iteration of Bagging: 91 / 200\n",
      "MSE on train Dataset: 2034.72759972 Iteration of Bagging: 91 / 200\n"
     ]
    },
    {
     "name": "stderr",
     "output_type": "stream",
     "text": [
      "Learning estimator number: 4/25; MSE error on train dataset: 237.534778734"
     ]
    },
    {
     "name": "stdout",
     "output_type": "stream",
     "text": [
      "MSE on test Dataset: 10985.0011904 Iteration of Bagging: 92 / 200\n",
      "MSE on train Dataset: 2036.79644749 Iteration of Bagging: 92 / 200\n"
     ]
    },
    {
     "name": "stderr",
     "output_type": "stream",
     "text": [
      "Learning estimator number: 3/25; MSE error on train dataset: 102.273199513"
     ]
    },
    {
     "name": "stdout",
     "output_type": "stream",
     "text": [
      "MSE on test Dataset: 10993.048861 Iteration of Bagging: 93 / 200\n",
      "MSE on train Dataset: 2056.2400947 Iteration of Bagging: 93 / 200\n"
     ]
    },
    {
     "name": "stderr",
     "output_type": "stream",
     "text": [
      "Iteration of bagging:95/200"
     ]
    },
    {
     "name": "stdout",
     "output_type": "stream",
     "text": [
      "MSE on test Dataset: 11083.4743227 Iteration of Bagging: 94 / 200\n",
      "MSE on train Dataset: 2082.50254918 Iteration of Bagging: 94 / 200\n"
     ]
    },
    {
     "name": "stderr",
     "output_type": "stream",
     "text": [
      "Learning estimator number: 2/25; MSE error on train dataset: 252.274427468"
     ]
    },
    {
     "name": "stdout",
     "output_type": "stream",
     "text": [
      "MSE on test Dataset: 11166.5830135 Iteration of Bagging: 95 / 200\n",
      "MSE on train Dataset: 2100.44445281 Iteration of Bagging: 95 / 200\n"
     ]
    },
    {
     "name": "stderr",
     "output_type": "stream",
     "text": [
      "Learning estimator number: 24/25; MSE error on train dataset: 35.7272462055"
     ]
    },
    {
     "name": "stdout",
     "output_type": "stream",
     "text": [
      "MSE on test Dataset: 11242.5515394 Iteration of Bagging: 96 / 200\n",
      "MSE on train Dataset: 2101.85828887 Iteration of Bagging: 96 / 200\n"
     ]
    },
    {
     "name": "stderr",
     "output_type": "stream",
     "text": [
      "Iteration of bagging:98/200"
     ]
    },
    {
     "name": "stdout",
     "output_type": "stream",
     "text": [
      "MSE on test Dataset: 11320.810322 Iteration of Bagging: 97 / 200\n",
      "MSE on train Dataset: 2129.97156248 Iteration of Bagging: 97 / 200\n"
     ]
    },
    {
     "name": "stderr",
     "output_type": "stream",
     "text": [
      "Learning estimator number: 1/25; MSE error on train dataset: 2312.91999363"
     ]
    },
    {
     "name": "stdout",
     "output_type": "stream",
     "text": [
      "MSE on test Dataset: 11013.1539006 Iteration of Bagging: 98 / 200\n",
      "MSE on train Dataset: 2093.30965153 Iteration of Bagging: 98 / 200\n"
     ]
    },
    {
     "name": "stderr",
     "output_type": "stream",
     "text": [
      "Learning estimator number: 5/25; MSE error on train dataset: 141.72973637"
     ]
    },
    {
     "name": "stdout",
     "output_type": "stream",
     "text": [
      "MSE on test Dataset: 10897.7669011 Iteration of Bagging: 99 / 200\n",
      "MSE on train Dataset: 2053.24975903 Iteration of Bagging: 99 / 200\n"
     ]
    },
    {
     "name": "stderr",
     "output_type": "stream",
     "text": [
      "Iteration of bagging:101/200"
     ]
    },
    {
     "name": "stdout",
     "output_type": "stream",
     "text": [
      "MSE on test Dataset: 10984.0865605 Iteration of Bagging: 100 / 200\n",
      "MSE on train Dataset: 2073.87678511 Iteration of Bagging: 100 / 200\n"
     ]
    },
    {
     "name": "stderr",
     "output_type": "stream",
     "text": [
      "Iteration of bagging:102/200"
     ]
    },
    {
     "name": "stdout",
     "output_type": "stream",
     "text": [
      "MSE on test Dataset: 11065.5587454 Iteration of Bagging: 101 / 200\n",
      "MSE on train Dataset: 2091.94831918 Iteration of Bagging: 101 / 200\n"
     ]
    },
    {
     "name": "stderr",
     "output_type": "stream",
     "text": [
      "Learning estimator number: 2/25; MSE error on train dataset: 838.527015447"
     ]
    },
    {
     "name": "stdout",
     "output_type": "stream",
     "text": [
      "MSE on test Dataset: 10891.3710752 Iteration of Bagging: 102 / 200\n",
      "MSE on train Dataset: 2057.99054816 Iteration of Bagging: 102 / 200\n"
     ]
    },
    {
     "name": "stderr",
     "output_type": "stream",
     "text": [
      "Learning estimator number: 4/25; MSE error on train dataset: 402.826955391"
     ]
    },
    {
     "name": "stdout",
     "output_type": "stream",
     "text": [
      "MSE on test Dataset: 10856.1390338 Iteration of Bagging: 103 / 200\n",
      "MSE on train Dataset: 2071.55025514 Iteration of Bagging: 103 / 200\n"
     ]
    },
    {
     "name": "stderr",
     "output_type": "stream",
     "text": [
      "Iteration of bagging:105/200"
     ]
    },
    {
     "name": "stdout",
     "output_type": "stream",
     "text": [
      "MSE on test Dataset: 10961.2543338 Iteration of Bagging: 104 / 200\n",
      "MSE on train Dataset: 2067.46684707 Iteration of Bagging: 104 / 200\n"
     ]
    },
    {
     "name": "stderr",
     "output_type": "stream",
     "text": [
      "Iteration of bagging:106/200"
     ]
    },
    {
     "name": "stdout",
     "output_type": "stream",
     "text": [
      "MSE on test Dataset: 11109.2932092 Iteration of Bagging: 105 / 200\n",
      "MSE on train Dataset: 2071.93857278 Iteration of Bagging: 105 / 200\n"
     ]
    },
    {
     "name": "stderr",
     "output_type": "stream",
     "text": [
      "Learning estimator number: 4/25; MSE error on train dataset: 366.111453548"
     ]
    },
    {
     "name": "stdout",
     "output_type": "stream",
     "text": [
      "MSE on test Dataset: 11104.2098991 Iteration of Bagging: 106 / 200\n",
      "MSE on train Dataset: 2056.05132585 Iteration of Bagging: 106 / 200\n"
     ]
    },
    {
     "name": "stderr",
     "output_type": "stream",
     "text": [
      "Learning estimator number: 1/25; MSE error on train dataset: 2068.01815341"
     ]
    },
    {
     "name": "stdout",
     "output_type": "stream",
     "text": [
      "MSE on test Dataset: 11165.8611534 Iteration of Bagging: 107 / 200\n",
      "MSE on train Dataset: 2078.15275606 Iteration of Bagging: 107 / 200\n"
     ]
    },
    {
     "name": "stderr",
     "output_type": "stream",
     "text": [
      "Learning estimator number: 3/25; MSE error on train dataset: 418.154037319"
     ]
    },
    {
     "name": "stdout",
     "output_type": "stream",
     "text": [
      "MSE on test Dataset: 11183.7442765 Iteration of Bagging: 108 / 200\n",
      "MSE on train Dataset: 2063.92079091 Iteration of Bagging: 108 / 200\n"
     ]
    },
    {
     "name": "stderr",
     "output_type": "stream",
     "text": [
      "Learning estimator number: 3/25; MSE error on train dataset: 316.854793445"
     ]
    },
    {
     "name": "stdout",
     "output_type": "stream",
     "text": [
      "MSE on test Dataset: 11276.3723107 Iteration of Bagging: 109 / 200\n",
      "MSE on train Dataset: 2067.50555604 Iteration of Bagging: 109 / 200\n"
     ]
    },
    {
     "name": "stderr",
     "output_type": "stream",
     "text": [
      "Iteration of bagging:111/200"
     ]
    },
    {
     "name": "stdout",
     "output_type": "stream",
     "text": [
      "MSE on test Dataset: 11361.9016959 Iteration of Bagging: 110 / 200\n",
      "MSE on train Dataset: 2086.99728949 Iteration of Bagging: 110 / 200\n"
     ]
    },
    {
     "name": "stderr",
     "output_type": "stream",
     "text": [
      "Learning estimator number: 1/25; MSE error on train dataset: 3210.38091325"
     ]
    },
    {
     "name": "stdout",
     "output_type": "stream",
     "text": [
      "MSE on test Dataset: 11089.8488496 Iteration of Bagging: 111 / 200\n",
      "MSE on train Dataset: 2059.18614899 Iteration of Bagging: 111 / 200\n"
     ]
    },
    {
     "name": "stderr",
     "output_type": "stream",
     "text": [
      "Learning estimator number: 3/25; MSE error on train dataset: 1437.53201244"
     ]
    },
    {
     "name": "stdout",
     "output_type": "stream",
     "text": [
      "MSE on test Dataset: 10933.4377066 Iteration of Bagging: 112 / 200\n",
      "MSE on train Dataset: 2022.01052784 Iteration of Bagging: 112 / 200\n"
     ]
    },
    {
     "name": "stderr",
     "output_type": "stream",
     "text": [
      "Learning estimator number: 3/25; MSE error on train dataset: 758.321958116"
     ]
    },
    {
     "name": "stdout",
     "output_type": "stream",
     "text": [
      "MSE on test Dataset: 10671.1064141 Iteration of Bagging: 113 / 200\n",
      "MSE on train Dataset: 1985.3126456 Iteration of Bagging: 113 / 200\n"
     ]
    },
    {
     "name": "stderr",
     "output_type": "stream",
     "text": [
      "Learning estimator number: 4/25; MSE error on train dataset: 3918.58906894"
     ]
    },
    {
     "name": "stdout",
     "output_type": "stream",
     "text": [
      "MSE on test Dataset: 10642.6288836 Iteration of Bagging: 114 / 200\n",
      "MSE on train Dataset: 1990.49216926 Iteration of Bagging: 114 / 200\n"
     ]
    },
    {
     "name": "stderr",
     "output_type": "stream",
     "text": [
      "Learning estimator number: 1/25; MSE error on train dataset: 474.756678388"
     ]
    },
    {
     "name": "stdout",
     "output_type": "stream",
     "text": [
      "MSE on test Dataset: 10681.063517 Iteration of Bagging: 115 / 200\n",
      "MSE on train Dataset: 1975.6905649 Iteration of Bagging: 115 / 200\n"
     ]
    },
    {
     "name": "stderr",
     "output_type": "stream",
     "text": [
      "Learning estimator number: 1/25; MSE error on train dataset: 178.293928822"
     ]
    },
    {
     "name": "stdout",
     "output_type": "stream",
     "text": [
      "MSE on test Dataset: 10743.1234047 Iteration of Bagging: 116 / 200\n",
      "MSE on train Dataset: 1982.8436607 Iteration of Bagging: 116 / 200\n"
     ]
    },
    {
     "name": "stderr",
     "output_type": "stream",
     "text": [
      "Learning estimator number: 24/25; MSE error on train dataset: 32.6337090261"
     ]
    },
    {
     "name": "stdout",
     "output_type": "stream",
     "text": [
      "MSE on test Dataset: 10810.7621161 Iteration of Bagging: 117 / 200\n",
      "MSE on train Dataset: 2001.14268255 Iteration of Bagging: 117 / 200\n"
     ]
    },
    {
     "name": "stderr",
     "output_type": "stream",
     "text": [
      "Iteration of bagging:119/200"
     ]
    },
    {
     "name": "stdout",
     "output_type": "stream",
     "text": [
      "MSE on test Dataset: 10799.7970261 Iteration of Bagging: 118 / 200\n",
      "MSE on train Dataset: 2015.31464656 Iteration of Bagging: 118 / 200\n"
     ]
    },
    {
     "name": "stderr",
     "output_type": "stream",
     "text": [
      "Learning estimator number: 3/25; MSE error on train dataset: 68.4889678628"
     ]
    },
    {
     "name": "stdout",
     "output_type": "stream",
     "text": [
      "MSE on test Dataset: 10799.2310686 Iteration of Bagging: 119 / 200\n",
      "MSE on train Dataset: 2000.75792009 Iteration of Bagging: 119 / 200\n"
     ]
    },
    {
     "name": "stderr",
     "output_type": "stream",
     "text": [
      "Learning estimator number: 7/25; MSE error on train dataset: 736.216632571"
     ]
    },
    {
     "name": "stdout",
     "output_type": "stream",
     "text": [
      "MSE on test Dataset: 10859.6468735 Iteration of Bagging: 120 / 200\n",
      "MSE on train Dataset: 2018.60922163 Iteration of Bagging: 120 / 200\n"
     ]
    },
    {
     "name": "stderr",
     "output_type": "stream",
     "text": [
      "Learning estimator number: 3/25; MSE error on train dataset: 4394.63431093"
     ]
    },
    {
     "name": "stdout",
     "output_type": "stream",
     "text": [
      "MSE on test Dataset: 10809.5380574 Iteration of Bagging: 121 / 200\n",
      "MSE on train Dataset: 2021.69807924 Iteration of Bagging: 121 / 200\n"
     ]
    },
    {
     "name": "stderr",
     "output_type": "stream",
     "text": [
      "Learning estimator number: 4/25; MSE error on train dataset: 3559.15592268"
     ]
    },
    {
     "name": "stdout",
     "output_type": "stream",
     "text": [
      "MSE on test Dataset: 10751.3977765 Iteration of Bagging: 122 / 200\n",
      "MSE on train Dataset: 1999.918891 Iteration of Bagging: 122 / 200\n"
     ]
    },
    {
     "name": "stderr",
     "output_type": "stream",
     "text": [
      "Learning estimator number: 2/25; MSE error on train dataset: 527.209009751"
     ]
    },
    {
     "name": "stdout",
     "output_type": "stream",
     "text": [
      "MSE on test Dataset: 10535.1891284 Iteration of Bagging: 123 / 200\n",
      "MSE on train Dataset: 1967.99849236 Iteration of Bagging: 123 / 200\n"
     ]
    },
    {
     "name": "stderr",
     "output_type": "stream",
     "text": [
      "Learning estimator number: 5/25; MSE error on train dataset: 3463.49489942"
     ]
    },
    {
     "name": "stdout",
     "output_type": "stream",
     "text": [
      "MSE on test Dataset: 10609.5883432 Iteration of Bagging: 124 / 200\n",
      "MSE on train Dataset: 1983.95365756 Iteration of Bagging: 124 / 200\n"
     ]
    },
    {
     "name": "stderr",
     "output_type": "stream",
     "text": [
      "Iteration of bagging:126/200"
     ]
    },
    {
     "name": "stdout",
     "output_type": "stream",
     "text": [
      "MSE on test Dataset: 10647.3962801 Iteration of Bagging: 125 / 200\n",
      "MSE on train Dataset: 1964.15367066 Iteration of Bagging: 125 / 200\n"
     ]
    },
    {
     "name": "stderr",
     "output_type": "stream",
     "text": [
      "Learning estimator number: 3/25; MSE error on train dataset: 103.558720858"
     ]
    },
    {
     "name": "stdout",
     "output_type": "stream",
     "text": [
      "MSE on test Dataset: 10517.6671346 Iteration of Bagging: 126 / 200\n",
      "MSE on train Dataset: 1938.01479595 Iteration of Bagging: 126 / 200\n"
     ]
    },
    {
     "name": "stderr",
     "output_type": "stream",
     "text": [
      "Iteration of bagging:128/200"
     ]
    },
    {
     "name": "stdout",
     "output_type": "stream",
     "text": [
      "MSE on test Dataset: 10584.4858079 Iteration of Bagging: 127 / 200\n",
      "MSE on train Dataset: 1955.61205101 Iteration of Bagging: 127 / 200\n"
     ]
    },
    {
     "name": "stderr",
     "output_type": "stream",
     "text": [
      "Learning estimator number: 3/25; MSE error on train dataset: 113.896625899"
     ]
    },
    {
     "name": "stdout",
     "output_type": "stream",
     "text": [
      "MSE on test Dataset: 10443.7778429 Iteration of Bagging: 128 / 200\n",
      "MSE on train Dataset: 1931.45843736 Iteration of Bagging: 128 / 200\n"
     ]
    },
    {
     "name": "stderr",
     "output_type": "stream",
     "text": [
      "Iteration of bagging:130/200"
     ]
    },
    {
     "name": "stdout",
     "output_type": "stream",
     "text": [
      "MSE on test Dataset: 10499.2379643 Iteration of Bagging: 129 / 200\n",
      "MSE on train Dataset: 1933.93455101 Iteration of Bagging: 129 / 200\n"
     ]
    },
    {
     "name": "stderr",
     "output_type": "stream",
     "text": [
      "Iteration of bagging:131/200"
     ]
    },
    {
     "name": "stdout",
     "output_type": "stream",
     "text": [
      "MSE on test Dataset: 10324.9547281 Iteration of Bagging: 130 / 200\n",
      "MSE on train Dataset: 1906.44258495 Iteration of Bagging: 130 / 200\n"
     ]
    },
    {
     "name": "stderr",
     "output_type": "stream",
     "text": [
      "Learning estimator number: 1/25; MSE error on train dataset: 1906.96811221"
     ]
    },
    {
     "name": "stdout",
     "output_type": "stream",
     "text": [
      "MSE on test Dataset: 10308.0937355 Iteration of Bagging: 131 / 200\n",
      "MSE on train Dataset: 1909.67101759 Iteration of Bagging: 131 / 200\n"
     ]
    },
    {
     "name": "stderr",
     "output_type": "stream",
     "text": [
      "Learning estimator number: 1/25; MSE error on train dataset: 368.345226287"
     ]
    },
    {
     "name": "stdout",
     "output_type": "stream",
     "text": [
      "MSE on test Dataset: 10307.3434782 Iteration of Bagging: 132 / 200\n",
      "MSE on train Dataset: 1896.08481718 Iteration of Bagging: 132 / 200\n"
     ]
    },
    {
     "name": "stderr",
     "output_type": "stream",
     "text": [
      "Learning estimator number: 2/25; MSE error on train dataset: 560.256481317"
     ]
    },
    {
     "name": "stdout",
     "output_type": "stream",
     "text": [
      "MSE on test Dataset: 10321.7079058 Iteration of Bagging: 133 / 200\n",
      "MSE on train Dataset: 1904.64379188 Iteration of Bagging: 133 / 200\n"
     ]
    },
    {
     "name": "stderr",
     "output_type": "stream",
     "text": [
      "Learning estimator number: 4/25; MSE error on train dataset: 349.251284948"
     ]
    },
    {
     "name": "stdout",
     "output_type": "stream",
     "text": [
      "MSE on test Dataset: 10403.2993766 Iteration of Bagging: 134 / 200\n",
      "MSE on train Dataset: 1902.4879273 Iteration of Bagging: 134 / 200\n"
     ]
    },
    {
     "name": "stderr",
     "output_type": "stream",
     "text": [
      "Iteration of bagging:136/200"
     ]
    },
    {
     "name": "stdout",
     "output_type": "stream",
     "text": [
      "MSE on test Dataset: 10371.9596878 Iteration of Bagging: 135 / 200\n",
      "MSE on train Dataset: 1911.59015757 Iteration of Bagging: 135 / 200\n"
     ]
    },
    {
     "name": "stderr",
     "output_type": "stream",
     "text": [
      "Learning estimator number: 24/25; MSE error on train dataset: 87.0501632851"
     ]
    },
    {
     "name": "stdout",
     "output_type": "stream",
     "text": [
      "MSE on test Dataset: 10435.8045061 Iteration of Bagging: 136 / 200\n",
      "MSE on train Dataset: 1911.21731305 Iteration of Bagging: 136 / 200\n"
     ]
    },
    {
     "name": "stderr",
     "output_type": "stream",
     "text": [
      "Iteration of bagging:138/200"
     ]
    },
    {
     "name": "stdout",
     "output_type": "stream",
     "text": [
      "MSE on test Dataset: 10271.4951494 Iteration of Bagging: 137 / 200\n",
      "MSE on train Dataset: 1895.50855385 Iteration of Bagging: 137 / 200\n"
     ]
    },
    {
     "name": "stderr",
     "output_type": "stream",
     "text": [
      "Learning estimator number: 2/25; MSE error on train dataset: 4441.27252178"
     ]
    },
    {
     "name": "stdout",
     "output_type": "stream",
     "text": [
      "MSE on test Dataset: 10322.6112174 Iteration of Bagging: 138 / 200\n",
      "MSE on train Dataset: 1907.19726565 Iteration of Bagging: 138 / 200\n"
     ]
    },
    {
     "name": "stderr",
     "output_type": "stream",
     "text": [
      "Learning estimator number: 4/25; MSE error on train dataset: 2752.62515898"
     ]
    },
    {
     "name": "stdout",
     "output_type": "stream",
     "text": [
      "MSE on test Dataset: 10265.4643341 Iteration of Bagging: 139 / 200\n",
      "MSE on train Dataset: 1898.07366896 Iteration of Bagging: 139 / 200\n"
     ]
    },
    {
     "name": "stderr",
     "output_type": "stream",
     "text": [
      "Iteration of bagging:141/200"
     ]
    },
    {
     "name": "stdout",
     "output_type": "stream",
     "text": [
      "MSE on test Dataset: 10172.5990427 Iteration of Bagging: 140 / 200\n",
      "MSE on train Dataset: 1882.28153608 Iteration of Bagging: 140 / 200\n"
     ]
    },
    {
     "name": "stderr",
     "output_type": "stream",
     "text": [
      "Learning estimator number: 4/25; MSE error on train dataset: 1122.85857897"
     ]
    },
    {
     "name": "stdout",
     "output_type": "stream",
     "text": [
      "MSE on test Dataset: 10230.3761922 Iteration of Bagging: 141 / 200\n",
      "MSE on train Dataset: 1871.62418018 Iteration of Bagging: 141 / 200\n"
     ]
    },
    {
     "name": "stderr",
     "output_type": "stream",
     "text": [
      "Iteration of bagging:143/200"
     ]
    },
    {
     "name": "stdout",
     "output_type": "stream",
     "text": [
      "MSE on test Dataset: 10028.835121 Iteration of Bagging: 142 / 200\n",
      "MSE on train Dataset: 1843.71549423 Iteration of Bagging: 142 / 200\n"
     ]
    },
    {
     "name": "stderr",
     "output_type": "stream",
     "text": [
      "Learning estimator number: 5/25; MSE error on train dataset: 1084.73882811"
     ]
    },
    {
     "name": "stdout",
     "output_type": "stream",
     "text": [
      "MSE on test Dataset: 10017.3469696 Iteration of Bagging: 143 / 200\n",
      "MSE on train Dataset: 1815.26243276 Iteration of Bagging: 143 / 200\n"
     ]
    },
    {
     "name": "stderr",
     "output_type": "stream",
     "text": [
      "Learning estimator number: 3/25; MSE error on train dataset: 65.590398375"
     ]
    },
    {
     "name": "stdout",
     "output_type": "stream",
     "text": [
      "MSE on test Dataset: 10017.5971995 Iteration of Bagging: 144 / 200\n",
      "MSE on train Dataset: 1792.6092433 Iteration of Bagging: 144 / 200\n"
     ]
    },
    {
     "name": "stderr",
     "output_type": "stream",
     "text": [
      "Learning estimator number: 24/25; MSE error on train dataset: 26.6703938948"
     ]
    },
    {
     "name": "stdout",
     "output_type": "stream",
     "text": [
      "MSE on test Dataset: 10068.4163319 Iteration of Bagging: 145 / 200\n",
      "MSE on train Dataset: 1807.23368388 Iteration of Bagging: 145 / 200\n"
     ]
    },
    {
     "name": "stderr",
     "output_type": "stream",
     "text": [
      "Learning estimator number: 2/25; MSE error on train dataset: 158.763755715"
     ]
    },
    {
     "name": "stdout",
     "output_type": "stream",
     "text": [
      "MSE on test Dataset: 10034.7794157 Iteration of Bagging: 146 / 200\n",
      "MSE on train Dataset: 1811.10468589 Iteration of Bagging: 146 / 200\n"
     ]
    },
    {
     "name": "stderr",
     "output_type": "stream",
     "text": [
      "Learning estimator number: 2/25; MSE error on train dataset: 233.254868758"
     ]
    },
    {
     "name": "stdout",
     "output_type": "stream",
     "text": [
      "MSE on test Dataset: 10069.1158332 Iteration of Bagging: 147 / 200\n",
      "MSE on train Dataset: 1825.29243479 Iteration of Bagging: 147 / 200\n"
     ]
    },
    {
     "name": "stderr",
     "output_type": "stream",
     "text": [
      "Iteration of bagging:149/200"
     ]
    },
    {
     "name": "stdout",
     "output_type": "stream",
     "text": [
      "MSE on test Dataset: 10124.8138648 Iteration of Bagging: 148 / 200\n",
      "MSE on train Dataset: 1827.74079704 Iteration of Bagging: 148 / 200\n"
     ]
    },
    {
     "name": "stderr",
     "output_type": "stream",
     "text": [
      "Learning estimator number: 2/25; MSE error on train dataset: 1934.58884514"
     ]
    },
    {
     "name": "stdout",
     "output_type": "stream",
     "text": [
      "MSE on test Dataset: 9973.80172159 Iteration of Bagging: 149 / 200\n",
      "MSE on train Dataset: 1807.53113688 Iteration of Bagging: 149 / 200\n"
     ]
    },
    {
     "name": "stderr",
     "output_type": "stream",
     "text": [
      "Iteration of bagging:151/200"
     ]
    },
    {
     "name": "stdout",
     "output_type": "stream",
     "text": [
      "MSE on test Dataset: 9813.81129919 Iteration of Bagging: 150 / 200\n",
      "MSE on train Dataset: 1785.55601102 Iteration of Bagging: 150 / 200\n"
     ]
    },
    {
     "name": "stderr",
     "output_type": "stream",
     "text": [
      "Iteration of bagging:152/200"
     ]
    },
    {
     "name": "stdout",
     "output_type": "stream",
     "text": [
      "MSE on test Dataset: 9823.41603065 Iteration of Bagging: 151 / 200\n",
      "MSE on train Dataset: 1796.92554543 Iteration of Bagging: 151 / 200\n"
     ]
    },
    {
     "name": "stderr",
     "output_type": "stream",
     "text": [
      "Learning estimator number: 3/25; MSE error on train dataset: 114.070011228"
     ]
    },
    {
     "name": "stdout",
     "output_type": "stream",
     "text": [
      "MSE on test Dataset: 9889.31789994 Iteration of Bagging: 152 / 200\n",
      "MSE on train Dataset: 1797.92350962 Iteration of Bagging: 152 / 200\n"
     ]
    },
    {
     "name": "stderr",
     "output_type": "stream",
     "text": [
      "Learning estimator number: 2/25; MSE error on train dataset: 794.709298589"
     ]
    },
    {
     "name": "stdout",
     "output_type": "stream",
     "text": [
      "MSE on test Dataset: 9948.0072717 Iteration of Bagging: 153 / 200\n",
      "MSE on train Dataset: 1811.45690596 Iteration of Bagging: 153 / 200\n"
     ]
    },
    {
     "name": "stderr",
     "output_type": "stream",
     "text": [
      "Learning estimator number: 4/25; MSE error on train dataset: 120.889197467"
     ]
    },
    {
     "name": "stdout",
     "output_type": "stream",
     "text": [
      "MSE on test Dataset: 9923.14838493 Iteration of Bagging: 154 / 200\n",
      "MSE on train Dataset: 1816.80904281 Iteration of Bagging: 154 / 200\n"
     ]
    },
    {
     "name": "stderr",
     "output_type": "stream",
     "text": [
      "Learning estimator number: 4/25; MSE error on train dataset: 121.956680343"
     ]
    },
    {
     "name": "stdout",
     "output_type": "stream",
     "text": [
      "MSE on test Dataset: 9974.27520125 Iteration of Bagging: 155 / 200\n",
      "MSE on train Dataset: 1820.56477371 Iteration of Bagging: 155 / 200\n"
     ]
    },
    {
     "name": "stderr",
     "output_type": "stream",
     "text": [
      "Iteration of bagging:157/200"
     ]
    },
    {
     "name": "stdout",
     "output_type": "stream",
     "text": [
      "MSE on test Dataset: 10034.1968572 Iteration of Bagging: 156 / 200\n",
      "MSE on train Dataset: 1834.17101127 Iteration of Bagging: 156 / 200\n"
     ]
    },
    {
     "name": "stderr",
     "output_type": "stream",
     "text": [
      "Learning estimator number: 4/25; MSE error on train dataset: 246.668275527"
     ]
    },
    {
     "name": "stdout",
     "output_type": "stream",
     "text": [
      "MSE on test Dataset: 10086.9583853 Iteration of Bagging: 157 / 200\n",
      "MSE on train Dataset: 1825.30935003 Iteration of Bagging: 157 / 200\n"
     ]
    },
    {
     "name": "stderr",
     "output_type": "stream",
     "text": [
      "Learning estimator number: 1/25; MSE error on train dataset: 164.322684639"
     ]
    },
    {
     "name": "stdout",
     "output_type": "stream",
     "text": [
      "MSE on test Dataset: 10179.3307248 Iteration of Bagging: 158 / 200\n",
      "MSE on train Dataset: 1807.85675779 Iteration of Bagging: 158 / 200\n"
     ]
    },
    {
     "name": "stderr",
     "output_type": "stream",
     "text": [
      "Iteration of bagging:160/200"
     ]
    },
    {
     "name": "stdout",
     "output_type": "stream",
     "text": [
      "MSE on test Dataset: 10238.265066 Iteration of Bagging: 159 / 200\n",
      "MSE on train Dataset: 1821.20675369 Iteration of Bagging: 159 / 200\n"
     ]
    },
    {
     "name": "stderr",
     "output_type": "stream",
     "text": [
      "Learning estimator number: 1/25; MSE error on train dataset: 187.461314766"
     ]
    },
    {
     "name": "stdout",
     "output_type": "stream",
     "text": [
      "MSE on test Dataset: 10100.4890641 Iteration of Bagging: 160 / 200\n",
      "MSE on train Dataset: 1800.10728791 Iteration of Bagging: 160 / 200\n"
     ]
    },
    {
     "name": "stderr",
     "output_type": "stream",
     "text": [
      "Learning estimator number: 3/25; MSE error on train dataset: 2587.29498145"
     ]
    },
    {
     "name": "stdout",
     "output_type": "stream",
     "text": [
      "MSE on test Dataset: 10142.0792957 Iteration of Bagging: 161 / 200\n",
      "MSE on train Dataset: 1806.99227627 Iteration of Bagging: 161 / 200\n"
     ]
    },
    {
     "name": "stderr",
     "output_type": "stream",
     "text": [
      "Learning estimator number: 5/25; MSE error on train dataset: 1295.78821823"
     ]
    },
    {
     "name": "stdout",
     "output_type": "stream",
     "text": [
      "MSE on test Dataset: 10031.870836 Iteration of Bagging: 162 / 200\n",
      "MSE on train Dataset: 1790.52965329 Iteration of Bagging: 162 / 200\n"
     ]
    },
    {
     "name": "stderr",
     "output_type": "stream",
     "text": [
      "Iteration of bagging:164/200"
     ]
    },
    {
     "name": "stdout",
     "output_type": "stream",
     "text": [
      "MSE on test Dataset: 9866.00625775 Iteration of Bagging: 163 / 200\n",
      "MSE on train Dataset: 1771.88130133 Iteration of Bagging: 163 / 200\n"
     ]
    },
    {
     "name": "stderr",
     "output_type": "stream",
     "text": [
      "Learning estimator number: 4/25; MSE error on train dataset: 1641.38147509"
     ]
    },
    {
     "name": "stdout",
     "output_type": "stream",
     "text": [
      "MSE on test Dataset: 9706.72387504 Iteration of Bagging: 164 / 200\n",
      "MSE on train Dataset: 1754.4555982 Iteration of Bagging: 164 / 200\n"
     ]
    },
    {
     "name": "stderr",
     "output_type": "stream",
     "text": [
      "Learning estimator number: 2/25; MSE error on train dataset: 1643.24114365"
     ]
    },
    {
     "name": "stdout",
     "output_type": "stream",
     "text": [
      "MSE on test Dataset: 9555.22653719 Iteration of Bagging: 165 / 200\n",
      "MSE on train Dataset: 1737.26686373 Iteration of Bagging: 165 / 200\n"
     ]
    },
    {
     "name": "stderr",
     "output_type": "stream",
     "text": [
      "Learning estimator number: 4/25; MSE error on train dataset: 315.911239824"
     ]
    },
    {
     "name": "stdout",
     "output_type": "stream",
     "text": [
      "MSE on test Dataset: 9594.0719578 Iteration of Bagging: 166 / 200\n",
      "MSE on train Dataset: 1732.23632861 Iteration of Bagging: 166 / 200\n"
     ]
    },
    {
     "name": "stderr",
     "output_type": "stream",
     "text": [
      "Learning estimator number: 4/25; MSE error on train dataset: 89.7561085889"
     ]
    },
    {
     "name": "stdout",
     "output_type": "stream",
     "text": [
      "MSE on test Dataset: 9613.18417566 Iteration of Bagging: 167 / 200\n",
      "MSE on train Dataset: 1741.55290541 Iteration of Bagging: 167 / 200\n"
     ]
    },
    {
     "name": "stderr",
     "output_type": "stream",
     "text": [
      "Learning estimator number: 24/25; MSE error on train dataset: 16.168756863"
     ]
    },
    {
     "name": "stdout",
     "output_type": "stream",
     "text": [
      "MSE on test Dataset: 9662.80701299 Iteration of Bagging: 168 / 200\n",
      "MSE on train Dataset: 1753.74632315 Iteration of Bagging: 168 / 200\n"
     ]
    },
    {
     "name": "stderr",
     "output_type": "stream",
     "text": [
      "Learning estimator number: 1/25; MSE error on train dataset: 1107.91814346"
     ]
    },
    {
     "name": "stdout",
     "output_type": "stream",
     "text": [
      "MSE on test Dataset: 9541.91028269 Iteration of Bagging: 169 / 200\n",
      "MSE on train Dataset: 1730.72340587 Iteration of Bagging: 169 / 200\n"
     ]
    },
    {
     "name": "stderr",
     "output_type": "stream",
     "text": [
      "Learning estimator number: 1/25; MSE error on train dataset: 446.852503293"
     ]
    },
    {
     "name": "stdout",
     "output_type": "stream",
     "text": [
      "MSE on test Dataset: 9606.89796794 Iteration of Bagging: 170 / 200\n",
      "MSE on train Dataset: 1736.10821245 Iteration of Bagging: 170 / 200\n"
     ]
    },
    {
     "name": "stderr",
     "output_type": "stream",
     "text": [
      "Learning estimator number: 4/25; MSE error on train dataset: 1355.83835289"
     ]
    },
    {
     "name": "stdout",
     "output_type": "stream",
     "text": [
      "MSE on test Dataset: 9658.75434175 Iteration of Bagging: 171 / 200\n",
      "MSE on train Dataset: 1746.2645901 Iteration of Bagging: 171 / 200\n"
     ]
    },
    {
     "name": "stderr",
     "output_type": "stream",
     "text": [
      "Learning estimator number: 2/25; MSE error on train dataset: 894.974005145"
     ]
    },
    {
     "name": "stdout",
     "output_type": "stream",
     "text": [
      "MSE on test Dataset: 9547.63789727 Iteration of Bagging: 172 / 200\n",
      "MSE on train Dataset: 1727.56916541 Iteration of Bagging: 172 / 200\n"
     ]
    },
    {
     "name": "stderr",
     "output_type": "stream",
     "text": [
      "Learning estimator number: 3/25; MSE error on train dataset: 76.4640635531"
     ]
    },
    {
     "name": "stdout",
     "output_type": "stream",
     "text": [
      "MSE on test Dataset: 9582.97057828 Iteration of Bagging: 173 / 200\n",
      "MSE on train Dataset: 1731.86259819 Iteration of Bagging: 173 / 200\n"
     ]
    },
    {
     "name": "stderr",
     "output_type": "stream",
     "text": [
      "Learning estimator number: 2/25; MSE error on train dataset: 1152.43199583"
     ]
    },
    {
     "name": "stdout",
     "output_type": "stream",
     "text": [
      "MSE on test Dataset: 9633.44727336 Iteration of Bagging: 174 / 200\n",
      "MSE on train Dataset: 1743.29637843 Iteration of Bagging: 174 / 200\n"
     ]
    },
    {
     "name": "stderr",
     "output_type": "stream",
     "text": [
      "Learning estimator number: 24/25; MSE error on train dataset: 1064.9926969"
     ]
    },
    {
     "name": "stdout",
     "output_type": "stream",
     "text": [
      "MSE on test Dataset: 9679.42422273 Iteration of Bagging: 175 / 200\n",
      "MSE on train Dataset: 1753.64076792 Iteration of Bagging: 175 / 200\n"
     ]
    },
    {
     "name": "stderr",
     "output_type": "stream",
     "text": [
      "Iteration of bagging:177/200"
     ]
    },
    {
     "name": "stdout",
     "output_type": "stream",
     "text": [
      "MSE on test Dataset: 9708.91527276 Iteration of Bagging: 176 / 200\n",
      "MSE on train Dataset: 1766.46055984 Iteration of Bagging: 176 / 200\n"
     ]
    },
    {
     "name": "stderr",
     "output_type": "stream",
     "text": [
      "Learning estimator number: 1/25; MSE error on train dataset: 2453.14879485"
     ]
    },
    {
     "name": "stdout",
     "output_type": "stream",
     "text": [
      "MSE on test Dataset: 9738.04801925 Iteration of Bagging: 177 / 200\n",
      "MSE on train Dataset: 1778.1109221 Iteration of Bagging: 177 / 200\n"
     ]
    },
    {
     "name": "stderr",
     "output_type": "stream",
     "text": [
      "Iteration of bagging:179/200"
     ]
    },
    {
     "name": "stdout",
     "output_type": "stream",
     "text": [
      "MSE on test Dataset: 9688.25603687 Iteration of Bagging: 178 / 200\n",
      "MSE on train Dataset: 1760.47007871 Iteration of Bagging: 178 / 200\n"
     ]
    },
    {
     "name": "stderr",
     "output_type": "stream",
     "text": [
      "Learning estimator number: 2/25; MSE error on train dataset: 5004.05289971"
     ]
    },
    {
     "name": "stdout",
     "output_type": "stream",
     "text": [
      "MSE on test Dataset: 9649.59438476 Iteration of Bagging: 179 / 200\n",
      "MSE on train Dataset: 1749.44859292 Iteration of Bagging: 179 / 200\n"
     ]
    },
    {
     "name": "stderr",
     "output_type": "stream",
     "text": [
      "Iteration of bagging:181/200"
     ]
    },
    {
     "name": "stdout",
     "output_type": "stream",
     "text": [
      "MSE on test Dataset: 9663.94427341 Iteration of Bagging: 180 / 200\n",
      "MSE on train Dataset: 1745.87047842 Iteration of Bagging: 180 / 200\n"
     ]
    },
    {
     "name": "stderr",
     "output_type": "stream",
     "text": [
      "Learning estimator number: 4/25; MSE error on train dataset: 398.634261674"
     ]
    },
    {
     "name": "stdout",
     "output_type": "stream",
     "text": [
      "MSE on test Dataset: 9662.21240318 Iteration of Bagging: 181 / 200\n",
      "MSE on train Dataset: 1753.25340946 Iteration of Bagging: 181 / 200\n"
     ]
    },
    {
     "name": "stderr",
     "output_type": "stream",
     "text": [
      "Iteration of bagging:183/200"
     ]
    },
    {
     "name": "stdout",
     "output_type": "stream",
     "text": [
      "MSE on test Dataset: 9694.91044859 Iteration of Bagging: 182 / 200\n",
      "MSE on train Dataset: 1762.50495969 Iteration of Bagging: 182 / 200\n"
     ]
    },
    {
     "name": "stderr",
     "output_type": "stream",
     "text": [
      "Learning estimator number: 1/25; MSE error on train dataset: 1887.51008917"
     ]
    },
    {
     "name": "stdout",
     "output_type": "stream",
     "text": [
      "MSE on test Dataset: 9744.9324087 Iteration of Bagging: 183 / 200\n",
      "MSE on train Dataset: 1773.52681104 Iteration of Bagging: 183 / 200\n"
     ]
    },
    {
     "name": "stderr",
     "output_type": "stream",
     "text": [
      "Learning estimator number: 3/25; MSE error on train dataset: 1529.96007403"
     ]
    },
    {
     "name": "stdout",
     "output_type": "stream",
     "text": [
      "MSE on test Dataset: 9736.4372591 Iteration of Bagging: 184 / 200\n",
      "MSE on train Dataset: 1765.12835822 Iteration of Bagging: 184 / 200\n"
     ]
    },
    {
     "name": "stderr",
     "output_type": "stream",
     "text": [
      "Learning estimator number: 4/25; MSE error on train dataset: 118.67663833"
     ]
    },
    {
     "name": "stdout",
     "output_type": "stream",
     "text": [
      "MSE on test Dataset: 9615.9415394 Iteration of Bagging: 185 / 200\n",
      "MSE on train Dataset: 1748.53420147 Iteration of Bagging: 185 / 200\n"
     ]
    },
    {
     "name": "stderr",
     "output_type": "stream",
     "text": [
      "Learning estimator number: 3/25; MSE error on train dataset: 89.5779148488"
     ]
    },
    {
     "name": "stdout",
     "output_type": "stream",
     "text": [
      "MSE on test Dataset: 9659.41310258 Iteration of Bagging: 186 / 200\n",
      "MSE on train Dataset: 1760.47548813 Iteration of Bagging: 186 / 200\n"
     ]
    },
    {
     "name": "stderr",
     "output_type": "stream",
     "text": [
      "Learning estimator number: 4/25; MSE error on train dataset: 1362.58744731"
     ]
    },
    {
     "name": "stdout",
     "output_type": "stream",
     "text": [
      "MSE on test Dataset: 9704.45437015 Iteration of Bagging: 187 / 200\n",
      "MSE on train Dataset: 1771.77057716 Iteration of Bagging: 187 / 200\n"
     ]
    },
    {
     "name": "stderr",
     "output_type": "stream",
     "text": [
      "Iteration of bagging:189/200"
     ]
    },
    {
     "name": "stdout",
     "output_type": "stream",
     "text": [
      "MSE on test Dataset: 9592.99372527 Iteration of Bagging: 188 / 200\n",
      "MSE on train Dataset: 1753.89707553 Iteration of Bagging: 188 / 200\n"
     ]
    },
    {
     "name": "stderr",
     "output_type": "stream",
     "text": [
      "Learning estimator number: 4/25; MSE error on train dataset: 116.357905306"
     ]
    },
    {
     "name": "stdout",
     "output_type": "stream",
     "text": [
      "MSE on test Dataset: 9633.14537072 Iteration of Bagging: 189 / 200\n",
      "MSE on train Dataset: 1763.00367904 Iteration of Bagging: 189 / 200\n"
     ]
    },
    {
     "name": "stderr",
     "output_type": "stream",
     "text": [
      "Learning estimator number: 24/25; MSE error on train dataset: 29.5406973072"
     ]
    },
    {
     "name": "stdout",
     "output_type": "stream",
     "text": [
      "MSE on test Dataset: 9681.21558156 Iteration of Bagging: 190 / 200\n",
      "MSE on train Dataset: 1774.19669762 Iteration of Bagging: 190 / 200\n"
     ]
    },
    {
     "name": "stderr",
     "output_type": "stream",
     "text": [
      "Iteration of bagging:192/200"
     ]
    },
    {
     "name": "stdout",
     "output_type": "stream",
     "text": [
      "MSE on test Dataset: 9733.15066485 Iteration of Bagging: 191 / 200\n",
      "MSE on train Dataset: 1786.54195205 Iteration of Bagging: 191 / 200\n"
     ]
    },
    {
     "name": "stderr",
     "output_type": "stream",
     "text": [
      "Learning estimator number: 4/25; MSE error on train dataset: 68.1044013444"
     ]
    },
    {
     "name": "stdout",
     "output_type": "stream",
     "text": [
      "MSE on test Dataset: 9805.83156222 Iteration of Bagging: 192 / 200\n",
      "MSE on train Dataset: 1792.21381512 Iteration of Bagging: 192 / 200\n"
     ]
    },
    {
     "name": "stderr",
     "output_type": "stream",
     "text": [
      "Iteration of bagging:194/200"
     ]
    },
    {
     "name": "stdout",
     "output_type": "stream",
     "text": [
      "MSE on test Dataset: 9844.93254353 Iteration of Bagging: 193 / 200\n",
      "MSE on train Dataset: 1801.50121487 Iteration of Bagging: 193 / 200\n"
     ]
    },
    {
     "name": "stderr",
     "output_type": "stream",
     "text": [
      "Learning estimator number: 3/25; MSE error on train dataset: 91.2819642111"
     ]
    },
    {
     "name": "stdout",
     "output_type": "stream",
     "text": [
      "MSE on test Dataset: 9708.23923299 Iteration of Bagging: 194 / 200\n",
      "MSE on train Dataset: 1786.60853792 Iteration of Bagging: 194 / 200\n"
     ]
    },
    {
     "name": "stderr",
     "output_type": "stream",
     "text": [
      "Learning estimator number: 1/25; MSE error on train dataset: 133.408967982"
     ]
    },
    {
     "name": "stdout",
     "output_type": "stream",
     "text": [
      "MSE on test Dataset: 9748.05085254 Iteration of Bagging: 195 / 200\n",
      "MSE on train Dataset: 1797.29755288 Iteration of Bagging: 195 / 200\n"
     ]
    },
    {
     "name": "stderr",
     "output_type": "stream",
     "text": [
      "Learning estimator number: 3/25; MSE error on train dataset: 1762.88589882"
     ]
    },
    {
     "name": "stdout",
     "output_type": "stream",
     "text": [
      "MSE on test Dataset: 9793.48350299 Iteration of Bagging: 196 / 200\n",
      "MSE on train Dataset: 1807.64600049 Iteration of Bagging: 196 / 200\n"
     ]
    },
    {
     "name": "stderr",
     "output_type": "stream",
     "text": [
      "Iteration of bagging:198/200"
     ]
    },
    {
     "name": "stdout",
     "output_type": "stream",
     "text": [
      "MSE on test Dataset: 9683.08890686 Iteration of Bagging: 197 / 200\n",
      "MSE on train Dataset: 1791.96078313 Iteration of Bagging: 197 / 200\n"
     ]
    },
    {
     "name": "stderr",
     "output_type": "stream",
     "text": [
      "Learning estimator number: 4/25; MSE error on train dataset: 429.663055402"
     ]
    },
    {
     "name": "stdout",
     "output_type": "stream",
     "text": [
      "MSE on test Dataset: 9723.74781353 Iteration of Bagging: 198 / 200\n",
      "MSE on train Dataset: 1801.89962919 Iteration of Bagging: 198 / 200\n"
     ]
    },
    {
     "name": "stderr",
     "output_type": "stream",
     "text": [
      "Learning estimator number: 1/35; MSE error on train dataset: 1341.98235834"
     ]
    },
    {
     "name": "stdout",
     "output_type": "stream",
     "text": [
      "MSE on test Dataset: 9723.4449393 Iteration of Bagging: 199 / 200\n",
      "MSE on train Dataset: 1808.09870689 Iteration of Bagging: 199 / 200\n"
     ]
    },
    {
     "name": "stderr",
     "output_type": "stream",
     "text": [
      "Learning estimator number: 3/35; MSE error on train dataset: 78.8090098967"
     ]
    },
    {
     "name": "stdout",
     "output_type": "stream",
     "text": [
      "MSE on test Dataset: 25633.3767584 Iteration of Bagging: 0 / 200\n",
      "MSE on train Dataset: 4264.75217279 Iteration of Bagging: 0 / 200\n"
     ]
    },
    {
     "name": "stderr",
     "output_type": "stream",
     "text": [
      "Learning estimator number: 3/35; MSE error on train dataset: 109.303010003"
     ]
    },
    {
     "name": "stdout",
     "output_type": "stream",
     "text": [
      "MSE on test Dataset: 20767.5920218 Iteration of Bagging: 1 / 200\n",
      "MSE on train Dataset: 4570.92238566 Iteration of Bagging: 1 / 200\n"
     ]
    },
    {
     "name": "stderr",
     "output_type": "stream",
     "text": [
      "Learning estimator number: 3/35; MSE error on train dataset: 178.380681078"
     ]
    },
    {
     "name": "stdout",
     "output_type": "stream",
     "text": [
      "MSE on test Dataset: 20129.449529 Iteration of Bagging: 2 / 200\n",
      "MSE on train Dataset: 4955.76145378 Iteration of Bagging: 2 / 200\n"
     ]
    },
    {
     "name": "stderr",
     "output_type": "stream",
     "text": [
      "Iteration of bagging:4/200"
     ]
    },
    {
     "name": "stdout",
     "output_type": "stream",
     "text": [
      "MSE on test Dataset: 19126.8845922 Iteration of Bagging: 3 / 200\n",
      "MSE on train Dataset: 5222.83542453 Iteration of Bagging: 3 / 200\n"
     ]
    },
    {
     "name": "stderr",
     "output_type": "stream",
     "text": [
      "Learning estimator number: 1/35; MSE error on train dataset: 124.781194641"
     ]
    },
    {
     "name": "stdout",
     "output_type": "stream",
     "text": [
      "MSE on test Dataset: 19445.7540051 Iteration of Bagging: 4 / 200\n",
      "MSE on train Dataset: 5633.65150418 Iteration of Bagging: 4 / 200\n"
     ]
    },
    {
     "name": "stderr",
     "output_type": "stream",
     "text": [
      "Iteration of bagging:6/200"
     ]
    },
    {
     "name": "stdout",
     "output_type": "stream",
     "text": [
      "MSE on test Dataset: 19684.03791 Iteration of Bagging: 5 / 200\n",
      "MSE on train Dataset: 5608.23245184 Iteration of Bagging: 5 / 200\n"
     ]
    },
    {
     "name": "stderr",
     "output_type": "stream",
     "text": [
      "Learning estimator number: 3/35; MSE error on train dataset: 4380.9442978"
     ]
    },
    {
     "name": "stdout",
     "output_type": "stream",
     "text": [
      "MSE on test Dataset: 14804.6193287 Iteration of Bagging: 6 / 200\n",
      "MSE on train Dataset: 4412.57800779 Iteration of Bagging: 6 / 200\n"
     ]
    },
    {
     "name": "stderr",
     "output_type": "stream",
     "text": [
      "Learning estimator number: 2/35; MSE error on train dataset: 183.81167845"
     ]
    },
    {
     "name": "stdout",
     "output_type": "stream",
     "text": [
      "MSE on test Dataset: 11179.0283631 Iteration of Bagging: 7 / 200\n",
      "MSE on train Dataset: 3452.71965404 Iteration of Bagging: 7 / 200\n"
     ]
    },
    {
     "name": "stderr",
     "output_type": "stream",
     "text": [
      "Learning estimator number: 4/35; MSE error on train dataset: 386.928299948"
     ]
    },
    {
     "name": "stdout",
     "output_type": "stream",
     "text": [
      "MSE on test Dataset: 11535.1004557 Iteration of Bagging: 8 / 200\n",
      "MSE on train Dataset: 3312.85651266 Iteration of Bagging: 8 / 200\n"
     ]
    },
    {
     "name": "stderr",
     "output_type": "stream",
     "text": [
      "Iteration of bagging:10/200"
     ]
    },
    {
     "name": "stdout",
     "output_type": "stream",
     "text": [
      "MSE on test Dataset: 11134.4051086 Iteration of Bagging: 9 / 200\n",
      "MSE on train Dataset: 3125.14854093 Iteration of Bagging: 9 / 200\n"
     ]
    },
    {
     "name": "stderr",
     "output_type": "stream",
     "text": [
      "Learning estimator number: 2/35; MSE error on train dataset: 550.999944869"
     ]
    },
    {
     "name": "stdout",
     "output_type": "stream",
     "text": [
      "MSE on test Dataset: 11709.4894957 Iteration of Bagging: 10 / 200\n",
      "MSE on train Dataset: 3146.01342965 Iteration of Bagging: 10 / 200\n"
     ]
    },
    {
     "name": "stderr",
     "output_type": "stream",
     "text": [
      "Learning estimator number: 2/35; MSE error on train dataset: 447.769950487"
     ]
    },
    {
     "name": "stdout",
     "output_type": "stream",
     "text": [
      "MSE on test Dataset: 12364.3010761 Iteration of Bagging: 11 / 200\n",
      "MSE on train Dataset: 2861.97323605 Iteration of Bagging: 11 / 200\n"
     ]
    },
    {
     "name": "stderr",
     "output_type": "stream",
     "text": [
      "Iteration of bagging:13/200"
     ]
    },
    {
     "name": "stdout",
     "output_type": "stream",
     "text": [
      "MSE on test Dataset: 13172.8849719 Iteration of Bagging: 12 / 200\n",
      "MSE on train Dataset: 2517.64972531 Iteration of Bagging: 12 / 200\n"
     ]
    },
    {
     "name": "stderr",
     "output_type": "stream",
     "text": [
      "Iteration of bagging:14/200"
     ]
    },
    {
     "name": "stdout",
     "output_type": "stream",
     "text": [
      "MSE on test Dataset: 11089.1673324 Iteration of Bagging: 13 / 200\n",
      "MSE on train Dataset: 2193.42710177 Iteration of Bagging: 13 / 200\n"
     ]
    },
    {
     "name": "stderr",
     "output_type": "stream",
     "text": [
      "Iteration of bagging:15/200"
     ]
    },
    {
     "name": "stdout",
     "output_type": "stream",
     "text": [
      "MSE on test Dataset: 10838.9685603 Iteration of Bagging: 14 / 200\n",
      "MSE on train Dataset: 1864.7400198 Iteration of Bagging: 14 / 200\n"
     ]
    },
    {
     "name": "stderr",
     "output_type": "stream",
     "text": [
      "Learning estimator number: 4/35; MSE error on train dataset: 84.8570739612"
     ]
    },
    {
     "name": "stdout",
     "output_type": "stream",
     "text": [
      "MSE on test Dataset: 9473.09790106 Iteration of Bagging: 15 / 200\n",
      "MSE on train Dataset: 1646.15248238 Iteration of Bagging: 15 / 200\n"
     ]
    },
    {
     "name": "stderr",
     "output_type": "stream",
     "text": [
      "Learning estimator number: 4/35; MSE error on train dataset: 3862.89036251"
     ]
    },
    {
     "name": "stdout",
     "output_type": "stream",
     "text": [
      "MSE on test Dataset: 9980.78281182 Iteration of Bagging: 16 / 200\n",
      "MSE on train Dataset: 1795.76757707 Iteration of Bagging: 16 / 200\n"
     ]
    },
    {
     "name": "stderr",
     "output_type": "stream",
     "text": [
      "Learning estimator number: 2/35; MSE error on train dataset: 477.38585073"
     ]
    },
    {
     "name": "stdout",
     "output_type": "stream",
     "text": [
      "MSE on test Dataset: 9552.36765971 Iteration of Bagging: 17 / 200\n",
      "MSE on train Dataset: 1647.68548618 Iteration of Bagging: 17 / 200\n"
     ]
    },
    {
     "name": "stderr",
     "output_type": "stream",
     "text": [
      "Iteration of bagging:19/200"
     ]
    },
    {
     "name": "stdout",
     "output_type": "stream",
     "text": [
      "MSE on test Dataset: 9906.29994511 Iteration of Bagging: 18 / 200\n",
      "MSE on train Dataset: 1692.16796012 Iteration of Bagging: 18 / 200\n"
     ]
    },
    {
     "name": "stderr",
     "output_type": "stream",
     "text": [
      "Learning estimator number: 5/35; MSE error on train dataset: 266.322267731"
     ]
    },
    {
     "name": "stdout",
     "output_type": "stream",
     "text": [
      "MSE on test Dataset: 9885.80235978 Iteration of Bagging: 19 / 200\n",
      "MSE on train Dataset: 1681.13664173 Iteration of Bagging: 19 / 200\n"
     ]
    },
    {
     "name": "stderr",
     "output_type": "stream",
     "text": [
      "Learning estimator number: 34/35; MSE error on train dataset: 40.7888935846"
     ]
    },
    {
     "name": "stdout",
     "output_type": "stream",
     "text": [
      "MSE on test Dataset: 10350.5523521 Iteration of Bagging: 20 / 200\n",
      "MSE on train Dataset: 1675.3469769 Iteration of Bagging: 20 / 200\n"
     ]
    },
    {
     "name": "stderr",
     "output_type": "stream",
     "text": [
      "Learning estimator number: 4/35; MSE error on train dataset: 131.419780928"
     ]
    },
    {
     "name": "stdout",
     "output_type": "stream",
     "text": [
      "MSE on test Dataset: 10313.5825666 Iteration of Bagging: 21 / 200\n",
      "MSE on train Dataset: 1644.65166931 Iteration of Bagging: 21 / 200\n"
     ]
    },
    {
     "name": "stderr",
     "output_type": "stream",
     "text": [
      "Iteration of bagging:23/200"
     ]
    },
    {
     "name": "stdout",
     "output_type": "stream",
     "text": [
      "MSE on test Dataset: 10669.2595113 Iteration of Bagging: 22 / 200\n",
      "MSE on train Dataset: 1731.3942274 Iteration of Bagging: 22 / 200\n"
     ]
    },
    {
     "name": "stderr",
     "output_type": "stream",
     "text": [
      "Learning estimator number: 2/35; MSE error on train dataset: 1749.31946279"
     ]
    },
    {
     "name": "stdout",
     "output_type": "stream",
     "text": [
      "MSE on test Dataset: 11085.0746231 Iteration of Bagging: 23 / 200\n",
      "MSE on train Dataset: 1661.89001422 Iteration of Bagging: 23 / 200\n"
     ]
    },
    {
     "name": "stderr",
     "output_type": "stream",
     "text": [
      "Iteration of bagging:25/200"
     ]
    },
    {
     "name": "stdout",
     "output_type": "stream",
     "text": [
      "MSE on test Dataset: 10189.8694733 Iteration of Bagging: 24 / 200\n",
      "MSE on train Dataset: 1553.88066674 Iteration of Bagging: 24 / 200\n"
     ]
    },
    {
     "name": "stderr",
     "output_type": "stream",
     "text": [
      "Learning estimator number: 3/35; MSE error on train dataset: 2569.48008045"
     ]
    },
    {
     "name": "stdout",
     "output_type": "stream",
     "text": [
      "MSE on test Dataset: 10487.315623 Iteration of Bagging: 25 / 200\n",
      "MSE on train Dataset: 1624.25342193 Iteration of Bagging: 25 / 200\n"
     ]
    },
    {
     "name": "stderr",
     "output_type": "stream",
     "text": [
      "Learning estimator number: 3/35; MSE error on train dataset: 460.04860755"
     ]
    },
    {
     "name": "stdout",
     "output_type": "stream",
     "text": [
      "MSE on test Dataset: 10020.3422829 Iteration of Bagging: 26 / 200\n",
      "MSE on train Dataset: 1585.52135412 Iteration of Bagging: 26 / 200\n"
     ]
    },
    {
     "name": "stderr",
     "output_type": "stream",
     "text": [
      "Iteration of bagging:28/200"
     ]
    },
    {
     "name": "stdout",
     "output_type": "stream",
     "text": [
      "MSE on test Dataset: 10335.2590181 Iteration of Bagging: 27 / 200\n",
      "MSE on train Dataset: 1647.3833659 Iteration of Bagging: 27 / 200\n"
     ]
    },
    {
     "name": "stderr",
     "output_type": "stream",
     "text": [
      "Learning estimator number: 5/35; MSE error on train dataset: 319.334713946"
     ]
    },
    {
     "name": "stdout",
     "output_type": "stream",
     "text": [
      "MSE on test Dataset: 9681.93544272 Iteration of Bagging: 28 / 200\n",
      "MSE on train Dataset: 1558.2334022 Iteration of Bagging: 28 / 200\n"
     ]
    },
    {
     "name": "stderr",
     "output_type": "stream",
     "text": [
      "Iteration of bagging:30/200"
     ]
    },
    {
     "name": "stdout",
     "output_type": "stream",
     "text": [
      "MSE on test Dataset: 9890.60604017 Iteration of Bagging: 29 / 200\n",
      "MSE on train Dataset: 1619.7942582 Iteration of Bagging: 29 / 200\n"
     ]
    },
    {
     "name": "stderr",
     "output_type": "stream",
     "text": [
      "Learning estimator number: 1/35; MSE error on train dataset: 2128.74912884"
     ]
    },
    {
     "name": "stdout",
     "output_type": "stream",
     "text": [
      "MSE on test Dataset: 10024.6340183 Iteration of Bagging: 30 / 200\n",
      "MSE on train Dataset: 1628.23640216 Iteration of Bagging: 30 / 200\n"
     ]
    },
    {
     "name": "stderr",
     "output_type": "stream",
     "text": [
      "Learning estimator number: 34/35; MSE error on train dataset: 369.364561799"
     ]
    },
    {
     "name": "stdout",
     "output_type": "stream",
     "text": [
      "MSE on test Dataset: 9494.01963033 Iteration of Bagging: 31 / 200\n",
      "MSE on train Dataset: 1544.0850636 Iteration of Bagging: 31 / 200\n"
     ]
    },
    {
     "name": "stderr",
     "output_type": "stream",
     "text": [
      "Learning estimator number: 34/35; MSE error on train dataset: 216.073374975"
     ]
    },
    {
     "name": "stdout",
     "output_type": "stream",
     "text": [
      "MSE on test Dataset: 9317.14765568 Iteration of Bagging: 32 / 200\n",
      "MSE on train Dataset: 1540.30101249 Iteration of Bagging: 32 / 200\n"
     ]
    },
    {
     "name": "stderr",
     "output_type": "stream",
     "text": [
      "Iteration of bagging:34/200"
     ]
    },
    {
     "name": "stdout",
     "output_type": "stream",
     "text": [
      "MSE on test Dataset: 8581.12437343 Iteration of Bagging: 33 / 200\n",
      "MSE on train Dataset: 1457.01893036 Iteration of Bagging: 33 / 200\n"
     ]
    },
    {
     "name": "stderr",
     "output_type": "stream",
     "text": [
      "Learning estimator number: 4/35; MSE error on train dataset: 135.52437983"
     ]
    },
    {
     "name": "stdout",
     "output_type": "stream",
     "text": [
      "MSE on test Dataset: 8833.9319434 Iteration of Bagging: 34 / 200\n",
      "MSE on train Dataset: 1511.76813944 Iteration of Bagging: 34 / 200\n"
     ]
    },
    {
     "name": "stderr",
     "output_type": "stream",
     "text": [
      "Iteration of bagging:36/200"
     ]
    },
    {
     "name": "stdout",
     "output_type": "stream",
     "text": [
      "MSE on test Dataset: 9085.39047791 Iteration of Bagging: 35 / 200\n",
      "MSE on train Dataset: 1572.9553336 Iteration of Bagging: 35 / 200\n"
     ]
    },
    {
     "name": "stderr",
     "output_type": "stream",
     "text": [
      "Learning estimator number: 3/35; MSE error on train dataset: 1539.50813381"
     ]
    },
    {
     "name": "stdout",
     "output_type": "stream",
     "text": [
      "MSE on test Dataset: 9329.02909976 Iteration of Bagging: 36 / 200\n",
      "MSE on train Dataset: 1612.8680094 Iteration of Bagging: 36 / 200\n"
     ]
    },
    {
     "name": "stderr",
     "output_type": "stream",
     "text": [
      "Learning estimator number: 1/35; MSE error on train dataset: 329.922990288"
     ]
    },
    {
     "name": "stdout",
     "output_type": "stream",
     "text": [
      "MSE on test Dataset: 8858.77560518 Iteration of Bagging: 37 / 200\n",
      "MSE on train Dataset: 1522.75306413 Iteration of Bagging: 37 / 200\n"
     ]
    },
    {
     "name": "stderr",
     "output_type": "stream",
     "text": [
      "Learning estimator number: 1/35; MSE error on train dataset: 112.188961986"
     ]
    },
    {
     "name": "stdout",
     "output_type": "stream",
     "text": [
      "MSE on test Dataset: 8696.94791738 Iteration of Bagging: 38 / 200\n",
      "MSE on train Dataset: 1526.90351131 Iteration of Bagging: 38 / 200\n"
     ]
    },
    {
     "name": "stderr",
     "output_type": "stream",
     "text": [
      "Iteration of bagging:40/200"
     ]
    },
    {
     "name": "stdout",
     "output_type": "stream",
     "text": [
      "MSE on test Dataset: 8931.20682578 Iteration of Bagging: 39 / 200\n",
      "MSE on train Dataset: 1586.55211688 Iteration of Bagging: 39 / 200\n"
     ]
    },
    {
     "name": "stderr",
     "output_type": "stream",
     "text": [
      "Learning estimator number: 4/35; MSE error on train dataset: 275.268564287"
     ]
    },
    {
     "name": "stdout",
     "output_type": "stream",
     "text": [
      "MSE on test Dataset: 9157.35536303 Iteration of Bagging: 40 / 200\n",
      "MSE on train Dataset: 1644.03391445 Iteration of Bagging: 40 / 200\n"
     ]
    },
    {
     "name": "stderr",
     "output_type": "stream",
     "text": [
      "Learning estimator number: 34/35; MSE error on train dataset: 37.5813798591"
     ]
    },
    {
     "name": "stdout",
     "output_type": "stream",
     "text": [
      "MSE on test Dataset: 9301.74405588 Iteration of Bagging: 41 / 200\n",
      "MSE on train Dataset: 1656.07202451 Iteration of Bagging: 41 / 200\n"
     ]
    },
    {
     "name": "stderr",
     "output_type": "stream",
     "text": [
      "Learning estimator number: 4/35; MSE error on train dataset: 57.3438155387"
     ]
    },
    {
     "name": "stdout",
     "output_type": "stream",
     "text": [
      "MSE on test Dataset: 9517.99258266 Iteration of Bagging: 42 / 200\n",
      "MSE on train Dataset: 1713.94394111 Iteration of Bagging: 42 / 200\n"
     ]
    },
    {
     "name": "stderr",
     "output_type": "stream",
     "text": [
      "Iteration of bagging:44/200"
     ]
    },
    {
     "name": "stdout",
     "output_type": "stream",
     "text": [
      "MSE on test Dataset: 9722.23791036 Iteration of Bagging: 43 / 200\n",
      "MSE on train Dataset: 1770.91905399 Iteration of Bagging: 43 / 200\n"
     ]
    },
    {
     "name": "stderr",
     "output_type": "stream",
     "text": [
      "Learning estimator number: 34/35; MSE error on train dataset: 20.9335695531"
     ]
    },
    {
     "name": "stdout",
     "output_type": "stream",
     "text": [
      "MSE on test Dataset: 9964.57288271 Iteration of Bagging: 44 / 200\n",
      "MSE on train Dataset: 1821.97370979 Iteration of Bagging: 44 / 200\n"
     ]
    },
    {
     "name": "stderr",
     "output_type": "stream",
     "text": [
      "Learning estimator number: 5/35; MSE error on train dataset: 84.7700029182"
     ]
    },
    {
     "name": "stdout",
     "output_type": "stream",
     "text": [
      "MSE on test Dataset: 10042.7006713 Iteration of Bagging: 45 / 200\n",
      "MSE on train Dataset: 1868.53960049 Iteration of Bagging: 45 / 200\n"
     ]
    },
    {
     "name": "stderr",
     "output_type": "stream",
     "text": [
      "Iteration of bagging:47/200"
     ]
    },
    {
     "name": "stdout",
     "output_type": "stream",
     "text": [
      "MSE on test Dataset: 10181.8819384 Iteration of Bagging: 46 / 200\n",
      "MSE on train Dataset: 1923.36243873 Iteration of Bagging: 46 / 200\n"
     ]
    },
    {
     "name": "stderr",
     "output_type": "stream",
     "text": [
      "Learning estimator number: 2/35; MSE error on train dataset: 3028.896188"
     ]
    },
    {
     "name": "stdout",
     "output_type": "stream",
     "text": [
      "MSE on test Dataset: 9673.51909997 Iteration of Bagging: 47 / 200\n",
      "MSE on train Dataset: 1843.24155597 Iteration of Bagging: 47 / 200\n"
     ]
    },
    {
     "name": "stderr",
     "output_type": "stream",
     "text": [
      "Iteration of bagging:49/200"
     ]
    },
    {
     "name": "stdout",
     "output_type": "stream",
     "text": [
      "MSE on test Dataset: 9342.00362064 Iteration of Bagging: 48 / 200\n",
      "MSE on train Dataset: 1769.23779129 Iteration of Bagging: 48 / 200\n"
     ]
    },
    {
     "name": "stderr",
     "output_type": "stream",
     "text": [
      "Iteration of bagging:50/200"
     ]
    },
    {
     "name": "stdout",
     "output_type": "stream",
     "text": [
      "MSE on test Dataset: 9497.0500917 Iteration of Bagging: 49 / 200\n",
      "MSE on train Dataset: 1779.81906956 Iteration of Bagging: 49 / 200\n"
     ]
    },
    {
     "name": "stderr",
     "output_type": "stream",
     "text": [
      "Learning estimator number: 2/35; MSE error on train dataset: 4944.27972938"
     ]
    },
    {
     "name": "stdout",
     "output_type": "stream",
     "text": [
      "MSE on test Dataset: 9059.88489675 Iteration of Bagging: 50 / 200\n",
      "MSE on train Dataset: 1715.06831754 Iteration of Bagging: 50 / 200\n"
     ]
    },
    {
     "name": "stderr",
     "output_type": "stream",
     "text": [
      "Learning estimator number: 4/35; MSE error on train dataset: 543.434257507"
     ]
    },
    {
     "name": "stdout",
     "output_type": "stream",
     "text": [
      "MSE on test Dataset: 9017.35741722 Iteration of Bagging: 51 / 200\n",
      "MSE on train Dataset: 1669.40115165 Iteration of Bagging: 51 / 200\n"
     ]
    },
    {
     "name": "stderr",
     "output_type": "stream",
     "text": [
      "Iteration of bagging:53/200"
     ]
    },
    {
     "name": "stdout",
     "output_type": "stream",
     "text": [
      "MSE on test Dataset: 9018.37168577 Iteration of Bagging: 52 / 200\n",
      "MSE on train Dataset: 1599.73849885 Iteration of Bagging: 52 / 200\n"
     ]
    },
    {
     "name": "stderr",
     "output_type": "stream",
     "text": [
      "Iteration of bagging:54/200"
     ]
    },
    {
     "name": "stdout",
     "output_type": "stream",
     "text": [
      "MSE on test Dataset: 8543.01962567 Iteration of Bagging: 53 / 200\n",
      "MSE on train Dataset: 1554.46967123 Iteration of Bagging: 53 / 200\n"
     ]
    },
    {
     "name": "stderr",
     "output_type": "stream",
     "text": [
      "Iteration of bagging:55/200"
     ]
    },
    {
     "name": "stdout",
     "output_type": "stream",
     "text": [
      "MSE on test Dataset: 8669.87451106 Iteration of Bagging: 54 / 200\n",
      "MSE on train Dataset: 1593.92809256 Iteration of Bagging: 54 / 200\n"
     ]
    },
    {
     "name": "stderr",
     "output_type": "stream",
     "text": [
      "Learning estimator number: 3/35; MSE error on train dataset: 77.1124509874"
     ]
    },
    {
     "name": "stdout",
     "output_type": "stream",
     "text": [
      "MSE on test Dataset: 8864.6252578 Iteration of Bagging: 55 / 200\n",
      "MSE on train Dataset: 1590.09514705 Iteration of Bagging: 55 / 200\n"
     ]
    },
    {
     "name": "stderr",
     "output_type": "stream",
     "text": [
      "Learning estimator number: 1/35; MSE error on train dataset: 84.0983492266"
     ]
    },
    {
     "name": "stdout",
     "output_type": "stream",
     "text": [
      "MSE on test Dataset: 9080.33542681 Iteration of Bagging: 56 / 200\n",
      "MSE on train Dataset: 1628.45353548 Iteration of Bagging: 56 / 200\n"
     ]
    },
    {
     "name": "stderr",
     "output_type": "stream",
     "text": [
      "Learning estimator number: 5/35; MSE error on train dataset: 114.400308293"
     ]
    },
    {
     "name": "stdout",
     "output_type": "stream",
     "text": [
      "MSE on test Dataset: 9234.73728521 Iteration of Bagging: 57 / 200\n",
      "MSE on train Dataset: 1666.25236661 Iteration of Bagging: 57 / 200\n"
     ]
    },
    {
     "name": "stderr",
     "output_type": "stream",
     "text": [
      "Learning estimator number: 3/35; MSE error on train dataset: 886.267256275"
     ]
    },
    {
     "name": "stdout",
     "output_type": "stream",
     "text": [
      "MSE on test Dataset: 9360.70579465 Iteration of Bagging: 58 / 200\n",
      "MSE on train Dataset: 1710.5571762 Iteration of Bagging: 58 / 200\n"
     ]
    },
    {
     "name": "stderr",
     "output_type": "stream",
     "text": [
      "Learning estimator number: 4/35; MSE error on train dataset: 766.443237149"
     ]
    },
    {
     "name": "stdout",
     "output_type": "stream",
     "text": [
      "MSE on test Dataset: 9598.39952642 Iteration of Bagging: 59 / 200\n",
      "MSE on train Dataset: 1722.7762815 Iteration of Bagging: 59 / 200\n"
     ]
    },
    {
     "name": "stderr",
     "output_type": "stream",
     "text": [
      "Learning estimator number: 3/35; MSE error on train dataset: 452.314381992"
     ]
    },
    {
     "name": "stdout",
     "output_type": "stream",
     "text": [
      "MSE on test Dataset: 9561.30612785 Iteration of Bagging: 60 / 200\n",
      "MSE on train Dataset: 1741.73939688 Iteration of Bagging: 60 / 200\n"
     ]
    },
    {
     "name": "stderr",
     "output_type": "stream",
     "text": [
      "Learning estimator number: 1/35; MSE error on train dataset: 2100.5532196"
     ]
    },
    {
     "name": "stdout",
     "output_type": "stream",
     "text": [
      "MSE on test Dataset: 9742.67411693 Iteration of Bagging: 61 / 200\n",
      "MSE on train Dataset: 1741.10546574 Iteration of Bagging: 61 / 200\n"
     ]
    },
    {
     "name": "stderr",
     "output_type": "stream",
     "text": [
      "Learning estimator number: 1/35; MSE error on train dataset: 150.458347751"
     ]
    },
    {
     "name": "stdout",
     "output_type": "stream",
     "text": [
      "MSE on test Dataset: 9790.51876682 Iteration of Bagging: 62 / 200\n",
      "MSE on train Dataset: 1715.17646134 Iteration of Bagging: 62 / 200\n"
     ]
    },
    {
     "name": "stderr",
     "output_type": "stream",
     "text": [
      "Learning estimator number: 4/35; MSE error on train dataset: 370.575447206"
     ]
    },
    {
     "name": "stdout",
     "output_type": "stream",
     "text": [
      "MSE on test Dataset: 9942.00936111 Iteration of Bagging: 63 / 200\n",
      "MSE on train Dataset: 1763.59554393 Iteration of Bagging: 63 / 200\n"
     ]
    },
    {
     "name": "stderr",
     "output_type": "stream",
     "text": [
      "Learning estimator number: 2/35; MSE error on train dataset: 447.123412049"
     ]
    },
    {
     "name": "stdout",
     "output_type": "stream",
     "text": [
      "MSE on test Dataset: 10044.7250285 Iteration of Bagging: 64 / 200\n",
      "MSE on train Dataset: 1774.57409144 Iteration of Bagging: 64 / 200\n"
     ]
    },
    {
     "name": "stderr",
     "output_type": "stream",
     "text": [
      "Learning estimator number: 1/35; MSE error on train dataset: 1304.16134631"
     ]
    },
    {
     "name": "stdout",
     "output_type": "stream",
     "text": [
      "MSE on test Dataset: 10162.2696353 Iteration of Bagging: 65 / 200\n",
      "MSE on train Dataset: 1803.21650085 Iteration of Bagging: 65 / 200\n"
     ]
    },
    {
     "name": "stderr",
     "output_type": "stream",
     "text": [
      "Learning estimator number: 1/35; MSE error on train dataset: 179.225636843"
     ]
    },
    {
     "name": "stdout",
     "output_type": "stream",
     "text": [
      "MSE on test Dataset: 10292.9152655 Iteration of Bagging: 66 / 200\n",
      "MSE on train Dataset: 1825.97640568 Iteration of Bagging: 66 / 200\n"
     ]
    },
    {
     "name": "stderr",
     "output_type": "stream",
     "text": [
      "Learning estimator number: 34/35; MSE error on train dataset: 18.7121836197"
     ]
    },
    {
     "name": "stdout",
     "output_type": "stream",
     "text": [
      "MSE on test Dataset: 10418.1154636 Iteration of Bagging: 67 / 200\n",
      "MSE on train Dataset: 1860.68264838 Iteration of Bagging: 67 / 200\n"
     ]
    },
    {
     "name": "stderr",
     "output_type": "stream",
     "text": [
      "Learning estimator number: 2/35; MSE error on train dataset: 1633.3892937"
     ]
    },
    {
     "name": "stdout",
     "output_type": "stream",
     "text": [
      "MSE on test Dataset: 10301.4914925 Iteration of Bagging: 68 / 200\n",
      "MSE on train Dataset: 1816.19638808 Iteration of Bagging: 68 / 200\n"
     ]
    },
    {
     "name": "stderr",
     "output_type": "stream",
     "text": [
      "Learning estimator number: 4/35; MSE error on train dataset: 3440.92021101"
     ]
    },
    {
     "name": "stdout",
     "output_type": "stream",
     "text": [
      "MSE on test Dataset: 10225.9299973 Iteration of Bagging: 69 / 200\n",
      "MSE on train Dataset: 1830.27582104 Iteration of Bagging: 69 / 200\n"
     ]
    },
    {
     "name": "stderr",
     "output_type": "stream",
     "text": [
      "Learning estimator number: 3/35; MSE error on train dataset: 93.5958491747"
     ]
    },
    {
     "name": "stdout",
     "output_type": "stream",
     "text": [
      "MSE on test Dataset: 9989.3725019 Iteration of Bagging: 70 / 200\n",
      "MSE on train Dataset: 1802.16239115 Iteration of Bagging: 70 / 200\n"
     ]
    },
    {
     "name": "stderr",
     "output_type": "stream",
     "text": [
      "Learning estimator number: 2/35; MSE error on train dataset: 540.139288852"
     ]
    },
    {
     "name": "stdout",
     "output_type": "stream",
     "text": [
      "MSE on test Dataset: 10101.6605539 Iteration of Bagging: 71 / 200\n",
      "MSE on train Dataset: 1831.2620538 Iteration of Bagging: 71 / 200\n"
     ]
    },
    {
     "name": "stderr",
     "output_type": "stream",
     "text": [
      "Iteration of bagging:73/200"
     ]
    },
    {
     "name": "stdout",
     "output_type": "stream",
     "text": [
      "MSE on test Dataset: 10226.9286374 Iteration of Bagging: 72 / 200\n",
      "MSE on train Dataset: 1856.13671364 Iteration of Bagging: 72 / 200\n"
     ]
    },
    {
     "name": "stderr",
     "output_type": "stream",
     "text": [
      "Learning estimator number: 1/35; MSE error on train dataset: 2122.6678868"
     ]
    },
    {
     "name": "stdout",
     "output_type": "stream",
     "text": [
      "MSE on test Dataset: 10063.4652945 Iteration of Bagging: 73 / 200\n",
      "MSE on train Dataset: 1819.2241708 Iteration of Bagging: 73 / 200\n"
     ]
    },
    {
     "name": "stderr",
     "output_type": "stream",
     "text": [
      "Learning estimator number: 2/35; MSE error on train dataset: 447.306052706"
     ]
    },
    {
     "name": "stdout",
     "output_type": "stream",
     "text": [
      "MSE on test Dataset: 10009.6958212 Iteration of Bagging: 74 / 200\n",
      "MSE on train Dataset: 1775.11163062 Iteration of Bagging: 74 / 200\n"
     ]
    },
    {
     "name": "stderr",
     "output_type": "stream",
     "text": [
      "Learning estimator number: 4/35; MSE error on train dataset: 303.414496176"
     ]
    },
    {
     "name": "stdout",
     "output_type": "stream",
     "text": [
      "MSE on test Dataset: 10113.6698675 Iteration of Bagging: 75 / 200\n",
      "MSE on train Dataset: 1771.75366136 Iteration of Bagging: 75 / 200\n"
     ]
    },
    {
     "name": "stderr",
     "output_type": "stream",
     "text": [
      "Learning estimator number: 5/35; MSE error on train dataset: 3761.93846944"
     ]
    },
    {
     "name": "stdout",
     "output_type": "stream",
     "text": [
      "MSE on test Dataset: 10237.6231723 Iteration of Bagging: 76 / 200\n",
      "MSE on train Dataset: 1769.56652607 Iteration of Bagging: 76 / 200\n"
     ]
    },
    {
     "name": "stderr",
     "output_type": "stream",
     "text": [
      "Learning estimator number: 4/35; MSE error on train dataset: 384.144444655"
     ]
    },
    {
     "name": "stdout",
     "output_type": "stream",
     "text": [
      "MSE on test Dataset: 9950.54909159 Iteration of Bagging: 77 / 200\n",
      "MSE on train Dataset: 1728.1643843 Iteration of Bagging: 77 / 200\n"
     ]
    },
    {
     "name": "stderr",
     "output_type": "stream",
     "text": [
      "Learning estimator number: 1/35; MSE error on train dataset: 452.700901655"
     ]
    },
    {
     "name": "stdout",
     "output_type": "stream",
     "text": [
      "MSE on test Dataset: 10065.4810875 Iteration of Bagging: 78 / 200\n",
      "MSE on train Dataset: 1721.10885417 Iteration of Bagging: 78 / 200\n"
     ]
    },
    {
     "name": "stderr",
     "output_type": "stream",
     "text": [
      "Iteration of bagging:80/200"
     ]
    },
    {
     "name": "stdout",
     "output_type": "stream",
     "text": [
      "MSE on test Dataset: 10082.0606093 Iteration of Bagging: 79 / 200\n",
      "MSE on train Dataset: 1721.00197486 Iteration of Bagging: 79 / 200\n"
     ]
    },
    {
     "name": "stderr",
     "output_type": "stream",
     "text": [
      "Learning estimator number: 34/35; MSE error on train dataset: 202.097293633"
     ]
    },
    {
     "name": "stdout",
     "output_type": "stream",
     "text": [
      "MSE on test Dataset: 10038.4373861 Iteration of Bagging: 80 / 200\n",
      "MSE on train Dataset: 1701.74343356 Iteration of Bagging: 80 / 200\n"
     ]
    },
    {
     "name": "stderr",
     "output_type": "stream",
     "text": [
      "Learning estimator number: 5/35; MSE error on train dataset: 692.587657321"
     ]
    },
    {
     "name": "stdout",
     "output_type": "stream",
     "text": [
      "MSE on test Dataset: 10126.4599286 Iteration of Bagging: 81 / 200\n",
      "MSE on train Dataset: 1732.55604122 Iteration of Bagging: 81 / 200\n"
     ]
    },
    {
     "name": "stderr",
     "output_type": "stream",
     "text": [
      "Learning estimator number: 4/35; MSE error on train dataset: 1440.39315788"
     ]
    },
    {
     "name": "stdout",
     "output_type": "stream",
     "text": [
      "MSE on test Dataset: 10219.473255 Iteration of Bagging: 82 / 200\n",
      "MSE on train Dataset: 1741.9131562 Iteration of Bagging: 82 / 200\n"
     ]
    },
    {
     "name": "stderr",
     "output_type": "stream",
     "text": [
      "Learning estimator number: 2/35; MSE error on train dataset: 459.744798329"
     ]
    },
    {
     "name": "stdout",
     "output_type": "stream",
     "text": [
      "MSE on test Dataset: 9939.8995908 Iteration of Bagging: 83 / 200\n",
      "MSE on train Dataset: 1706.50345584 Iteration of Bagging: 83 / 200\n"
     ]
    },
    {
     "name": "stderr",
     "output_type": "stream",
     "text": [
      "Learning estimator number: 2/35; MSE error on train dataset: 2073.47937579"
     ]
    },
    {
     "name": "stdout",
     "output_type": "stream",
     "text": [
      "MSE on test Dataset: 9983.49020515 Iteration of Bagging: 84 / 200\n",
      "MSE on train Dataset: 1732.6314479 Iteration of Bagging: 84 / 200\n"
     ]
    },
    {
     "name": "stderr",
     "output_type": "stream",
     "text": [
      "Iteration of bagging:86/200"
     ]
    },
    {
     "name": "stdout",
     "output_type": "stream",
     "text": [
      "MSE on test Dataset: 9889.20785729 Iteration of Bagging: 85 / 200\n",
      "MSE on train Dataset: 1694.26382669 Iteration of Bagging: 85 / 200\n"
     ]
    },
    {
     "name": "stderr",
     "output_type": "stream",
     "text": [
      "Learning estimator number: 34/35; MSE error on train dataset: 8.12666928439"
     ]
    },
    {
     "name": "stdout",
     "output_type": "stream",
     "text": [
      "MSE on test Dataset: 9967.7541003 Iteration of Bagging: 86 / 200\n",
      "MSE on train Dataset: 1721.30668582 Iteration of Bagging: 86 / 200\n"
     ]
    },
    {
     "name": "stderr",
     "output_type": "stream",
     "text": [
      "Iteration of bagging:88/200"
     ]
    },
    {
     "name": "stdout",
     "output_type": "stream",
     "text": [
      "MSE on test Dataset: 10061.241576 Iteration of Bagging: 87 / 200\n",
      "MSE on train Dataset: 1695.34867914 Iteration of Bagging: 87 / 200\n"
     ]
    },
    {
     "name": "stderr",
     "output_type": "stream",
     "text": [
      "Learning estimator number: 1/35; MSE error on train dataset: 2243.2941006"
     ]
    },
    {
     "name": "stdout",
     "output_type": "stream",
     "text": [
      "MSE on test Dataset: 10111.8898841 Iteration of Bagging: 88 / 200\n",
      "MSE on train Dataset: 1722.25800817 Iteration of Bagging: 88 / 200\n"
     ]
    },
    {
     "name": "stderr",
     "output_type": "stream",
     "text": [
      "Learning estimator number: 1/35; MSE error on train dataset: 434.746978963"
     ]
    },
    {
     "name": "stdout",
     "output_type": "stream",
     "text": [
      "MSE on test Dataset: 9794.34424542 Iteration of Bagging: 89 / 200\n",
      "MSE on train Dataset: 1694.79076369 Iteration of Bagging: 89 / 200\n"
     ]
    },
    {
     "name": "stderr",
     "output_type": "stream",
     "text": [
      "Learning estimator number: 1/35; MSE error on train dataset: 5069.68414167"
     ]
    },
    {
     "name": "stdout",
     "output_type": "stream",
     "text": [
      "MSE on test Dataset: 9849.95049621 Iteration of Bagging: 90 / 200\n",
      "MSE on train Dataset: 1712.22988391 Iteration of Bagging: 90 / 200\n"
     ]
    },
    {
     "name": "stderr",
     "output_type": "stream",
     "text": [
      "Learning estimator number: 4/35; MSE error on train dataset: 3869.57568739"
     ]
    },
    {
     "name": "stdout",
     "output_type": "stream",
     "text": [
      "MSE on test Dataset: 9673.5582729 Iteration of Bagging: 91 / 200\n",
      "MSE on train Dataset: 1677.0652192 Iteration of Bagging: 91 / 200\n"
     ]
    },
    {
     "name": "stderr",
     "output_type": "stream",
     "text": [
      "Learning estimator number: 3/35; MSE error on train dataset: 4094.88025101"
     ]
    },
    {
     "name": "stdout",
     "output_type": "stream",
     "text": [
      "MSE on test Dataset: 9363.20029538 Iteration of Bagging: 92 / 200\n",
      "MSE on train Dataset: 1653.54199668 Iteration of Bagging: 92 / 200\n"
     ]
    },
    {
     "name": "stderr",
     "output_type": "stream",
     "text": [
      "Learning estimator number: 2/35; MSE error on train dataset: 4606.47006889"
     ]
    },
    {
     "name": "stdout",
     "output_type": "stream",
     "text": [
      "MSE on test Dataset: 9238.54507137 Iteration of Bagging: 93 / 200\n",
      "MSE on train Dataset: 1629.08630805 Iteration of Bagging: 93 / 200\n"
     ]
    },
    {
     "name": "stderr",
     "output_type": "stream",
     "text": [
      "Learning estimator number: 2/35; MSE error on train dataset: 4706.31504661"
     ]
    },
    {
     "name": "stdout",
     "output_type": "stream",
     "text": [
      "MSE on test Dataset: 8937.20166588 Iteration of Bagging: 94 / 200\n",
      "MSE on train Dataset: 1595.4703932 Iteration of Bagging: 94 / 200\n"
     ]
    },
    {
     "name": "stderr",
     "output_type": "stream",
     "text": [
      "Learning estimator number: 4/35; MSE error on train dataset: 80.5414892007"
     ]
    },
    {
     "name": "stdout",
     "output_type": "stream",
     "text": [
      "MSE on test Dataset: 8773.34189949 Iteration of Bagging: 95 / 200\n",
      "MSE on train Dataset: 1570.5488518 Iteration of Bagging: 95 / 200\n"
     ]
    },
    {
     "name": "stderr",
     "output_type": "stream",
     "text": [
      "Learning estimator number: 2/35; MSE error on train dataset: 218.665088314"
     ]
    },
    {
     "name": "stdout",
     "output_type": "stream",
     "text": [
      "MSE on test Dataset: 8863.25505551 Iteration of Bagging: 96 / 200\n",
      "MSE on train Dataset: 1594.86152204 Iteration of Bagging: 96 / 200\n"
     ]
    },
    {
     "name": "stderr",
     "output_type": "stream",
     "text": [
      "Learning estimator number: 1/35; MSE error on train dataset: 1990.04872663"
     ]
    },
    {
     "name": "stdout",
     "output_type": "stream",
     "text": [
      "MSE on test Dataset: 8971.42736687 Iteration of Bagging: 97 / 200\n",
      "MSE on train Dataset: 1606.03193859 Iteration of Bagging: 97 / 200\n"
     ]
    },
    {
     "name": "stderr",
     "output_type": "stream",
     "text": [
      "Learning estimator number: 2/35; MSE error on train dataset: 1897.21117904"
     ]
    },
    {
     "name": "stdout",
     "output_type": "stream",
     "text": [
      "MSE on test Dataset: 8721.52682132 Iteration of Bagging: 98 / 200\n",
      "MSE on train Dataset: 1580.64250463 Iteration of Bagging: 98 / 200\n"
     ]
    },
    {
     "name": "stderr",
     "output_type": "stream",
     "text": [
      "Learning estimator number: 34/35; MSE error on train dataset: 161.194689857"
     ]
    },
    {
     "name": "stdout",
     "output_type": "stream",
     "text": [
      "MSE on test Dataset: 8665.69878676 Iteration of Bagging: 99 / 200\n",
      "MSE on train Dataset: 1546.60563472 Iteration of Bagging: 99 / 200\n"
     ]
    },
    {
     "name": "stderr",
     "output_type": "stream",
     "text": [
      "Learning estimator number: 3/35; MSE error on train dataset: 166.180323317"
     ]
    },
    {
     "name": "stdout",
     "output_type": "stream",
     "text": [
      "MSE on test Dataset: 8730.89870668 Iteration of Bagging: 100 / 200\n",
      "MSE on train Dataset: 1536.24078604 Iteration of Bagging: 100 / 200\n"
     ]
    },
    {
     "name": "stderr",
     "output_type": "stream",
     "text": [
      "Iteration of bagging:102/200"
     ]
    },
    {
     "name": "stdout",
     "output_type": "stream",
     "text": [
      "MSE on test Dataset: 8782.42051611 Iteration of Bagging: 101 / 200\n",
      "MSE on train Dataset: 1562.91768853 Iteration of Bagging: 101 / 200\n"
     ]
    },
    {
     "name": "stderr",
     "output_type": "stream",
     "text": [
      "Learning estimator number: 3/35; MSE error on train dataset: 122.92264394"
     ]
    },
    {
     "name": "stdout",
     "output_type": "stream",
     "text": [
      "MSE on test Dataset: 8871.22439174 Iteration of Bagging: 102 / 200\n",
      "MSE on train Dataset: 1584.51422047 Iteration of Bagging: 102 / 200\n"
     ]
    },
    {
     "name": "stderr",
     "output_type": "stream",
     "text": [
      "Learning estimator number: 3/35; MSE error on train dataset: 4350.9337185"
     ]
    },
    {
     "name": "stdout",
     "output_type": "stream",
     "text": [
      "MSE on test Dataset: 8952.20468806 Iteration of Bagging: 103 / 200\n",
      "MSE on train Dataset: 1608.05968813 Iteration of Bagging: 103 / 200\n"
     ]
    },
    {
     "name": "stderr",
     "output_type": "stream",
     "text": [
      "Learning estimator number: 34/35; MSE error on train dataset: 143.733845457"
     ]
    },
    {
     "name": "stdout",
     "output_type": "stream",
     "text": [
      "MSE on test Dataset: 8918.06893806 Iteration of Bagging: 104 / 200\n",
      "MSE on train Dataset: 1586.546344 Iteration of Bagging: 104 / 200\n"
     ]
    },
    {
     "name": "stderr",
     "output_type": "stream",
     "text": [
      "Learning estimator number: 3/35; MSE error on train dataset: 1498.57729706"
     ]
    },
    {
     "name": "stdout",
     "output_type": "stream",
     "text": [
      "MSE on test Dataset: 9029.24152567 Iteration of Bagging: 105 / 200\n",
      "MSE on train Dataset: 1608.08144305 Iteration of Bagging: 105 / 200\n"
     ]
    },
    {
     "name": "stderr",
     "output_type": "stream",
     "text": [
      "Iteration of bagging:107/200"
     ]
    },
    {
     "name": "stdout",
     "output_type": "stream",
     "text": [
      "MSE on test Dataset: 8798.70921329 Iteration of Bagging: 106 / 200\n",
      "MSE on train Dataset: 1573.13419586 Iteration of Bagging: 106 / 200\n"
     ]
    },
    {
     "name": "stderr",
     "output_type": "stream",
     "text": [
      "Iteration of bagging:108/200"
     ]
    },
    {
     "name": "stdout",
     "output_type": "stream",
     "text": [
      "MSE on test Dataset: 8885.51618908 Iteration of Bagging: 107 / 200\n",
      "MSE on train Dataset: 1587.49996156 Iteration of Bagging: 107 / 200\n"
     ]
    },
    {
     "name": "stderr",
     "output_type": "stream",
     "text": [
      "Iteration of bagging:109/200"
     ]
    },
    {
     "name": "stdout",
     "output_type": "stream",
     "text": [
      "MSE on test Dataset: 8930.22186004 Iteration of Bagging: 108 / 200\n",
      "MSE on train Dataset: 1602.62196362 Iteration of Bagging: 108 / 200\n"
     ]
    },
    {
     "name": "stderr",
     "output_type": "stream",
     "text": [
      "Iteration of bagging:110/200"
     ]
    },
    {
     "name": "stdout",
     "output_type": "stream",
     "text": [
      "MSE on test Dataset: 9023.13622405 Iteration of Bagging: 109 / 200\n",
      "MSE on train Dataset: 1615.81204174 Iteration of Bagging: 109 / 200\n"
     ]
    },
    {
     "name": "stderr",
     "output_type": "stream",
     "text": [
      "Learning estimator number: 1/35; MSE error on train dataset: 491.428257201"
     ]
    },
    {
     "name": "stdout",
     "output_type": "stream",
     "text": [
      "MSE on test Dataset: 9065.46198771 Iteration of Bagging: 110 / 200\n",
      "MSE on train Dataset: 1626.07902786 Iteration of Bagging: 110 / 200\n"
     ]
    },
    {
     "name": "stderr",
     "output_type": "stream",
     "text": [
      "Learning estimator number: 1/35; MSE error on train dataset: 492.692115522"
     ]
    },
    {
     "name": "stdout",
     "output_type": "stream",
     "text": [
      "MSE on test Dataset: 9172.36281181 Iteration of Bagging: 111 / 200\n",
      "MSE on train Dataset: 1634.7824377 Iteration of Bagging: 111 / 200\n"
     ]
    },
    {
     "name": "stderr",
     "output_type": "stream",
     "text": [
      "Learning estimator number: 2/35; MSE error on train dataset: 783.974071252"
     ]
    },
    {
     "name": "stdout",
     "output_type": "stream",
     "text": [
      "MSE on test Dataset: 9250.5915023 Iteration of Bagging: 112 / 200\n",
      "MSE on train Dataset: 1651.83761579 Iteration of Bagging: 112 / 200\n"
     ]
    },
    {
     "name": "stderr",
     "output_type": "stream",
     "text": [
      "Iteration of bagging:114/200"
     ]
    },
    {
     "name": "stdout",
     "output_type": "stream",
     "text": [
      "MSE on test Dataset: 9242.82599838 Iteration of Bagging: 113 / 200\n",
      "MSE on train Dataset: 1652.96652303 Iteration of Bagging: 113 / 200\n"
     ]
    },
    {
     "name": "stderr",
     "output_type": "stream",
     "text": [
      "Learning estimator number: 34/35; MSE error on train dataset: 406.287924862"
     ]
    },
    {
     "name": "stdout",
     "output_type": "stream",
     "text": [
      "MSE on test Dataset: 9061.10001083 Iteration of Bagging: 114 / 200\n",
      "MSE on train Dataset: 1628.77595915 Iteration of Bagging: 114 / 200\n"
     ]
    },
    {
     "name": "stderr",
     "output_type": "stream",
     "text": [
      "Learning estimator number: 2/35; MSE error on train dataset: 151.219049047"
     ]
    },
    {
     "name": "stdout",
     "output_type": "stream",
     "text": [
      "MSE on test Dataset: 8886.92444395 Iteration of Bagging: 115 / 200\n",
      "MSE on train Dataset: 1602.60085988 Iteration of Bagging: 115 / 200\n"
     ]
    },
    {
     "name": "stderr",
     "output_type": "stream",
     "text": [
      "Learning estimator number: 3/35; MSE error on train dataset: 1147.74510054"
     ]
    },
    {
     "name": "stdout",
     "output_type": "stream",
     "text": [
      "MSE on test Dataset: 8968.01025084 Iteration of Bagging: 116 / 200\n",
      "MSE on train Dataset: 1622.97671694 Iteration of Bagging: 116 / 200\n"
     ]
    },
    {
     "name": "stderr",
     "output_type": "stream",
     "text": [
      "Iteration of bagging:118/200"
     ]
    },
    {
     "name": "stdout",
     "output_type": "stream",
     "text": [
      "MSE on test Dataset: 9046.40713597 Iteration of Bagging: 117 / 200\n",
      "MSE on train Dataset: 1640.63339511 Iteration of Bagging: 117 / 200\n"
     ]
    },
    {
     "name": "stderr",
     "output_type": "stream",
     "text": [
      "Learning estimator number: 1/35; MSE error on train dataset: 75.0248559134"
     ]
    },
    {
     "name": "stdout",
     "output_type": "stream",
     "text": [
      "MSE on test Dataset: 9122.18252204 Iteration of Bagging: 118 / 200\n",
      "MSE on train Dataset: 1657.2064424 Iteration of Bagging: 118 / 200\n"
     ]
    },
    {
     "name": "stderr",
     "output_type": "stream",
     "text": [
      "Iteration of bagging:120/200"
     ]
    },
    {
     "name": "stdout",
     "output_type": "stream",
     "text": [
      "MSE on test Dataset: 9186.77063609 Iteration of Bagging: 119 / 200\n",
      "MSE on train Dataset: 1677.24385373 Iteration of Bagging: 119 / 200\n"
     ]
    },
    {
     "name": "stderr",
     "output_type": "stream",
     "text": [
      "Learning estimator number: 3/35; MSE error on train dataset: 127.992965894"
     ]
    },
    {
     "name": "stdout",
     "output_type": "stream",
     "text": [
      "MSE on test Dataset: 9266.20686218 Iteration of Bagging: 120 / 200\n",
      "MSE on train Dataset: 1699.118984 Iteration of Bagging: 120 / 200\n"
     ]
    },
    {
     "name": "stderr",
     "output_type": "stream",
     "text": [
      "Learning estimator number: 5/35; MSE error on train dataset: 112.354663858"
     ]
    },
    {
     "name": "stdout",
     "output_type": "stream",
     "text": [
      "MSE on test Dataset: 9333.9643723 Iteration of Bagging: 121 / 200\n",
      "MSE on train Dataset: 1718.54592328 Iteration of Bagging: 121 / 200\n"
     ]
    },
    {
     "name": "stderr",
     "output_type": "stream",
     "text": [
      "Iteration of bagging:123/200"
     ]
    },
    {
     "name": "stdout",
     "output_type": "stream",
     "text": [
      "MSE on test Dataset: 9410.94063186 Iteration of Bagging: 122 / 200\n",
      "MSE on train Dataset: 1739.89254329 Iteration of Bagging: 122 / 200\n"
     ]
    },
    {
     "name": "stderr",
     "output_type": "stream",
     "text": [
      "Learning estimator number: 1/35; MSE error on train dataset: 1980.94155818"
     ]
    },
    {
     "name": "stdout",
     "output_type": "stream",
     "text": [
      "MSE on test Dataset: 9485.06246606 Iteration of Bagging: 123 / 200\n",
      "MSE on train Dataset: 1744.67951439 Iteration of Bagging: 123 / 200\n"
     ]
    },
    {
     "name": "stderr",
     "output_type": "stream",
     "text": [
      "Iteration of bagging:125/200"
     ]
    },
    {
     "name": "stdout",
     "output_type": "stream",
     "text": [
      "MSE on test Dataset: 9575.91661621 Iteration of Bagging: 124 / 200\n",
      "MSE on train Dataset: 1727.28491937 Iteration of Bagging: 124 / 200\n"
     ]
    },
    {
     "name": "stderr",
     "output_type": "stream",
     "text": [
      "Learning estimator number: 34/35; MSE error on train dataset: 392.22289358"
     ]
    },
    {
     "name": "stdout",
     "output_type": "stream",
     "text": [
      "MSE on test Dataset: 9559.72729736 Iteration of Bagging: 125 / 200\n",
      "MSE on train Dataset: 1715.46250356 Iteration of Bagging: 125 / 200\n"
     ]
    },
    {
     "name": "stderr",
     "output_type": "stream",
     "text": [
      "Learning estimator number: 5/35; MSE error on train dataset: 86.9152645624"
     ]
    },
    {
     "name": "stdout",
     "output_type": "stream",
     "text": [
      "MSE on test Dataset: 9626.36377148 Iteration of Bagging: 126 / 200\n",
      "MSE on train Dataset: 1736.23380543 Iteration of Bagging: 126 / 200\n"
     ]
    },
    {
     "name": "stderr",
     "output_type": "stream",
     "text": [
      "Iteration of bagging:128/200"
     ]
    },
    {
     "name": "stdout",
     "output_type": "stream",
     "text": [
      "MSE on test Dataset: 9693.39732574 Iteration of Bagging: 127 / 200\n",
      "MSE on train Dataset: 1754.20601682 Iteration of Bagging: 127 / 200\n"
     ]
    },
    {
     "name": "stderr",
     "output_type": "stream",
     "text": [
      "Learning estimator number: 3/35; MSE error on train dataset: 2421.44623742"
     ]
    },
    {
     "name": "stdout",
     "output_type": "stream",
     "text": [
      "MSE on test Dataset: 9749.4222626 Iteration of Bagging: 128 / 200\n",
      "MSE on train Dataset: 1771.85160833 Iteration of Bagging: 128 / 200\n"
     ]
    },
    {
     "name": "stderr",
     "output_type": "stream",
     "text": [
      "Learning estimator number: 34/35; MSE error on train dataset: 291.008921622"
     ]
    },
    {
     "name": "stdout",
     "output_type": "stream",
     "text": [
      "MSE on test Dataset: 9552.75639982 Iteration of Bagging: 129 / 200\n",
      "MSE on train Dataset: 1747.68626526 Iteration of Bagging: 129 / 200\n"
     ]
    },
    {
     "name": "stderr",
     "output_type": "stream",
     "text": [
      "Learning estimator number: 4/35; MSE error on train dataset: 461.775798976"
     ]
    },
    {
     "name": "stdout",
     "output_type": "stream",
     "text": [
      "MSE on test Dataset: 9583.52677147 Iteration of Bagging: 130 / 200\n",
      "MSE on train Dataset: 1736.76669025 Iteration of Bagging: 130 / 200\n"
     ]
    },
    {
     "name": "stderr",
     "output_type": "stream",
     "text": [
      "Learning estimator number: 2/35; MSE error on train dataset: 65.7819516482"
     ]
    },
    {
     "name": "stdout",
     "output_type": "stream",
     "text": [
      "MSE on test Dataset: 9675.03095721 Iteration of Bagging: 131 / 200\n",
      "MSE on train Dataset: 1756.23658168 Iteration of Bagging: 131 / 200\n"
     ]
    },
    {
     "name": "stderr",
     "output_type": "stream",
     "text": [
      "Learning estimator number: 4/35; MSE error on train dataset: 486.485585406"
     ]
    },
    {
     "name": "stdout",
     "output_type": "stream",
     "text": [
      "MSE on test Dataset: 9723.99333981 Iteration of Bagging: 132 / 200\n",
      "MSE on train Dataset: 1772.90095049 Iteration of Bagging: 132 / 200\n"
     ]
    },
    {
     "name": "stderr",
     "output_type": "stream",
     "text": [
      "Iteration of bagging:134/200"
     ]
    },
    {
     "name": "stdout",
     "output_type": "stream",
     "text": [
      "MSE on test Dataset: 9718.2341195 Iteration of Bagging: 133 / 200\n",
      "MSE on train Dataset: 1740.62813659 Iteration of Bagging: 133 / 200\n"
     ]
    },
    {
     "name": "stderr",
     "output_type": "stream",
     "text": [
      "Iteration of bagging:135/200"
     ]
    },
    {
     "name": "stdout",
     "output_type": "stream",
     "text": [
      "MSE on test Dataset: 9791.66151308 Iteration of Bagging: 134 / 200\n",
      "MSE on train Dataset: 1740.43556711 Iteration of Bagging: 134 / 200\n"
     ]
    },
    {
     "name": "stderr",
     "output_type": "stream",
     "text": [
      "Learning estimator number: 1/35; MSE error on train dataset: 5122.61608852"
     ]
    },
    {
     "name": "stdout",
     "output_type": "stream",
     "text": [
      "MSE on test Dataset: 9853.363585 Iteration of Bagging: 135 / 200\n",
      "MSE on train Dataset: 1740.44394607 Iteration of Bagging: 135 / 200\n"
     ]
    },
    {
     "name": "stderr",
     "output_type": "stream",
     "text": [
      "Learning estimator number: 4/35; MSE error on train dataset: 175.289486305"
     ]
    },
    {
     "name": "stdout",
     "output_type": "stream",
     "text": [
      "MSE on test Dataset: 9722.45229963 Iteration of Bagging: 136 / 200\n",
      "MSE on train Dataset: 1715.22280626 Iteration of Bagging: 136 / 200\n"
     ]
    },
    {
     "name": "stderr",
     "output_type": "stream",
     "text": [
      "Learning estimator number: 4/35; MSE error on train dataset: 765.836725438"
     ]
    },
    {
     "name": "stdout",
     "output_type": "stream",
     "text": [
      "MSE on test Dataset: 9761.25222009 Iteration of Bagging: 137 / 200\n",
      "MSE on train Dataset: 1717.88680062 Iteration of Bagging: 137 / 200\n"
     ]
    },
    {
     "name": "stderr",
     "output_type": "stream",
     "text": [
      "Learning estimator number: 4/35; MSE error on train dataset: 409.239920625"
     ]
    },
    {
     "name": "stdout",
     "output_type": "stream",
     "text": [
      "MSE on test Dataset: 9730.2779911 Iteration of Bagging: 138 / 200\n",
      "MSE on train Dataset: 1722.70774604 Iteration of Bagging: 138 / 200\n"
     ]
    },
    {
     "name": "stderr",
     "output_type": "stream",
     "text": [
      "Learning estimator number: 1/35; MSE error on train dataset: 197.917447022"
     ]
    },
    {
     "name": "stdout",
     "output_type": "stream",
     "text": [
      "MSE on test Dataset: 9790.06974807 Iteration of Bagging: 139 / 200\n",
      "MSE on train Dataset: 1713.63941066 Iteration of Bagging: 139 / 200\n"
     ]
    },
    {
     "name": "stderr",
     "output_type": "stream",
     "text": [
      "Learning estimator number: 1/35; MSE error on train dataset: 257.31022628"
     ]
    },
    {
     "name": "stdout",
     "output_type": "stream",
     "text": [
      "MSE on test Dataset: 9857.26569514 Iteration of Bagging: 140 / 200\n",
      "MSE on train Dataset: 1730.34473537 Iteration of Bagging: 140 / 200\n"
     ]
    },
    {
     "name": "stderr",
     "output_type": "stream",
     "text": [
      "Learning estimator number: 3/35; MSE error on train dataset: 370.510772328"
     ]
    },
    {
     "name": "stdout",
     "output_type": "stream",
     "text": [
      "MSE on test Dataset: 9915.4607375 Iteration of Bagging: 141 / 200\n",
      "MSE on train Dataset: 1746.11731888 Iteration of Bagging: 141 / 200\n"
     ]
    },
    {
     "name": "stderr",
     "output_type": "stream",
     "text": [
      "Iteration of bagging:143/200"
     ]
    },
    {
     "name": "stdout",
     "output_type": "stream",
     "text": [
      "MSE on test Dataset: 9983.58132762 Iteration of Bagging: 142 / 200\n",
      "MSE on train Dataset: 1752.51063134 Iteration of Bagging: 142 / 200\n"
     ]
    },
    {
     "name": "stderr",
     "output_type": "stream",
     "text": [
      "Iteration of bagging:144/200"
     ]
    },
    {
     "name": "stdout",
     "output_type": "stream",
     "text": [
      "MSE on test Dataset: 10055.5854489 Iteration of Bagging: 143 / 200\n",
      "MSE on train Dataset: 1768.16892967 Iteration of Bagging: 143 / 200\n"
     ]
    },
    {
     "name": "stderr",
     "output_type": "stream",
     "text": [
      "Iteration of bagging:145/200"
     ]
    },
    {
     "name": "stdout",
     "output_type": "stream",
     "text": [
      "MSE on test Dataset: 10113.6918795 Iteration of Bagging: 144 / 200\n",
      "MSE on train Dataset: 1784.25690632 Iteration of Bagging: 144 / 200\n"
     ]
    },
    {
     "name": "stderr",
     "output_type": "stream",
     "text": [
      "Learning estimator number: 34/35; MSE error on train dataset: 1074.60997802"
     ]
    },
    {
     "name": "stdout",
     "output_type": "stream",
     "text": [
      "MSE on test Dataset: 10175.3004862 Iteration of Bagging: 145 / 200\n",
      "MSE on train Dataset: 1793.04802221 Iteration of Bagging: 145 / 200\n"
     ]
    },
    {
     "name": "stderr",
     "output_type": "stream",
     "text": [
      "Iteration of bagging:147/200"
     ]
    },
    {
     "name": "stdout",
     "output_type": "stream",
     "text": [
      "MSE on test Dataset: 9967.13057075 Iteration of Bagging: 146 / 200\n",
      "MSE on train Dataset: 1777.31389388 Iteration of Bagging: 146 / 200\n"
     ]
    },
    {
     "name": "stderr",
     "output_type": "stream",
     "text": [
      "Learning estimator number: 4/35; MSE error on train dataset: 3576.63073256"
     ]
    },
    {
     "name": "stdout",
     "output_type": "stream",
     "text": [
      "MSE on test Dataset: 10028.7022578 Iteration of Bagging: 147 / 200\n",
      "MSE on train Dataset: 1769.78738228 Iteration of Bagging: 147 / 200\n"
     ]
    },
    {
     "name": "stderr",
     "output_type": "stream",
     "text": [
      "Learning estimator number: 2/35; MSE error on train dataset: 157.647521543"
     ]
    },
    {
     "name": "stdout",
     "output_type": "stream",
     "text": [
      "MSE on test Dataset: 9958.87079575 Iteration of Bagging: 148 / 200\n",
      "MSE on train Dataset: 1752.54891146 Iteration of Bagging: 148 / 200\n"
     ]
    },
    {
     "name": "stderr",
     "output_type": "stream",
     "text": [
      "Learning estimator number: 1/35; MSE error on train dataset: 100.728004035"
     ]
    },
    {
     "name": "stdout",
     "output_type": "stream",
     "text": [
      "MSE on test Dataset: 10038.9601345 Iteration of Bagging: 149 / 200\n",
      "MSE on train Dataset: 1767.8972068 Iteration of Bagging: 149 / 200\n"
     ]
    },
    {
     "name": "stderr",
     "output_type": "stream",
     "text": [
      "Learning estimator number: 1/35; MSE error on train dataset: 4856.71847028"
     ]
    },
    {
     "name": "stdout",
     "output_type": "stream",
     "text": [
      "MSE on test Dataset: 10101.8654899 Iteration of Bagging: 150 / 200\n",
      "MSE on train Dataset: 1782.61253529 Iteration of Bagging: 150 / 200\n"
     ]
    },
    {
     "name": "stderr",
     "output_type": "stream",
     "text": [
      "Iteration of bagging:152/200"
     ]
    },
    {
     "name": "stdout",
     "output_type": "stream",
     "text": [
      "MSE on test Dataset: 10151.6141805 Iteration of Bagging: 151 / 200\n",
      "MSE on train Dataset: 1767.87929952 Iteration of Bagging: 151 / 200\n"
     ]
    },
    {
     "name": "stderr",
     "output_type": "stream",
     "text": [
      "Learning estimator number: 2/35; MSE error on train dataset: 157.60702154"
     ]
    },
    {
     "name": "stdout",
     "output_type": "stream",
     "text": [
      "MSE on test Dataset: 10137.384586 Iteration of Bagging: 152 / 200\n",
      "MSE on train Dataset: 1765.20224223 Iteration of Bagging: 152 / 200\n"
     ]
    },
    {
     "name": "stderr",
     "output_type": "stream",
     "text": [
      "Learning estimator number: 3/35; MSE error on train dataset: 1292.47193921"
     ]
    },
    {
     "name": "stdout",
     "output_type": "stream",
     "text": [
      "MSE on test Dataset: 10190.6239761 Iteration of Bagging: 153 / 200\n",
      "MSE on train Dataset: 1779.88196831 Iteration of Bagging: 153 / 200\n"
     ]
    },
    {
     "name": "stderr",
     "output_type": "stream",
     "text": [
      "Learning estimator number: 2/35; MSE error on train dataset: 1820.05983086"
     ]
    },
    {
     "name": "stdout",
     "output_type": "stream",
     "text": [
      "MSE on test Dataset: 10169.8738599 Iteration of Bagging: 154 / 200\n",
      "MSE on train Dataset: 1787.49671859 Iteration of Bagging: 154 / 200\n"
     ]
    },
    {
     "name": "stderr",
     "output_type": "stream",
     "text": [
      "Learning estimator number: 34/35; MSE error on train dataset: 215.029631129"
     ]
    },
    {
     "name": "stdout",
     "output_type": "stream",
     "text": [
      "MSE on test Dataset: 10029.1723929 Iteration of Bagging: 155 / 200\n",
      "MSE on train Dataset: 1766.75558289 Iteration of Bagging: 155 / 200\n"
     ]
    },
    {
     "name": "stderr",
     "output_type": "stream",
     "text": [
      "Learning estimator number: 3/35; MSE error on train dataset: 178.887845217"
     ]
    },
    {
     "name": "stdout",
     "output_type": "stream",
     "text": [
      "MSE on test Dataset: 10001.1883489 Iteration of Bagging: 156 / 200\n",
      "MSE on train Dataset: 1774.29241646 Iteration of Bagging: 156 / 200\n"
     ]
    },
    {
     "name": "stderr",
     "output_type": "stream",
     "text": [
      "Learning estimator number: 4/35; MSE error on train dataset: 1406.43094884"
     ]
    },
    {
     "name": "stdout",
     "output_type": "stream",
     "text": [
      "MSE on test Dataset: 10056.343374 Iteration of Bagging: 157 / 200\n",
      "MSE on train Dataset: 1779.89056855 Iteration of Bagging: 157 / 200\n"
     ]
    },
    {
     "name": "stderr",
     "output_type": "stream",
     "text": [
      "Iteration of bagging:159/200"
     ]
    },
    {
     "name": "stdout",
     "output_type": "stream",
     "text": [
      "MSE on test Dataset: 9878.64101332 Iteration of Bagging: 158 / 200\n",
      "MSE on train Dataset: 1758.49113153 Iteration of Bagging: 158 / 200\n"
     ]
    },
    {
     "name": "stderr",
     "output_type": "stream",
     "text": [
      "Learning estimator number: 2/35; MSE error on train dataset: 386.836708745"
     ]
    },
    {
     "name": "stdout",
     "output_type": "stream",
     "text": [
      "MSE on test Dataset: 9939.41199542 Iteration of Bagging: 159 / 200\n",
      "MSE on train Dataset: 1742.32851961 Iteration of Bagging: 159 / 200\n"
     ]
    },
    {
     "name": "stderr",
     "output_type": "stream",
     "text": [
      "Iteration of bagging:161/200"
     ]
    },
    {
     "name": "stdout",
     "output_type": "stream",
     "text": [
      "MSE on test Dataset: 10000.2626102 Iteration of Bagging: 160 / 200\n",
      "MSE on train Dataset: 1746.68647645 Iteration of Bagging: 160 / 200\n"
     ]
    },
    {
     "name": "stderr",
     "output_type": "stream",
     "text": [
      "Iteration of bagging:162/200"
     ]
    },
    {
     "name": "stdout",
     "output_type": "stream",
     "text": [
      "MSE on test Dataset: 10035.1693168 Iteration of Bagging: 161 / 200\n",
      "MSE on train Dataset: 1763.51664436 Iteration of Bagging: 161 / 200\n"
     ]
    },
    {
     "name": "stderr",
     "output_type": "stream",
     "text": [
      "Learning estimator number: 34/35; MSE error on train dataset: 44.4119933869"
     ]
    },
    {
     "name": "stdout",
     "output_type": "stream",
     "text": [
      "MSE on test Dataset: 10082.1234534 Iteration of Bagging: 162 / 200\n",
      "MSE on train Dataset: 1762.07841527 Iteration of Bagging: 162 / 200\n"
     ]
    },
    {
     "name": "stderr",
     "output_type": "stream",
     "text": [
      "Learning estimator number: 34/35; MSE error on train dataset: 81.7413078139"
     ]
    },
    {
     "name": "stdout",
     "output_type": "stream",
     "text": [
      "MSE on test Dataset: 10034.5582282 Iteration of Bagging: 163 / 200\n",
      "MSE on train Dataset: 1748.38644315 Iteration of Bagging: 163 / 200\n"
     ]
    },
    {
     "name": "stderr",
     "output_type": "stream",
     "text": [
      "Learning estimator number: 4/35; MSE error on train dataset: 31.1741224077"
     ]
    },
    {
     "name": "stdout",
     "output_type": "stream",
     "text": [
      "MSE on test Dataset: 9925.28756332 Iteration of Bagging: 164 / 200\n",
      "MSE on train Dataset: 1734.35540695 Iteration of Bagging: 164 / 200\n"
     ]
    },
    {
     "name": "stderr",
     "output_type": "stream",
     "text": [
      "Learning estimator number: 2/35; MSE error on train dataset: 849.901887551"
     ]
    },
    {
     "name": "stdout",
     "output_type": "stream",
     "text": [
      "MSE on test Dataset: 9947.18734391 Iteration of Bagging: 165 / 200\n",
      "MSE on train Dataset: 1750.07148303 Iteration of Bagging: 165 / 200\n"
     ]
    },
    {
     "name": "stderr",
     "output_type": "stream",
     "text": [
      "Learning estimator number: 3/35; MSE error on train dataset: 1625.26365569"
     ]
    },
    {
     "name": "stdout",
     "output_type": "stream",
     "text": [
      "MSE on test Dataset: 10006.2622343 Iteration of Bagging: 166 / 200\n",
      "MSE on train Dataset: 1750.75621761 Iteration of Bagging: 166 / 200\n"
     ]
    },
    {
     "name": "stderr",
     "output_type": "stream",
     "text": [
      "Learning estimator number: 2/35; MSE error on train dataset: 1292.9854522"
     ]
    },
    {
     "name": "stdout",
     "output_type": "stream",
     "text": [
      "MSE on test Dataset: 9861.39857936 Iteration of Bagging: 167 / 200\n",
      "MSE on train Dataset: 1730.60588889 Iteration of Bagging: 167 / 200\n"
     ]
    },
    {
     "name": "stderr",
     "output_type": "stream",
     "text": [
      "Iteration of bagging:169/200"
     ]
    },
    {
     "name": "stdout",
     "output_type": "stream",
     "text": [
      "MSE on test Dataset: 9837.73295154 Iteration of Bagging: 168 / 200\n",
      "MSE on train Dataset: 1737.16654686 Iteration of Bagging: 168 / 200\n"
     ]
    },
    {
     "name": "stderr",
     "output_type": "stream",
     "text": [
      "Learning estimator number: 4/35; MSE error on train dataset: 1667.99430901"
     ]
    },
    {
     "name": "stdout",
     "output_type": "stream",
     "text": [
      "MSE on test Dataset: 9703.85786792 Iteration of Bagging: 169 / 200\n",
      "MSE on train Dataset: 1717.88698787 Iteration of Bagging: 169 / 200\n"
     ]
    },
    {
     "name": "stderr",
     "output_type": "stream",
     "text": [
      "Learning estimator number: 5/35; MSE error on train dataset: 503.593647884"
     ]
    },
    {
     "name": "stdout",
     "output_type": "stream",
     "text": [
      "MSE on test Dataset: 9588.66348705 Iteration of Bagging: 170 / 200\n",
      "MSE on train Dataset: 1699.89358584 Iteration of Bagging: 170 / 200\n"
     ]
    },
    {
     "name": "stderr",
     "output_type": "stream",
     "text": [
      "Learning estimator number: 2/35; MSE error on train dataset: 332.983008584"
     ]
    },
    {
     "name": "stdout",
     "output_type": "stream",
     "text": [
      "MSE on test Dataset: 9572.74115534 Iteration of Bagging: 171 / 200\n",
      "MSE on train Dataset: 1706.20027853 Iteration of Bagging: 171 / 200\n"
     ]
    },
    {
     "name": "stderr",
     "output_type": "stream",
     "text": [
      "Iteration of bagging:173/200"
     ]
    },
    {
     "name": "stdout",
     "output_type": "stream",
     "text": [
      "MSE on test Dataset: 9628.25870533 Iteration of Bagging: 172 / 200\n",
      "MSE on train Dataset: 1715.3390866 Iteration of Bagging: 172 / 200\n"
     ]
    },
    {
     "name": "stderr",
     "output_type": "stream",
     "text": [
      "Learning estimator number: 4/35; MSE error on train dataset: 85.2005918077"
     ]
    },
    {
     "name": "stdout",
     "output_type": "stream",
     "text": [
      "MSE on test Dataset: 9679.05268521 Iteration of Bagging: 173 / 200\n",
      "MSE on train Dataset: 1730.02001158 Iteration of Bagging: 173 / 200\n"
     ]
    },
    {
     "name": "stderr",
     "output_type": "stream",
     "text": [
      "Learning estimator number: 2/35; MSE error on train dataset: 1634.2615658"
     ]
    },
    {
     "name": "stdout",
     "output_type": "stream",
     "text": [
      "MSE on test Dataset: 9723.11573777 Iteration of Bagging: 174 / 200\n",
      "MSE on train Dataset: 1743.80816135 Iteration of Bagging: 174 / 200\n"
     ]
    },
    {
     "name": "stderr",
     "output_type": "stream",
     "text": [
      "Learning estimator number: 1/35; MSE error on train dataset: 1914.41392518"
     ]
    },
    {
     "name": "stdout",
     "output_type": "stream",
     "text": [
      "MSE on test Dataset: 9734.74460519 Iteration of Bagging: 175 / 200\n",
      "MSE on train Dataset: 1733.23584284 Iteration of Bagging: 175 / 200\n"
     ]
    },
    {
     "name": "stderr",
     "output_type": "stream",
     "text": [
      "Learning estimator number: 34/35; MSE error on train dataset: 144.390500022"
     ]
    },
    {
     "name": "stdout",
     "output_type": "stream",
     "text": [
      "MSE on test Dataset: 9594.45189945 Iteration of Bagging: 176 / 200\n",
      "MSE on train Dataset: 1713.89052113 Iteration of Bagging: 176 / 200\n"
     ]
    },
    {
     "name": "stderr",
     "output_type": "stream",
     "text": [
      "Learning estimator number: 2/35; MSE error on train dataset: 183.061139359"
     ]
    },
    {
     "name": "stdout",
     "output_type": "stream",
     "text": [
      "MSE on test Dataset: 9566.61147697 Iteration of Bagging: 177 / 200\n",
      "MSE on train Dataset: 1721.324651 Iteration of Bagging: 177 / 200\n"
     ]
    },
    {
     "name": "stderr",
     "output_type": "stream",
     "text": [
      "Iteration of bagging:179/200"
     ]
    },
    {
     "name": "stdout",
     "output_type": "stream",
     "text": [
      "MSE on test Dataset: 9621.61784666 Iteration of Bagging: 178 / 200\n",
      "MSE on train Dataset: 1734.49101237 Iteration of Bagging: 178 / 200\n"
     ]
    },
    {
     "name": "stderr",
     "output_type": "stream",
     "text": [
      "Iteration of bagging:180/200"
     ]
    },
    {
     "name": "stdout",
     "output_type": "stream",
     "text": [
      "MSE on test Dataset: 9682.9994533 Iteration of Bagging: 179 / 200\n",
      "MSE on train Dataset: 1739.69445663 Iteration of Bagging: 179 / 200\n"
     ]
    },
    {
     "name": "stderr",
     "output_type": "stream",
     "text": [
      "Learning estimator number: 5/35; MSE error on train dataset: 69.1671554145"
     ]
    },
    {
     "name": "stdout",
     "output_type": "stream",
     "text": [
      "MSE on test Dataset: 9532.36346751 Iteration of Bagging: 180 / 200\n",
      "MSE on train Dataset: 1720.35167554 Iteration of Bagging: 180 / 200\n"
     ]
    },
    {
     "name": "stderr",
     "output_type": "stream",
     "text": [
      "Learning estimator number: 3/35; MSE error on train dataset: 350.913179317"
     ]
    },
    {
     "name": "stdout",
     "output_type": "stream",
     "text": [
      "MSE on test Dataset: 9577.86506754 Iteration of Bagging: 181 / 200\n",
      "MSE on train Dataset: 1733.1106712 Iteration of Bagging: 181 / 200\n"
     ]
    },
    {
     "name": "stderr",
     "output_type": "stream",
     "text": [
      "Learning estimator number: 34/35; MSE error on train dataset: 60.4515160285"
     ]
    },
    {
     "name": "stdout",
     "output_type": "stream",
     "text": [
      "MSE on test Dataset: 9571.50405876 Iteration of Bagging: 182 / 200\n",
      "MSE on train Dataset: 1741.82385108 Iteration of Bagging: 182 / 200\n"
     ]
    },
    {
     "name": "stderr",
     "output_type": "stream",
     "text": [
      "Learning estimator number: 4/35; MSE error on train dataset: 83.4645342424"
     ]
    },
    {
     "name": "stdout",
     "output_type": "stream",
     "text": [
      "MSE on test Dataset: 9574.15373699 Iteration of Bagging: 183 / 200\n",
      "MSE on train Dataset: 1732.88297616 Iteration of Bagging: 183 / 200\n"
     ]
    },
    {
     "name": "stderr",
     "output_type": "stream",
     "text": [
      "Learning estimator number: 2/35; MSE error on train dataset: 4165.73490388"
     ]
    },
    {
     "name": "stdout",
     "output_type": "stream",
     "text": [
      "MSE on test Dataset: 9622.44390678 Iteration of Bagging: 184 / 200\n",
      "MSE on train Dataset: 1745.50632999 Iteration of Bagging: 184 / 200\n"
     ]
    },
    {
     "name": "stderr",
     "output_type": "stream",
     "text": [
      "Iteration of bagging:186/200"
     ]
    },
    {
     "name": "stdout",
     "output_type": "stream",
     "text": [
      "MSE on test Dataset: 9524.24837832 Iteration of Bagging: 185 / 200\n",
      "MSE on train Dataset: 1728.54601659 Iteration of Bagging: 185 / 200\n"
     ]
    },
    {
     "name": "stderr",
     "output_type": "stream",
     "text": [
      "Iteration of bagging:187/200"
     ]
    },
    {
     "name": "stdout",
     "output_type": "stream",
     "text": [
      "MSE on test Dataset: 9570.65516788 Iteration of Bagging: 186 / 200\n",
      "MSE on train Dataset: 1734.16030093 Iteration of Bagging: 186 / 200\n"
     ]
    },
    {
     "name": "stderr",
     "output_type": "stream",
     "text": [
      "Learning estimator number: 34/35; MSE error on train dataset: 3.37894064752"
     ]
    },
    {
     "name": "stdout",
     "output_type": "stream",
     "text": [
      "MSE on test Dataset: 9620.10258444 Iteration of Bagging: 187 / 200\n",
      "MSE on train Dataset: 1748.37767676 Iteration of Bagging: 187 / 200\n"
     ]
    },
    {
     "name": "stderr",
     "output_type": "stream",
     "text": [
      "Learning estimator number: 1/35; MSE error on train dataset: 5069.67454183"
     ]
    },
    {
     "name": "stdout",
     "output_type": "stream",
     "text": [
      "MSE on test Dataset: 9506.69248171 Iteration of Bagging: 188 / 200\n",
      "MSE on train Dataset: 1731.54313085 Iteration of Bagging: 188 / 200\n"
     ]
    },
    {
     "name": "stderr",
     "output_type": "stream",
     "text": [
      "Iteration of bagging:190/200"
     ]
    },
    {
     "name": "stdout",
     "output_type": "stream",
     "text": [
      "MSE on test Dataset: 9552.66780362 Iteration of Bagging: 189 / 200\n",
      "MSE on train Dataset: 1719.9768342 Iteration of Bagging: 189 / 200\n"
     ]
    },
    {
     "name": "stderr",
     "output_type": "stream",
     "text": [
      "Iteration of bagging:191/200"
     ]
    },
    {
     "name": "stdout",
     "output_type": "stream",
     "text": [
      "MSE on test Dataset: 9457.76037029 Iteration of Bagging: 190 / 200\n",
      "MSE on train Dataset: 1705.81835543 Iteration of Bagging: 190 / 200\n"
     ]
    },
    {
     "name": "stderr",
     "output_type": "stream",
     "text": [
      "Iteration of bagging:192/200"
     ]
    },
    {
     "name": "stdout",
     "output_type": "stream",
     "text": [
      "MSE on test Dataset: 9497.27602396 Iteration of Bagging: 191 / 200\n",
      "MSE on train Dataset: 1717.75686574 Iteration of Bagging: 191 / 200\n"
     ]
    },
    {
     "name": "stderr",
     "output_type": "stream",
     "text": [
      "Iteration of bagging:193/200"
     ]
    },
    {
     "name": "stdout",
     "output_type": "stream",
     "text": [
      "MSE on test Dataset: 9541.98770863 Iteration of Bagging: 192 / 200\n",
      "MSE on train Dataset: 1730.24292569 Iteration of Bagging: 192 / 200\n"
     ]
    },
    {
     "name": "stderr",
     "output_type": "stream",
     "text": [
      "Learning estimator number: 2/35; MSE error on train dataset: 4589.62025051"
     ]
    },
    {
     "name": "stdout",
     "output_type": "stream",
     "text": [
      "MSE on test Dataset: 9584.92374494 Iteration of Bagging: 193 / 200\n",
      "MSE on train Dataset: 1719.77497524 Iteration of Bagging: 193 / 200\n"
     ]
    },
    {
     "name": "stderr",
     "output_type": "stream",
     "text": [
      "Iteration of bagging:195/200"
     ]
    },
    {
     "name": "stdout",
     "output_type": "stream",
     "text": [
      "MSE on test Dataset: 9525.85028252 Iteration of Bagging: 194 / 200\n",
      "MSE on train Dataset: 1703.92008818 Iteration of Bagging: 194 / 200\n"
     ]
    },
    {
     "name": "stderr",
     "output_type": "stream",
     "text": [
      "Learning estimator number: 5/35; MSE error on train dataset: 328.587667992"
     ]
    },
    {
     "name": "stdout",
     "output_type": "stream",
     "text": [
      "MSE on test Dataset: 9570.72586064 Iteration of Bagging: 195 / 200\n",
      "MSE on train Dataset: 1711.09956453 Iteration of Bagging: 195 / 200\n"
     ]
    },
    {
     "name": "stderr",
     "output_type": "stream",
     "text": [
      "Iteration of bagging:197/200"
     ]
    },
    {
     "name": "stdout",
     "output_type": "stream",
     "text": [
      "MSE on test Dataset: 9621.50591609 Iteration of Bagging: 196 / 200\n",
      "MSE on train Dataset: 1716.21686568 Iteration of Bagging: 196 / 200\n"
     ]
    },
    {
     "name": "stderr",
     "output_type": "stream",
     "text": [
      "Iteration of bagging:198/200"
     ]
    },
    {
     "name": "stdout",
     "output_type": "stream",
     "text": [
      "MSE on test Dataset: 9667.52272177 Iteration of Bagging: 197 / 200\n",
      "MSE on train Dataset: 1727.89384352 Iteration of Bagging: 197 / 200\n"
     ]
    },
    {
     "name": "stderr",
     "output_type": "stream",
     "text": [
      "Iteration of bagging:199/200"
     ]
    },
    {
     "name": "stdout",
     "output_type": "stream",
     "text": [
      "MSE on test Dataset: 9578.30807743 Iteration of Bagging: 198 / 200\n",
      "MSE on train Dataset: 1713.11678138 Iteration of Bagging: 198 / 200\n"
     ]
    },
    {
     "name": "stderr",
     "output_type": "stream",
     "text": [
      "Iteration of bagging:0/200"
     ]
    },
    {
     "name": "stdout",
     "output_type": "stream",
     "text": [
      "MSE on test Dataset: 9633.70780002 Iteration of Bagging: 199 / 200\n",
      "MSE on train Dataset: 1726.35886529 Iteration of Bagging: 199 / 200\n"
     ]
    },
    {
     "name": "stderr",
     "output_type": "stream",
     "text": [
      "Learning estimator number: 2/45; MSE error on train dataset: 384.227214604"
     ]
    },
    {
     "name": "stdout",
     "output_type": "stream",
     "text": [
      "MSE on test Dataset: 18696.2262433 Iteration of Bagging: 0 / 200\n",
      "MSE on train Dataset: 6642.68548272 Iteration of Bagging: 0 / 200\n"
     ]
    },
    {
     "name": "stderr",
     "output_type": "stream",
     "text": [
      "Learning estimator number: 3/45; MSE error on train dataset: 496.803005497"
     ]
    },
    {
     "name": "stdout",
     "output_type": "stream",
     "text": [
      "MSE on test Dataset: 19764.1766866 Iteration of Bagging: 1 / 200\n",
      "MSE on train Dataset: 7966.48167092 Iteration of Bagging: 1 / 200\n"
     ]
    },
    {
     "name": "stderr",
     "output_type": "stream",
     "text": [
      "Learning estimator number: 2/45; MSE error on train dataset: 1756.01071523"
     ]
    },
    {
     "name": "stdout",
     "output_type": "stream",
     "text": [
      "MSE on test Dataset: 19359.1527177 Iteration of Bagging: 2 / 200\n",
      "MSE on train Dataset: 5170.85021448 Iteration of Bagging: 2 / 200\n"
     ]
    },
    {
     "name": "stderr",
     "output_type": "stream",
     "text": [
      "Iteration of bagging:4/200"
     ]
    },
    {
     "name": "stdout",
     "output_type": "stream",
     "text": [
      "MSE on test Dataset: 10830.7148171 Iteration of Bagging: 3 / 200\n",
      "MSE on train Dataset: 2958.26124702 Iteration of Bagging: 3 / 200\n"
     ]
    },
    {
     "name": "stderr",
     "output_type": "stream",
     "text": [
      "Learning estimator number: 5/45; MSE error on train dataset: 1851.64500343"
     ]
    },
    {
     "name": "stdout",
     "output_type": "stream",
     "text": [
      "MSE on test Dataset: 12069.0029036 Iteration of Bagging: 4 / 200\n",
      "MSE on train Dataset: 2903.74021539 Iteration of Bagging: 4 / 200\n"
     ]
    },
    {
     "name": "stderr",
     "output_type": "stream",
     "text": [
      "Iteration of bagging:6/200"
     ]
    },
    {
     "name": "stdout",
     "output_type": "stream",
     "text": [
      "MSE on test Dataset: 9564.30394423 Iteration of Bagging: 5 / 200\n",
      "MSE on train Dataset: 2516.47725586 Iteration of Bagging: 5 / 200\n"
     ]
    },
    {
     "name": "stderr",
     "output_type": "stream",
     "text": [
      "Iteration of bagging:7/200"
     ]
    },
    {
     "name": "stdout",
     "output_type": "stream",
     "text": [
      "MSE on test Dataset: 8520.69300351 Iteration of Bagging: 6 / 200\n",
      "MSE on train Dataset: 2362.16110492 Iteration of Bagging: 6 / 200\n"
     ]
    },
    {
     "name": "stderr",
     "output_type": "stream",
     "text": [
      "Learning estimator number: 3/45; MSE error on train dataset: 1515.22755339"
     ]
    },
    {
     "name": "stdout",
     "output_type": "stream",
     "text": [
      "MSE on test Dataset: 9707.84928013 Iteration of Bagging: 7 / 200\n",
      "MSE on train Dataset: 2558.49134414 Iteration of Bagging: 7 / 200\n"
     ]
    },
    {
     "name": "stderr",
     "output_type": "stream",
     "text": [
      "Learning estimator number: 4/45; MSE error on train dataset: 586.313613107"
     ]
    },
    {
     "name": "stdout",
     "output_type": "stream",
     "text": [
      "MSE on test Dataset: 10008.0555292 Iteration of Bagging: 8 / 200\n",
      "MSE on train Dataset: 2121.99368533 Iteration of Bagging: 8 / 200\n"
     ]
    },
    {
     "name": "stderr",
     "output_type": "stream",
     "text": [
      "Learning estimator number: 2/45; MSE error on train dataset: 277.844770345"
     ]
    },
    {
     "name": "stdout",
     "output_type": "stream",
     "text": [
      "MSE on test Dataset: 9996.73568812 Iteration of Bagging: 9 / 200\n",
      "MSE on train Dataset: 1703.90955695 Iteration of Bagging: 9 / 200\n"
     ]
    },
    {
     "name": "stderr",
     "output_type": "stream",
     "text": [
      "Learning estimator number: 4/45; MSE error on train dataset: 1379.4105781"
     ]
    },
    {
     "name": "stdout",
     "output_type": "stream",
     "text": [
      "MSE on test Dataset: 9226.12783255 Iteration of Bagging: 10 / 200\n",
      "MSE on train Dataset: 1702.23442682 Iteration of Bagging: 10 / 200\n"
     ]
    },
    {
     "name": "stderr",
     "output_type": "stream",
     "text": [
      "Learning estimator number: 4/45; MSE error on train dataset: 664.877479859"
     ]
    },
    {
     "name": "stdout",
     "output_type": "stream",
     "text": [
      "MSE on test Dataset: 7871.25637007 Iteration of Bagging: 11 / 200\n",
      "MSE on train Dataset: 1486.45247378 Iteration of Bagging: 11 / 200\n"
     ]
    },
    {
     "name": "stderr",
     "output_type": "stream",
     "text": [
      "Iteration of bagging:13/200"
     ]
    },
    {
     "name": "stdout",
     "output_type": "stream",
     "text": [
      "MSE on test Dataset: 7878.14521587 Iteration of Bagging: 12 / 200\n",
      "MSE on train Dataset: 1561.09998677 Iteration of Bagging: 12 / 200\n"
     ]
    },
    {
     "name": "stderr",
     "output_type": "stream",
     "text": [
      "Learning estimator number: 2/45; MSE error on train dataset: 549.695796245"
     ]
    },
    {
     "name": "stdout",
     "output_type": "stream",
     "text": [
      "MSE on test Dataset: 6527.02899814 Iteration of Bagging: 13 / 200\n",
      "MSE on train Dataset: 1444.81657652 Iteration of Bagging: 13 / 200\n"
     ]
    },
    {
     "name": "stderr",
     "output_type": "stream",
     "text": [
      "Iteration of bagging:15/200"
     ]
    },
    {
     "name": "stdout",
     "output_type": "stream",
     "text": [
      "MSE on test Dataset: 7247.99477238 Iteration of Bagging: 14 / 200\n",
      "MSE on train Dataset: 1572.02584428 Iteration of Bagging: 14 / 200\n"
     ]
    },
    {
     "name": "stderr",
     "output_type": "stream",
     "text": [
      "Learning estimator number: 4/45; MSE error on train dataset: 137.798388005"
     ]
    },
    {
     "name": "stdout",
     "output_type": "stream",
     "text": [
      "MSE on test Dataset: 6958.92795584 Iteration of Bagging: 15 / 200\n",
      "MSE on train Dataset: 1570.41476595 Iteration of Bagging: 15 / 200\n"
     ]
    },
    {
     "name": "stderr",
     "output_type": "stream",
     "text": [
      "Iteration of bagging:17/200"
     ]
    },
    {
     "name": "stdout",
     "output_type": "stream",
     "text": [
      "MSE on test Dataset: 7434.90516754 Iteration of Bagging: 16 / 200\n",
      "MSE on train Dataset: 1676.42408062 Iteration of Bagging: 16 / 200\n"
     ]
    },
    {
     "name": "stderr",
     "output_type": "stream",
     "text": [
      "Learning estimator number: 4/45; MSE error on train dataset: 95.9693790288"
     ]
    },
    {
     "name": "stdout",
     "output_type": "stream",
     "text": [
      "MSE on test Dataset: 6535.92403655 Iteration of Bagging: 17 / 200\n",
      "MSE on train Dataset: 1511.17760356 Iteration of Bagging: 17 / 200\n"
     ]
    },
    {
     "name": "stderr",
     "output_type": "stream",
     "text": [
      "Learning estimator number: 2/45; MSE error on train dataset: 4589.1634095"
     ]
    },
    {
     "name": "stdout",
     "output_type": "stream",
     "text": [
      "MSE on test Dataset: 7007.45332508 Iteration of Bagging: 18 / 200\n",
      "MSE on train Dataset: 1620.82985273 Iteration of Bagging: 18 / 200\n"
     ]
    },
    {
     "name": "stderr",
     "output_type": "stream",
     "text": [
      "Learning estimator number: 1/45; MSE error on train dataset: 146.067064552"
     ]
    },
    {
     "name": "stdout",
     "output_type": "stream",
     "text": [
      "MSE on test Dataset: 6693.0908879 Iteration of Bagging: 19 / 200\n",
      "MSE on train Dataset: 1506.0366838 Iteration of Bagging: 19 / 200\n"
     ]
    },
    {
     "name": "stderr",
     "output_type": "stream",
     "text": [
      "Iteration of bagging:21/200"
     ]
    },
    {
     "name": "stdout",
     "output_type": "stream",
     "text": [
      "MSE on test Dataset: 7351.11727963 Iteration of Bagging: 20 / 200\n",
      "MSE on train Dataset: 1613.69315862 Iteration of Bagging: 20 / 200\n"
     ]
    },
    {
     "name": "stderr",
     "output_type": "stream",
     "text": [
      "Learning estimator number: 4/45; MSE error on train dataset: 1214.42424556"
     ]
    },
    {
     "name": "stdout",
     "output_type": "stream",
     "text": [
      "MSE on test Dataset: 7458.22691543 Iteration of Bagging: 21 / 200\n",
      "MSE on train Dataset: 1675.94199558 Iteration of Bagging: 21 / 200\n"
     ]
    },
    {
     "name": "stderr",
     "output_type": "stream",
     "text": [
      "Learning estimator number: 1/45; MSE error on train dataset: 1932.1806062"
     ]
    },
    {
     "name": "stdout",
     "output_type": "stream",
     "text": [
      "MSE on test Dataset: 7999.53815703 Iteration of Bagging: 22 / 200\n",
      "MSE on train Dataset: 1749.76347595 Iteration of Bagging: 22 / 200\n"
     ]
    },
    {
     "name": "stderr",
     "output_type": "stream",
     "text": [
      "Learning estimator number: 4/45; MSE error on train dataset: 1213.86956926"
     ]
    },
    {
     "name": "stdout",
     "output_type": "stream",
     "text": [
      "MSE on test Dataset: 8378.79821531 Iteration of Bagging: 23 / 200\n",
      "MSE on train Dataset: 1615.61400197 Iteration of Bagging: 23 / 200\n"
     ]
    },
    {
     "name": "stderr",
     "output_type": "stream",
     "text": [
      "Learning estimator number: 2/45; MSE error on train dataset: 456.45460525"
     ]
    },
    {
     "name": "stdout",
     "output_type": "stream",
     "text": [
      "MSE on test Dataset: 8332.13349146 Iteration of Bagging: 24 / 200\n",
      "MSE on train Dataset: 1665.73114102 Iteration of Bagging: 24 / 200\n"
     ]
    },
    {
     "name": "stderr",
     "output_type": "stream",
     "text": [
      "Learning estimator number: 3/45; MSE error on train dataset: 118.255935408"
     ]
    },
    {
     "name": "stdout",
     "output_type": "stream",
     "text": [
      "MSE on test Dataset: 8556.12710094 Iteration of Bagging: 25 / 200\n",
      "MSE on train Dataset: 1745.92913768 Iteration of Bagging: 25 / 200\n"
     ]
    },
    {
     "name": "stderr",
     "output_type": "stream",
     "text": [
      "Iteration of bagging:27/200"
     ]
    },
    {
     "name": "stdout",
     "output_type": "stream",
     "text": [
      "MSE on test Dataset: 8907.90954883 Iteration of Bagging: 26 / 200\n",
      "MSE on train Dataset: 1823.65875504 Iteration of Bagging: 26 / 200\n"
     ]
    },
    {
     "name": "stderr",
     "output_type": "stream",
     "text": [
      "Learning estimator number: 5/45; MSE error on train dataset: 315.744532182"
     ]
    },
    {
     "name": "stdout",
     "output_type": "stream",
     "text": [
      "MSE on test Dataset: 9251.54253755 Iteration of Bagging: 27 / 200\n",
      "MSE on train Dataset: 1908.80851233 Iteration of Bagging: 27 / 200\n"
     ]
    },
    {
     "name": "stderr",
     "output_type": "stream",
     "text": [
      "Learning estimator number: 2/45; MSE error on train dataset: 1697.40576803"
     ]
    },
    {
     "name": "stdout",
     "output_type": "stream",
     "text": [
      "MSE on test Dataset: 9355.21328508 Iteration of Bagging: 28 / 200\n",
      "MSE on train Dataset: 1974.52117413 Iteration of Bagging: 28 / 200\n"
     ]
    },
    {
     "name": "stderr",
     "output_type": "stream",
     "text": [
      "Learning estimator number: 3/45; MSE error on train dataset: 1344.79891331"
     ]
    },
    {
     "name": "stdout",
     "output_type": "stream",
     "text": [
      "MSE on test Dataset: 8426.95089114 Iteration of Bagging: 29 / 200\n",
      "MSE on train Dataset: 1854.89994841 Iteration of Bagging: 29 / 200\n"
     ]
    },
    {
     "name": "stderr",
     "output_type": "stream",
     "text": [
      "Learning estimator number: 2/45; MSE error on train dataset: 1164.56275048"
     ]
    },
    {
     "name": "stdout",
     "output_type": "stream",
     "text": [
      "MSE on test Dataset: 8554.64977833 Iteration of Bagging: 30 / 200\n",
      "MSE on train Dataset: 1858.83607266 Iteration of Bagging: 30 / 200\n"
     ]
    },
    {
     "name": "stderr",
     "output_type": "stream",
     "text": [
      "Learning estimator number: 2/45; MSE error on train dataset: 524.04820327"
     ]
    },
    {
     "name": "stdout",
     "output_type": "stream",
     "text": [
      "MSE on test Dataset: 8851.18461513 Iteration of Bagging: 31 / 200\n",
      "MSE on train Dataset: 1892.21841253 Iteration of Bagging: 31 / 200\n"
     ]
    },
    {
     "name": "stderr",
     "output_type": "stream",
     "text": [
      "Learning estimator number: 2/45; MSE error on train dataset: 820.442022027"
     ]
    },
    {
     "name": "stdout",
     "output_type": "stream",
     "text": [
      "MSE on test Dataset: 9064.56985188 Iteration of Bagging: 32 / 200\n",
      "MSE on train Dataset: 1944.06694825 Iteration of Bagging: 32 / 200\n"
     ]
    },
    {
     "name": "stderr",
     "output_type": "stream",
     "text": [
      "Learning estimator number: 2/45; MSE error on train dataset: 542.532652119"
     ]
    },
    {
     "name": "stdout",
     "output_type": "stream",
     "text": [
      "MSE on test Dataset: 9459.63984719 Iteration of Bagging: 33 / 200\n",
      "MSE on train Dataset: 1936.4083412 Iteration of Bagging: 33 / 200\n"
     ]
    },
    {
     "name": "stderr",
     "output_type": "stream",
     "text": [
      "Learning estimator number: 1/45; MSE error on train dataset: 1970.88415426"
     ]
    },
    {
     "name": "stdout",
     "output_type": "stream",
     "text": [
      "MSE on test Dataset: 9451.39623479 Iteration of Bagging: 34 / 200\n",
      "MSE on train Dataset: 1989.63810711 Iteration of Bagging: 34 / 200\n"
     ]
    },
    {
     "name": "stderr",
     "output_type": "stream",
     "text": [
      "Learning estimator number: 44/45; MSE error on train dataset: 140.337442178"
     ]
    },
    {
     "name": "stdout",
     "output_type": "stream",
     "text": [
      "MSE on test Dataset: 8777.08010574 Iteration of Bagging: 35 / 200\n",
      "MSE on train Dataset: 1892.46082738 Iteration of Bagging: 35 / 200\n"
     ]
    },
    {
     "name": "stderr",
     "output_type": "stream",
     "text": [
      "Learning estimator number: 1/45; MSE error on train dataset: 1979.56570735"
     ]
    },
    {
     "name": "stdout",
     "output_type": "stream",
     "text": [
      "MSE on test Dataset: 8249.00946491 Iteration of Bagging: 36 / 200\n",
      "MSE on train Dataset: 1839.88172714 Iteration of Bagging: 36 / 200\n"
     ]
    },
    {
     "name": "stderr",
     "output_type": "stream",
     "text": [
      "Iteration of bagging:38/200"
     ]
    },
    {
     "name": "stdout",
     "output_type": "stream",
     "text": [
      "MSE on test Dataset: 7687.29696718 Iteration of Bagging: 37 / 200\n",
      "MSE on train Dataset: 1746.63644914 Iteration of Bagging: 37 / 200\n"
     ]
    },
    {
     "name": "stderr",
     "output_type": "stream",
     "text": [
      "Iteration of bagging:39/200"
     ]
    },
    {
     "name": "stdout",
     "output_type": "stream",
     "text": [
      "MSE on test Dataset: 7912.92389436 Iteration of Bagging: 38 / 200\n",
      "MSE on train Dataset: 1809.29966375 Iteration of Bagging: 38 / 200\n"
     ]
    },
    {
     "name": "stderr",
     "output_type": "stream",
     "text": [
      "Learning estimator number: 5/45; MSE error on train dataset: 346.359334857"
     ]
    },
    {
     "name": "stdout",
     "output_type": "stream",
     "text": [
      "MSE on test Dataset: 8152.31861401 Iteration of Bagging: 39 / 200\n",
      "MSE on train Dataset: 1886.06103846 Iteration of Bagging: 39 / 200\n"
     ]
    },
    {
     "name": "stderr",
     "output_type": "stream",
     "text": [
      "Learning estimator number: 2/45; MSE error on train dataset: 407.262744786"
     ]
    },
    {
     "name": "stdout",
     "output_type": "stream",
     "text": [
      "MSE on test Dataset: 8268.58828741 Iteration of Bagging: 40 / 200\n",
      "MSE on train Dataset: 1923.3011711 Iteration of Bagging: 40 / 200\n"
     ]
    },
    {
     "name": "stderr",
     "output_type": "stream",
     "text": [
      "Learning estimator number: 4/45; MSE error on train dataset: 1247.51590372"
     ]
    },
    {
     "name": "stdout",
     "output_type": "stream",
     "text": [
      "MSE on test Dataset: 8472.58408476 Iteration of Bagging: 41 / 200\n",
      "MSE on train Dataset: 1883.86769663 Iteration of Bagging: 41 / 200\n"
     ]
    },
    {
     "name": "stderr",
     "output_type": "stream",
     "text": [
      "Learning estimator number: 2/45; MSE error on train dataset: 496.800252843"
     ]
    },
    {
     "name": "stdout",
     "output_type": "stream",
     "text": [
      "MSE on test Dataset: 8421.31561645 Iteration of Bagging: 42 / 200\n",
      "MSE on train Dataset: 1905.7404109 Iteration of Bagging: 42 / 200\n"
     ]
    },
    {
     "name": "stderr",
     "output_type": "stream",
     "text": [
      "Learning estimator number: 3/45; MSE error on train dataset: 91.8637090288"
     ]
    },
    {
     "name": "stdout",
     "output_type": "stream",
     "text": [
      "MSE on test Dataset: 8604.79835083 Iteration of Bagging: 43 / 200\n",
      "MSE on train Dataset: 1960.72416294 Iteration of Bagging: 43 / 200\n"
     ]
    },
    {
     "name": "stderr",
     "output_type": "stream",
     "text": [
      "Learning estimator number: 44/45; MSE error on train dataset: 3.01353031603"
     ]
    },
    {
     "name": "stdout",
     "output_type": "stream",
     "text": [
      "MSE on test Dataset: 8788.27951629 Iteration of Bagging: 44 / 200\n",
      "MSE on train Dataset: 2015.30497284 Iteration of Bagging: 44 / 200\n"
     ]
    },
    {
     "name": "stderr",
     "output_type": "stream",
     "text": [
      "Learning estimator number: 3/45; MSE error on train dataset: 299.908973509"
     ]
    },
    {
     "name": "stdout",
     "output_type": "stream",
     "text": [
      "MSE on test Dataset: 8400.2460022 Iteration of Bagging: 45 / 200\n",
      "MSE on train Dataset: 1937.72077576 Iteration of Bagging: 45 / 200\n"
     ]
    },
    {
     "name": "stderr",
     "output_type": "stream",
     "text": [
      "Learning estimator number: 2/45; MSE error on train dataset: 2891.20930641"
     ]
    },
    {
     "name": "stdout",
     "output_type": "stream",
     "text": [
      "MSE on test Dataset: 8596.50216369 Iteration of Bagging: 46 / 200\n",
      "MSE on train Dataset: 1934.87362423 Iteration of Bagging: 46 / 200\n"
     ]
    },
    {
     "name": "stderr",
     "output_type": "stream",
     "text": [
      "Iteration of bagging:48/200"
     ]
    },
    {
     "name": "stdout",
     "output_type": "stream",
     "text": [
      "MSE on test Dataset: 8502.34348381 Iteration of Bagging: 47 / 200\n",
      "MSE on train Dataset: 1921.05074638 Iteration of Bagging: 47 / 200\n"
     ]
    },
    {
     "name": "stderr",
     "output_type": "stream",
     "text": [
      "Learning estimator number: 4/45; MSE error on train dataset: 2329.31393877"
     ]
    },
    {
     "name": "stdout",
     "output_type": "stream",
     "text": [
      "MSE on test Dataset: 8385.5683105 Iteration of Bagging: 48 / 200\n",
      "MSE on train Dataset: 1917.25859554 Iteration of Bagging: 48 / 200\n"
     ]
    },
    {
     "name": "stderr",
     "output_type": "stream",
     "text": [
      "Iteration of bagging:50/200"
     ]
    },
    {
     "name": "stdout",
     "output_type": "stream",
     "text": [
      "MSE on test Dataset: 7964.45258397 Iteration of Bagging: 49 / 200\n",
      "MSE on train Dataset: 1846.50282493 Iteration of Bagging: 49 / 200\n"
     ]
    },
    {
     "name": "stderr",
     "output_type": "stream",
     "text": [
      "Learning estimator number: 4/45; MSE error on train dataset: 248.583779234"
     ]
    },
    {
     "name": "stdout",
     "output_type": "stream",
     "text": [
      "MSE on test Dataset: 7923.96819702 Iteration of Bagging: 50 / 200\n",
      "MSE on train Dataset: 1860.03673177 Iteration of Bagging: 50 / 200\n"
     ]
    },
    {
     "name": "stderr",
     "output_type": "stream",
     "text": [
      "Learning estimator number: 4/45; MSE error on train dataset: 86.8524527625"
     ]
    },
    {
     "name": "stdout",
     "output_type": "stream",
     "text": [
      "MSE on test Dataset: 8192.47371506 Iteration of Bagging: 51 / 200\n",
      "MSE on train Dataset: 1896.03262039 Iteration of Bagging: 51 / 200\n"
     ]
    },
    {
     "name": "stderr",
     "output_type": "stream",
     "text": [
      "Learning estimator number: 3/45; MSE error on train dataset: 99.9679250553"
     ]
    },
    {
     "name": "stdout",
     "output_type": "stream",
     "text": [
      "MSE on test Dataset: 8362.76347395 Iteration of Bagging: 52 / 200\n",
      "MSE on train Dataset: 1939.89279988 Iteration of Bagging: 52 / 200\n"
     ]
    },
    {
     "name": "stderr",
     "output_type": "stream",
     "text": [
      "Learning estimator number: 4/45; MSE error on train dataset: 241.299004858"
     ]
    },
    {
     "name": "stdout",
     "output_type": "stream",
     "text": [
      "MSE on test Dataset: 8552.51092566 Iteration of Bagging: 53 / 200\n",
      "MSE on train Dataset: 1985.58839276 Iteration of Bagging: 53 / 200\n"
     ]
    },
    {
     "name": "stderr",
     "output_type": "stream",
     "text": [
      "Learning estimator number: 2/45; MSE error on train dataset: 393.405171984"
     ]
    },
    {
     "name": "stdout",
     "output_type": "stream",
     "text": [
      "MSE on test Dataset: 8686.21454346 Iteration of Bagging: 54 / 200\n",
      "MSE on train Dataset: 1978.15190007 Iteration of Bagging: 54 / 200\n"
     ]
    },
    {
     "name": "stderr",
     "output_type": "stream",
     "text": [
      "Iteration of bagging:56/200"
     ]
    },
    {
     "name": "stdout",
     "output_type": "stream",
     "text": [
      "MSE on test Dataset: 8849.40412059 Iteration of Bagging: 55 / 200\n",
      "MSE on train Dataset: 1955.24235677 Iteration of Bagging: 55 / 200\n"
     ]
    },
    {
     "name": "stderr",
     "output_type": "stream",
     "text": [
      "Learning estimator number: 3/45; MSE error on train dataset: 1539.01343529"
     ]
    },
    {
     "name": "stdout",
     "output_type": "stream",
     "text": [
      "MSE on test Dataset: 8991.32570512 Iteration of Bagging: 56 / 200\n",
      "MSE on train Dataset: 1904.25991659 Iteration of Bagging: 56 / 200\n"
     ]
    },
    {
     "name": "stderr",
     "output_type": "stream",
     "text": [
      "Iteration of bagging:58/200"
     ]
    },
    {
     "name": "stdout",
     "output_type": "stream",
     "text": [
      "MSE on test Dataset: 8729.44002789 Iteration of Bagging: 57 / 200\n",
      "MSE on train Dataset: 1845.25983658 Iteration of Bagging: 57 / 200\n"
     ]
    },
    {
     "name": "stderr",
     "output_type": "stream",
     "text": [
      "Learning estimator number: 2/45; MSE error on train dataset: 902.652245043"
     ]
    },
    {
     "name": "stdout",
     "output_type": "stream",
     "text": [
      "MSE on test Dataset: 8411.42152574 Iteration of Bagging: 58 / 200\n",
      "MSE on train Dataset: 1786.73038666 Iteration of Bagging: 58 / 200\n"
     ]
    },
    {
     "name": "stderr",
     "output_type": "stream",
     "text": [
      "Learning estimator number: 4/45; MSE error on train dataset: 261.715711488"
     ]
    },
    {
     "name": "stdout",
     "output_type": "stream",
     "text": [
      "MSE on test Dataset: 8525.57088865 Iteration of Bagging: 59 / 200\n",
      "MSE on train Dataset: 1796.53319178 Iteration of Bagging: 59 / 200\n"
     ]
    },
    {
     "name": "stderr",
     "output_type": "stream",
     "text": [
      "Iteration of bagging:61/200"
     ]
    },
    {
     "name": "stdout",
     "output_type": "stream",
     "text": [
      "MSE on test Dataset: 8745.75693353 Iteration of Bagging: 60 / 200\n",
      "MSE on train Dataset: 1827.16169102 Iteration of Bagging: 60 / 200\n"
     ]
    },
    {
     "name": "stderr",
     "output_type": "stream",
     "text": [
      "Iteration of bagging:62/200"
     ]
    },
    {
     "name": "stdout",
     "output_type": "stream",
     "text": [
      "MSE on test Dataset: 8878.21319471 Iteration of Bagging: 61 / 200\n",
      "MSE on train Dataset: 1829.42936462 Iteration of Bagging: 61 / 200\n"
     ]
    },
    {
     "name": "stderr",
     "output_type": "stream",
     "text": [
      "Learning estimator number: 4/45; MSE error on train dataset: 464.217256432"
     ]
    },
    {
     "name": "stdout",
     "output_type": "stream",
     "text": [
      "MSE on test Dataset: 8610.51128356 Iteration of Bagging: 62 / 200\n",
      "MSE on train Dataset: 1777.8485491 Iteration of Bagging: 62 / 200\n"
     ]
    },
    {
     "name": "stderr",
     "output_type": "stream",
     "text": [
      "Learning estimator number: 3/45; MSE error on train dataset: 1523.81001283"
     ]
    },
    {
     "name": "stdout",
     "output_type": "stream",
     "text": [
      "MSE on test Dataset: 8788.45714772 Iteration of Bagging: 63 / 200\n",
      "MSE on train Dataset: 1808.39217385 Iteration of Bagging: 63 / 200\n"
     ]
    },
    {
     "name": "stderr",
     "output_type": "stream",
     "text": [
      "Learning estimator number: 4/45; MSE error on train dataset: 1213.43697449"
     ]
    },
    {
     "name": "stdout",
     "output_type": "stream",
     "text": [
      "MSE on test Dataset: 8543.28351471 Iteration of Bagging: 64 / 200\n",
      "MSE on train Dataset: 1757.09842305 Iteration of Bagging: 64 / 200\n"
     ]
    },
    {
     "name": "stderr",
     "output_type": "stream",
     "text": [
      "Learning estimator number: 1/45; MSE error on train dataset: 1022.30661482"
     ]
    },
    {
     "name": "stdout",
     "output_type": "stream",
     "text": [
      "MSE on test Dataset: 8640.96272619 Iteration of Bagging: 65 / 200\n",
      "MSE on train Dataset: 1775.64340885 Iteration of Bagging: 65 / 200\n"
     ]
    },
    {
     "name": "stderr",
     "output_type": "stream",
     "text": [
      "Learning estimator number: 3/45; MSE error on train dataset: 2712.02375709"
     ]
    },
    {
     "name": "stdout",
     "output_type": "stream",
     "text": [
      "MSE on test Dataset: 8711.00396178 Iteration of Bagging: 66 / 200\n",
      "MSE on train Dataset: 1805.32177805 Iteration of Bagging: 66 / 200\n"
     ]
    },
    {
     "name": "stderr",
     "output_type": "stream",
     "text": [
      "Learning estimator number: 3/45; MSE error on train dataset: 812.094347572"
     ]
    },
    {
     "name": "stdout",
     "output_type": "stream",
     "text": [
      "MSE on test Dataset: 8505.10541488 Iteration of Bagging: 67 / 200\n",
      "MSE on train Dataset: 1758.08879524 Iteration of Bagging: 67 / 200\n"
     ]
    },
    {
     "name": "stderr",
     "output_type": "stream",
     "text": [
      "Learning estimator number: 2/45; MSE error on train dataset: 3136.70402482"
     ]
    },
    {
     "name": "stdout",
     "output_type": "stream",
     "text": [
      "MSE on test Dataset: 8654.49873478 Iteration of Bagging: 68 / 200\n",
      "MSE on train Dataset: 1757.98348669 Iteration of Bagging: 68 / 200\n"
     ]
    },
    {
     "name": "stderr",
     "output_type": "stream",
     "text": [
      "Learning estimator number: 4/45; MSE error on train dataset: 336.918580754"
     ]
    },
    {
     "name": "stdout",
     "output_type": "stream",
     "text": [
      "MSE on test Dataset: 8373.16603725 Iteration of Bagging: 69 / 200\n",
      "MSE on train Dataset: 1718.77933504 Iteration of Bagging: 69 / 200\n"
     ]
    },
    {
     "name": "stderr",
     "output_type": "stream",
     "text": [
      "Learning estimator number: 1/45; MSE error on train dataset: 2010.65953953"
     ]
    },
    {
     "name": "stdout",
     "output_type": "stream",
     "text": [
      "MSE on test Dataset: 8516.94225253 Iteration of Bagging: 70 / 200\n",
      "MSE on train Dataset: 1723.34541696 Iteration of Bagging: 70 / 200\n"
     ]
    },
    {
     "name": "stderr",
     "output_type": "stream",
     "text": [
      "Learning estimator number: 44/45; MSE error on train dataset: 95.4174653755"
     ]
    },
    {
     "name": "stdout",
     "output_type": "stream",
     "text": [
      "MSE on test Dataset: 8187.26620613 Iteration of Bagging: 71 / 200\n",
      "MSE on train Dataset: 1680.91882337 Iteration of Bagging: 71 / 200\n"
     ]
    },
    {
     "name": "stderr",
     "output_type": "stream",
     "text": [
      "Learning estimator number: 1/45; MSE error on train dataset: 191.85940014"
     ]
    },
    {
     "name": "stdout",
     "output_type": "stream",
     "text": [
      "MSE on test Dataset: 8303.88969733 Iteration of Bagging: 72 / 200\n",
      "MSE on train Dataset: 1702.31122321 Iteration of Bagging: 72 / 200\n"
     ]
    },
    {
     "name": "stderr",
     "output_type": "stream",
     "text": [
      "Iteration of bagging:74/200"
     ]
    },
    {
     "name": "stdout",
     "output_type": "stream",
     "text": [
      "MSE on test Dataset: 8424.3945796 Iteration of Bagging: 73 / 200\n",
      "MSE on train Dataset: 1731.37491542 Iteration of Bagging: 73 / 200\n"
     ]
    },
    {
     "name": "stderr",
     "output_type": "stream",
     "text": [
      "Learning estimator number: 1/45; MSE error on train dataset: 325.769413167"
     ]
    },
    {
     "name": "stdout",
     "output_type": "stream",
     "text": [
      "MSE on test Dataset: 8539.31544739 Iteration of Bagging: 74 / 200\n",
      "MSE on train Dataset: 1761.44575266 Iteration of Bagging: 74 / 200\n"
     ]
    },
    {
     "name": "stderr",
     "output_type": "stream",
     "text": [
      "Learning estimator number: 2/45; MSE error on train dataset: 734.716103421"
     ]
    },
    {
     "name": "stdout",
     "output_type": "stream",
     "text": [
      "MSE on test Dataset: 8679.12468992 Iteration of Bagging: 75 / 200\n",
      "MSE on train Dataset: 1788.82819316 Iteration of Bagging: 75 / 200\n"
     ]
    },
    {
     "name": "stderr",
     "output_type": "stream",
     "text": [
      "Learning estimator number: 3/45; MSE error on train dataset: 197.526493744"
     ]
    },
    {
     "name": "stdout",
     "output_type": "stream",
     "text": [
      "MSE on test Dataset: 8688.8186375 Iteration of Bagging: 76 / 200\n",
      "MSE on train Dataset: 1804.92035649 Iteration of Bagging: 76 / 200\n"
     ]
    },
    {
     "name": "stderr",
     "output_type": "stream",
     "text": [
      "Learning estimator number: 2/45; MSE error on train dataset: 390.638413894"
     ]
    },
    {
     "name": "stdout",
     "output_type": "stream",
     "text": [
      "MSE on test Dataset: 8777.54889869 Iteration of Bagging: 77 / 200\n",
      "MSE on train Dataset: 1843.42575425 Iteration of Bagging: 77 / 200\n"
     ]
    },
    {
     "name": "stderr",
     "output_type": "stream",
     "text": [
      "Learning estimator number: 2/45; MSE error on train dataset: 1321.65826436"
     ]
    },
    {
     "name": "stdout",
     "output_type": "stream",
     "text": [
      "MSE on test Dataset: 8884.34315762 Iteration of Bagging: 78 / 200\n",
      "MSE on train Dataset: 1846.75789785 Iteration of Bagging: 78 / 200\n"
     ]
    },
    {
     "name": "stderr",
     "output_type": "stream",
     "text": [
      "Iteration of bagging:80/200"
     ]
    },
    {
     "name": "stdout",
     "output_type": "stream",
     "text": [
      "MSE on test Dataset: 8992.57922368 Iteration of Bagging: 79 / 200\n",
      "MSE on train Dataset: 1859.56346847 Iteration of Bagging: 79 / 200\n"
     ]
    },
    {
     "name": "stderr",
     "output_type": "stream",
     "text": [
      "Iteration of bagging:81/200"
     ]
    },
    {
     "name": "stdout",
     "output_type": "stream",
     "text": [
      "MSE on test Dataset: 9105.53448202 Iteration of Bagging: 80 / 200\n",
      "MSE on train Dataset: 1889.44492233 Iteration of Bagging: 80 / 200\n"
     ]
    },
    {
     "name": "stderr",
     "output_type": "stream",
     "text": [
      "Iteration of bagging:82/200"
     ]
    },
    {
     "name": "stdout",
     "output_type": "stream",
     "text": [
      "MSE on test Dataset: 9152.67308009 Iteration of Bagging: 81 / 200\n",
      "MSE on train Dataset: 1904.33545359 Iteration of Bagging: 81 / 200\n"
     ]
    },
    {
     "name": "stderr",
     "output_type": "stream",
     "text": [
      "Learning estimator number: 3/45; MSE error on train dataset: 96.1668394504"
     ]
    },
    {
     "name": "stdout",
     "output_type": "stream",
     "text": [
      "MSE on test Dataset: 8885.22788286 Iteration of Bagging: 82 / 200\n",
      "MSE on train Dataset: 1876.12202308 Iteration of Bagging: 82 / 200\n"
     ]
    },
    {
     "name": "stderr",
     "output_type": "stream",
     "text": [
      "Learning estimator number: 44/45; MSE error on train dataset: 9.40845206943"
     ]
    },
    {
     "name": "stdout",
     "output_type": "stream",
     "text": [
      "MSE on test Dataset: 8987.07260385 Iteration of Bagging: 83 / 200\n",
      "MSE on train Dataset: 1902.112117 Iteration of Bagging: 83 / 200\n"
     ]
    },
    {
     "name": "stderr",
     "output_type": "stream",
     "text": [
      "Learning estimator number: 1/45; MSE error on train dataset: 4802.75521356"
     ]
    },
    {
     "name": "stdout",
     "output_type": "stream",
     "text": [
      "MSE on test Dataset: 9081.7721145 Iteration of Bagging: 84 / 200\n",
      "MSE on train Dataset: 1901.10176568 Iteration of Bagging: 84 / 200\n"
     ]
    },
    {
     "name": "stderr",
     "output_type": "stream",
     "text": [
      "Iteration of bagging:86/200"
     ]
    },
    {
     "name": "stdout",
     "output_type": "stream",
     "text": [
      "MSE on test Dataset: 8851.54885757 Iteration of Bagging: 85 / 200\n",
      "MSE on train Dataset: 1860.55326024 Iteration of Bagging: 85 / 200\n"
     ]
    },
    {
     "name": "stderr",
     "output_type": "stream",
     "text": [
      "Iteration of bagging:87/200"
     ]
    },
    {
     "name": "stdout",
     "output_type": "stream",
     "text": [
      "MSE on test Dataset: 8940.01601029 Iteration of Bagging: 86 / 200\n",
      "MSE on train Dataset: 1883.19547986 Iteration of Bagging: 86 / 200\n"
     ]
    },
    {
     "name": "stderr",
     "output_type": "stream",
     "text": [
      "Learning estimator number: 1/45; MSE error on train dataset: 5640.09123715"
     ]
    },
    {
     "name": "stdout",
     "output_type": "stream",
     "text": [
      "MSE on test Dataset: 9045.65856453 Iteration of Bagging: 87 / 200\n",
      "MSE on train Dataset: 1907.88801142 Iteration of Bagging: 87 / 200\n"
     ]
    },
    {
     "name": "stderr",
     "output_type": "stream",
     "text": [
      "Iteration of bagging:89/200"
     ]
    },
    {
     "name": "stdout",
     "output_type": "stream",
     "text": [
      "MSE on test Dataset: 9255.0622586 Iteration of Bagging: 88 / 200\n",
      "MSE on train Dataset: 1880.29934746 Iteration of Bagging: 88 / 200\n"
     ]
    },
    {
     "name": "stderr",
     "output_type": "stream",
     "text": [
      "Iteration of bagging:90/200"
     ]
    },
    {
     "name": "stdout",
     "output_type": "stream",
     "text": [
      "MSE on test Dataset: 9343.1755374 Iteration of Bagging: 89 / 200\n",
      "MSE on train Dataset: 1909.18585713 Iteration of Bagging: 89 / 200\n"
     ]
    },
    {
     "name": "stderr",
     "output_type": "stream",
     "text": [
      "Learning estimator number: 44/45; MSE error on train dataset: 12.1681972559"
     ]
    },
    {
     "name": "stdout",
     "output_type": "stream",
     "text": [
      "MSE on test Dataset: 9458.05765809 Iteration of Bagging: 90 / 200\n",
      "MSE on train Dataset: 1902.39048989 Iteration of Bagging: 90 / 200\n"
     ]
    },
    {
     "name": "stderr",
     "output_type": "stream",
     "text": [
      "Learning estimator number: 4/45; MSE error on train dataset: 3399.590802"
     ]
    },
    {
     "name": "stdout",
     "output_type": "stream",
     "text": [
      "MSE on test Dataset: 9505.57329843 Iteration of Bagging: 91 / 200\n",
      "MSE on train Dataset: 1920.98163365 Iteration of Bagging: 91 / 200\n"
     ]
    },
    {
     "name": "stderr",
     "output_type": "stream",
     "text": [
      "Iteration of bagging:93/200"
     ]
    },
    {
     "name": "stdout",
     "output_type": "stream",
     "text": [
      "MSE on test Dataset: 9501.73680725 Iteration of Bagging: 92 / 200\n",
      "MSE on train Dataset: 1894.46306272 Iteration of Bagging: 92 / 200\n"
     ]
    },
    {
     "name": "stderr",
     "output_type": "stream",
     "text": [
      "Learning estimator number: 1/45; MSE error on train dataset: 290.465164407"
     ]
    },
    {
     "name": "stdout",
     "output_type": "stream",
     "text": [
      "MSE on test Dataset: 9475.59756359 Iteration of Bagging: 93 / 200\n",
      "MSE on train Dataset: 1895.94838695 Iteration of Bagging: 93 / 200\n"
     ]
    },
    {
     "name": "stderr",
     "output_type": "stream",
     "text": [
      "Learning estimator number: 2/45; MSE error on train dataset: 134.945311549"
     ]
    },
    {
     "name": "stdout",
     "output_type": "stream",
     "text": [
      "MSE on test Dataset: 9551.38254565 Iteration of Bagging: 94 / 200\n",
      "MSE on train Dataset: 1906.8703276 Iteration of Bagging: 94 / 200\n"
     ]
    },
    {
     "name": "stderr",
     "output_type": "stream",
     "text": [
      "Iteration of bagging:96/200"
     ]
    },
    {
     "name": "stdout",
     "output_type": "stream",
     "text": [
      "MSE on test Dataset: 9647.75643654 Iteration of Bagging: 95 / 200\n",
      "MSE on train Dataset: 1930.87136683 Iteration of Bagging: 95 / 200\n"
     ]
    },
    {
     "name": "stderr",
     "output_type": "stream",
     "text": [
      "Learning estimator number: 2/45; MSE error on train dataset: 4539.82649958"
     ]
    },
    {
     "name": "stdout",
     "output_type": "stream",
     "text": [
      "MSE on test Dataset: 9614.8071566 Iteration of Bagging: 96 / 200\n",
      "MSE on train Dataset: 1943.48688168 Iteration of Bagging: 96 / 200\n"
     ]
    },
    {
     "name": "stderr",
     "output_type": "stream",
     "text": [
      "Learning estimator number: 2/45; MSE error on train dataset: 524.419924368"
     ]
    },
    {
     "name": "stdout",
     "output_type": "stream",
     "text": [
      "MSE on test Dataset: 9524.09286232 Iteration of Bagging: 97 / 200\n",
      "MSE on train Dataset: 1916.52572083 Iteration of Bagging: 97 / 200\n"
     ]
    },
    {
     "name": "stderr",
     "output_type": "stream",
     "text": [
      "Iteration of bagging:99/200"
     ]
    },
    {
     "name": "stdout",
     "output_type": "stream",
     "text": [
      "MSE on test Dataset: 9606.12950827 Iteration of Bagging: 98 / 200\n",
      "MSE on train Dataset: 1933.31279232 Iteration of Bagging: 98 / 200\n"
     ]
    },
    {
     "name": "stderr",
     "output_type": "stream",
     "text": [
      "Learning estimator number: 4/45; MSE error on train dataset: 1455.99461972"
     ]
    },
    {
     "name": "stdout",
     "output_type": "stream",
     "text": [
      "MSE on test Dataset: 9738.31054143 Iteration of Bagging: 99 / 200\n",
      "MSE on train Dataset: 1937.25728015 Iteration of Bagging: 99 / 200\n"
     ]
    },
    {
     "name": "stderr",
     "output_type": "stream",
     "text": [
      "Learning estimator number: 4/45; MSE error on train dataset: 1178.8197951"
     ]
    },
    {
     "name": "stdout",
     "output_type": "stream",
     "text": [
      "MSE on test Dataset: 9475.54829737 Iteration of Bagging: 100 / 200\n",
      "MSE on train Dataset: 1900.75139475 Iteration of Bagging: 100 / 200\n"
     ]
    },
    {
     "name": "stderr",
     "output_type": "stream",
     "text": [
      "Learning estimator number: 3/45; MSE error on train dataset: 95.3620379295"
     ]
    },
    {
     "name": "stdout",
     "output_type": "stream",
     "text": [
      "MSE on test Dataset: 9411.90828052 Iteration of Bagging: 101 / 200\n",
      "MSE on train Dataset: 1861.79457642 Iteration of Bagging: 101 / 200\n"
     ]
    },
    {
     "name": "stderr",
     "output_type": "stream",
     "text": [
      "Iteration of bagging:103/200"
     ]
    },
    {
     "name": "stdout",
     "output_type": "stream",
     "text": [
      "MSE on test Dataset: 9493.82492156 Iteration of Bagging: 102 / 200\n",
      "MSE on train Dataset: 1889.95512445 Iteration of Bagging: 102 / 200\n"
     ]
    },
    {
     "name": "stderr",
     "output_type": "stream",
     "text": [
      "Iteration of bagging:104/200"
     ]
    },
    {
     "name": "stdout",
     "output_type": "stream",
     "text": [
      "MSE on test Dataset: 9571.14601503 Iteration of Bagging: 103 / 200\n",
      "MSE on train Dataset: 1919.41450682 Iteration of Bagging: 103 / 200\n"
     ]
    },
    {
     "name": "stderr",
     "output_type": "stream",
     "text": [
      "Learning estimator number: 3/45; MSE error on train dataset: 3769.41669326"
     ]
    },
    {
     "name": "stdout",
     "output_type": "stream",
     "text": [
      "MSE on test Dataset: 9701.42325183 Iteration of Bagging: 104 / 200\n",
      "MSE on train Dataset: 1919.16210352 Iteration of Bagging: 104 / 200\n"
     ]
    },
    {
     "name": "stderr",
     "output_type": "stream",
     "text": [
      "Learning estimator number: 4/45; MSE error on train dataset: 4523.50631984"
     ]
    },
    {
     "name": "stdout",
     "output_type": "stream",
     "text": [
      "MSE on test Dataset: 9612.99134289 Iteration of Bagging: 105 / 200\n",
      "MSE on train Dataset: 1888.56770967 Iteration of Bagging: 105 / 200\n"
     ]
    },
    {
     "name": "stderr",
     "output_type": "stream",
     "text": [
      "Learning estimator number: 44/45; MSE error on train dataset: 253.577519846"
     ]
    },
    {
     "name": "stdout",
     "output_type": "stream",
     "text": [
      "MSE on test Dataset: 9478.28806074 Iteration of Bagging: 106 / 200\n",
      "MSE on train Dataset: 1860.88202432 Iteration of Bagging: 106 / 200\n"
     ]
    },
    {
     "name": "stderr",
     "output_type": "stream",
     "text": [
      "Learning estimator number: 1/45; MSE error on train dataset: 2024.93988618"
     ]
    },
    {
     "name": "stdout",
     "output_type": "stream",
     "text": [
      "MSE on test Dataset: 9448.2227421 Iteration of Bagging: 107 / 200\n",
      "MSE on train Dataset: 1869.80931765 Iteration of Bagging: 107 / 200\n"
     ]
    },
    {
     "name": "stderr",
     "output_type": "stream",
     "text": [
      "Learning estimator number: 2/45; MSE error on train dataset: 178.771991883"
     ]
    },
    {
     "name": "stdout",
     "output_type": "stream",
     "text": [
      "MSE on test Dataset: 9216.60899721 Iteration of Bagging: 108 / 200\n",
      "MSE on train Dataset: 1842.20952419 Iteration of Bagging: 108 / 200\n"
     ]
    },
    {
     "name": "stderr",
     "output_type": "stream",
     "text": [
      "Learning estimator number: 4/45; MSE error on train dataset: 387.002610984"
     ]
    },
    {
     "name": "stdout",
     "output_type": "stream",
     "text": [
      "MSE on test Dataset: 9317.17066754 Iteration of Bagging: 109 / 200\n",
      "MSE on train Dataset: 1862.37904519 Iteration of Bagging: 109 / 200\n"
     ]
    },
    {
     "name": "stderr",
     "output_type": "stream",
     "text": [
      "Learning estimator number: 44/45; MSE error on train dataset: 38.6679541883"
     ]
    },
    {
     "name": "stdout",
     "output_type": "stream",
     "text": [
      "MSE on test Dataset: 9404.02040906 Iteration of Bagging: 110 / 200\n",
      "MSE on train Dataset: 1876.69338515 Iteration of Bagging: 110 / 200\n"
     ]
    },
    {
     "name": "stderr",
     "output_type": "stream",
     "text": [
      "Learning estimator number: 7/45; MSE error on train dataset: 203.166442295"
     ]
    },
    {
     "name": "stdout",
     "output_type": "stream",
     "text": [
      "MSE on test Dataset: 9209.63163938 Iteration of Bagging: 111 / 200\n",
      "MSE on train Dataset: 1845.89505817 Iteration of Bagging: 111 / 200\n"
     ]
    },
    {
     "name": "stderr",
     "output_type": "stream",
     "text": [
      "Iteration of bagging:113/200"
     ]
    },
    {
     "name": "stdout",
     "output_type": "stream",
     "text": [
      "MSE on test Dataset: 9242.87398938 Iteration of Bagging: 112 / 200\n",
      "MSE on train Dataset: 1861.21202308 Iteration of Bagging: 112 / 200\n"
     ]
    },
    {
     "name": "stderr",
     "output_type": "stream",
     "text": [
      "Iteration of bagging:114/200"
     ]
    },
    {
     "name": "stdout",
     "output_type": "stream",
     "text": [
      "MSE on test Dataset: 9350.36989374 Iteration of Bagging: 113 / 200\n",
      "MSE on train Dataset: 1868.77976891 Iteration of Bagging: 113 / 200\n"
     ]
    },
    {
     "name": "stderr",
     "output_type": "stream",
     "text": [
      "Learning estimator number: 1/45; MSE error on train dataset: 270.394616107"
     ]
    },
    {
     "name": "stdout",
     "output_type": "stream",
     "text": [
      "MSE on test Dataset: 9429.29700319 Iteration of Bagging: 114 / 200\n",
      "MSE on train Dataset: 1889.55154729 Iteration of Bagging: 114 / 200\n"
     ]
    },
    {
     "name": "stderr",
     "output_type": "stream",
     "text": [
      "Learning estimator number: 2/45; MSE error on train dataset: 145.146973587"
     ]
    },
    {
     "name": "stdout",
     "output_type": "stream",
     "text": [
      "MSE on test Dataset: 9507.09860411 Iteration of Bagging: 115 / 200\n",
      "MSE on train Dataset: 1908.34272243 Iteration of Bagging: 115 / 200\n"
     ]
    },
    {
     "name": "stderr",
     "output_type": "stream",
     "text": [
      "Learning estimator number: 1/45; MSE error on train dataset: 335.85597137"
     ]
    },
    {
     "name": "stdout",
     "output_type": "stream",
     "text": [
      "MSE on test Dataset: 9540.45040675 Iteration of Bagging: 116 / 200\n",
      "MSE on train Dataset: 1942.78819396 Iteration of Bagging: 116 / 200\n"
     ]
    },
    {
     "name": "stderr",
     "output_type": "stream",
     "text": [
      "Learning estimator number: 44/45; MSE error on train dataset: 34.5446833984"
     ]
    },
    {
     "name": "stdout",
     "output_type": "stream",
     "text": [
      "MSE on test Dataset: 9573.2012093 Iteration of Bagging: 117 / 200\n",
      "MSE on train Dataset: 1959.2098952 Iteration of Bagging: 117 / 200\n"
     ]
    },
    {
     "name": "stderr",
     "output_type": "stream",
     "text": [
      "Learning estimator number: 4/45; MSE error on train dataset: 4467.42130499"
     ]
    },
    {
     "name": "stdout",
     "output_type": "stream",
     "text": [
      "MSE on test Dataset: 9551.59737516 Iteration of Bagging: 118 / 200\n",
      "MSE on train Dataset: 1968.31486734 Iteration of Bagging: 118 / 200\n"
     ]
    },
    {
     "name": "stderr",
     "output_type": "stream",
     "text": [
      "Iteration of bagging:120/200"
     ]
    },
    {
     "name": "stdout",
     "output_type": "stream",
     "text": [
      "MSE on test Dataset: 9525.99973769 Iteration of Bagging: 119 / 200\n",
      "MSE on train Dataset: 1941.8372946 Iteration of Bagging: 119 / 200\n"
     ]
    },
    {
     "name": "stderr",
     "output_type": "stream",
     "text": [
      "Learning estimator number: 2/45; MSE error on train dataset: 419.4264956"
     ]
    },
    {
     "name": "stdout",
     "output_type": "stream",
     "text": [
      "MSE on test Dataset: 9316.28524904 Iteration of Bagging: 120 / 200\n",
      "MSE on train Dataset: 1913.99847629 Iteration of Bagging: 120 / 200\n"
     ]
    },
    {
     "name": "stderr",
     "output_type": "stream",
     "text": [
      "Learning estimator number: 2/45; MSE error on train dataset: 1882.19917148"
     ]
    },
    {
     "name": "stdout",
     "output_type": "stream",
     "text": [
      "MSE on test Dataset: 9388.35106488 Iteration of Bagging: 121 / 200\n",
      "MSE on train Dataset: 1888.60625581 Iteration of Bagging: 121 / 200\n"
     ]
    },
    {
     "name": "stderr",
     "output_type": "stream",
     "text": [
      "Learning estimator number: 44/45; MSE error on train dataset: 57.5834558107"
     ]
    },
    {
     "name": "stdout",
     "output_type": "stream",
     "text": [
      "MSE on test Dataset: 9209.82540599 Iteration of Bagging: 122 / 200\n",
      "MSE on train Dataset: 1857.65087647 Iteration of Bagging: 122 / 200\n"
     ]
    },
    {
     "name": "stderr",
     "output_type": "stream",
     "text": [
      "Learning estimator number: 44/45; MSE error on train dataset: 92.3235898351"
     ]
    },
    {
     "name": "stdout",
     "output_type": "stream",
     "text": [
      "MSE on test Dataset: 9129.1469119 Iteration of Bagging: 123 / 200\n",
      "MSE on train Dataset: 1826.31850086 Iteration of Bagging: 123 / 200\n"
     ]
    },
    {
     "name": "stderr",
     "output_type": "stream",
     "text": [
      "Learning estimator number: 4/45; MSE error on train dataset: 63.0693598104"
     ]
    },
    {
     "name": "stdout",
     "output_type": "stream",
     "text": [
      "MSE on test Dataset: 9226.65674917 Iteration of Bagging: 124 / 200\n",
      "MSE on train Dataset: 1828.50981968 Iteration of Bagging: 124 / 200\n"
     ]
    },
    {
     "name": "stderr",
     "output_type": "stream",
     "text": [
      "Learning estimator number: 3/45; MSE error on train dataset: 435.918980789"
     ]
    },
    {
     "name": "stdout",
     "output_type": "stream",
     "text": [
      "MSE on test Dataset: 9298.57228475 Iteration of Bagging: 125 / 200\n",
      "MSE on train Dataset: 1847.1760503 Iteration of Bagging: 125 / 200\n"
     ]
    },
    {
     "name": "stderr",
     "output_type": "stream",
     "text": [
      "Learning estimator number: 2/45; MSE error on train dataset: 368.214765079"
     ]
    },
    {
     "name": "stdout",
     "output_type": "stream",
     "text": [
      "MSE on test Dataset: 9324.03702881 Iteration of Bagging: 126 / 200\n",
      "MSE on train Dataset: 1857.00411765 Iteration of Bagging: 126 / 200\n"
     ]
    },
    {
     "name": "stderr",
     "output_type": "stream",
     "text": [
      "Learning estimator number: 4/45; MSE error on train dataset: 1597.56999059"
     ]
    },
    {
     "name": "stdout",
     "output_type": "stream",
     "text": [
      "MSE on test Dataset: 9280.59973576 Iteration of Bagging: 127 / 200\n",
      "MSE on train Dataset: 1857.29280248 Iteration of Bagging: 127 / 200\n"
     ]
    },
    {
     "name": "stderr",
     "output_type": "stream",
     "text": [
      "Learning estimator number: 2/45; MSE error on train dataset: 4967.83312336"
     ]
    },
    {
     "name": "stdout",
     "output_type": "stream",
     "text": [
      "MSE on test Dataset: 9068.3604786 Iteration of Bagging: 128 / 200\n",
      "MSE on train Dataset: 1832.10916771 Iteration of Bagging: 128 / 200\n"
     ]
    },
    {
     "name": "stderr",
     "output_type": "stream",
     "text": [
      "Learning estimator number: 2/45; MSE error on train dataset: 347.837307821"
     ]
    },
    {
     "name": "stdout",
     "output_type": "stream",
     "text": [
      "MSE on test Dataset: 8839.97133715 Iteration of Bagging: 129 / 200\n",
      "MSE on train Dataset: 1809.88352858 Iteration of Bagging: 129 / 200\n"
     ]
    },
    {
     "name": "stderr",
     "output_type": "stream",
     "text": [
      "Learning estimator number: 3/45; MSE error on train dataset: 143.580132587"
     ]
    },
    {
     "name": "stdout",
     "output_type": "stream",
     "text": [
      "MSE on test Dataset: 8788.17401497 Iteration of Bagging: 130 / 200\n",
      "MSE on train Dataset: 1809.7321944 Iteration of Bagging: 130 / 200\n"
     ]
    },
    {
     "name": "stderr",
     "output_type": "stream",
     "text": [
      "Learning estimator number: 1/45; MSE error on train dataset: 1984.01954915"
     ]
    },
    {
     "name": "stdout",
     "output_type": "stream",
     "text": [
      "MSE on test Dataset: 8856.78728638 Iteration of Bagging: 131 / 200\n",
      "MSE on train Dataset: 1828.07365685 Iteration of Bagging: 131 / 200\n"
     ]
    },
    {
     "name": "stderr",
     "output_type": "stream",
     "text": [
      "Learning estimator number: 44/45; MSE error on train dataset: 31.6735633915"
     ]
    },
    {
     "name": "stdout",
     "output_type": "stream",
     "text": [
      "MSE on test Dataset: 8915.35666625 Iteration of Bagging: 132 / 200\n",
      "MSE on train Dataset: 1812.93472498 Iteration of Bagging: 132 / 200\n"
     ]
    },
    {
     "name": "stderr",
     "output_type": "stream",
     "text": [
      "Learning estimator number: 3/45; MSE error on train dataset: 2794.4248721"
     ]
    },
    {
     "name": "stdout",
     "output_type": "stream",
     "text": [
      "MSE on test Dataset: 8726.80818221 Iteration of Bagging: 133 / 200\n",
      "MSE on train Dataset: 1788.54480574 Iteration of Bagging: 133 / 200\n"
     ]
    },
    {
     "name": "stderr",
     "output_type": "stream",
     "text": [
      "Learning estimator number: 2/45; MSE error on train dataset: 437.461225562"
     ]
    },
    {
     "name": "stdout",
     "output_type": "stream",
     "text": [
      "MSE on test Dataset: 8756.84296474 Iteration of Bagging: 134 / 200\n",
      "MSE on train Dataset: 1769.07685018 Iteration of Bagging: 134 / 200\n"
     ]
    },
    {
     "name": "stderr",
     "output_type": "stream",
     "text": [
      "Iteration of bagging:136/200"
     ]
    },
    {
     "name": "stdout",
     "output_type": "stream",
     "text": [
      "MSE on test Dataset: 8845.09536556 Iteration of Bagging: 135 / 200\n",
      "MSE on train Dataset: 1767.11049689 Iteration of Bagging: 135 / 200\n"
     ]
    },
    {
     "name": "stderr",
     "output_type": "stream",
     "text": [
      "Iteration of bagging:137/200"
     ]
    },
    {
     "name": "stdout",
     "output_type": "stream",
     "text": [
      "MSE on test Dataset: 8909.8196428 Iteration of Bagging: 136 / 200\n",
      "MSE on train Dataset: 1751.99918458 Iteration of Bagging: 136 / 200\n"
     ]
    },
    {
     "name": "stderr",
     "output_type": "stream",
     "text": [
      "Iteration of bagging:138/200"
     ]
    },
    {
     "name": "stdout",
     "output_type": "stream",
     "text": [
      "MSE on test Dataset: 8950.678554 Iteration of Bagging: 137 / 200\n",
      "MSE on train Dataset: 1738.84263634 Iteration of Bagging: 137 / 200\n"
     ]
    },
    {
     "name": "stderr",
     "output_type": "stream",
     "text": [
      "Learning estimator number: 1/45; MSE error on train dataset: 568.688358501"
     ]
    },
    {
     "name": "stdout",
     "output_type": "stream",
     "text": [
      "MSE on test Dataset: 8949.23037079 Iteration of Bagging: 138 / 200\n",
      "MSE on train Dataset: 1720.02315973 Iteration of Bagging: 138 / 200\n"
     ]
    },
    {
     "name": "stderr",
     "output_type": "stream",
     "text": [
      "Learning estimator number: 4/45; MSE error on train dataset: 4198.89656795"
     ]
    },
    {
     "name": "stdout",
     "output_type": "stream",
     "text": [
      "MSE on test Dataset: 8984.12088232 Iteration of Bagging: 139 / 200\n",
      "MSE on train Dataset: 1733.21279171 Iteration of Bagging: 139 / 200\n"
     ]
    },
    {
     "name": "stderr",
     "output_type": "stream",
     "text": [
      "Iteration of bagging:141/200"
     ]
    },
    {
     "name": "stdout",
     "output_type": "stream",
     "text": [
      "MSE on test Dataset: 8793.69243398 Iteration of Bagging: 140 / 200\n",
      "MSE on train Dataset: 1712.06857651 Iteration of Bagging: 140 / 200\n"
     ]
    },
    {
     "name": "stderr",
     "output_type": "stream",
     "text": [
      "Learning estimator number: 2/45; MSE error on train dataset: 328.34665107"
     ]
    },
    {
     "name": "stdout",
     "output_type": "stream",
     "text": [
      "MSE on test Dataset: 8807.16875592 Iteration of Bagging: 141 / 200\n",
      "MSE on train Dataset: 1698.65948998 Iteration of Bagging: 141 / 200\n"
     ]
    },
    {
     "name": "stderr",
     "output_type": "stream",
     "text": [
      "Learning estimator number: 44/45; MSE error on train dataset: 25.2171689342"
     ]
    },
    {
     "name": "stdout",
     "output_type": "stream",
     "text": [
      "MSE on test Dataset: 8892.31601674 Iteration of Bagging: 142 / 200\n",
      "MSE on train Dataset: 1714.02599723 Iteration of Bagging: 142 / 200\n"
     ]
    },
    {
     "name": "stderr",
     "output_type": "stream",
     "text": [
      "Learning estimator number: 2/45; MSE error on train dataset: 67.0710378691"
     ]
    },
    {
     "name": "stdout",
     "output_type": "stream",
     "text": [
      "MSE on test Dataset: 8908.71696271 Iteration of Bagging: 143 / 200\n",
      "MSE on train Dataset: 1714.42416103 Iteration of Bagging: 143 / 200\n"
     ]
    },
    {
     "name": "stderr",
     "output_type": "stream",
     "text": [
      "Iteration of bagging:145/200"
     ]
    },
    {
     "name": "stdout",
     "output_type": "stream",
     "text": [
      "MSE on test Dataset: 8973.21472908 Iteration of Bagging: 144 / 200\n",
      "MSE on train Dataset: 1730.4848913 Iteration of Bagging: 144 / 200\n"
     ]
    },
    {
     "name": "stderr",
     "output_type": "stream",
     "text": [
      "Iteration of bagging:146/200"
     ]
    },
    {
     "name": "stdout",
     "output_type": "stream",
     "text": [
      "MSE on test Dataset: 9036.73388928 Iteration of Bagging: 145 / 200\n",
      "MSE on train Dataset: 1723.24609033 Iteration of Bagging: 145 / 200\n"
     ]
    },
    {
     "name": "stderr",
     "output_type": "stream",
     "text": [
      "Learning estimator number: 2/45; MSE error on train dataset: 6187.61114552"
     ]
    },
    {
     "name": "stdout",
     "output_type": "stream",
     "text": [
      "MSE on test Dataset: 9051.24832972 Iteration of Bagging: 146 / 200\n",
      "MSE on train Dataset: 1739.12439084 Iteration of Bagging: 146 / 200\n"
     ]
    },
    {
     "name": "stderr",
     "output_type": "stream",
     "text": [
      "Iteration of bagging:148/200"
     ]
    },
    {
     "name": "stdout",
     "output_type": "stream",
     "text": [
      "MSE on test Dataset: 9011.35981233 Iteration of Bagging: 147 / 200\n",
      "MSE on train Dataset: 1729.06333446 Iteration of Bagging: 147 / 200\n"
     ]
    },
    {
     "name": "stderr",
     "output_type": "stream",
     "text": [
      "Learning estimator number: 2/45; MSE error on train dataset: 4533.10761274"
     ]
    },
    {
     "name": "stdout",
     "output_type": "stream",
     "text": [
      "MSE on test Dataset: 8842.62331906 Iteration of Bagging: 148 / 200\n",
      "MSE on train Dataset: 1707.44463218 Iteration of Bagging: 148 / 200\n"
     ]
    },
    {
     "name": "stderr",
     "output_type": "stream",
     "text": [
      "Learning estimator number: 1/45; MSE error on train dataset: 1180.80405595"
     ]
    },
    {
     "name": "stdout",
     "output_type": "stream",
     "text": [
      "MSE on test Dataset: 8683.38965085 Iteration of Bagging: 149 / 200\n",
      "MSE on train Dataset: 1685.80912896 Iteration of Bagging: 149 / 200\n"
     ]
    },
    {
     "name": "stderr",
     "output_type": "stream",
     "text": [
      "Iteration of bagging:151/200"
     ]
    },
    {
     "name": "stdout",
     "output_type": "stream",
     "text": [
      "MSE on test Dataset: 8669.26266008 Iteration of Bagging: 150 / 200\n",
      "MSE on train Dataset: 1694.12926617 Iteration of Bagging: 150 / 200\n"
     ]
    },
    {
     "name": "stderr",
     "output_type": "stream",
     "text": [
      "Learning estimator number: 2/45; MSE error on train dataset: 83.0868881951"
     ]
    },
    {
     "name": "stdout",
     "output_type": "stream",
     "text": [
      "MSE on test Dataset: 8724.11463605 Iteration of Bagging: 151 / 200\n",
      "MSE on train Dataset: 1708.97871886 Iteration of Bagging: 151 / 200\n"
     ]
    },
    {
     "name": "stderr",
     "output_type": "stream",
     "text": [
      "Learning estimator number: 3/45; MSE error on train dataset: 735.366267333"
     ]
    },
    {
     "name": "stdout",
     "output_type": "stream",
     "text": [
      "MSE on test Dataset: 8784.51031375 Iteration of Bagging: 152 / 200\n",
      "MSE on train Dataset: 1727.3534027 Iteration of Bagging: 152 / 200\n"
     ]
    },
    {
     "name": "stderr",
     "output_type": "stream",
     "text": [
      "Learning estimator number: 3/45; MSE error on train dataset: 3990.09089453"
     ]
    },
    {
     "name": "stdout",
     "output_type": "stream",
     "text": [
      "MSE on test Dataset: 8793.69124665 Iteration of Bagging: 153 / 200\n",
      "MSE on train Dataset: 1730.5622325 Iteration of Bagging: 153 / 200\n"
     ]
    },
    {
     "name": "stderr",
     "output_type": "stream",
     "text": [
      "Learning estimator number: 44/45; MSE error on train dataset: 43.4652310664"
     ]
    },
    {
     "name": "stdout",
     "output_type": "stream",
     "text": [
      "MSE on test Dataset: 8689.74856096 Iteration of Bagging: 154 / 200\n",
      "MSE on train Dataset: 1707.07198397 Iteration of Bagging: 154 / 200\n"
     ]
    },
    {
     "name": "stderr",
     "output_type": "stream",
     "text": [
      "Iteration of bagging:156/200"
     ]
    },
    {
     "name": "stdout",
     "output_type": "stream",
     "text": [
      "MSE on test Dataset: 8711.57422253 Iteration of Bagging: 155 / 200\n",
      "MSE on train Dataset: 1721.28095392 Iteration of Bagging: 155 / 200\n"
     ]
    },
    {
     "name": "stderr",
     "output_type": "stream",
     "text": [
      "Learning estimator number: 3/45; MSE error on train dataset: 204.91931948"
     ]
    },
    {
     "name": "stdout",
     "output_type": "stream",
     "text": [
      "MSE on test Dataset: 8721.87642453 Iteration of Bagging: 156 / 200\n",
      "MSE on train Dataset: 1734.01409932 Iteration of Bagging: 156 / 200\n"
     ]
    },
    {
     "name": "stderr",
     "output_type": "stream",
     "text": [
      "Learning estimator number: 1/45; MSE error on train dataset: 5490.89297028"
     ]
    },
    {
     "name": "stdout",
     "output_type": "stream",
     "text": [
      "MSE on test Dataset: 8678.93750801 Iteration of Bagging: 157 / 200\n",
      "MSE on train Dataset: 1734.0271252 Iteration of Bagging: 157 / 200\n"
     ]
    },
    {
     "name": "stderr",
     "output_type": "stream",
     "text": [
      "Learning estimator number: 2/45; MSE error on train dataset: 614.515946098"
     ]
    },
    {
     "name": "stdout",
     "output_type": "stream",
     "text": [
      "MSE on test Dataset: 8717.08806408 Iteration of Bagging: 158 / 200\n",
      "MSE on train Dataset: 1719.92786152 Iteration of Bagging: 158 / 200\n"
     ]
    },
    {
     "name": "stderr",
     "output_type": "stream",
     "text": [
      "Iteration of bagging:160/200"
     ]
    },
    {
     "name": "stdout",
     "output_type": "stream",
     "text": [
      "MSE on test Dataset: 8719.9003314 Iteration of Bagging: 159 / 200\n",
      "MSE on train Dataset: 1693.32906372 Iteration of Bagging: 159 / 200\n"
     ]
    },
    {
     "name": "stderr",
     "output_type": "stream",
     "text": [
      "Learning estimator number: 2/45; MSE error on train dataset: 87.2567443042"
     ]
    },
    {
     "name": "stdout",
     "output_type": "stream",
     "text": [
      "MSE on test Dataset: 8782.87085914 Iteration of Bagging: 160 / 200\n",
      "MSE on train Dataset: 1693.42763804 Iteration of Bagging: 160 / 200\n"
     ]
    },
    {
     "name": "stderr",
     "output_type": "stream",
     "text": [
      "Learning estimator number: 1/45; MSE error on train dataset: 547.456353807"
     ]
    },
    {
     "name": "stdout",
     "output_type": "stream",
     "text": [
      "MSE on test Dataset: 8822.70346959 Iteration of Bagging: 161 / 200\n",
      "MSE on train Dataset: 1708.68631761 Iteration of Bagging: 161 / 200\n"
     ]
    },
    {
     "name": "stderr",
     "output_type": "stream",
     "text": [
      "Iteration of bagging:163/200"
     ]
    },
    {
     "name": "stdout",
     "output_type": "stream",
     "text": [
      "MSE on test Dataset: 8892.66780627 Iteration of Bagging: 162 / 200\n",
      "MSE on train Dataset: 1722.87518226 Iteration of Bagging: 162 / 200\n"
     ]
    },
    {
     "name": "stderr",
     "output_type": "stream",
     "text": [
      "Learning estimator number: 4/45; MSE error on train dataset: 95.5561362004"
     ]
    },
    {
     "name": "stdout",
     "output_type": "stream",
     "text": [
      "MSE on test Dataset: 8945.81988749 Iteration of Bagging: 163 / 200\n",
      "MSE on train Dataset: 1737.64577766 Iteration of Bagging: 163 / 200\n"
     ]
    },
    {
     "name": "stderr",
     "output_type": "stream",
     "text": [
      "Learning estimator number: 1/45; MSE error on train dataset: 240.33701531"
     ]
    },
    {
     "name": "stdout",
     "output_type": "stream",
     "text": [
      "MSE on test Dataset: 9002.31320193 Iteration of Bagging: 164 / 200\n",
      "MSE on train Dataset: 1751.1311637 Iteration of Bagging: 164 / 200\n"
     ]
    },
    {
     "name": "stderr",
     "output_type": "stream",
     "text": [
      "Learning estimator number: 44/45; MSE error on train dataset: 25.057785464"
     ]
    },
    {
     "name": "stdout",
     "output_type": "stream",
     "text": [
      "MSE on test Dataset: 9040.12085502 Iteration of Bagging: 165 / 200\n",
      "MSE on train Dataset: 1765.6552983 Iteration of Bagging: 165 / 200\n"
     ]
    },
    {
     "name": "stderr",
     "output_type": "stream",
     "text": [
      "Learning estimator number: 2/45; MSE error on train dataset: 379.368565078"
     ]
    },
    {
     "name": "stdout",
     "output_type": "stream",
     "text": [
      "MSE on test Dataset: 8926.38052541 Iteration of Bagging: 166 / 200\n",
      "MSE on train Dataset: 1744.01639706 Iteration of Bagging: 166 / 200\n"
     ]
    },
    {
     "name": "stderr",
     "output_type": "stream",
     "text": [
      "Learning estimator number: 2/45; MSE error on train dataset: 126.903687477"
     ]
    },
    {
     "name": "stdout",
     "output_type": "stream",
     "text": [
      "MSE on test Dataset: 8988.32879666 Iteration of Bagging: 167 / 200\n",
      "MSE on train Dataset: 1759.10098219 Iteration of Bagging: 167 / 200\n"
     ]
    },
    {
     "name": "stderr",
     "output_type": "stream",
     "text": [
      "Learning estimator number: 1/45; MSE error on train dataset: 41.7297873104"
     ]
    },
    {
     "name": "stdout",
     "output_type": "stream",
     "text": [
      "MSE on test Dataset: 9041.40145453 Iteration of Bagging: 168 / 200\n",
      "MSE on train Dataset: 1774.56272455 Iteration of Bagging: 168 / 200\n"
     ]
    },
    {
     "name": "stderr",
     "output_type": "stream",
     "text": [
      "Learning estimator number: 4/45; MSE error on train dataset: 41.1494024799"
     ]
    },
    {
     "name": "stdout",
     "output_type": "stream",
     "text": [
      "MSE on test Dataset: 9091.67377412 Iteration of Bagging: 169 / 200\n",
      "MSE on train Dataset: 1789.03714804 Iteration of Bagging: 169 / 200\n"
     ]
    },
    {
     "name": "stderr",
     "output_type": "stream",
     "text": [
      "Learning estimator number: 44/45; MSE error on train dataset: 3.6184248422"
     ]
    },
    {
     "name": "stdout",
     "output_type": "stream",
     "text": [
      "MSE on test Dataset: 9148.27866657 Iteration of Bagging: 170 / 200\n",
      "MSE on train Dataset: 1807.26484778 Iteration of Bagging: 170 / 200\n"
     ]
    },
    {
     "name": "stderr",
     "output_type": "stream",
     "text": [
      "Learning estimator number: 4/45; MSE error on train dataset: 182.367231492"
     ]
    },
    {
     "name": "stdout",
     "output_type": "stream",
     "text": [
      "MSE on test Dataset: 9010.3864046 Iteration of Bagging: 171 / 200\n",
      "MSE on train Dataset: 1792.16710653 Iteration of Bagging: 171 / 200\n"
     ]
    },
    {
     "name": "stderr",
     "output_type": "stream",
     "text": [
      "Iteration of bagging:173/200"
     ]
    },
    {
     "name": "stdout",
     "output_type": "stream",
     "text": [
      "MSE on test Dataset: 9062.72669192 Iteration of Bagging: 172 / 200\n",
      "MSE on train Dataset: 1785.31575969 Iteration of Bagging: 172 / 200\n"
     ]
    },
    {
     "name": "stderr",
     "output_type": "stream",
     "text": [
      "Learning estimator number: 44/45; MSE error on train dataset: 35.8526510917"
     ]
    },
    {
     "name": "stdout",
     "output_type": "stream",
     "text": [
      "MSE on test Dataset: 9118.12473486 Iteration of Bagging: 173 / 200\n",
      "MSE on train Dataset: 1784.35009152 Iteration of Bagging: 173 / 200\n"
     ]
    },
    {
     "name": "stderr",
     "output_type": "stream",
     "text": [
      "Iteration of bagging:175/200"
     ]
    },
    {
     "name": "stdout",
     "output_type": "stream",
     "text": [
      "MSE on test Dataset: 8982.08856689 Iteration of Bagging: 174 / 200\n",
      "MSE on train Dataset: 1765.05888176 Iteration of Bagging: 174 / 200\n"
     ]
    },
    {
     "name": "stderr",
     "output_type": "stream",
     "text": [
      "Learning estimator number: 2/45; MSE error on train dataset: 90.3080972738"
     ]
    },
    {
     "name": "stdout",
     "output_type": "stream",
     "text": [
      "MSE on test Dataset: 8983.78437273 Iteration of Bagging: 175 / 200\n",
      "MSE on train Dataset: 1768.83331845 Iteration of Bagging: 175 / 200\n"
     ]
    },
    {
     "name": "stderr",
     "output_type": "stream",
     "text": [
      "Learning estimator number: 3/45; MSE error on train dataset: 133.133604093"
     ]
    },
    {
     "name": "stdout",
     "output_type": "stream",
     "text": [
      "MSE on test Dataset: 9034.93495011 Iteration of Bagging: 176 / 200\n",
      "MSE on train Dataset: 1782.97981475 Iteration of Bagging: 176 / 200\n"
     ]
    },
    {
     "name": "stderr",
     "output_type": "stream",
     "text": [
      "Learning estimator number: 4/45; MSE error on train dataset: 1408.19836778"
     ]
    },
    {
     "name": "stdout",
     "output_type": "stream",
     "text": [
      "MSE on test Dataset: 9085.86875782 Iteration of Bagging: 177 / 200\n",
      "MSE on train Dataset: 1796.28561952 Iteration of Bagging: 177 / 200\n"
     ]
    },
    {
     "name": "stderr",
     "output_type": "stream",
     "text": [
      "Learning estimator number: 4/45; MSE error on train dataset: 3403.86138086"
     ]
    },
    {
     "name": "stdout",
     "output_type": "stream",
     "text": [
      "MSE on test Dataset: 8945.8432426 Iteration of Bagging: 178 / 200\n",
      "MSE on train Dataset: 1778.00503957 Iteration of Bagging: 178 / 200\n"
     ]
    },
    {
     "name": "stderr",
     "output_type": "stream",
     "text": [
      "Learning estimator number: 44/45; MSE error on train dataset: 38.7073142361"
     ]
    },
    {
     "name": "stdout",
     "output_type": "stream",
     "text": [
      "MSE on test Dataset: 8965.49310175 Iteration of Bagging: 179 / 200\n",
      "MSE on train Dataset: 1762.29352944 Iteration of Bagging: 179 / 200\n"
     ]
    },
    {
     "name": "stderr",
     "output_type": "stream",
     "text": [
      "Learning estimator number: 3/45; MSE error on train dataset: 2006.07659839"
     ]
    },
    {
     "name": "stdout",
     "output_type": "stream",
     "text": [
      "MSE on test Dataset: 9007.27950519 Iteration of Bagging: 180 / 200\n",
      "MSE on train Dataset: 1774.53092113 Iteration of Bagging: 180 / 200\n"
     ]
    },
    {
     "name": "stderr",
     "output_type": "stream",
     "text": [
      "Iteration of bagging:182/200"
     ]
    },
    {
     "name": "stdout",
     "output_type": "stream",
     "text": [
      "MSE on test Dataset: 8885.46162758 Iteration of Bagging: 181 / 200\n",
      "MSE on train Dataset: 1758.29322878 Iteration of Bagging: 181 / 200\n"
     ]
    },
    {
     "name": "stderr",
     "output_type": "stream",
     "text": [
      "Learning estimator number: 44/45; MSE error on train dataset: 97.4017073026"
     ]
    },
    {
     "name": "stdout",
     "output_type": "stream",
     "text": [
      "MSE on test Dataset: 8892.81915288 Iteration of Bagging: 182 / 200\n",
      "MSE on train Dataset: 1766.45634838 Iteration of Bagging: 182 / 200\n"
     ]
    },
    {
     "name": "stderr",
     "output_type": "stream",
     "text": [
      "Iteration of bagging:184/200"
     ]
    },
    {
     "name": "stdout",
     "output_type": "stream",
     "text": [
      "MSE on test Dataset: 8945.48561324 Iteration of Bagging: 183 / 200\n",
      "MSE on train Dataset: 1779.98964017 Iteration of Bagging: 183 / 200\n"
     ]
    },
    {
     "name": "stderr",
     "output_type": "stream",
     "text": [
      "Learning estimator number: 3/45; MSE error on train dataset: 127.660322594"
     ]
    },
    {
     "name": "stdout",
     "output_type": "stream",
     "text": [
      "MSE on test Dataset: 8930.99844495 Iteration of Bagging: 184 / 200\n",
      "MSE on train Dataset: 1770.08351943 Iteration of Bagging: 184 / 200\n"
     ]
    },
    {
     "name": "stderr",
     "output_type": "stream",
     "text": [
      "Iteration of bagging:186/200"
     ]
    },
    {
     "name": "stdout",
     "output_type": "stream",
     "text": [
      "MSE on test Dataset: 8974.26054306 Iteration of Bagging: 185 / 200\n",
      "MSE on train Dataset: 1770.88311095 Iteration of Bagging: 185 / 200\n"
     ]
    },
    {
     "name": "stderr",
     "output_type": "stream",
     "text": [
      "Learning estimator number: 2/45; MSE error on train dataset: 1720.75695751"
     ]
    },
    {
     "name": "stdout",
     "output_type": "stream",
     "text": [
      "MSE on test Dataset: 8910.23156971 Iteration of Bagging: 186 / 200\n",
      "MSE on train Dataset: 1762.40334549 Iteration of Bagging: 186 / 200\n"
     ]
    },
    {
     "name": "stderr",
     "output_type": "stream",
     "text": [
      "Learning estimator number: 2/45; MSE error on train dataset: 345.885473631"
     ]
    },
    {
     "name": "stdout",
     "output_type": "stream",
     "text": [
      "MSE on test Dataset: 8909.81904383 Iteration of Bagging: 187 / 200\n",
      "MSE on train Dataset: 1751.04174044 Iteration of Bagging: 187 / 200\n"
     ]
    },
    {
     "name": "stderr",
     "output_type": "stream",
     "text": [
      "Iteration of bagging:189/200"
     ]
    },
    {
     "name": "stdout",
     "output_type": "stream",
     "text": [
      "MSE on test Dataset: 8966.48158285 Iteration of Bagging: 188 / 200\n",
      "MSE on train Dataset: 1754.98366317 Iteration of Bagging: 188 / 200\n"
     ]
    },
    {
     "name": "stderr",
     "output_type": "stream",
     "text": [
      "Learning estimator number: 2/45; MSE error on train dataset: 197.843787439"
     ]
    },
    {
     "name": "stdout",
     "output_type": "stream",
     "text": [
      "MSE on test Dataset: 8977.70028572 Iteration of Bagging: 189 / 200\n",
      "MSE on train Dataset: 1754.11666241 Iteration of Bagging: 189 / 200\n"
     ]
    },
    {
     "name": "stderr",
     "output_type": "stream",
     "text": [
      "Iteration of bagging:191/200"
     ]
    },
    {
     "name": "stdout",
     "output_type": "stream",
     "text": [
      "MSE on test Dataset: 9028.70951117 Iteration of Bagging: 190 / 200\n",
      "MSE on train Dataset: 1766.06297023 Iteration of Bagging: 190 / 200\n"
     ]
    },
    {
     "name": "stderr",
     "output_type": "stream",
     "text": [
      "Iteration of bagging:192/200"
     ]
    },
    {
     "name": "stdout",
     "output_type": "stream",
     "text": [
      "MSE on test Dataset: 9044.98583532 Iteration of Bagging: 191 / 200\n",
      "MSE on train Dataset: 1774.03171041 Iteration of Bagging: 191 / 200\n"
     ]
    },
    {
     "name": "stderr",
     "output_type": "stream",
     "text": [
      "Learning estimator number: 2/45; MSE error on train dataset: 5183.88101893"
     ]
    },
    {
     "name": "stdout",
     "output_type": "stream",
     "text": [
      "MSE on test Dataset: 9042.68055512 Iteration of Bagging: 192 / 200\n",
      "MSE on train Dataset: 1761.24283632 Iteration of Bagging: 192 / 200\n"
     ]
    },
    {
     "name": "stderr",
     "output_type": "stream",
     "text": [
      "Learning estimator number: 2/45; MSE error on train dataset: 882.130375019"
     ]
    },
    {
     "name": "stdout",
     "output_type": "stream",
     "text": [
      "MSE on test Dataset: 8910.89981461 Iteration of Bagging: 193 / 200\n",
      "MSE on train Dataset: 1746.68734106 Iteration of Bagging: 193 / 200\n"
     ]
    },
    {
     "name": "stderr",
     "output_type": "stream",
     "text": [
      "Learning estimator number: 2/45; MSE error on train dataset: 71.0718458129"
     ]
    },
    {
     "name": "stdout",
     "output_type": "stream",
     "text": [
      "MSE on test Dataset: 8880.44114542 Iteration of Bagging: 194 / 200\n",
      "MSE on train Dataset: 1749.87917802 Iteration of Bagging: 194 / 200\n"
     ]
    },
    {
     "name": "stderr",
     "output_type": "stream",
     "text": [
      "Iteration of bagging:196/200"
     ]
    },
    {
     "name": "stdout",
     "output_type": "stream",
     "text": [
      "MSE on test Dataset: 8924.96593949 Iteration of Bagging: 195 / 200\n",
      "MSE on train Dataset: 1760.41969657 Iteration of Bagging: 195 / 200\n"
     ]
    },
    {
     "name": "stderr",
     "output_type": "stream",
     "text": [
      "Iteration of bagging:197/200"
     ]
    },
    {
     "name": "stdout",
     "output_type": "stream",
     "text": [
      "MSE on test Dataset: 8953.80089052 Iteration of Bagging: 196 / 200\n",
      "MSE on train Dataset: 1772.99015549 Iteration of Bagging: 196 / 200\n"
     ]
    },
    {
     "name": "stderr",
     "output_type": "stream",
     "text": [
      "Learning estimator number: 2/45; MSE error on train dataset: 77.2880425194"
     ]
    },
    {
     "name": "stdout",
     "output_type": "stream",
     "text": [
      "MSE on test Dataset: 8970.78677131 Iteration of Bagging: 197 / 200\n",
      "MSE on train Dataset: 1773.69899936 Iteration of Bagging: 197 / 200\n"
     ]
    },
    {
     "name": "stderr",
     "output_type": "stream",
     "text": [
      "Iteration of bagging:199/200"
     ]
    },
    {
     "name": "stdout",
     "output_type": "stream",
     "text": [
      "MSE on test Dataset: 9016.73451677 Iteration of Bagging: 198 / 200\n",
      "MSE on train Dataset: 1785.83264297 Iteration of Bagging: 198 / 200\n"
     ]
    },
    {
     "name": "stderr",
     "output_type": "stream",
     "text": [
      "Learning estimator number: 4/55; MSE error on train dataset: 78.7299229261"
     ]
    },
    {
     "name": "stdout",
     "output_type": "stream",
     "text": [
      "MSE on test Dataset: 9027.40976784 Iteration of Bagging: 199 / 200\n",
      "MSE on train Dataset: 1772.96806762 Iteration of Bagging: 199 / 200\n"
     ]
    },
    {
     "name": "stderr",
     "output_type": "stream",
     "text": [
      "Learning estimator number: 5/55; MSE error on train dataset: 395.804849228"
     ]
    },
    {
     "name": "stdout",
     "output_type": "stream",
     "text": [
      "MSE on test Dataset: 15400.1860757 Iteration of Bagging: 0 / 200\n",
      "MSE on train Dataset: 6828.78995644 Iteration of Bagging: 0 / 200\n"
     ]
    },
    {
     "name": "stderr",
     "output_type": "stream",
     "text": [
      "Learning estimator number: 1/55; MSE error on train dataset: 5203.70930043"
     ]
    },
    {
     "name": "stdout",
     "output_type": "stream",
     "text": [
      "MSE on test Dataset: 16751.2334182 Iteration of Bagging: 1 / 200\n",
      "MSE on train Dataset: 5700.75257127 Iteration of Bagging: 1 / 200\n"
     ]
    },
    {
     "name": "stderr",
     "output_type": "stream",
     "text": [
      "Learning estimator number: 3/55; MSE error on train dataset: 174.825420679"
     ]
    },
    {
     "name": "stdout",
     "output_type": "stream",
     "text": [
      "MSE on test Dataset: 12792.8459599 Iteration of Bagging: 2 / 200\n",
      "MSE on train Dataset: 2764.67512992 Iteration of Bagging: 2 / 200\n"
     ]
    },
    {
     "name": "stderr",
     "output_type": "stream",
     "text": [
      "Learning estimator number: 2/55; MSE error on train dataset: 474.343484371"
     ]
    },
    {
     "name": "stdout",
     "output_type": "stream",
     "text": [
      "MSE on test Dataset: 13607.5651015 Iteration of Bagging: 3 / 200\n",
      "MSE on train Dataset: 3531.33662332 Iteration of Bagging: 3 / 200\n"
     ]
    },
    {
     "name": "stderr",
     "output_type": "stream",
     "text": [
      "Iteration of bagging:5/200"
     ]
    },
    {
     "name": "stdout",
     "output_type": "stream",
     "text": [
      "MSE on test Dataset: 12812.5203435 Iteration of Bagging: 4 / 200\n",
      "MSE on train Dataset: 3047.62000375 Iteration of Bagging: 4 / 200\n"
     ]
    },
    {
     "name": "stderr",
     "output_type": "stream",
     "text": [
      "Learning estimator number: 3/55; MSE error on train dataset: 69.2830038292"
     ]
    },
    {
     "name": "stdout",
     "output_type": "stream",
     "text": [
      "MSE on test Dataset: 12135.837176 Iteration of Bagging: 5 / 200\n",
      "MSE on train Dataset: 2462.84576014 Iteration of Bagging: 5 / 200\n"
     ]
    },
    {
     "name": "stderr",
     "output_type": "stream",
     "text": [
      "Learning estimator number: 3/55; MSE error on train dataset: 4259.65682675"
     ]
    },
    {
     "name": "stdout",
     "output_type": "stream",
     "text": [
      "MSE on test Dataset: 13146.8986614 Iteration of Bagging: 6 / 200\n",
      "MSE on train Dataset: 2710.17842971 Iteration of Bagging: 6 / 200\n"
     ]
    },
    {
     "name": "stderr",
     "output_type": "stream",
     "text": [
      "Iteration of bagging:8/200"
     ]
    },
    {
     "name": "stdout",
     "output_type": "stream",
     "text": [
      "MSE on test Dataset: 10083.4979059 Iteration of Bagging: 7 / 200\n",
      "MSE on train Dataset: 2154.00710871 Iteration of Bagging: 7 / 200\n"
     ]
    },
    {
     "name": "stderr",
     "output_type": "stream",
     "text": [
      "Iteration of bagging:9/200"
     ]
    },
    {
     "name": "stdout",
     "output_type": "stream",
     "text": [
      "MSE on test Dataset: 9095.62175844 Iteration of Bagging: 8 / 200\n",
      "MSE on train Dataset: 1712.96690658 Iteration of Bagging: 8 / 200\n"
     ]
    },
    {
     "name": "stderr",
     "output_type": "stream",
     "text": [
      "Learning estimator number: 54/55; MSE error on train dataset: 1.35270203712"
     ]
    },
    {
     "name": "stdout",
     "output_type": "stream",
     "text": [
      "MSE on test Dataset: 9967.38442989 Iteration of Bagging: 9 / 200\n",
      "MSE on train Dataset: 1975.19400917 Iteration of Bagging: 9 / 200\n"
     ]
    },
    {
     "name": "stderr",
     "output_type": "stream",
     "text": [
      "Learning estimator number: 5/55; MSE error on train dataset: 639.041493328"
     ]
    },
    {
     "name": "stdout",
     "output_type": "stream",
     "text": [
      "MSE on test Dataset: 7772.09942536 Iteration of Bagging: 10 / 200\n",
      "MSE on train Dataset: 1651.03406786 Iteration of Bagging: 10 / 200\n"
     ]
    },
    {
     "name": "stderr",
     "output_type": "stream",
     "text": [
      "Iteration of bagging:12/200"
     ]
    },
    {
     "name": "stdout",
     "output_type": "stream",
     "text": [
      "MSE on test Dataset: 8961.49233669 Iteration of Bagging: 11 / 200\n",
      "MSE on train Dataset: 1687.07233788 Iteration of Bagging: 11 / 200\n"
     ]
    },
    {
     "name": "stderr",
     "output_type": "stream",
     "text": [
      "Learning estimator number: 4/55; MSE error on train dataset: 237.760804348"
     ]
    },
    {
     "name": "stdout",
     "output_type": "stream",
     "text": [
      "MSE on test Dataset: 7744.32194098 Iteration of Bagging: 12 / 200\n",
      "MSE on train Dataset: 1452.22400877 Iteration of Bagging: 12 / 200\n"
     ]
    },
    {
     "name": "stderr",
     "output_type": "stream",
     "text": [
      "Learning estimator number: 54/55; MSE error on train dataset: 19.6004528015"
     ]
    },
    {
     "name": "stdout",
     "output_type": "stream",
     "text": [
      "MSE on test Dataset: 7835.57370419 Iteration of Bagging: 13 / 200\n",
      "MSE on train Dataset: 1478.54527395 Iteration of Bagging: 13 / 200\n"
     ]
    },
    {
     "name": "stderr",
     "output_type": "stream",
     "text": [
      "Iteration of bagging:15/200"
     ]
    },
    {
     "name": "stdout",
     "output_type": "stream",
     "text": [
      "MSE on test Dataset: 8220.29403482 Iteration of Bagging: 14 / 200\n",
      "MSE on train Dataset: 1502.04567998 Iteration of Bagging: 14 / 200\n"
     ]
    },
    {
     "name": "stderr",
     "output_type": "stream",
     "text": [
      "Iteration of bagging:16/200"
     ]
    },
    {
     "name": "stdout",
     "output_type": "stream",
     "text": [
      "MSE on test Dataset: 8871.74364752 Iteration of Bagging: 15 / 200\n",
      "MSE on train Dataset: 1530.00458633 Iteration of Bagging: 15 / 200\n"
     ]
    },
    {
     "name": "stderr",
     "output_type": "stream",
     "text": [
      "Iteration of bagging:17/200"
     ]
    },
    {
     "name": "stdout",
     "output_type": "stream",
     "text": [
      "MSE on test Dataset: 8994.84441562 Iteration of Bagging: 16 / 200\n",
      "MSE on train Dataset: 1413.38654234 Iteration of Bagging: 16 / 200\n"
     ]
    },
    {
     "name": "stderr",
     "output_type": "stream",
     "text": [
      "Learning estimator number: 54/55; MSE error on train dataset: 3.87394977252"
     ]
    },
    {
     "name": "stdout",
     "output_type": "stream",
     "text": [
      "MSE on test Dataset: 9494.40556843 Iteration of Bagging: 17 / 200\n",
      "MSE on train Dataset: 1629.03719455 Iteration of Bagging: 17 / 200\n"
     ]
    },
    {
     "name": "stderr",
     "output_type": "stream",
     "text": [
      "Learning estimator number: 54/55; MSE error on train dataset: 190.608937625"
     ]
    },
    {
     "name": "stdout",
     "output_type": "stream",
     "text": [
      "MSE on test Dataset: 8597.77135508 Iteration of Bagging: 18 / 200\n",
      "MSE on train Dataset: 1478.86928649 Iteration of Bagging: 18 / 200\n"
     ]
    },
    {
     "name": "stderr",
     "output_type": "stream",
     "text": [
      "Learning estimator number: 1/55; MSE error on train dataset: 187.638776339"
     ]
    },
    {
     "name": "stdout",
     "output_type": "stream",
     "text": [
      "MSE on test Dataset: 9023.04788595 Iteration of Bagging: 19 / 200\n",
      "MSE on train Dataset: 1513.28146231 Iteration of Bagging: 19 / 200\n"
     ]
    },
    {
     "name": "stderr",
     "output_type": "stream",
     "text": [
      "Learning estimator number: 4/55; MSE error on train dataset: 104.98415534"
     ]
    },
    {
     "name": "stdout",
     "output_type": "stream",
     "text": [
      "MSE on test Dataset: 9428.23332585 Iteration of Bagging: 20 / 200\n",
      "MSE on train Dataset: 1550.54298227 Iteration of Bagging: 20 / 200\n"
     ]
    },
    {
     "name": "stderr",
     "output_type": "stream",
     "text": [
      "Learning estimator number: 2/55; MSE error on train dataset: 122.833373126"
     ]
    },
    {
     "name": "stdout",
     "output_type": "stream",
     "text": [
      "MSE on test Dataset: 9825.26668057 Iteration of Bagging: 21 / 200\n",
      "MSE on train Dataset: 1565.86258007 Iteration of Bagging: 21 / 200\n"
     ]
    },
    {
     "name": "stderr",
     "output_type": "stream",
     "text": [
      "Learning estimator number: 54/55; MSE error on train dataset: 6.74121037548"
     ]
    },
    {
     "name": "stdout",
     "output_type": "stream",
     "text": [
      "MSE on test Dataset: 10185.6018926 Iteration of Bagging: 22 / 200\n",
      "MSE on train Dataset: 1629.10389341 Iteration of Bagging: 22 / 200\n"
     ]
    },
    {
     "name": "stderr",
     "output_type": "stream",
     "text": [
      "Learning estimator number: 54/55; MSE error on train dataset: 8.21477547054"
     ]
    },
    {
     "name": "stdout",
     "output_type": "stream",
     "text": [
      "MSE on test Dataset: 10519.8240949 Iteration of Bagging: 23 / 200\n",
      "MSE on train Dataset: 1700.82269932 Iteration of Bagging: 23 / 200\n"
     ]
    },
    {
     "name": "stderr",
     "output_type": "stream",
     "text": [
      "Iteration of bagging:25/200"
     ]
    },
    {
     "name": "stdout",
     "output_type": "stream",
     "text": [
      "MSE on test Dataset: 10250.8350874 Iteration of Bagging: 24 / 200\n",
      "MSE on train Dataset: 1695.27453242 Iteration of Bagging: 24 / 200\n"
     ]
    },
    {
     "name": "stderr",
     "output_type": "stream",
     "text": [
      "Iteration of bagging:26/200"
     ]
    },
    {
     "name": "stdout",
     "output_type": "stream",
     "text": [
      "MSE on test Dataset: 9825.43917943 Iteration of Bagging: 25 / 200\n",
      "MSE on train Dataset: 1576.80857261 Iteration of Bagging: 25 / 200\n"
     ]
    },
    {
     "name": "stderr",
     "output_type": "stream",
     "text": [
      "Iteration of bagging:27/200"
     ]
    },
    {
     "name": "stdout",
     "output_type": "stream",
     "text": [
      "MSE on test Dataset: 9634.56583543 Iteration of Bagging: 26 / 200\n",
      "MSE on train Dataset: 1467.6715227 Iteration of Bagging: 26 / 200\n"
     ]
    },
    {
     "name": "stderr",
     "output_type": "stream",
     "text": [
      "Learning estimator number: 4/55; MSE error on train dataset: 3793.13690559"
     ]
    },
    {
     "name": "stdout",
     "output_type": "stream",
     "text": [
      "MSE on test Dataset: 9934.09712442 Iteration of Bagging: 27 / 200\n",
      "MSE on train Dataset: 1554.24726803 Iteration of Bagging: 27 / 200\n"
     ]
    },
    {
     "name": "stderr",
     "output_type": "stream",
     "text": [
      "Learning estimator number: 4/55; MSE error on train dataset: 56.9116014322"
     ]
    },
    {
     "name": "stdout",
     "output_type": "stream",
     "text": [
      "MSE on test Dataset: 8887.06952422 Iteration of Bagging: 28 / 200\n",
      "MSE on train Dataset: 1437.18476344 Iteration of Bagging: 28 / 200\n"
     ]
    },
    {
     "name": "stderr",
     "output_type": "stream",
     "text": [
      "Learning estimator number: 54/55; MSE error on train dataset: 2.1072223495"
     ]
    },
    {
     "name": "stdout",
     "output_type": "stream",
     "text": [
      "MSE on test Dataset: 9240.68586981 Iteration of Bagging: 29 / 200\n",
      "MSE on train Dataset: 1511.40080447 Iteration of Bagging: 29 / 200\n"
     ]
    },
    {
     "name": "stderr",
     "output_type": "stream",
     "text": [
      "Iteration of bagging:31/200"
     ]
    },
    {
     "name": "stdout",
     "output_type": "stream",
     "text": [
      "MSE on test Dataset: 9458.24110707 Iteration of Bagging: 30 / 200\n",
      "MSE on train Dataset: 1590.70286044 Iteration of Bagging: 30 / 200\n"
     ]
    },
    {
     "name": "stderr",
     "output_type": "stream",
     "text": [
      "Learning estimator number: 4/55; MSE error on train dataset: 1414.05477569"
     ]
    },
    {
     "name": "stdout",
     "output_type": "stream",
     "text": [
      "MSE on test Dataset: 8878.75871674 Iteration of Bagging: 31 / 200\n",
      "MSE on train Dataset: 1509.5146529 Iteration of Bagging: 31 / 200\n"
     ]
    },
    {
     "name": "stderr",
     "output_type": "stream",
     "text": [
      "Learning estimator number: 1/55; MSE error on train dataset: 241.058497163"
     ]
    },
    {
     "name": "stdout",
     "output_type": "stream",
     "text": [
      "MSE on test Dataset: 8176.947734 Iteration of Bagging: 32 / 200\n",
      "MSE on train Dataset: 1409.94919506 Iteration of Bagging: 32 / 200\n"
     ]
    },
    {
     "name": "stderr",
     "output_type": "stream",
     "text": [
      "Iteration of bagging:34/200"
     ]
    },
    {
     "name": "stdout",
     "output_type": "stream",
     "text": [
      "MSE on test Dataset: 8268.6764608 Iteration of Bagging: 33 / 200\n",
      "MSE on train Dataset: 1479.58043397 Iteration of Bagging: 33 / 200\n"
     ]
    },
    {
     "name": "stderr",
     "output_type": "stream",
     "text": [
      "Learning estimator number: 2/55; MSE error on train dataset: 1026.35961629"
     ]
    },
    {
     "name": "stdout",
     "output_type": "stream",
     "text": [
      "MSE on test Dataset: 8568.44013911 Iteration of Bagging: 34 / 200\n",
      "MSE on train Dataset: 1507.8197207 Iteration of Bagging: 34 / 200\n"
     ]
    },
    {
     "name": "stderr",
     "output_type": "stream",
     "text": [
      "Learning estimator number: 4/55; MSE error on train dataset: 3801.25345858"
     ]
    },
    {
     "name": "stdout",
     "output_type": "stream",
     "text": [
      "MSE on test Dataset: 8724.17960221 Iteration of Bagging: 35 / 200\n",
      "MSE on train Dataset: 1522.60770464 Iteration of Bagging: 35 / 200\n"
     ]
    },
    {
     "name": "stderr",
     "output_type": "stream",
     "text": [
      "Iteration of bagging:37/200"
     ]
    },
    {
     "name": "stdout",
     "output_type": "stream",
     "text": [
      "MSE on test Dataset: 8545.1511413 Iteration of Bagging: 36 / 200\n",
      "MSE on train Dataset: 1455.46269466 Iteration of Bagging: 36 / 200\n"
     ]
    },
    {
     "name": "stderr",
     "output_type": "stream",
     "text": [
      "Iteration of bagging:38/200"
     ]
    },
    {
     "name": "stdout",
     "output_type": "stream",
     "text": [
      "MSE on test Dataset: 8850.93480536 Iteration of Bagging: 37 / 200\n",
      "MSE on train Dataset: 1400.33109852 Iteration of Bagging: 37 / 200\n"
     ]
    },
    {
     "name": "stderr",
     "output_type": "stream",
     "text": [
      "Learning estimator number: 54/55; MSE error on train dataset: 9.72865755053"
     ]
    },
    {
     "name": "stdout",
     "output_type": "stream",
     "text": [
      "MSE on test Dataset: 9093.4127616 Iteration of Bagging: 38 / 200\n",
      "MSE on train Dataset: 1458.08833378 Iteration of Bagging: 38 / 200\n"
     ]
    },
    {
     "name": "stderr",
     "output_type": "stream",
     "text": [
      "Iteration of bagging:40/200"
     ]
    },
    {
     "name": "stdout",
     "output_type": "stream",
     "text": [
      "MSE on test Dataset: 9400.92365311 Iteration of Bagging: 39 / 200\n",
      "MSE on train Dataset: 1474.98706551 Iteration of Bagging: 39 / 200\n"
     ]
    },
    {
     "name": "stderr",
     "output_type": "stream",
     "text": [
      "Learning estimator number: 54/55; MSE error on train dataset: 30.2374742399"
     ]
    },
    {
     "name": "stdout",
     "output_type": "stream",
     "text": [
      "MSE on test Dataset: 9429.08841226 Iteration of Bagging: 40 / 200\n",
      "MSE on train Dataset: 1487.81079033 Iteration of Bagging: 40 / 200\n"
     ]
    },
    {
     "name": "stderr",
     "output_type": "stream",
     "text": [
      "Learning estimator number: 54/55; MSE error on train dataset: 18.2674114853"
     ]
    },
    {
     "name": "stdout",
     "output_type": "stream",
     "text": [
      "MSE on test Dataset: 9565.99944924 Iteration of Bagging: 41 / 200\n",
      "MSE on train Dataset: 1504.86470434 Iteration of Bagging: 41 / 200\n"
     ]
    },
    {
     "name": "stderr",
     "output_type": "stream",
     "text": [
      "Learning estimator number: 1/55; MSE error on train dataset: 506.780312413"
     ]
    },
    {
     "name": "stdout",
     "output_type": "stream",
     "text": [
      "MSE on test Dataset: 9093.39082939 Iteration of Bagging: 42 / 200\n",
      "MSE on train Dataset: 1442.48858086 Iteration of Bagging: 42 / 200\n"
     ]
    },
    {
     "name": "stderr",
     "output_type": "stream",
     "text": [
      "Learning estimator number: 2/55; MSE error on train dataset: 4064.03031213"
     ]
    },
    {
     "name": "stdout",
     "output_type": "stream",
     "text": [
      "MSE on test Dataset: 9275.07717367 Iteration of Bagging: 43 / 200\n",
      "MSE on train Dataset: 1436.14333052 Iteration of Bagging: 43 / 200\n"
     ]
    },
    {
     "name": "stderr",
     "output_type": "stream",
     "text": [
      "Learning estimator number: 1/55; MSE error on train dataset: 611.101234371"
     ]
    },
    {
     "name": "stdout",
     "output_type": "stream",
     "text": [
      "MSE on test Dataset: 9261.41564579 Iteration of Bagging: 44 / 200\n",
      "MSE on train Dataset: 1403.83565126 Iteration of Bagging: 44 / 200\n"
     ]
    },
    {
     "name": "stderr",
     "output_type": "stream",
     "text": [
      "Learning estimator number: 3/55; MSE error on train dataset: 1579.64891072"
     ]
    },
    {
     "name": "stdout",
     "output_type": "stream",
     "text": [
      "MSE on test Dataset: 9237.05530364 Iteration of Bagging: 45 / 200\n",
      "MSE on train Dataset: 1332.83336557 Iteration of Bagging: 45 / 200\n"
     ]
    },
    {
     "name": "stderr",
     "output_type": "stream",
     "text": [
      "Learning estimator number: 54/55; MSE error on train dataset: 59.0780024425"
     ]
    },
    {
     "name": "stdout",
     "output_type": "stream",
     "text": [
      "MSE on test Dataset: 8701.39412106 Iteration of Bagging: 46 / 200\n",
      "MSE on train Dataset: 1284.05333219 Iteration of Bagging: 46 / 200\n"
     ]
    },
    {
     "name": "stderr",
     "output_type": "stream",
     "text": [
      "Learning estimator number: 4/55; MSE error on train dataset: 337.40244259"
     ]
    },
    {
     "name": "stdout",
     "output_type": "stream",
     "text": [
      "MSE on test Dataset: 8695.14117146 Iteration of Bagging: 47 / 200\n",
      "MSE on train Dataset: 1314.70610394 Iteration of Bagging: 47 / 200\n"
     ]
    },
    {
     "name": "stderr",
     "output_type": "stream",
     "text": [
      "Iteration of bagging:49/200"
     ]
    },
    {
     "name": "stdout",
     "output_type": "stream",
     "text": [
      "MSE on test Dataset: 8872.73274407 Iteration of Bagging: 48 / 200\n",
      "MSE on train Dataset: 1329.94495555 Iteration of Bagging: 48 / 200\n"
     ]
    },
    {
     "name": "stderr",
     "output_type": "stream",
     "text": [
      "Learning estimator number: 4/55; MSE error on train dataset: 2447.06624461"
     ]
    },
    {
     "name": "stdout",
     "output_type": "stream",
     "text": [
      "MSE on test Dataset: 9047.97149547 Iteration of Bagging: 49 / 200\n",
      "MSE on train Dataset: 1375.7461205 Iteration of Bagging: 49 / 200\n"
     ]
    },
    {
     "name": "stderr",
     "output_type": "stream",
     "text": [
      "Learning estimator number: 2/55; MSE error on train dataset: 149.642166717"
     ]
    },
    {
     "name": "stdout",
     "output_type": "stream",
     "text": [
      "MSE on test Dataset: 9045.25269716 Iteration of Bagging: 50 / 200\n",
      "MSE on train Dataset: 1351.07580347 Iteration of Bagging: 50 / 200\n"
     ]
    },
    {
     "name": "stderr",
     "output_type": "stream",
     "text": [
      "Learning estimator number: 4/55; MSE error on train dataset: 139.618363046"
     ]
    },
    {
     "name": "stdout",
     "output_type": "stream",
     "text": [
      "MSE on test Dataset: 9234.17446904 Iteration of Bagging: 51 / 200\n",
      "MSE on train Dataset: 1395.62555231 Iteration of Bagging: 51 / 200\n"
     ]
    },
    {
     "name": "stderr",
     "output_type": "stream",
     "text": [
      "Iteration of bagging:53/200"
     ]
    },
    {
     "name": "stdout",
     "output_type": "stream",
     "text": [
      "MSE on test Dataset: 9403.09323916 Iteration of Bagging: 52 / 200\n",
      "MSE on train Dataset: 1443.5258599 Iteration of Bagging: 52 / 200\n"
     ]
    },
    {
     "name": "stderr",
     "output_type": "stream",
     "text": [
      "Learning estimator number: 4/55; MSE error on train dataset: 3494.12262662"
     ]
    },
    {
     "name": "stdout",
     "output_type": "stream",
     "text": [
      "MSE on test Dataset: 9079.53719389 Iteration of Bagging: 53 / 200\n",
      "MSE on train Dataset: 1400.1871748 Iteration of Bagging: 53 / 200\n"
     ]
    },
    {
     "name": "stderr",
     "output_type": "stream",
     "text": [
      "Iteration of bagging:55/200"
     ]
    },
    {
     "name": "stdout",
     "output_type": "stream",
     "text": [
      "MSE on test Dataset: 8923.30228871 Iteration of Bagging: 54 / 200\n",
      "MSE on train Dataset: 1362.46756559 Iteration of Bagging: 54 / 200\n"
     ]
    },
    {
     "name": "stderr",
     "output_type": "stream",
     "text": [
      "Iteration of bagging:56/200"
     ]
    },
    {
     "name": "stdout",
     "output_type": "stream",
     "text": [
      "MSE on test Dataset: 9092.15124634 Iteration of Bagging: 55 / 200\n",
      "MSE on train Dataset: 1380.24978374 Iteration of Bagging: 55 / 200\n"
     ]
    },
    {
     "name": "stderr",
     "output_type": "stream",
     "text": [
      "Learning estimator number: 54/55; MSE error on train dataset: 107.508338063"
     ]
    },
    {
     "name": "stdout",
     "output_type": "stream",
     "text": [
      "MSE on test Dataset: 9085.76347772 Iteration of Bagging: 56 / 200\n",
      "MSE on train Dataset: 1398.39847453 Iteration of Bagging: 56 / 200\n"
     ]
    },
    {
     "name": "stderr",
     "output_type": "stream",
     "text": [
      "Learning estimator number: 1/55; MSE error on train dataset: 871.951091925"
     ]
    },
    {
     "name": "stdout",
     "output_type": "stream",
     "text": [
      "MSE on test Dataset: 9210.8438264 Iteration of Bagging: 57 / 200\n",
      "MSE on train Dataset: 1448.29720331 Iteration of Bagging: 57 / 200\n"
     ]
    },
    {
     "name": "stderr",
     "output_type": "stream",
     "text": [
      "Learning estimator number: 3/55; MSE error on train dataset: 1458.64534987"
     ]
    },
    {
     "name": "stdout",
     "output_type": "stream",
     "text": [
      "MSE on test Dataset: 9156.81896752 Iteration of Bagging: 58 / 200\n",
      "MSE on train Dataset: 1467.55291972 Iteration of Bagging: 58 / 200\n"
     ]
    },
    {
     "name": "stderr",
     "output_type": "stream",
     "text": [
      "Learning estimator number: 3/55; MSE error on train dataset: 1218.45016024"
     ]
    },
    {
     "name": "stdout",
     "output_type": "stream",
     "text": [
      "MSE on test Dataset: 9208.22365466 Iteration of Bagging: 59 / 200\n",
      "MSE on train Dataset: 1425.48784125 Iteration of Bagging: 59 / 200\n"
     ]
    },
    {
     "name": "stderr",
     "output_type": "stream",
     "text": [
      "Iteration of bagging:61/200"
     ]
    },
    {
     "name": "stdout",
     "output_type": "stream",
     "text": [
      "MSE on test Dataset: 9318.81949643 Iteration of Bagging: 60 / 200\n",
      "MSE on train Dataset: 1448.24226616 Iteration of Bagging: 60 / 200\n"
     ]
    },
    {
     "name": "stderr",
     "output_type": "stream",
     "text": [
      "Iteration of bagging:62/200"
     ]
    },
    {
     "name": "stdout",
     "output_type": "stream",
     "text": [
      "MSE on test Dataset: 9522.38653227 Iteration of Bagging: 61 / 200\n",
      "MSE on train Dataset: 1462.89671637 Iteration of Bagging: 61 / 200\n"
     ]
    },
    {
     "name": "stderr",
     "output_type": "stream",
     "text": [
      "Learning estimator number: 3/55; MSE error on train dataset: 73.7901628832"
     ]
    },
    {
     "name": "stdout",
     "output_type": "stream",
     "text": [
      "MSE on test Dataset: 9576.92333827 Iteration of Bagging: 62 / 200\n",
      "MSE on train Dataset: 1487.07202942 Iteration of Bagging: 62 / 200\n"
     ]
    },
    {
     "name": "stderr",
     "output_type": "stream",
     "text": [
      "Learning estimator number: 2/55; MSE error on train dataset: 1237.36286282"
     ]
    },
    {
     "name": "stdout",
     "output_type": "stream",
     "text": [
      "MSE on test Dataset: 9717.04337489 Iteration of Bagging: 63 / 200\n",
      "MSE on train Dataset: 1537.43290497 Iteration of Bagging: 63 / 200\n"
     ]
    },
    {
     "name": "stderr",
     "output_type": "stream",
     "text": [
      "Learning estimator number: 54/55; MSE error on train dataset: 1061.91243171"
     ]
    },
    {
     "name": "stdout",
     "output_type": "stream",
     "text": [
      "MSE on test Dataset: 9860.11064038 Iteration of Bagging: 64 / 200\n",
      "MSE on train Dataset: 1557.49328631 Iteration of Bagging: 64 / 200\n"
     ]
    },
    {
     "name": "stderr",
     "output_type": "stream",
     "text": [
      "Learning estimator number: 2/55; MSE error on train dataset: 2780.01619171"
     ]
    },
    {
     "name": "stdout",
     "output_type": "stream",
     "text": [
      "MSE on test Dataset: 10038.7329582 Iteration of Bagging: 65 / 200\n",
      "MSE on train Dataset: 1587.12317388 Iteration of Bagging: 65 / 200\n"
     ]
    },
    {
     "name": "stderr",
     "output_type": "stream",
     "text": [
      "Learning estimator number: 1/55; MSE error on train dataset: 5021.73154988"
     ]
    },
    {
     "name": "stdout",
     "output_type": "stream",
     "text": [
      "MSE on test Dataset: 9808.01757187 Iteration of Bagging: 66 / 200\n",
      "MSE on train Dataset: 1552.94225692 Iteration of Bagging: 66 / 200\n"
     ]
    },
    {
     "name": "stderr",
     "output_type": "stream",
     "text": [
      "Learning estimator number: 3/55; MSE error on train dataset: 3661.3044553"
     ]
    },
    {
     "name": "stdout",
     "output_type": "stream",
     "text": [
      "MSE on test Dataset: 9704.4893014 Iteration of Bagging: 67 / 200\n",
      "MSE on train Dataset: 1510.31043882 Iteration of Bagging: 67 / 200\n"
     ]
    },
    {
     "name": "stderr",
     "output_type": "stream",
     "text": [
      "Learning estimator number: 4/55; MSE error on train dataset: 1381.9437034"
     ]
    },
    {
     "name": "stdout",
     "output_type": "stream",
     "text": [
      "MSE on test Dataset: 9713.55111352 Iteration of Bagging: 68 / 200\n",
      "MSE on train Dataset: 1483.58391891 Iteration of Bagging: 68 / 200\n"
     ]
    },
    {
     "name": "stderr",
     "output_type": "stream",
     "text": [
      "Iteration of bagging:70/200"
     ]
    },
    {
     "name": "stdout",
     "output_type": "stream",
     "text": [
      "MSE on test Dataset: 9418.29691875 Iteration of Bagging: 69 / 200\n",
      "MSE on train Dataset: 1444.72834519 Iteration of Bagging: 69 / 200\n"
     ]
    },
    {
     "name": "stderr",
     "output_type": "stream",
     "text": [
      "Learning estimator number: 3/55; MSE error on train dataset: 1736.11466325"
     ]
    },
    {
     "name": "stdout",
     "output_type": "stream",
     "text": [
      "MSE on test Dataset: 9321.5538347 Iteration of Bagging: 70 / 200\n",
      "MSE on train Dataset: 1410.99698537 Iteration of Bagging: 70 / 200\n"
     ]
    },
    {
     "name": "stderr",
     "output_type": "stream",
     "text": [
      "Learning estimator number: 3/55; MSE error on train dataset: 281.683867609"
     ]
    },
    {
     "name": "stdout",
     "output_type": "stream",
     "text": [
      "MSE on test Dataset: 9028.46451162 Iteration of Bagging: 71 / 200\n",
      "MSE on train Dataset: 1374.5587707 Iteration of Bagging: 71 / 200\n"
     ]
    },
    {
     "name": "stderr",
     "output_type": "stream",
     "text": [
      "Learning estimator number: 3/55; MSE error on train dataset: 387.99563643"
     ]
    },
    {
     "name": "stdout",
     "output_type": "stream",
     "text": [
      "MSE on test Dataset: 9133.19647106 Iteration of Bagging: 72 / 200\n",
      "MSE on train Dataset: 1370.93214779 Iteration of Bagging: 72 / 200\n"
     ]
    },
    {
     "name": "stderr",
     "output_type": "stream",
     "text": [
      "Iteration of bagging:74/200"
     ]
    },
    {
     "name": "stdout",
     "output_type": "stream",
     "text": [
      "MSE on test Dataset: 9253.79009278 Iteration of Bagging: 73 / 200\n",
      "MSE on train Dataset: 1377.66152169 Iteration of Bagging: 73 / 200\n"
     ]
    },
    {
     "name": "stderr",
     "output_type": "stream",
     "text": [
      "Learning estimator number: 54/55; MSE error on train dataset: 8.13906219943"
     ]
    },
    {
     "name": "stdout",
     "output_type": "stream",
     "text": [
      "MSE on test Dataset: 9368.83510593 Iteration of Bagging: 74 / 200\n",
      "MSE on train Dataset: 1409.8015928 Iteration of Bagging: 74 / 200\n"
     ]
    },
    {
     "name": "stderr",
     "output_type": "stream",
     "text": [
      "Learning estimator number: 4/55; MSE error on train dataset: 1418.52019705"
     ]
    },
    {
     "name": "stdout",
     "output_type": "stream",
     "text": [
      "MSE on test Dataset: 9139.36147148 Iteration of Bagging: 75 / 200\n",
      "MSE on train Dataset: 1379.31778954 Iteration of Bagging: 75 / 200\n"
     ]
    },
    {
     "name": "stderr",
     "output_type": "stream",
     "text": [
      "Learning estimator number: 1/55; MSE error on train dataset: 138.65704767"
     ]
    },
    {
     "name": "stdout",
     "output_type": "stream",
     "text": [
      "MSE on test Dataset: 8888.88671781 Iteration of Bagging: 76 / 200\n",
      "MSE on train Dataset: 1343.25626387 Iteration of Bagging: 76 / 200\n"
     ]
    },
    {
     "name": "stderr",
     "output_type": "stream",
     "text": [
      "Learning estimator number: 2/55; MSE error on train dataset: 2939.17972462"
     ]
    },
    {
     "name": "stdout",
     "output_type": "stream",
     "text": [
      "MSE on test Dataset: 9005.51124409 Iteration of Bagging: 77 / 200\n",
      "MSE on train Dataset: 1372.92457247 Iteration of Bagging: 77 / 200\n"
     ]
    },
    {
     "name": "stderr",
     "output_type": "stream",
     "text": [
      "Learning estimator number: 3/55; MSE error on train dataset: 870.405219395"
     ]
    },
    {
     "name": "stdout",
     "output_type": "stream",
     "text": [
      "MSE on test Dataset: 9021.16129926 Iteration of Bagging: 78 / 200\n",
      "MSE on train Dataset: 1359.21488099 Iteration of Bagging: 78 / 200\n"
     ]
    },
    {
     "name": "stderr",
     "output_type": "stream",
     "text": [
      "Iteration of bagging:80/200"
     ]
    },
    {
     "name": "stdout",
     "output_type": "stream",
     "text": [
      "MSE on test Dataset: 9104.20196208 Iteration of Bagging: 79 / 200\n",
      "MSE on train Dataset: 1370.68455081 Iteration of Bagging: 79 / 200\n"
     ]
    },
    {
     "name": "stderr",
     "output_type": "stream",
     "text": [
      "Learning estimator number: 4/55; MSE error on train dataset: 621.997753904"
     ]
    },
    {
     "name": "stdout",
     "output_type": "stream",
     "text": [
      "MSE on test Dataset: 8929.87321148 Iteration of Bagging: 80 / 200\n",
      "MSE on train Dataset: 1337.76175033 Iteration of Bagging: 80 / 200\n"
     ]
    },
    {
     "name": "stderr",
     "output_type": "stream",
     "text": [
      "Learning estimator number: 2/55; MSE error on train dataset: 172.994386585"
     ]
    },
    {
     "name": "stdout",
     "output_type": "stream",
     "text": [
      "MSE on test Dataset: 8921.79649812 Iteration of Bagging: 81 / 200\n",
      "MSE on train Dataset: 1354.39331819 Iteration of Bagging: 81 / 200\n"
     ]
    },
    {
     "name": "stderr",
     "output_type": "stream",
     "text": [
      "Iteration of bagging:83/200"
     ]
    },
    {
     "name": "stdout",
     "output_type": "stream",
     "text": [
      "MSE on test Dataset: 9039.58720389 Iteration of Bagging: 82 / 200\n",
      "MSE on train Dataset: 1382.26195291 Iteration of Bagging: 82 / 200\n"
     ]
    },
    {
     "name": "stderr",
     "output_type": "stream",
     "text": [
      "Learning estimator number: 3/55; MSE error on train dataset: 4577.39977663"
     ]
    },
    {
     "name": "stdout",
     "output_type": "stream",
     "text": [
      "MSE on test Dataset: 9153.90308302 Iteration of Bagging: 83 / 200\n",
      "MSE on train Dataset: 1403.94280308 Iteration of Bagging: 83 / 200\n"
     ]
    },
    {
     "name": "stderr",
     "output_type": "stream",
     "text": [
      "Learning estimator number: 3/55; MSE error on train dataset: 839.178709662"
     ]
    },
    {
     "name": "stdout",
     "output_type": "stream",
     "text": [
      "MSE on test Dataset: 8878.86785727 Iteration of Bagging: 84 / 200\n",
      "MSE on train Dataset: 1370.50869256 Iteration of Bagging: 84 / 200\n"
     ]
    },
    {
     "name": "stderr",
     "output_type": "stream",
     "text": [
      "Learning estimator number: 5/55; MSE error on train dataset: 85.231171559"
     ]
    },
    {
     "name": "stdout",
     "output_type": "stream",
     "text": [
      "MSE on test Dataset: 8847.60647959 Iteration of Bagging: 85 / 200\n",
      "MSE on train Dataset: 1388.19957017 Iteration of Bagging: 85 / 200\n"
     ]
    },
    {
     "name": "stderr",
     "output_type": "stream",
     "text": [
      "Learning estimator number: 54/55; MSE error on train dataset: 9.46103984527"
     ]
    },
    {
     "name": "stdout",
     "output_type": "stream",
     "text": [
      "MSE on test Dataset: 8943.9826425 Iteration of Bagging: 86 / 200\n",
      "MSE on train Dataset: 1416.92379177 Iteration of Bagging: 86 / 200\n"
     ]
    },
    {
     "name": "stderr",
     "output_type": "stream",
     "text": [
      "Learning estimator number: 2/55; MSE error on train dataset: 467.304331781"
     ]
    },
    {
     "name": "stdout",
     "output_type": "stream",
     "text": [
      "MSE on test Dataset: 8997.91567135 Iteration of Bagging: 87 / 200\n",
      "MSE on train Dataset: 1435.41575631 Iteration of Bagging: 87 / 200\n"
     ]
    },
    {
     "name": "stderr",
     "output_type": "stream",
     "text": [
      "Iteration of bagging:89/200"
     ]
    },
    {
     "name": "stdout",
     "output_type": "stream",
     "text": [
      "MSE on test Dataset: 9129.98604008 Iteration of Bagging: 88 / 200\n",
      "MSE on train Dataset: 1446.16531306 Iteration of Bagging: 88 / 200\n"
     ]
    },
    {
     "name": "stderr",
     "output_type": "stream",
     "text": [
      "Learning estimator number: 1/55; MSE error on train dataset: 58.06897255"
     ]
    },
    {
     "name": "stdout",
     "output_type": "stream",
     "text": [
      "MSE on test Dataset: 9220.62319742 Iteration of Bagging: 89 / 200\n",
      "MSE on train Dataset: 1445.70965749 Iteration of Bagging: 89 / 200\n"
     ]
    },
    {
     "name": "stderr",
     "output_type": "stream",
     "text": [
      "Learning estimator number: 54/55; MSE error on train dataset: 3.20215113111"
     ]
    },
    {
     "name": "stdout",
     "output_type": "stream",
     "text": [
      "MSE on test Dataset: 9317.40708339 Iteration of Bagging: 90 / 200\n",
      "MSE on train Dataset: 1473.49426923 Iteration of Bagging: 90 / 200\n"
     ]
    },
    {
     "name": "stderr",
     "output_type": "stream",
     "text": [
      "Learning estimator number: 2/55; MSE error on train dataset: 1643.40848188"
     ]
    },
    {
     "name": "stdout",
     "output_type": "stream",
     "text": [
      "MSE on test Dataset: 9397.22894804 Iteration of Bagging: 91 / 200\n",
      "MSE on train Dataset: 1500.26255663 Iteration of Bagging: 91 / 200\n"
     ]
    },
    {
     "name": "stderr",
     "output_type": "stream",
     "text": [
      "Learning estimator number: 2/55; MSE error on train dataset: 953.726884845"
     ]
    },
    {
     "name": "stdout",
     "output_type": "stream",
     "text": [
      "MSE on test Dataset: 9435.26267746 Iteration of Bagging: 92 / 200\n",
      "MSE on train Dataset: 1490.78291956 Iteration of Bagging: 92 / 200\n"
     ]
    },
    {
     "name": "stderr",
     "output_type": "stream",
     "text": [
      "Learning estimator number: 1/55; MSE error on train dataset: 3174.98920687"
     ]
    },
    {
     "name": "stdout",
     "output_type": "stream",
     "text": [
      "MSE on test Dataset: 9481.35116572 Iteration of Bagging: 93 / 200\n",
      "MSE on train Dataset: 1501.2090833 Iteration of Bagging: 93 / 200\n"
     ]
    },
    {
     "name": "stderr",
     "output_type": "stream",
     "text": [
      "Learning estimator number: 54/55; MSE error on train dataset: 85.6478364876"
     ]
    },
    {
     "name": "stdout",
     "output_type": "stream",
     "text": [
      "MSE on test Dataset: 9289.38974641 Iteration of Bagging: 94 / 200\n",
      "MSE on train Dataset: 1472.37869478 Iteration of Bagging: 94 / 200\n"
     ]
    },
    {
     "name": "stderr",
     "output_type": "stream",
     "text": [
      "Learning estimator number: 2/55; MSE error on train dataset: 4548.06196732"
     ]
    },
    {
     "name": "stdout",
     "output_type": "stream",
     "text": [
      "MSE on test Dataset: 9128.61425052 Iteration of Bagging: 95 / 200\n",
      "MSE on train Dataset: 1443.83399058 Iteration of Bagging: 95 / 200\n"
     ]
    },
    {
     "name": "stderr",
     "output_type": "stream",
     "text": [
      "Iteration of bagging:97/200"
     ]
    },
    {
     "name": "stdout",
     "output_type": "stream",
     "text": [
      "MSE on test Dataset: 8959.61035139 Iteration of Bagging: 96 / 200\n",
      "MSE on train Dataset: 1419.83045941 Iteration of Bagging: 96 / 200\n"
     ]
    },
    {
     "name": "stderr",
     "output_type": "stream",
     "text": [
      "Learning estimator number: 1/55; MSE error on train dataset: 387.020540862"
     ]
    },
    {
     "name": "stdout",
     "output_type": "stream",
     "text": [
      "MSE on test Dataset: 8938.57080832 Iteration of Bagging: 97 / 200\n",
      "MSE on train Dataset: 1434.1836576 Iteration of Bagging: 97 / 200\n"
     ]
    },
    {
     "name": "stderr",
     "output_type": "stream",
     "text": [
      "Learning estimator number: 54/55; MSE error on train dataset: 16.3228156849"
     ]
    },
    {
     "name": "stdout",
     "output_type": "stream",
     "text": [
      "MSE on test Dataset: 8949.87114964 Iteration of Bagging: 98 / 200\n",
      "MSE on train Dataset: 1450.39288501 Iteration of Bagging: 98 / 200\n"
     ]
    },
    {
     "name": "stderr",
     "output_type": "stream",
     "text": [
      "Learning estimator number: 4/55; MSE error on train dataset: 44.6376473688"
     ]
    },
    {
     "name": "stdout",
     "output_type": "stream",
     "text": [
      "MSE on test Dataset: 8963.28367936 Iteration of Bagging: 99 / 200\n",
      "MSE on train Dataset: 1431.29266033 Iteration of Bagging: 99 / 200\n"
     ]
    },
    {
     "name": "stderr",
     "output_type": "stream",
     "text": [
      "Learning estimator number: 3/55; MSE error on train dataset: 442.875425489"
     ]
    },
    {
     "name": "stdout",
     "output_type": "stream",
     "text": [
      "MSE on test Dataset: 9018.06166792 Iteration of Bagging: 100 / 200\n",
      "MSE on train Dataset: 1459.01556811 Iteration of Bagging: 100 / 200\n"
     ]
    },
    {
     "name": "stderr",
     "output_type": "stream",
     "text": [
      "Iteration of bagging:102/200"
     ]
    },
    {
     "name": "stdout",
     "output_type": "stream",
     "text": [
      "MSE on test Dataset: 9133.13142538 Iteration of Bagging: 101 / 200\n",
      "MSE on train Dataset: 1479.57248508 Iteration of Bagging: 101 / 200\n"
     ]
    },
    {
     "name": "stderr",
     "output_type": "stream",
     "text": [
      "Iteration of bagging:103/200"
     ]
    },
    {
     "name": "stdout",
     "output_type": "stream",
     "text": [
      "MSE on test Dataset: 9216.82837404 Iteration of Bagging: 102 / 200\n",
      "MSE on train Dataset: 1504.20804094 Iteration of Bagging: 102 / 200\n"
     ]
    },
    {
     "name": "stderr",
     "output_type": "stream",
     "text": [
      "Iteration of bagging:104/200"
     ]
    },
    {
     "name": "stdout",
     "output_type": "stream",
     "text": [
      "MSE on test Dataset: 9272.98165127 Iteration of Bagging: 103 / 200\n",
      "MSE on train Dataset: 1522.15518625 Iteration of Bagging: 103 / 200\n"
     ]
    },
    {
     "name": "stderr",
     "output_type": "stream",
     "text": [
      "Learning estimator number: 3/55; MSE error on train dataset: 477.818240519"
     ]
    },
    {
     "name": "stdout",
     "output_type": "stream",
     "text": [
      "MSE on test Dataset: 9031.03371678 Iteration of Bagging: 104 / 200\n",
      "MSE on train Dataset: 1497.36917695 Iteration of Bagging: 104 / 200\n"
     ]
    },
    {
     "name": "stderr",
     "output_type": "stream",
     "text": [
      "Learning estimator number: 4/55; MSE error on train dataset: 66.4275176367"
     ]
    },
    {
     "name": "stdout",
     "output_type": "stream",
     "text": [
      "MSE on test Dataset: 9030.42925519 Iteration of Bagging: 105 / 200\n",
      "MSE on train Dataset: 1517.14558693 Iteration of Bagging: 105 / 200\n"
     ]
    },
    {
     "name": "stderr",
     "output_type": "stream",
     "text": [
      "Learning estimator number: 4/55; MSE error on train dataset: 3665.7692926"
     ]
    },
    {
     "name": "stdout",
     "output_type": "stream",
     "text": [
      "MSE on test Dataset: 9114.85113076 Iteration of Bagging: 106 / 200\n",
      "MSE on train Dataset: 1541.54291163 Iteration of Bagging: 106 / 200\n"
     ]
    },
    {
     "name": "stderr",
     "output_type": "stream",
     "text": [
      "Learning estimator number: 3/55; MSE error on train dataset: 738.162874255"
     ]
    },
    {
     "name": "stdout",
     "output_type": "stream",
     "text": [
      "MSE on test Dataset: 8959.97779154 Iteration of Bagging: 107 / 200\n",
      "MSE on train Dataset: 1514.38784848 Iteration of Bagging: 107 / 200\n"
     ]
    },
    {
     "name": "stderr",
     "output_type": "stream",
     "text": [
      "Iteration of bagging:109/200"
     ]
    },
    {
     "name": "stdout",
     "output_type": "stream",
     "text": [
      "MSE on test Dataset: 8951.13353623 Iteration of Bagging: 108 / 200\n",
      "MSE on train Dataset: 1519.95292947 Iteration of Bagging: 108 / 200\n"
     ]
    },
    {
     "name": "stderr",
     "output_type": "stream",
     "text": [
      "Learning estimator number: 1/55; MSE error on train dataset: 977.322388725"
     ]
    },
    {
     "name": "stdout",
     "output_type": "stream",
     "text": [
      "MSE on test Dataset: 9030.1913973 Iteration of Bagging: 109 / 200\n",
      "MSE on train Dataset: 1544.64208107 Iteration of Bagging: 109 / 200\n"
     ]
    },
    {
     "name": "stderr",
     "output_type": "stream",
     "text": [
      "Learning estimator number: 54/55; MSE error on train dataset: 129.864085771"
     ]
    },
    {
     "name": "stdout",
     "output_type": "stream",
     "text": [
      "MSE on test Dataset: 9020.23256911 Iteration of Bagging: 110 / 200\n",
      "MSE on train Dataset: 1551.61737675 Iteration of Bagging: 110 / 200\n"
     ]
    },
    {
     "name": "stderr",
     "output_type": "stream",
     "text": [
      "Iteration of bagging:112/200"
     ]
    },
    {
     "name": "stdout",
     "output_type": "stream",
     "text": [
      "MSE on test Dataset: 9104.24190465 Iteration of Bagging: 111 / 200\n",
      "MSE on train Dataset: 1550.99275041 Iteration of Bagging: 111 / 200\n"
     ]
    },
    {
     "name": "stderr",
     "output_type": "stream",
     "text": [
      "Learning estimator number: 54/55; MSE error on train dataset: 1064.71982987"
     ]
    },
    {
     "name": "stdout",
     "output_type": "stream",
     "text": [
      "MSE on test Dataset: 9174.99181352 Iteration of Bagging: 112 / 200\n",
      "MSE on train Dataset: 1565.05848099 Iteration of Bagging: 112 / 200\n"
     ]
    },
    {
     "name": "stderr",
     "output_type": "stream",
     "text": [
      "Learning estimator number: 4/55; MSE error on train dataset: 362.565312166"
     ]
    },
    {
     "name": "stdout",
     "output_type": "stream",
     "text": [
      "MSE on test Dataset: 9153.99877766 Iteration of Bagging: 113 / 200\n",
      "MSE on train Dataset: 1577.37758216 Iteration of Bagging: 113 / 200\n"
     ]
    },
    {
     "name": "stderr",
     "output_type": "stream",
     "text": [
      "Learning estimator number: 2/55; MSE error on train dataset: 40.406328915"
     ]
    },
    {
     "name": "stdout",
     "output_type": "stream",
     "text": [
      "MSE on test Dataset: 9117.14237626 Iteration of Bagging: 114 / 200\n",
      "MSE on train Dataset: 1591.80073618 Iteration of Bagging: 114 / 200\n"
     ]
    },
    {
     "name": "stderr",
     "output_type": "stream",
     "text": [
      "Learning estimator number: 4/55; MSE error on train dataset: 172.193178743"
     ]
    },
    {
     "name": "stdout",
     "output_type": "stream",
     "text": [
      "MSE on test Dataset: 9184.64202496 Iteration of Bagging: 115 / 200\n",
      "MSE on train Dataset: 1619.00962736 Iteration of Bagging: 115 / 200\n"
     ]
    },
    {
     "name": "stderr",
     "output_type": "stream",
     "text": [
      "Learning estimator number: 2/55; MSE error on train dataset: 848.81157822"
     ]
    },
    {
     "name": "stdout",
     "output_type": "stream",
     "text": [
      "MSE on test Dataset: 9239.0363875 Iteration of Bagging: 116 / 200\n",
      "MSE on train Dataset: 1639.58286068 Iteration of Bagging: 116 / 200\n"
     ]
    },
    {
     "name": "stderr",
     "output_type": "stream",
     "text": [
      "Learning estimator number: 1/55; MSE error on train dataset: 5357.07725967"
     ]
    },
    {
     "name": "stdout",
     "output_type": "stream",
     "text": [
      "MSE on test Dataset: 9244.5176865 Iteration of Bagging: 117 / 200\n",
      "MSE on train Dataset: 1656.10416135 Iteration of Bagging: 117 / 200\n"
     ]
    },
    {
     "name": "stderr",
     "output_type": "stream",
     "text": [
      "Learning estimator number: 3/55; MSE error on train dataset: 118.005349696"
     ]
    },
    {
     "name": "stdout",
     "output_type": "stream",
     "text": [
      "MSE on test Dataset: 9066.24165983 Iteration of Bagging: 118 / 200\n",
      "MSE on train Dataset: 1640.01846478 Iteration of Bagging: 118 / 200\n"
     ]
    },
    {
     "name": "stderr",
     "output_type": "stream",
     "text": [
      "Iteration of bagging:120/200"
     ]
    },
    {
     "name": "stdout",
     "output_type": "stream",
     "text": [
      "MSE on test Dataset: 9145.07880299 Iteration of Bagging: 119 / 200\n",
      "MSE on train Dataset: 1659.0497675 Iteration of Bagging: 119 / 200\n"
     ]
    },
    {
     "name": "stderr",
     "output_type": "stream",
     "text": [
      "Learning estimator number: 2/55; MSE error on train dataset: 1976.44481734"
     ]
    },
    {
     "name": "stdout",
     "output_type": "stream",
     "text": [
      "MSE on test Dataset: 9098.0064274 Iteration of Bagging: 120 / 200\n",
      "MSE on train Dataset: 1658.30066976 Iteration of Bagging: 120 / 200\n"
     ]
    },
    {
     "name": "stderr",
     "output_type": "stream",
     "text": [
      "Learning estimator number: 3/55; MSE error on train dataset: 118.205052002"
     ]
    },
    {
     "name": "stdout",
     "output_type": "stream",
     "text": [
      "MSE on test Dataset: 8863.7048915 Iteration of Bagging: 121 / 200\n",
      "MSE on train Dataset: 1638.54337404 Iteration of Bagging: 121 / 200\n"
     ]
    },
    {
     "name": "stderr",
     "output_type": "stream",
     "text": [
      "Learning estimator number: 2/55; MSE error on train dataset: 827.267539688"
     ]
    },
    {
     "name": "stdout",
     "output_type": "stream",
     "text": [
      "MSE on test Dataset: 8937.05934375 Iteration of Bagging: 122 / 200\n",
      "MSE on train Dataset: 1656.41327444 Iteration of Bagging: 122 / 200\n"
     ]
    },
    {
     "name": "stderr",
     "output_type": "stream",
     "text": [
      "Learning estimator number: 3/55; MSE error on train dataset: 1649.66904441"
     ]
    },
    {
     "name": "stdout",
     "output_type": "stream",
     "text": [
      "MSE on test Dataset: 8929.43012021 Iteration of Bagging: 123 / 200\n",
      "MSE on train Dataset: 1660.32376585 Iteration of Bagging: 123 / 200\n"
     ]
    },
    {
     "name": "stderr",
     "output_type": "stream",
     "text": [
      "Learning estimator number: 3/55; MSE error on train dataset: 262.894822424"
     ]
    },
    {
     "name": "stdout",
     "output_type": "stream",
     "text": [
      "MSE on test Dataset: 8959.53401136 Iteration of Bagging: 124 / 200\n",
      "MSE on train Dataset: 1648.8194914 Iteration of Bagging: 124 / 200\n"
     ]
    },
    {
     "name": "stderr",
     "output_type": "stream",
     "text": [
      "Learning estimator number: 1/55; MSE error on train dataset: 2177.18915129"
     ]
    },
    {
     "name": "stdout",
     "output_type": "stream",
     "text": [
      "MSE on test Dataset: 8988.59028165 Iteration of Bagging: 125 / 200\n",
      "MSE on train Dataset: 1667.45684396 Iteration of Bagging: 125 / 200\n"
     ]
    },
    {
     "name": "stderr",
     "output_type": "stream",
     "text": [
      "Learning estimator number: 2/55; MSE error on train dataset: 5007.50056875"
     ]
    },
    {
     "name": "stdout",
     "output_type": "stream",
     "text": [
      "MSE on test Dataset: 8836.24590311 Iteration of Bagging: 126 / 200\n",
      "MSE on train Dataset: 1645.28435739 Iteration of Bagging: 126 / 200\n"
     ]
    },
    {
     "name": "stderr",
     "output_type": "stream",
     "text": [
      "Learning estimator number: 3/55; MSE error on train dataset: 1593.97896529"
     ]
    },
    {
     "name": "stdout",
     "output_type": "stream",
     "text": [
      "MSE on test Dataset: 8786.35458871 Iteration of Bagging: 127 / 200\n",
      "MSE on train Dataset: 1619.87147321 Iteration of Bagging: 127 / 200\n"
     ]
    },
    {
     "name": "stderr",
     "output_type": "stream",
     "text": [
      "Learning estimator number: 54/55; MSE error on train dataset: 89.8114741989"
     ]
    },
    {
     "name": "stdout",
     "output_type": "stream",
     "text": [
      "MSE on test Dataset: 8606.53700088 Iteration of Bagging: 128 / 200\n",
      "MSE on train Dataset: 1598.58927498 Iteration of Bagging: 128 / 200\n"
     ]
    },
    {
     "name": "stderr",
     "output_type": "stream",
     "text": [
      "Learning estimator number: 1/55; MSE error on train dataset: 1117.70016168"
     ]
    },
    {
     "name": "stdout",
     "output_type": "stream",
     "text": [
      "MSE on test Dataset: 8675.77980259 Iteration of Bagging: 129 / 200\n",
      "MSE on train Dataset: 1619.12088541 Iteration of Bagging: 129 / 200\n"
     ]
    },
    {
     "name": "stderr",
     "output_type": "stream",
     "text": [
      "Learning estimator number: 2/55; MSE error on train dataset: 1668.65464669"
     ]
    },
    {
     "name": "stdout",
     "output_type": "stream",
     "text": [
      "MSE on test Dataset: 8729.90270139 Iteration of Bagging: 130 / 200\n",
      "MSE on train Dataset: 1623.14533188 Iteration of Bagging: 130 / 200\n"
     ]
    },
    {
     "name": "stderr",
     "output_type": "stream",
     "text": [
      "Learning estimator number: 54/55; MSE error on train dataset: 27.3371570414"
     ]
    },
    {
     "name": "stdout",
     "output_type": "stream",
     "text": [
      "MSE on test Dataset: 8690.8102268 Iteration of Bagging: 131 / 200\n",
      "MSE on train Dataset: 1596.2018276 Iteration of Bagging: 131 / 200\n"
     ]
    },
    {
     "name": "stderr",
     "output_type": "stream",
     "text": [
      "Learning estimator number: 2/55; MSE error on train dataset: 896.231059135"
     ]
    },
    {
     "name": "stdout",
     "output_type": "stream",
     "text": [
      "MSE on test Dataset: 8758.92434102 Iteration of Bagging: 132 / 200\n",
      "MSE on train Dataset: 1591.77782289 Iteration of Bagging: 132 / 200\n"
     ]
    },
    {
     "name": "stderr",
     "output_type": "stream",
     "text": [
      "Learning estimator number: 2/55; MSE error on train dataset: 294.821983656"
     ]
    },
    {
     "name": "stdout",
     "output_type": "stream",
     "text": [
      "MSE on test Dataset: 8748.85202795 Iteration of Bagging: 133 / 200\n",
      "MSE on train Dataset: 1597.24829962 Iteration of Bagging: 133 / 200\n"
     ]
    },
    {
     "name": "stderr",
     "output_type": "stream",
     "text": [
      "Iteration of bagging:135/200"
     ]
    },
    {
     "name": "stdout",
     "output_type": "stream",
     "text": [
      "MSE on test Dataset: 8819.54648819 Iteration of Bagging: 134 / 200\n",
      "MSE on train Dataset: 1609.08282123 Iteration of Bagging: 134 / 200\n"
     ]
    },
    {
     "name": "stderr",
     "output_type": "stream",
     "text": [
      "Iteration of bagging:136/200"
     ]
    },
    {
     "name": "stdout",
     "output_type": "stream",
     "text": [
      "MSE on test Dataset: 8786.84384216 Iteration of Bagging: 135 / 200\n",
      "MSE on train Dataset: 1609.93465132 Iteration of Bagging: 135 / 200\n"
     ]
    },
    {
     "name": "stderr",
     "output_type": "stream",
     "text": [
      "Learning estimator number: 2/55; MSE error on train dataset: 407.611766369"
     ]
    },
    {
     "name": "stdout",
     "output_type": "stream",
     "text": [
      "MSE on test Dataset: 8653.44459593 Iteration of Bagging: 136 / 200\n",
      "MSE on train Dataset: 1587.347324 Iteration of Bagging: 136 / 200\n"
     ]
    },
    {
     "name": "stderr",
     "output_type": "stream",
     "text": [
      "Learning estimator number: 1/55; MSE error on train dataset: 544.439463667"
     ]
    },
    {
     "name": "stdout",
     "output_type": "stream",
     "text": [
      "MSE on test Dataset: 8717.07924827 Iteration of Bagging: 137 / 200\n",
      "MSE on train Dataset: 1586.29745644 Iteration of Bagging: 137 / 200\n"
     ]
    },
    {
     "name": "stderr",
     "output_type": "stream",
     "text": [
      "Iteration of bagging:139/200"
     ]
    },
    {
     "name": "stdout",
     "output_type": "stream",
     "text": [
      "MSE on test Dataset: 8760.41621367 Iteration of Bagging: 138 / 200\n",
      "MSE on train Dataset: 1596.63863108 Iteration of Bagging: 138 / 200\n"
     ]
    },
    {
     "name": "stderr",
     "output_type": "stream",
     "text": [
      "Learning estimator number: 4/55; MSE error on train dataset: 2195.90793754"
     ]
    },
    {
     "name": "stdout",
     "output_type": "stream",
     "text": [
      "MSE on test Dataset: 8795.94575289 Iteration of Bagging: 139 / 200\n",
      "MSE on train Dataset: 1609.44013938 Iteration of Bagging: 139 / 200\n"
     ]
    },
    {
     "name": "stderr",
     "output_type": "stream",
     "text": [
      "Iteration of bagging:141/200"
     ]
    },
    {
     "name": "stdout",
     "output_type": "stream",
     "text": [
      "MSE on test Dataset: 8678.20529337 Iteration of Bagging: 140 / 200\n",
      "MSE on train Dataset: 1587.44627691 Iteration of Bagging: 140 / 200\n"
     ]
    },
    {
     "name": "stderr",
     "output_type": "stream",
     "text": [
      "Learning estimator number: 1/55; MSE error on train dataset: 5624.89510522"
     ]
    },
    {
     "name": "stdout",
     "output_type": "stream",
     "text": [
      "MSE on test Dataset: 8744.02090705 Iteration of Bagging: 141 / 200\n",
      "MSE on train Dataset: 1603.32351595 Iteration of Bagging: 141 / 200\n"
     ]
    },
    {
     "name": "stderr",
     "output_type": "stream",
     "text": [
      "Learning estimator number: 2/55; MSE error on train dataset: 550.100789058"
     ]
    },
    {
     "name": "stdout",
     "output_type": "stream",
     "text": [
      "MSE on test Dataset: 8735.69120002 Iteration of Bagging: 142 / 200\n",
      "MSE on train Dataset: 1589.96330201 Iteration of Bagging: 142 / 200\n"
     ]
    },
    {
     "name": "stderr",
     "output_type": "stream",
     "text": [
      "Iteration of bagging:144/200"
     ]
    },
    {
     "name": "stdout",
     "output_type": "stream",
     "text": [
      "MSE on test Dataset: 8795.58642252 Iteration of Bagging: 143 / 200\n",
      "MSE on train Dataset: 1607.59577166 Iteration of Bagging: 143 / 200\n"
     ]
    },
    {
     "name": "stderr",
     "output_type": "stream",
     "text": [
      "Learning estimator number: 5/55; MSE error on train dataset: 67.4787512648"
     ]
    },
    {
     "name": "stdout",
     "output_type": "stream",
     "text": [
      "MSE on test Dataset: 8833.40267677 Iteration of Bagging: 144 / 200\n",
      "MSE on train Dataset: 1625.47100192 Iteration of Bagging: 144 / 200\n"
     ]
    },
    {
     "name": "stderr",
     "output_type": "stream",
     "text": [
      "Learning estimator number: 4/55; MSE error on train dataset: 38.6829111122"
     ]
    },
    {
     "name": "stdout",
     "output_type": "stream",
     "text": [
      "MSE on test Dataset: 8884.225979 Iteration of Bagging: 145 / 200\n",
      "MSE on train Dataset: 1641.69735073 Iteration of Bagging: 145 / 200\n"
     ]
    },
    {
     "name": "stderr",
     "output_type": "stream",
     "text": [
      "Learning estimator number: 7/55; MSE error on train dataset: 286.916062777"
     ]
    },
    {
     "name": "stdout",
     "output_type": "stream",
     "text": [
      "MSE on test Dataset: 8935.42856327 Iteration of Bagging: 146 / 200\n",
      "MSE on train Dataset: 1662.27611177 Iteration of Bagging: 146 / 200\n"
     ]
    },
    {
     "name": "stderr",
     "output_type": "stream",
     "text": [
      "Learning estimator number: 1/55; MSE error on train dataset: 2191.26699252"
     ]
    },
    {
     "name": "stdout",
     "output_type": "stream",
     "text": [
      "MSE on test Dataset: 8993.19812083 Iteration of Bagging: 147 / 200\n",
      "MSE on train Dataset: 1677.06427052 Iteration of Bagging: 147 / 200\n"
     ]
    },
    {
     "name": "stderr",
     "output_type": "stream",
     "text": [
      "Iteration of bagging:149/200"
     ]
    },
    {
     "name": "stdout",
     "output_type": "stream",
     "text": [
      "MSE on test Dataset: 8933.90907223 Iteration of Bagging: 148 / 200\n",
      "MSE on train Dataset: 1651.97858069 Iteration of Bagging: 148 / 200\n"
     ]
    },
    {
     "name": "stderr",
     "output_type": "stream",
     "text": [
      "Iteration of bagging:150/200"
     ]
    },
    {
     "name": "stdout",
     "output_type": "stream",
     "text": [
      "MSE on test Dataset: 8806.98055911 Iteration of Bagging: 149 / 200\n",
      "MSE on train Dataset: 1631.94480281 Iteration of Bagging: 149 / 200\n"
     ]
    },
    {
     "name": "stderr",
     "output_type": "stream",
     "text": [
      "Learning estimator number: 1/55; MSE error on train dataset: 124.402899154"
     ]
    },
    {
     "name": "stdout",
     "output_type": "stream",
     "text": [
      "MSE on test Dataset: 8687.35594653 Iteration of Bagging: 150 / 200\n",
      "MSE on train Dataset: 1612.11318724 Iteration of Bagging: 150 / 200\n"
     ]
    },
    {
     "name": "stderr",
     "output_type": "stream",
     "text": [
      "Learning estimator number: 5/55; MSE error on train dataset: 342.39841052"
     ]
    },
    {
     "name": "stdout",
     "output_type": "stream",
     "text": [
      "MSE on test Dataset: 8743.74848359 Iteration of Bagging: 151 / 200\n",
      "MSE on train Dataset: 1628.54239028 Iteration of Bagging: 151 / 200\n"
     ]
    },
    {
     "name": "stderr",
     "output_type": "stream",
     "text": [
      "Learning estimator number: 3/55; MSE error on train dataset: 4323.26130285"
     ]
    },
    {
     "name": "stdout",
     "output_type": "stream",
     "text": [
      "MSE on test Dataset: 8808.50621791 Iteration of Bagging: 152 / 200\n",
      "MSE on train Dataset: 1631.89787623 Iteration of Bagging: 152 / 200\n"
     ]
    },
    {
     "name": "stderr",
     "output_type": "stream",
     "text": [
      "Learning estimator number: 54/55; MSE error on train dataset: 106.783805429"
     ]
    },
    {
     "name": "stdout",
     "output_type": "stream",
     "text": [
      "MSE on test Dataset: 8717.98471523 Iteration of Bagging: 153 / 200\n",
      "MSE on train Dataset: 1611.56175318 Iteration of Bagging: 153 / 200\n"
     ]
    },
    {
     "name": "stderr",
     "output_type": "stream",
     "text": [
      "Iteration of bagging:155/200"
     ]
    },
    {
     "name": "stdout",
     "output_type": "stream",
     "text": [
      "MSE on test Dataset: 8563.26918299 Iteration of Bagging: 154 / 200\n",
      "MSE on train Dataset: 1595.01183415 Iteration of Bagging: 154 / 200\n"
     ]
    },
    {
     "name": "stderr",
     "output_type": "stream",
     "text": [
      "Learning estimator number: 3/55; MSE error on train dataset: 117.268762931"
     ]
    },
    {
     "name": "stdout",
     "output_type": "stream",
     "text": [
      "MSE on test Dataset: 8581.51679651 Iteration of Bagging: 155 / 200\n",
      "MSE on train Dataset: 1605.64303357 Iteration of Bagging: 155 / 200\n"
     ]
    },
    {
     "name": "stderr",
     "output_type": "stream",
     "text": [
      "Learning estimator number: 3/55; MSE error on train dataset: 262.865851178"
     ]
    },
    {
     "name": "stdout",
     "output_type": "stream",
     "text": [
      "MSE on test Dataset: 8639.49787148 Iteration of Bagging: 156 / 200\n",
      "MSE on train Dataset: 1622.06808295 Iteration of Bagging: 156 / 200\n"
     ]
    },
    {
     "name": "stderr",
     "output_type": "stream",
     "text": [
      "Iteration of bagging:158/200"
     ]
    },
    {
     "name": "stdout",
     "output_type": "stream",
     "text": [
      "MSE on test Dataset: 8684.80173679 Iteration of Bagging: 157 / 200\n",
      "MSE on train Dataset: 1638.571871 Iteration of Bagging: 157 / 200\n"
     ]
    },
    {
     "name": "stderr",
     "output_type": "stream",
     "text": [
      "Learning estimator number: 4/55; MSE error on train dataset: 483.964860401"
     ]
    },
    {
     "name": "stdout",
     "output_type": "stream",
     "text": [
      "MSE on test Dataset: 8740.32368675 Iteration of Bagging: 158 / 200\n",
      "MSE on train Dataset: 1640.99518453 Iteration of Bagging: 158 / 200\n"
     ]
    },
    {
     "name": "stderr",
     "output_type": "stream",
     "text": [
      "Learning estimator number: 54/55; MSE error on train dataset: 14.6512149364"
     ]
    },
    {
     "name": "stdout",
     "output_type": "stream",
     "text": [
      "MSE on test Dataset: 8742.23634355 Iteration of Bagging: 159 / 200\n",
      "MSE on train Dataset: 1616.60850215 Iteration of Bagging: 159 / 200\n"
     ]
    },
    {
     "name": "stderr",
     "output_type": "stream",
     "text": [
      "Learning estimator number: 54/55; MSE error on train dataset: 39.2270878455"
     ]
    },
    {
     "name": "stdout",
     "output_type": "stream",
     "text": [
      "MSE on test Dataset: 8702.544329 Iteration of Bagging: 160 / 200\n",
      "MSE on train Dataset: 1616.45371633 Iteration of Bagging: 160 / 200\n"
     ]
    },
    {
     "name": "stderr",
     "output_type": "stream",
     "text": [
      "Learning estimator number: 4/55; MSE error on train dataset: 117.384202932"
     ]
    },
    {
     "name": "stdout",
     "output_type": "stream",
     "text": [
      "MSE on test Dataset: 8756.14214962 Iteration of Bagging: 161 / 200\n",
      "MSE on train Dataset: 1628.90546163 Iteration of Bagging: 161 / 200\n"
     ]
    },
    {
     "name": "stderr",
     "output_type": "stream",
     "text": [
      "Iteration of bagging:163/200"
     ]
    },
    {
     "name": "stdout",
     "output_type": "stream",
     "text": [
      "MSE on test Dataset: 8798.60566541 Iteration of Bagging: 162 / 200\n",
      "MSE on train Dataset: 1634.20782297 Iteration of Bagging: 162 / 200\n"
     ]
    },
    {
     "name": "stderr",
     "output_type": "stream",
     "text": [
      "Learning estimator number: 54/55; MSE error on train dataset: 16.2215902589"
     ]
    },
    {
     "name": "stdout",
     "output_type": "stream",
     "text": [
      "MSE on test Dataset: 8870.85255875 Iteration of Bagging: 163 / 200\n",
      "MSE on train Dataset: 1637.33356037 Iteration of Bagging: 163 / 200\n"
     ]
    },
    {
     "name": "stderr",
     "output_type": "stream",
     "text": [
      "Learning estimator number: 54/55; MSE error on train dataset: 34.7938148779"
     ]
    },
    {
     "name": "stdout",
     "output_type": "stream",
     "text": [
      "MSE on test Dataset: 8928.98905282 Iteration of Bagging: 164 / 200\n",
      "MSE on train Dataset: 1637.21977078 Iteration of Bagging: 164 / 200\n"
     ]
    },
    {
     "name": "stderr",
     "output_type": "stream",
     "text": [
      "Learning estimator number: 5/55; MSE error on train dataset: 1450.88281186"
     ]
    },
    {
     "name": "stdout",
     "output_type": "stream",
     "text": [
      "MSE on test Dataset: 8921.84780453 Iteration of Bagging: 165 / 200\n",
      "MSE on train Dataset: 1614.04810182 Iteration of Bagging: 165 / 200\n"
     ]
    },
    {
     "name": "stderr",
     "output_type": "stream",
     "text": [
      "Iteration of bagging:167/200"
     ]
    },
    {
     "name": "stdout",
     "output_type": "stream",
     "text": [
      "MSE on test Dataset: 8774.24908483 Iteration of Bagging: 166 / 200\n",
      "MSE on train Dataset: 1597.77703918 Iteration of Bagging: 166 / 200\n"
     ]
    },
    {
     "name": "stderr",
     "output_type": "stream",
     "text": [
      "Learning estimator number: 1/55; MSE error on train dataset: 1214.57270958"
     ]
    },
    {
     "name": "stdout",
     "output_type": "stream",
     "text": [
      "MSE on test Dataset: 8812.37670066 Iteration of Bagging: 167 / 200\n",
      "MSE on train Dataset: 1590.46197611 Iteration of Bagging: 167 / 200\n"
     ]
    },
    {
     "name": "stderr",
     "output_type": "stream",
     "text": [
      "Learning estimator number: 1/55; MSE error on train dataset: 390.51401719"
     ]
    },
    {
     "name": "stdout",
     "output_type": "stream",
     "text": [
      "MSE on test Dataset: 8801.72856913 Iteration of Bagging: 168 / 200\n",
      "MSE on train Dataset: 1597.4426938 Iteration of Bagging: 168 / 200\n"
     ]
    },
    {
     "name": "stderr",
     "output_type": "stream",
     "text": [
      "Learning estimator number: 6/55; MSE error on train dataset: 599.923830991"
     ]
    },
    {
     "name": "stdout",
     "output_type": "stream",
     "text": [
      "MSE on test Dataset: 8817.58479753 Iteration of Bagging: 169 / 200\n",
      "MSE on train Dataset: 1608.17552283 Iteration of Bagging: 169 / 200\n"
     ]
    },
    {
     "name": "stderr",
     "output_type": "stream",
     "text": [
      "Learning estimator number: 3/55; MSE error on train dataset: 849.403269617"
     ]
    },
    {
     "name": "stdout",
     "output_type": "stream",
     "text": [
      "MSE on test Dataset: 8784.0555579 Iteration of Bagging: 170 / 200\n",
      "MSE on train Dataset: 1611.19698391 Iteration of Bagging: 170 / 200\n"
     ]
    },
    {
     "name": "stderr",
     "output_type": "stream",
     "text": [
      "Iteration of bagging:172/200"
     ]
    },
    {
     "name": "stdout",
     "output_type": "stream",
     "text": [
      "MSE on test Dataset: 8809.84592982 Iteration of Bagging: 171 / 200\n",
      "MSE on train Dataset: 1612.0654065 Iteration of Bagging: 171 / 200\n"
     ]
    },
    {
     "name": "stderr",
     "output_type": "stream",
     "text": [
      "Learning estimator number: 1/55; MSE error on train dataset: 122.162801475"
     ]
    },
    {
     "name": "stdout",
     "output_type": "stream",
     "text": [
      "MSE on test Dataset: 8846.46190245 Iteration of Bagging: 172 / 200\n",
      "MSE on train Dataset: 1628.6877754 Iteration of Bagging: 172 / 200\n"
     ]
    },
    {
     "name": "stderr",
     "output_type": "stream",
     "text": [
      "Iteration of bagging:174/200"
     ]
    },
    {
     "name": "stdout",
     "output_type": "stream",
     "text": [
      "MSE on test Dataset: 8893.7899964 Iteration of Bagging: 173 / 200\n",
      "MSE on train Dataset: 1644.23289795 Iteration of Bagging: 173 / 200\n"
     ]
    },
    {
     "name": "stderr",
     "output_type": "stream",
     "text": [
      "Learning estimator number: 3/55; MSE error on train dataset: 4083.76538011"
     ]
    },
    {
     "name": "stdout",
     "output_type": "stream",
     "text": [
      "MSE on test Dataset: 8919.63876512 Iteration of Bagging: 174 / 200\n",
      "MSE on train Dataset: 1626.85945724 Iteration of Bagging: 174 / 200\n"
     ]
    },
    {
     "name": "stderr",
     "output_type": "stream",
     "text": [
      "Iteration of bagging:176/200"
     ]
    },
    {
     "name": "stdout",
     "output_type": "stream",
     "text": [
      "MSE on test Dataset: 8983.97154035 Iteration of Bagging: 175 / 200\n",
      "MSE on train Dataset: 1614.57798034 Iteration of Bagging: 175 / 200\n"
     ]
    },
    {
     "name": "stderr",
     "output_type": "stream",
     "text": [
      "Iteration of bagging:177/200"
     ]
    },
    {
     "name": "stdout",
     "output_type": "stream",
     "text": [
      "MSE on test Dataset: 9008.36863989 Iteration of Bagging: 176 / 200\n",
      "MSE on train Dataset: 1628.71586415 Iteration of Bagging: 176 / 200\n"
     ]
    },
    {
     "name": "stderr",
     "output_type": "stream",
     "text": [
      "Iteration of bagging:178/200"
     ]
    },
    {
     "name": "stdout",
     "output_type": "stream",
     "text": [
      "MSE on test Dataset: 8937.15123808 Iteration of Bagging: 177 / 200\n",
      "MSE on train Dataset: 1614.73246346 Iteration of Bagging: 177 / 200\n"
     ]
    },
    {
     "name": "stderr",
     "output_type": "stream",
     "text": [
      "Learning estimator number: 3/55; MSE error on train dataset: 1274.46231211"
     ]
    },
    {
     "name": "stdout",
     "output_type": "stream",
     "text": [
      "MSE on test Dataset: 8791.96543089 Iteration of Bagging: 178 / 200\n",
      "MSE on train Dataset: 1599.94879806 Iteration of Bagging: 178 / 200\n"
     ]
    },
    {
     "name": "stderr",
     "output_type": "stream",
     "text": [
      "Iteration of bagging:180/200"
     ]
    },
    {
     "name": "stdout",
     "output_type": "stream",
     "text": [
      "MSE on test Dataset: 8777.61178963 Iteration of Bagging: 179 / 200\n",
      "MSE on train Dataset: 1607.19396071 Iteration of Bagging: 179 / 200\n"
     ]
    },
    {
     "name": "stderr",
     "output_type": "stream",
     "text": [
      "Iteration of bagging:181/200"
     ]
    },
    {
     "name": "stdout",
     "output_type": "stream",
     "text": [
      "MSE on test Dataset: 8688.0307727 Iteration of Bagging: 180 / 200\n",
      "MSE on train Dataset: 1591.24276332 Iteration of Bagging: 180 / 200\n"
     ]
    },
    {
     "name": "stderr",
     "output_type": "stream",
     "text": [
      "Iteration of bagging:182/200"
     ]
    },
    {
     "name": "stdout",
     "output_type": "stream",
     "text": [
      "MSE on test Dataset: 8580.90552694 Iteration of Bagging: 181 / 200\n",
      "MSE on train Dataset: 1574.97934809 Iteration of Bagging: 181 / 200\n"
     ]
    },
    {
     "name": "stderr",
     "output_type": "stream",
     "text": [
      "Iteration of bagging:183/200"
     ]
    },
    {
     "name": "stdout",
     "output_type": "stream",
     "text": [
      "MSE on test Dataset: 8629.44510088 Iteration of Bagging: 182 / 200\n",
      "MSE on train Dataset: 1588.55104801 Iteration of Bagging: 182 / 200\n"
     ]
    },
    {
     "name": "stderr",
     "output_type": "stream",
     "text": [
      "Iteration of bagging:184/200"
     ]
    },
    {
     "name": "stdout",
     "output_type": "stream",
     "text": [
      "MSE on test Dataset: 8504.51065552 Iteration of Bagging: 183 / 200\n",
      "MSE on train Dataset: 1571.51175122 Iteration of Bagging: 183 / 200\n"
     ]
    },
    {
     "name": "stderr",
     "output_type": "stream",
     "text": [
      "Learning estimator number: 5/55; MSE error on train dataset: 630.33356826"
     ]
    },
    {
     "name": "stdout",
     "output_type": "stream",
     "text": [
      "MSE on test Dataset: 8517.09411177 Iteration of Bagging: 184 / 200\n",
      "MSE on train Dataset: 1583.19372399 Iteration of Bagging: 184 / 200\n"
     ]
    },
    {
     "name": "stderr",
     "output_type": "stream",
     "text": [
      "Iteration of bagging:186/200"
     ]
    },
    {
     "name": "stdout",
     "output_type": "stream",
     "text": [
      "MSE on test Dataset: 8569.4118866 Iteration of Bagging: 185 / 200\n",
      "MSE on train Dataset: 1585.90172738 Iteration of Bagging: 185 / 200\n"
     ]
    },
    {
     "name": "stderr",
     "output_type": "stream",
     "text": [
      "Learning estimator number: 4/55; MSE error on train dataset: 2253.02703953"
     ]
    },
    {
     "name": "stdout",
     "output_type": "stream",
     "text": [
      "MSE on test Dataset: 8617.56695 Iteration of Bagging: 186 / 200\n",
      "MSE on train Dataset: 1598.99001669 Iteration of Bagging: 186 / 200\n"
     ]
    },
    {
     "name": "stderr",
     "output_type": "stream",
     "text": [
      "Learning estimator number: 3/55; MSE error on train dataset: 1404.9117504"
     ]
    },
    {
     "name": "stdout",
     "output_type": "stream",
     "text": [
      "MSE on test Dataset: 8487.70475889 Iteration of Bagging: 187 / 200\n",
      "MSE on train Dataset: 1583.99313007 Iteration of Bagging: 187 / 200\n"
     ]
    },
    {
     "name": "stderr",
     "output_type": "stream",
     "text": [
      "Learning estimator number: 1/55; MSE error on train dataset: 5540.17173032"
     ]
    },
    {
     "name": "stdout",
     "output_type": "stream",
     "text": [
      "MSE on test Dataset: 8531.42095675 Iteration of Bagging: 188 / 200\n",
      "MSE on train Dataset: 1572.09633003 Iteration of Bagging: 188 / 200\n"
     ]
    },
    {
     "name": "stderr",
     "output_type": "stream",
     "text": [
      "Learning estimator number: 2/55; MSE error on train dataset: 213.617331955"
     ]
    },
    {
     "name": "stdout",
     "output_type": "stream",
     "text": [
      "MSE on test Dataset: 8472.16838204 Iteration of Bagging: 189 / 200\n",
      "MSE on train Dataset: 1560.90045718 Iteration of Bagging: 189 / 200\n"
     ]
    },
    {
     "name": "stderr",
     "output_type": "stream",
     "text": [
      "Learning estimator number: 3/55; MSE error on train dataset: 465.231724174"
     ]
    },
    {
     "name": "stdout",
     "output_type": "stream",
     "text": [
      "MSE on test Dataset: 8514.78682708 Iteration of Bagging: 190 / 200\n",
      "MSE on train Dataset: 1563.71309737 Iteration of Bagging: 190 / 200\n"
     ]
    },
    {
     "name": "stderr",
     "output_type": "stream",
     "text": [
      "Learning estimator number: 1/55; MSE error on train dataset: 4994.68467322"
     ]
    },
    {
     "name": "stdout",
     "output_type": "stream",
     "text": [
      "MSE on test Dataset: 8563.11611326 Iteration of Bagging: 191 / 200\n",
      "MSE on train Dataset: 1574.39920527 Iteration of Bagging: 191 / 200\n"
     ]
    },
    {
     "name": "stderr",
     "output_type": "stream",
     "text": [
      "Iteration of bagging:193/200"
     ]
    },
    {
     "name": "stdout",
     "output_type": "stream",
     "text": [
      "MSE on test Dataset: 8496.63863435 Iteration of Bagging: 192 / 200\n",
      "MSE on train Dataset: 1559.57510443 Iteration of Bagging: 192 / 200\n"
     ]
    },
    {
     "name": "stderr",
     "output_type": "stream",
     "text": [
      "Learning estimator number: 4/55; MSE error on train dataset: 1241.96045559"
     ]
    },
    {
     "name": "stdout",
     "output_type": "stream",
     "text": [
      "MSE on test Dataset: 8536.7668934 Iteration of Bagging: 193 / 200\n",
      "MSE on train Dataset: 1572.57404758 Iteration of Bagging: 193 / 200\n"
     ]
    },
    {
     "name": "stderr",
     "output_type": "stream",
     "text": [
      "Learning estimator number: 2/55; MSE error on train dataset: 509.705990167"
     ]
    },
    {
     "name": "stdout",
     "output_type": "stream",
     "text": [
      "MSE on test Dataset: 8528.87575877 Iteration of Bagging: 194 / 200\n",
      "MSE on train Dataset: 1579.25285857 Iteration of Bagging: 194 / 200\n"
     ]
    },
    {
     "name": "stderr",
     "output_type": "stream",
     "text": [
      "Iteration of bagging:196/200"
     ]
    },
    {
     "name": "stdout",
     "output_type": "stream",
     "text": [
      "MSE on test Dataset: 8572.9030185 Iteration of Bagging: 195 / 200\n",
      "MSE on train Dataset: 1591.28225664 Iteration of Bagging: 195 / 200\n"
     ]
    },
    {
     "name": "stderr",
     "output_type": "stream",
     "text": [
      "Learning estimator number: 54/55; MSE error on train dataset: 1066.336156"
     ]
    },
    {
     "name": "stdout",
     "output_type": "stream",
     "text": [
      "MSE on test Dataset: 8559.21421943 Iteration of Bagging: 196 / 200\n",
      "MSE on train Dataset: 1597.61395396 Iteration of Bagging: 196 / 200\n"
     ]
    },
    {
     "name": "stderr",
     "output_type": "stream",
     "text": [
      "Learning estimator number: 2/55; MSE error on train dataset: 4875.34199582"
     ]
    },
    {
     "name": "stdout",
     "output_type": "stream",
     "text": [
      "MSE on test Dataset: 8602.99941969 Iteration of Bagging: 197 / 200\n",
      "MSE on train Dataset: 1609.06987684 Iteration of Bagging: 197 / 200\n"
     ]
    },
    {
     "name": "stderr",
     "output_type": "stream",
     "text": [
      "Learning estimator number: 5/55; MSE error on train dataset: 5034.31255601"
     ]
    },
    {
     "name": "stdout",
     "output_type": "stream",
     "text": [
      "MSE on test Dataset: 8605.40310681 Iteration of Bagging: 198 / 200\n",
      "MSE on train Dataset: 1597.05714415 Iteration of Bagging: 198 / 200\n"
     ]
    },
    {
     "name": "stderr",
     "output_type": "stream",
     "text": [
      "Learning estimator number: 51/55; MSE error on train dataset: 114.479125746"
     ]
    },
    {
     "name": "stdout",
     "output_type": "stream",
     "text": [
      "MSE on test Dataset: 8558.34802197 Iteration of Bagging: 199 / 200\n",
      "MSE on train Dataset: 1588.49783245 Iteration of Bagging: 199 / 200\n"
     ]
    },
    {
     "name": "stderr",
     "output_type": "stream",
     "text": [
      "\r",
      "Learning estimator number: 52/55; MSE error on train dataset: 111.864813433\r",
      "Learning estimator number: 53/55; MSE error on train dataset: 104.023887458\r",
      "Learning estimator number: 54/55; MSE error on train dataset: 93.8735101414"
     ]
    }
   ],
   "source": [
    "#max_depth = 2\n",
    "error_stat_2  ={}\n",
    "error_stat_2[15] = BagBoo(n_boo= 15, n_bag= 200, max_depth=3, bagging_ratio=0.4).fit(machine_train_data,\\\n",
    "                                                                                   machine_train_target, \\\n",
    "                                                                                  verbose = 1, \\\n",
    "                                                                                    X_test = machine_test_data, \\\n",
    "                                                                                  Y_test= machine_test_target)\n",
    "error_stat_2[25] = BagBoo(n_boo= 25, n_bag= 200, max_depth=3, bagging_ratio=0.4).fit(machine_train_data,\\\n",
    "                                                                                   machine_train_target, \\\n",
    "                                                                                  verbose = 1, \\\n",
    "                                                                                    X_test = machine_test_data, \\\n",
    "                                                                                  Y_test= machine_test_target)\n",
    "\n",
    "error_stat_2[35] = BagBoo(n_boo= 35, n_bag= 200, max_depth=3, bagging_ratio=0.4).fit(machine_train_data,\\\n",
    "                                                                                   machine_train_target, \\\n",
    "                                                                                  verbose = 1, \\\n",
    "                                                                                    X_test = machine_test_data, \\\n",
    "                                                                                  Y_test= machine_test_target)\n",
    "error_stat_2[45] = BagBoo(n_boo= 45, n_bag= 200, max_depth=3, bagging_ratio=0.4).fit(machine_train_data,\\\n",
    "                                                                                   machine_train_target, \\\n",
    "                                                                                  verbose = 1, \\\n",
    "                                                                                    X_test = machine_test_data, \\\n",
    "                                                                                  Y_test= machine_test_target)\n",
    "error_stat_2[55] = BagBoo(n_boo= 55, n_bag= 200, max_depth=3, bagging_ratio=0.4).fit(machine_train_data,\\\n",
    "                                                                                    machine_train_target, \\\n",
    "                                                                                  verbose = 1, \\\n",
    "                                                                                    X_test = machine_test_data, \\\n",
    "                                                                                  Y_test= machine_test_target)"
   ]
  },
  {
   "cell_type": "code",
   "execution_count": 15,
   "metadata": {
    "collapsed": true
   },
   "outputs": [],
   "source": [
    "boo_list = range(1, 200, 2)\n",
    "skl_error= [MSE(GradientBoostingRegressor(criterion='mse', min_impurity_split=0,\\\n",
    "                                        learning_rate=0.1, max_depth=3, n_estimators=boo).fit(machine_train_data, machine_train_target).predict(machine_test_data), machine_test_target) \\\n",
    "            for boo in boo_list]"
   ]
  },
  {
   "cell_type": "code",
   "execution_count": 17,
   "metadata": {
    "collapsed": false
   },
   "outputs": [
    {
     "data": {
      "text/plain": [
       "<matplotlib.text.Text at 0x7fe5d9fda990>"
      ]
     },
     "execution_count": 17,
     "metadata": {},
     "output_type": "execute_result"
    },
    {
     "data": {
      "image/png": "[encoded data removed]",
      "text/plain": [
       "<matplotlib.figure.Figure at 0x7fe5e48dc510>"
      ]
     },
     "metadata": {},
     "output_type": "display_data"
    }
   ],
   "source": [
    "fig, ax = plt.subplots(figsize = (15, 15))\n",
    "for k in error_stat_2.keys():\n",
    "    \n",
    "    plt.plot(range(0, 200), error_stat_2[k], label='BagBoo, N_Boo = ' + str(k) + \\\n",
    "                                                 ', max_depth = 3, bagging_ratio=0.2')\n",
    "    \n",
    "plt.plot(boo_list, skl_error, label='Sklearn DB, max_depth = 3, subsample = 1')\n",
    "ax.legend(loc='right')\n",
    "ax.set_title('Dependence of Bagging iterations count')\n",
    "ax.set_xlabel('Bagging iterations count / (boosting count for GB)')\n",
    "ax.set_ylabel('MSE')"
   ]
  },
  {
   "cell_type": "code",
   "execution_count": null,
   "metadata": {
    "collapsed": true
   },
   "outputs": [],
   "source": []
  }
 ],
 "metadata": {
  "anaconda-cloud": {},
  "kernelspec": {
   "display_name": "Python [conda root]",
   "language": "python",
   "name": "conda-root-py"
  },
  "language_info": {
   "codemirror_mode": {
    "name": "ipython",
    "version": 2
   },
   "file_extension": ".py",
   "mimetype": "text/x-python",
   "name": "python",
   "nbconvert_exporter": "python",
   "pygments_lexer": "ipython2",
   "version": "2.7.12"
  }
 },
 "nbformat": 4,
 "nbformat_minor": 1
}
