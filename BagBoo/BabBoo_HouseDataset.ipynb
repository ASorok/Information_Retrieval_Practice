{
 "cells": [
  {
   "cell_type": "code",
   "execution_count": 1,
   "metadata": {
    "collapsed": false
   },
   "outputs": [
    {
     "name": "stdout",
     "output_type": "stream",
     "text": [
      "Populating the interactive namespace from numpy and matplotlib\n"
     ]
    }
   ],
   "source": [
    "from bagboo import *\n",
    "import numpy as np\n",
    "import sklearn.datasets as ds\n",
    "import pylab as pl\n",
    "import pandas as pd\n",
    "from sklearn.tree import DecisionTreeRegressor\n",
    "from sklearn.ensemble import GradientBoostingRegressor\n",
    "import random as r\n",
    "import sys\n",
    "%pylab inline"
   ]
  },
  {
   "cell_type": "code",
   "execution_count": 2,
   "metadata": {
    "collapsed": false
   },
   "outputs": [
    {
     "name": "stdout",
     "output_type": "stream",
     "text": [
      "Dataset Shape:  (506, 14)\n"
     ]
    }
   ],
   "source": [
    "house = pd.read_csv(\"./data/housing.data.csv\", sep='\\t',header=None)\n",
    "house = house.values\n",
    "print \"Dataset Shape: \", house.shape\n",
    "house_data = house[:, :13]\n",
    "house_target = house[:, 13]\n",
    "\n",
    "house_train_data = house_data[:450]\n",
    "house_test_data = house_data[450:]\n",
    "house_train_target = house_target[:450]\n",
    "house_test_target = house_target[450:]\n",
    "# print house_data[:10]\n",
    "# print house_target[:10]"
   ]
  },
  {
   "cell_type": "code",
   "execution_count": 3,
   "metadata": {
    "collapsed": false
   },
   "outputs": [
    {
     "name": "stdout",
     "output_type": "stream",
     "text": [
      "18.8833485687\n"
     ]
    }
   ],
   "source": [
    "sk_house = DecisionTreeRegressor(max_depth=3).fit(house_train_data, house_train_target)\n",
    "skl_predict = sk_house.predict(house_test_data)\n",
    "print ((skl_predict - house_test_target)**2 / float(len(skl_predict))).sum()"
   ]
  },
  {
   "cell_type": "markdown",
   "metadata": {},
   "source": [
    "## Calculate dependence error from count bagging iteration. Boosting count is fixed."
   ]
  },
  {
   "cell_type": "code",
   "execution_count": 4,
   "metadata": {
    "collapsed": true
   },
   "outputs": [],
   "source": [
    "#calculate dependence error from count bagging iteration. Boosting count is fixed.\n",
    "error_stat = {}"
   ]
  },
  {
   "cell_type": "code",
   "execution_count": 5,
   "metadata": {
    "collapsed": false,
    "scrolled": true
   },
   "outputs": [
    {
     "name": "stderr",
     "output_type": "stream",
     "text": [
      "Iteration of bagging:1/150"
     ]
    },
    {
     "name": "stdout",
     "output_type": "stream",
     "text": [
      "MSE on test Dataset: 23.6827774746 Iteration of Bagging: 0 / 150\n",
      "MSE on train Dataset: 22.4832044776 Iteration of Bagging: 0 / 150\n"
     ]
    },
    {
     "name": "stderr",
     "output_type": "stream",
     "text": [
      "Iteration of bagging:2/150"
     ]
    },
    {
     "name": "stdout",
     "output_type": "stream",
     "text": [
      "MSE on test Dataset: 21.7621195014 Iteration of Bagging: 1 / 150\n",
      "MSE on train Dataset: 19.1227284036 Iteration of Bagging: 1 / 150\n"
     ]
    },
    {
     "name": "stderr",
     "output_type": "stream",
     "text": [
      "Iteration of bagging:3/150"
     ]
    },
    {
     "name": "stdout",
     "output_type": "stream",
     "text": [
      "MSE on test Dataset: 16.3161100088 Iteration of Bagging: 2 / 150\n",
      "MSE on train Dataset: 15.6454117336 Iteration of Bagging: 2 / 150\n"
     ]
    },
    {
     "name": "stderr",
     "output_type": "stream",
     "text": [
      "Iteration of bagging:4/150"
     ]
    },
    {
     "name": "stdout",
     "output_type": "stream",
     "text": [
      "MSE on test Dataset: 14.6302583443 Iteration of Bagging: 3 / 150\n",
      "MSE on train Dataset: 12.5750255515 Iteration of Bagging: 3 / 150\n"
     ]
    },
    {
     "name": "stderr",
     "output_type": "stream",
     "text": [
      "Iteration of bagging:5/150"
     ]
    },
    {
     "name": "stdout",
     "output_type": "stream",
     "text": [
      "MSE on test Dataset: 14.1430240973 Iteration of Bagging: 4 / 150\n",
      "MSE on train Dataset: 12.8298925515 Iteration of Bagging: 4 / 150\n"
     ]
    },
    {
     "name": "stderr",
     "output_type": "stream",
     "text": [
      "Iteration of bagging:6/150"
     ]
    },
    {
     "name": "stdout",
     "output_type": "stream",
     "text": [
      "MSE on test Dataset: 17.9877652239 Iteration of Bagging: 5 / 150\n",
      "MSE on train Dataset: 12.7724556664 Iteration of Bagging: 5 / 150\n"
     ]
    },
    {
     "name": "stderr",
     "output_type": "stream",
     "text": [
      "Iteration of bagging:7/150"
     ]
    },
    {
     "name": "stdout",
     "output_type": "stream",
     "text": [
      "MSE on test Dataset: 16.4597876939 Iteration of Bagging: 6 / 150\n",
      "MSE on train Dataset: 12.8043692832 Iteration of Bagging: 6 / 150\n"
     ]
    },
    {
     "name": "stderr",
     "output_type": "stream",
     "text": [
      "Iteration of bagging:8/150"
     ]
    },
    {
     "name": "stdout",
     "output_type": "stream",
     "text": [
      "MSE on test Dataset: 15.7615957144 Iteration of Bagging: 7 / 150\n",
      "MSE on train Dataset: 12.6903701803 Iteration of Bagging: 7 / 150\n"
     ]
    },
    {
     "name": "stderr",
     "output_type": "stream",
     "text": [
      "Learning estimator number: 14/15; MSE error on train dataset: 3.08248523282"
     ]
    },
    {
     "name": "stdout",
     "output_type": "stream",
     "text": [
      "MSE on test Dataset: 14.9855365001 Iteration of Bagging: 8 / 150\n",
      "MSE on train Dataset: 11.9087551412 Iteration of Bagging: 8 / 150\n"
     ]
    },
    {
     "name": "stderr",
     "output_type": "stream",
     "text": [
      "Iteration of bagging:10/150"
     ]
    },
    {
     "name": "stdout",
     "output_type": "stream",
     "text": [
      "MSE on test Dataset: 15.0954622099 Iteration of Bagging: 9 / 150\n",
      "MSE on train Dataset: 11.6068476122 Iteration of Bagging: 9 / 150\n"
     ]
    },
    {
     "name": "stderr",
     "output_type": "stream",
     "text": [
      "Iteration of bagging:11/150"
     ]
    },
    {
     "name": "stdout",
     "output_type": "stream",
     "text": [
      "MSE on test Dataset: 15.100497019 Iteration of Bagging: 10 / 150\n",
      "MSE on train Dataset: 11.491200571 Iteration of Bagging: 10 / 150\n"
     ]
    },
    {
     "name": "stderr",
     "output_type": "stream",
     "text": [
      "Learning estimator number: 14/15; MSE error on train dataset: 3.08678329088"
     ]
    },
    {
     "name": "stdout",
     "output_type": "stream",
     "text": [
      "MSE on test Dataset: 14.6374234227 Iteration of Bagging: 11 / 150\n",
      "MSE on train Dataset: 11.601750208 Iteration of Bagging: 11 / 150\n"
     ]
    },
    {
     "name": "stderr",
     "output_type": "stream",
     "text": [
      "Learning estimator number: 14/15; MSE error on train dataset: 4.25699828334"
     ]
    },
    {
     "name": "stdout",
     "output_type": "stream",
     "text": [
      "MSE on test Dataset: 14.3074335136 Iteration of Bagging: 12 / 150\n",
      "MSE on train Dataset: 11.5868945509 Iteration of Bagging: 12 / 150\n"
     ]
    },
    {
     "name": "stderr",
     "output_type": "stream",
     "text": [
      "Iteration of bagging:14/150"
     ]
    },
    {
     "name": "stdout",
     "output_type": "stream",
     "text": [
      "MSE on test Dataset: 14.3578519428 Iteration of Bagging: 13 / 150\n",
      "MSE on train Dataset: 11.7102847808 Iteration of Bagging: 13 / 150\n"
     ]
    },
    {
     "name": "stderr",
     "output_type": "stream",
     "text": [
      "Iteration of bagging:15/150"
     ]
    },
    {
     "name": "stdout",
     "output_type": "stream",
     "text": [
      "MSE on test Dataset: 13.9738489908 Iteration of Bagging: 14 / 150\n",
      "MSE on train Dataset: 11.3635281244 Iteration of Bagging: 14 / 150\n"
     ]
    },
    {
     "name": "stderr",
     "output_type": "stream",
     "text": [
      "Iteration of bagging:16/150"
     ]
    },
    {
     "name": "stdout",
     "output_type": "stream",
     "text": [
      "MSE on test Dataset: 14.1262414001 Iteration of Bagging: 15 / 150\n",
      "MSE on train Dataset: 11.1600371304 Iteration of Bagging: 15 / 150\n"
     ]
    },
    {
     "name": "stderr",
     "output_type": "stream",
     "text": [
      "Iteration of bagging:17/150"
     ]
    },
    {
     "name": "stdout",
     "output_type": "stream",
     "text": [
      "MSE on test Dataset: 13.9061502546 Iteration of Bagging: 16 / 150\n",
      "MSE on train Dataset: 10.9788670261 Iteration of Bagging: 16 / 150\n"
     ]
    },
    {
     "name": "stderr",
     "output_type": "stream",
     "text": [
      "Iteration of bagging:18/150"
     ]
    },
    {
     "name": "stdout",
     "output_type": "stream",
     "text": [
      "MSE on test Dataset: 12.8092952694 Iteration of Bagging: 17 / 150\n",
      "MSE on train Dataset: 11.1520003294 Iteration of Bagging: 17 / 150\n"
     ]
    },
    {
     "name": "stderr",
     "output_type": "stream",
     "text": [
      "Iteration of bagging:19/150"
     ]
    },
    {
     "name": "stdout",
     "output_type": "stream",
     "text": [
      "MSE on test Dataset: 13.5823309541 Iteration of Bagging: 18 / 150\n",
      "MSE on train Dataset: 10.9321236596 Iteration of Bagging: 18 / 150\n"
     ]
    },
    {
     "name": "stderr",
     "output_type": "stream",
     "text": [
      "Iteration of bagging:20/150"
     ]
    },
    {
     "name": "stdout",
     "output_type": "stream",
     "text": [
      "MSE on test Dataset: 13.1544495654 Iteration of Bagging: 19 / 150\n",
      "MSE on train Dataset: 10.6026499117 Iteration of Bagging: 19 / 150\n"
     ]
    },
    {
     "name": "stderr",
     "output_type": "stream",
     "text": [
      "Iteration of bagging:21/150"
     ]
    },
    {
     "name": "stdout",
     "output_type": "stream",
     "text": [
      "MSE on test Dataset: 12.8871676936 Iteration of Bagging: 20 / 150\n",
      "MSE on train Dataset: 10.4351536283 Iteration of Bagging: 20 / 150\n"
     ]
    },
    {
     "name": "stderr",
     "output_type": "stream",
     "text": [
      "Iteration of bagging:22/150"
     ]
    },
    {
     "name": "stdout",
     "output_type": "stream",
     "text": [
      "MSE on test Dataset: 13.1890224421 Iteration of Bagging: 21 / 150\n",
      "MSE on train Dataset: 10.6871481632 Iteration of Bagging: 21 / 150\n"
     ]
    },
    {
     "name": "stderr",
     "output_type": "stream",
     "text": [
      "Iteration of bagging:23/150"
     ]
    },
    {
     "name": "stdout",
     "output_type": "stream",
     "text": [
      "MSE on test Dataset: 13.0982729056 Iteration of Bagging: 22 / 150\n",
      "MSE on train Dataset: 10.4182418974 Iteration of Bagging: 22 / 150\n"
     ]
    },
    {
     "name": "stderr",
     "output_type": "stream",
     "text": [
      "Iteration of bagging:24/150"
     ]
    },
    {
     "name": "stdout",
     "output_type": "stream",
     "text": [
      "MSE on test Dataset: 13.0419511436 Iteration of Bagging: 23 / 150\n",
      "MSE on train Dataset: 10.2428327832 Iteration of Bagging: 23 / 150\n"
     ]
    },
    {
     "name": "stderr",
     "output_type": "stream",
     "text": [
      "Iteration of bagging:25/150"
     ]
    },
    {
     "name": "stdout",
     "output_type": "stream",
     "text": [
      "MSE on test Dataset: 12.8458955628 Iteration of Bagging: 24 / 150\n",
      "MSE on train Dataset: 10.313947689 Iteration of Bagging: 24 / 150\n"
     ]
    },
    {
     "name": "stderr",
     "output_type": "stream",
     "text": [
      "Iteration of bagging:26/150"
     ]
    },
    {
     "name": "stdout",
     "output_type": "stream",
     "text": [
      "MSE on test Dataset: 12.9009256284 Iteration of Bagging: 25 / 150\n",
      "MSE on train Dataset: 10.2042726801 Iteration of Bagging: 25 / 150\n"
     ]
    },
    {
     "name": "stderr",
     "output_type": "stream",
     "text": [
      "Iteration of bagging:27/150"
     ]
    },
    {
     "name": "stdout",
     "output_type": "stream",
     "text": [
      "MSE on test Dataset: 13.0047751624 Iteration of Bagging: 26 / 150\n",
      "MSE on train Dataset: 10.2110637151 Iteration of Bagging: 26 / 150\n"
     ]
    },
    {
     "name": "stderr",
     "output_type": "stream",
     "text": [
      "Iteration of bagging:28/150"
     ]
    },
    {
     "name": "stdout",
     "output_type": "stream",
     "text": [
      "MSE on test Dataset: 13.1003561691 Iteration of Bagging: 27 / 150\n",
      "MSE on train Dataset: 10.3312280963 Iteration of Bagging: 27 / 150\n"
     ]
    },
    {
     "name": "stderr",
     "output_type": "stream",
     "text": [
      "Iteration of bagging:29/150"
     ]
    },
    {
     "name": "stdout",
     "output_type": "stream",
     "text": [
      "MSE on test Dataset: 13.1111608056 Iteration of Bagging: 28 / 150\n",
      "MSE on train Dataset: 10.2437748589 Iteration of Bagging: 28 / 150\n"
     ]
    },
    {
     "name": "stderr",
     "output_type": "stream",
     "text": [
      "Iteration of bagging:30/150"
     ]
    },
    {
     "name": "stdout",
     "output_type": "stream",
     "text": [
      "MSE on test Dataset: 13.0506082241 Iteration of Bagging: 29 / 150\n",
      "MSE on train Dataset: 10.2991764402 Iteration of Bagging: 29 / 150\n"
     ]
    },
    {
     "name": "stderr",
     "output_type": "stream",
     "text": [
      "Iteration of bagging:31/150"
     ]
    },
    {
     "name": "stdout",
     "output_type": "stream",
     "text": [
      "MSE on test Dataset: 12.9444927802 Iteration of Bagging: 30 / 150\n",
      "MSE on train Dataset: 10.3997556229 Iteration of Bagging: 30 / 150\n"
     ]
    },
    {
     "name": "stderr",
     "output_type": "stream",
     "text": [
      "Iteration of bagging:32/150"
     ]
    },
    {
     "name": "stdout",
     "output_type": "stream",
     "text": [
      "MSE on test Dataset: 12.9279591091 Iteration of Bagging: 31 / 150\n",
      "MSE on train Dataset: 10.2976820446 Iteration of Bagging: 31 / 150\n"
     ]
    },
    {
     "name": "stderr",
     "output_type": "stream",
     "text": [
      "Iteration of bagging:33/150"
     ]
    },
    {
     "name": "stdout",
     "output_type": "stream",
     "text": [
      "MSE on test Dataset: 12.8810269323 Iteration of Bagging: 32 / 150\n",
      "MSE on train Dataset: 10.3510732396 Iteration of Bagging: 32 / 150\n"
     ]
    },
    {
     "name": "stderr",
     "output_type": "stream",
     "text": [
      "Iteration of bagging:34/150"
     ]
    },
    {
     "name": "stdout",
     "output_type": "stream",
     "text": [
      "MSE on test Dataset: 12.8588359885 Iteration of Bagging: 33 / 150\n",
      "MSE on train Dataset: 10.3299253591 Iteration of Bagging: 33 / 150\n"
     ]
    },
    {
     "name": "stderr",
     "output_type": "stream",
     "text": [
      "Iteration of bagging:35/150"
     ]
    },
    {
     "name": "stdout",
     "output_type": "stream",
     "text": [
      "MSE on test Dataset: 12.9747903668 Iteration of Bagging: 34 / 150\n",
      "MSE on train Dataset: 10.2540155175 Iteration of Bagging: 34 / 150\n"
     ]
    },
    {
     "name": "stderr",
     "output_type": "stream",
     "text": [
      "Iteration of bagging:36/150"
     ]
    },
    {
     "name": "stdout",
     "output_type": "stream",
     "text": [
      "MSE on test Dataset: 12.9228654649 Iteration of Bagging: 35 / 150\n",
      "MSE on train Dataset: 10.2428991763 Iteration of Bagging: 35 / 150\n"
     ]
    },
    {
     "name": "stderr",
     "output_type": "stream",
     "text": [
      "Iteration of bagging:37/150"
     ]
    },
    {
     "name": "stdout",
     "output_type": "stream",
     "text": [
      "MSE on test Dataset: 13.0832004163 Iteration of Bagging: 36 / 150\n",
      "MSE on train Dataset: 10.2558482674 Iteration of Bagging: 36 / 150\n"
     ]
    },
    {
     "name": "stderr",
     "output_type": "stream",
     "text": [
      "Iteration of bagging:38/150"
     ]
    },
    {
     "name": "stdout",
     "output_type": "stream",
     "text": [
      "MSE on test Dataset: 13.2092472673 Iteration of Bagging: 37 / 150\n",
      "MSE on train Dataset: 10.2179002374 Iteration of Bagging: 37 / 150\n"
     ]
    },
    {
     "name": "stderr",
     "output_type": "stream",
     "text": [
      "Iteration of bagging:39/150"
     ]
    },
    {
     "name": "stdout",
     "output_type": "stream",
     "text": [
      "MSE on test Dataset: 13.3813947906 Iteration of Bagging: 38 / 150\n",
      "MSE on train Dataset: 10.1721530732 Iteration of Bagging: 38 / 150\n"
     ]
    },
    {
     "name": "stderr",
     "output_type": "stream",
     "text": [
      "Iteration of bagging:40/150"
     ]
    },
    {
     "name": "stdout",
     "output_type": "stream",
     "text": [
      "MSE on test Dataset: 13.0485890949 Iteration of Bagging: 39 / 150\n",
      "MSE on train Dataset: 10.1549710327 Iteration of Bagging: 39 / 150\n"
     ]
    },
    {
     "name": "stderr",
     "output_type": "stream",
     "text": [
      "Iteration of bagging:41/150"
     ]
    },
    {
     "name": "stdout",
     "output_type": "stream",
     "text": [
      "MSE on test Dataset: 12.9854085969 Iteration of Bagging: 40 / 150\n",
      "MSE on train Dataset: 10.288575616 Iteration of Bagging: 40 / 150\n"
     ]
    },
    {
     "name": "stderr",
     "output_type": "stream",
     "text": [
      "Iteration of bagging:42/150"
     ]
    },
    {
     "name": "stdout",
     "output_type": "stream",
     "text": [
      "MSE on test Dataset: 13.0357797748 Iteration of Bagging: 41 / 150\n",
      "MSE on train Dataset: 10.3940283448 Iteration of Bagging: 41 / 150\n"
     ]
    },
    {
     "name": "stderr",
     "output_type": "stream",
     "text": [
      "Iteration of bagging:43/150"
     ]
    },
    {
     "name": "stdout",
     "output_type": "stream",
     "text": [
      "MSE on test Dataset: 13.0351755282 Iteration of Bagging: 42 / 150\n",
      "MSE on train Dataset: 10.4618743062 Iteration of Bagging: 42 / 150\n"
     ]
    },
    {
     "name": "stderr",
     "output_type": "stream",
     "text": [
      "Iteration of bagging:44/150"
     ]
    },
    {
     "name": "stdout",
     "output_type": "stream",
     "text": [
      "MSE on test Dataset: 12.9841583835 Iteration of Bagging: 43 / 150\n",
      "MSE on train Dataset: 10.4127754601 Iteration of Bagging: 43 / 150\n"
     ]
    },
    {
     "name": "stderr",
     "output_type": "stream",
     "text": [
      "Iteration of bagging:45/150"
     ]
    },
    {
     "name": "stdout",
     "output_type": "stream",
     "text": [
      "MSE on test Dataset: 13.2394489125 Iteration of Bagging: 44 / 150\n",
      "MSE on train Dataset: 10.3287448374 Iteration of Bagging: 44 / 150\n"
     ]
    },
    {
     "name": "stderr",
     "output_type": "stream",
     "text": [
      "Iteration of bagging:46/150"
     ]
    },
    {
     "name": "stdout",
     "output_type": "stream",
     "text": [
      "MSE on test Dataset: 13.5921783669 Iteration of Bagging: 45 / 150\n",
      "MSE on train Dataset: 10.2940927383 Iteration of Bagging: 45 / 150\n"
     ]
    },
    {
     "name": "stderr",
     "output_type": "stream",
     "text": [
      "Iteration of bagging:47/150"
     ]
    },
    {
     "name": "stdout",
     "output_type": "stream",
     "text": [
      "MSE on test Dataset: 13.5251968161 Iteration of Bagging: 46 / 150\n",
      "MSE on train Dataset: 10.3028391091 Iteration of Bagging: 46 / 150\n"
     ]
    },
    {
     "name": "stderr",
     "output_type": "stream",
     "text": [
      "Iteration of bagging:48/150"
     ]
    },
    {
     "name": "stdout",
     "output_type": "stream",
     "text": [
      "MSE on test Dataset: 13.6277660989 Iteration of Bagging: 47 / 150\n",
      "MSE on train Dataset: 10.2697549065 Iteration of Bagging: 47 / 150\n"
     ]
    },
    {
     "name": "stderr",
     "output_type": "stream",
     "text": [
      "Iteration of bagging:49/150"
     ]
    },
    {
     "name": "stdout",
     "output_type": "stream",
     "text": [
      "MSE on test Dataset: 13.5283847117 Iteration of Bagging: 48 / 150\n",
      "MSE on train Dataset: 10.2557369374 Iteration of Bagging: 48 / 150\n"
     ]
    },
    {
     "name": "stderr",
     "output_type": "stream",
     "text": [
      "Iteration of bagging:50/150"
     ]
    },
    {
     "name": "stdout",
     "output_type": "stream",
     "text": [
      "MSE on test Dataset: 13.3075400214 Iteration of Bagging: 49 / 150\n",
      "MSE on train Dataset: 10.2499647016 Iteration of Bagging: 49 / 150\n"
     ]
    },
    {
     "name": "stderr",
     "output_type": "stream",
     "text": [
      "Iteration of bagging:51/150"
     ]
    },
    {
     "name": "stdout",
     "output_type": "stream",
     "text": [
      "MSE on test Dataset: 13.2083762547 Iteration of Bagging: 50 / 150\n",
      "MSE on train Dataset: 10.1866808263 Iteration of Bagging: 50 / 150\n"
     ]
    },
    {
     "name": "stderr",
     "output_type": "stream",
     "text": [
      "Iteration of bagging:52/150"
     ]
    },
    {
     "name": "stdout",
     "output_type": "stream",
     "text": [
      "MSE on test Dataset: 13.1530955469 Iteration of Bagging: 51 / 150\n",
      "MSE on train Dataset: 10.1140378171 Iteration of Bagging: 51 / 150\n"
     ]
    },
    {
     "name": "stderr",
     "output_type": "stream",
     "text": [
      "Iteration of bagging:53/150"
     ]
    },
    {
     "name": "stdout",
     "output_type": "stream",
     "text": [
      "MSE on test Dataset: 13.1638850093 Iteration of Bagging: 52 / 150\n",
      "MSE on train Dataset: 10.1501695192 Iteration of Bagging: 52 / 150\n"
     ]
    },
    {
     "name": "stderr",
     "output_type": "stream",
     "text": [
      "Iteration of bagging:54/150"
     ]
    },
    {
     "name": "stdout",
     "output_type": "stream",
     "text": [
      "MSE on test Dataset: 13.1253562702 Iteration of Bagging: 53 / 150\n",
      "MSE on train Dataset: 10.1806504508 Iteration of Bagging: 53 / 150\n"
     ]
    },
    {
     "name": "stderr",
     "output_type": "stream",
     "text": [
      "Iteration of bagging:55/150"
     ]
    },
    {
     "name": "stdout",
     "output_type": "stream",
     "text": [
      "MSE on test Dataset: 13.1182432123 Iteration of Bagging: 54 / 150\n",
      "MSE on train Dataset: 10.2752623366 Iteration of Bagging: 54 / 150\n"
     ]
    },
    {
     "name": "stderr",
     "output_type": "stream",
     "text": [
      "Iteration of bagging:56/150"
     ]
    },
    {
     "name": "stdout",
     "output_type": "stream",
     "text": [
      "MSE on test Dataset: 13.1710866835 Iteration of Bagging: 55 / 150\n",
      "MSE on train Dataset: 10.3421261191 Iteration of Bagging: 55 / 150\n"
     ]
    },
    {
     "name": "stderr",
     "output_type": "stream",
     "text": [
      "Iteration of bagging:57/150"
     ]
    },
    {
     "name": "stdout",
     "output_type": "stream",
     "text": [
      "MSE on test Dataset: 13.240721309 Iteration of Bagging: 56 / 150\n",
      "MSE on train Dataset: 10.2982806466 Iteration of Bagging: 56 / 150\n"
     ]
    },
    {
     "name": "stderr",
     "output_type": "stream",
     "text": [
      "Iteration of bagging:58/150"
     ]
    },
    {
     "name": "stdout",
     "output_type": "stream",
     "text": [
      "MSE on test Dataset: 13.1092625139 Iteration of Bagging: 57 / 150\n",
      "MSE on train Dataset: 10.2944715408 Iteration of Bagging: 57 / 150\n"
     ]
    },
    {
     "name": "stderr",
     "output_type": "stream",
     "text": [
      "Iteration of bagging:59/150"
     ]
    },
    {
     "name": "stdout",
     "output_type": "stream",
     "text": [
      "MSE on test Dataset: 12.9787969513 Iteration of Bagging: 58 / 150\n",
      "MSE on train Dataset: 10.3057498279 Iteration of Bagging: 58 / 150\n"
     ]
    },
    {
     "name": "stderr",
     "output_type": "stream",
     "text": [
      "Iteration of bagging:60/150"
     ]
    },
    {
     "name": "stdout",
     "output_type": "stream",
     "text": [
      "MSE on test Dataset: 13.1065528771 Iteration of Bagging: 59 / 150\n",
      "MSE on train Dataset: 10.3485109573 Iteration of Bagging: 59 / 150\n"
     ]
    },
    {
     "name": "stderr",
     "output_type": "stream",
     "text": [
      "Iteration of bagging:61/150"
     ]
    },
    {
     "name": "stdout",
     "output_type": "stream",
     "text": [
      "MSE on test Dataset: 13.2472504262 Iteration of Bagging: 60 / 150\n",
      "MSE on train Dataset: 10.3779692205 Iteration of Bagging: 60 / 150\n"
     ]
    },
    {
     "name": "stderr",
     "output_type": "stream",
     "text": [
      "Iteration of bagging:62/150"
     ]
    },
    {
     "name": "stdout",
     "output_type": "stream",
     "text": [
      "MSE on test Dataset: 13.0538941266 Iteration of Bagging: 61 / 150\n",
      "MSE on train Dataset: 10.3992834604 Iteration of Bagging: 61 / 150\n"
     ]
    },
    {
     "name": "stderr",
     "output_type": "stream",
     "text": [
      "Learning estimator number: 14/15; MSE error on train dataset: 2.64973757811"
     ]
    },
    {
     "name": "stdout",
     "output_type": "stream",
     "text": [
      "MSE on test Dataset: 13.0728449747 Iteration of Bagging: 62 / 150\n",
      "MSE on train Dataset: 10.3905336654 Iteration of Bagging: 62 / 150\n"
     ]
    },
    {
     "name": "stderr",
     "output_type": "stream",
     "text": [
      "Iteration of bagging:64/150"
     ]
    },
    {
     "name": "stdout",
     "output_type": "stream",
     "text": [
      "MSE on test Dataset: 13.0259266065 Iteration of Bagging: 63 / 150\n",
      "MSE on train Dataset: 10.4112550689 Iteration of Bagging: 63 / 150\n"
     ]
    },
    {
     "name": "stderr",
     "output_type": "stream",
     "text": [
      "Iteration of bagging:65/150"
     ]
    },
    {
     "name": "stdout",
     "output_type": "stream",
     "text": [
      "MSE on test Dataset: 12.964359342 Iteration of Bagging: 64 / 150\n",
      "MSE on train Dataset: 10.444284628 Iteration of Bagging: 64 / 150\n"
     ]
    },
    {
     "name": "stderr",
     "output_type": "stream",
     "text": [
      "Iteration of bagging:66/150"
     ]
    },
    {
     "name": "stdout",
     "output_type": "stream",
     "text": [
      "MSE on test Dataset: 12.8714249697 Iteration of Bagging: 65 / 150\n",
      "MSE on train Dataset: 10.4910339689 Iteration of Bagging: 65 / 150\n"
     ]
    },
    {
     "name": "stderr",
     "output_type": "stream",
     "text": [
      "Learning estimator number: 14/15; MSE error on train dataset: 3.6778985047"
     ]
    },
    {
     "name": "stdout",
     "output_type": "stream",
     "text": [
      "MSE on test Dataset: 12.7869647094 Iteration of Bagging: 66 / 150\n",
      "MSE on train Dataset: 10.4737761038 Iteration of Bagging: 66 / 150\n"
     ]
    },
    {
     "name": "stderr",
     "output_type": "stream",
     "text": [
      "Iteration of bagging:68/150"
     ]
    },
    {
     "name": "stdout",
     "output_type": "stream",
     "text": [
      "MSE on test Dataset: 12.7172204011 Iteration of Bagging: 67 / 150\n",
      "MSE on train Dataset: 10.4729028517 Iteration of Bagging: 67 / 150\n"
     ]
    },
    {
     "name": "stderr",
     "output_type": "stream",
     "text": [
      "Iteration of bagging:69/150"
     ]
    },
    {
     "name": "stdout",
     "output_type": "stream",
     "text": [
      "MSE on test Dataset: 12.6256012795 Iteration of Bagging: 68 / 150\n",
      "MSE on train Dataset: 10.4679400394 Iteration of Bagging: 68 / 150\n"
     ]
    },
    {
     "name": "stderr",
     "output_type": "stream",
     "text": [
      "Iteration of bagging:70/150"
     ]
    },
    {
     "name": "stdout",
     "output_type": "stream",
     "text": [
      "MSE on test Dataset: 12.8030275718 Iteration of Bagging: 69 / 150\n",
      "MSE on train Dataset: 10.5513390382 Iteration of Bagging: 69 / 150\n"
     ]
    },
    {
     "name": "stderr",
     "output_type": "stream",
     "text": [
      "Iteration of bagging:71/150"
     ]
    },
    {
     "name": "stdout",
     "output_type": "stream",
     "text": [
      "MSE on test Dataset: 12.7483791206 Iteration of Bagging: 70 / 150\n",
      "MSE on train Dataset: 10.5540982293 Iteration of Bagging: 70 / 150\n"
     ]
    },
    {
     "name": "stderr",
     "output_type": "stream",
     "text": [
      "Iteration of bagging:72/150"
     ]
    },
    {
     "name": "stdout",
     "output_type": "stream",
     "text": [
      "MSE on test Dataset: 12.7528634663 Iteration of Bagging: 71 / 150\n",
      "MSE on train Dataset: 10.4936083115 Iteration of Bagging: 71 / 150\n"
     ]
    },
    {
     "name": "stderr",
     "output_type": "stream",
     "text": [
      "Iteration of bagging:73/150"
     ]
    },
    {
     "name": "stdout",
     "output_type": "stream",
     "text": [
      "MSE on test Dataset: 12.7360836309 Iteration of Bagging: 72 / 150\n",
      "MSE on train Dataset: 10.5142690484 Iteration of Bagging: 72 / 150\n"
     ]
    },
    {
     "name": "stderr",
     "output_type": "stream",
     "text": [
      "Iteration of bagging:74/150"
     ]
    },
    {
     "name": "stdout",
     "output_type": "stream",
     "text": [
      "MSE on test Dataset: 12.7622645543 Iteration of Bagging: 73 / 150\n",
      "MSE on train Dataset: 10.5086986866 Iteration of Bagging: 73 / 150\n"
     ]
    },
    {
     "name": "stderr",
     "output_type": "stream",
     "text": [
      "Iteration of bagging:75/150"
     ]
    },
    {
     "name": "stdout",
     "output_type": "stream",
     "text": [
      "MSE on test Dataset: 12.6366250562 Iteration of Bagging: 74 / 150\n",
      "MSE on train Dataset: 10.4518958799 Iteration of Bagging: 74 / 150\n"
     ]
    },
    {
     "name": "stderr",
     "output_type": "stream",
     "text": [
      "Iteration of bagging:76/150"
     ]
    },
    {
     "name": "stdout",
     "output_type": "stream",
     "text": [
      "MSE on test Dataset: 12.7561197924 Iteration of Bagging: 75 / 150\n",
      "MSE on train Dataset: 10.5018957058 Iteration of Bagging: 75 / 150\n"
     ]
    },
    {
     "name": "stderr",
     "output_type": "stream",
     "text": [
      "Iteration of bagging:77/150"
     ]
    },
    {
     "name": "stdout",
     "output_type": "stream",
     "text": [
      "MSE on test Dataset: 12.7579797269 Iteration of Bagging: 76 / 150\n",
      "MSE on train Dataset: 10.5711565513 Iteration of Bagging: 76 / 150\n"
     ]
    },
    {
     "name": "stderr",
     "output_type": "stream",
     "text": [
      "Iteration of bagging:78/150"
     ]
    },
    {
     "name": "stdout",
     "output_type": "stream",
     "text": [
      "MSE on test Dataset: 12.6816089116 Iteration of Bagging: 77 / 150\n",
      "MSE on train Dataset: 10.5923072237 Iteration of Bagging: 77 / 150\n"
     ]
    },
    {
     "name": "stderr",
     "output_type": "stream",
     "text": [
      "Iteration of bagging:79/150"
     ]
    },
    {
     "name": "stdout",
     "output_type": "stream",
     "text": [
      "MSE on test Dataset: 12.6555134404 Iteration of Bagging: 78 / 150\n",
      "MSE on train Dataset: 10.6101985605 Iteration of Bagging: 78 / 150\n"
     ]
    },
    {
     "name": "stderr",
     "output_type": "stream",
     "text": [
      "Iteration of bagging:80/150"
     ]
    },
    {
     "name": "stdout",
     "output_type": "stream",
     "text": [
      "MSE on test Dataset: 12.5638918673 Iteration of Bagging: 79 / 150\n",
      "MSE on train Dataset: 10.5949551123 Iteration of Bagging: 79 / 150\n"
     ]
    },
    {
     "name": "stderr",
     "output_type": "stream",
     "text": [
      "Learning estimator number: 14/15; MSE error on train dataset: 4.5936695621"
     ]
    },
    {
     "name": "stdout",
     "output_type": "stream",
     "text": [
      "MSE on test Dataset: 12.5683152903 Iteration of Bagging: 80 / 150\n",
      "MSE on train Dataset: 10.568381864 Iteration of Bagging: 80 / 150\n"
     ]
    },
    {
     "name": "stderr",
     "output_type": "stream",
     "text": [
      "Iteration of bagging:82/150"
     ]
    },
    {
     "name": "stdout",
     "output_type": "stream",
     "text": [
      "MSE on test Dataset: 12.5712098856 Iteration of Bagging: 81 / 150\n",
      "MSE on train Dataset: 10.6123789193 Iteration of Bagging: 81 / 150\n"
     ]
    },
    {
     "name": "stderr",
     "output_type": "stream",
     "text": [
      "Iteration of bagging:83/150"
     ]
    },
    {
     "name": "stdout",
     "output_type": "stream",
     "text": [
      "MSE on test Dataset: 12.5908944041 Iteration of Bagging: 82 / 150\n",
      "MSE on train Dataset: 10.6413126996 Iteration of Bagging: 82 / 150\n"
     ]
    },
    {
     "name": "stderr",
     "output_type": "stream",
     "text": [
      "Iteration of bagging:84/150"
     ]
    },
    {
     "name": "stdout",
     "output_type": "stream",
     "text": [
      "MSE on test Dataset: 12.5665366837 Iteration of Bagging: 83 / 150\n",
      "MSE on train Dataset: 10.6872215014 Iteration of Bagging: 83 / 150\n"
     ]
    },
    {
     "name": "stderr",
     "output_type": "stream",
     "text": [
      "Iteration of bagging:85/150"
     ]
    },
    {
     "name": "stdout",
     "output_type": "stream",
     "text": [
      "MSE on test Dataset: 12.7369918405 Iteration of Bagging: 84 / 150\n",
      "MSE on train Dataset: 10.6238291779 Iteration of Bagging: 84 / 150\n"
     ]
    },
    {
     "name": "stderr",
     "output_type": "stream",
     "text": [
      "Iteration of bagging:86/150"
     ]
    },
    {
     "name": "stdout",
     "output_type": "stream",
     "text": [
      "MSE on test Dataset: 12.732621246 Iteration of Bagging: 85 / 150\n",
      "MSE on train Dataset: 10.6549709714 Iteration of Bagging: 85 / 150\n"
     ]
    },
    {
     "name": "stderr",
     "output_type": "stream",
     "text": [
      "Iteration of bagging:87/150"
     ]
    },
    {
     "name": "stdout",
     "output_type": "stream",
     "text": [
      "MSE on test Dataset: 12.7493248039 Iteration of Bagging: 86 / 150\n",
      "MSE on train Dataset: 10.6947122842 Iteration of Bagging: 86 / 150\n"
     ]
    },
    {
     "name": "stderr",
     "output_type": "stream",
     "text": [
      "Iteration of bagging:88/150"
     ]
    },
    {
     "name": "stdout",
     "output_type": "stream",
     "text": [
      "MSE on test Dataset: 12.819904509 Iteration of Bagging: 87 / 150\n",
      "MSE on train Dataset: 10.7399823113 Iteration of Bagging: 87 / 150\n"
     ]
    },
    {
     "name": "stderr",
     "output_type": "stream",
     "text": [
      "Iteration of bagging:89/150"
     ]
    },
    {
     "name": "stdout",
     "output_type": "stream",
     "text": [
      "MSE on test Dataset: 12.8050101898 Iteration of Bagging: 88 / 150\n",
      "MSE on train Dataset: 10.7374514158 Iteration of Bagging: 88 / 150\n"
     ]
    },
    {
     "name": "stderr",
     "output_type": "stream",
     "text": [
      "Iteration of bagging:90/150"
     ]
    },
    {
     "name": "stdout",
     "output_type": "stream",
     "text": [
      "MSE on test Dataset: 12.8436766215 Iteration of Bagging: 89 / 150\n",
      "MSE on train Dataset: 10.7829508934 Iteration of Bagging: 89 / 150\n"
     ]
    },
    {
     "name": "stderr",
     "output_type": "stream",
     "text": [
      "Iteration of bagging:91/150"
     ]
    },
    {
     "name": "stdout",
     "output_type": "stream",
     "text": [
      "MSE on test Dataset: 12.7683158697 Iteration of Bagging: 90 / 150\n",
      "MSE on train Dataset: 10.7915975134 Iteration of Bagging: 90 / 150\n"
     ]
    },
    {
     "name": "stderr",
     "output_type": "stream",
     "text": [
      "Iteration of bagging:92/150"
     ]
    },
    {
     "name": "stdout",
     "output_type": "stream",
     "text": [
      "MSE on test Dataset: 12.7763000491 Iteration of Bagging: 91 / 150\n",
      "MSE on train Dataset: 10.8019815254 Iteration of Bagging: 91 / 150\n"
     ]
    },
    {
     "name": "stderr",
     "output_type": "stream",
     "text": [
      "Iteration of bagging:93/150"
     ]
    },
    {
     "name": "stdout",
     "output_type": "stream",
     "text": [
      "MSE on test Dataset: 12.806716624 Iteration of Bagging: 92 / 150\n",
      "MSE on train Dataset: 10.7712587149 Iteration of Bagging: 92 / 150\n"
     ]
    },
    {
     "name": "stderr",
     "output_type": "stream",
     "text": [
      "Iteration of bagging:94/150"
     ]
    },
    {
     "name": "stdout",
     "output_type": "stream",
     "text": [
      "MSE on test Dataset: 12.7554996652 Iteration of Bagging: 93 / 150\n",
      "MSE on train Dataset: 10.7794695394 Iteration of Bagging: 93 / 150\n"
     ]
    },
    {
     "name": "stderr",
     "output_type": "stream",
     "text": [
      "Iteration of bagging:95/150"
     ]
    },
    {
     "name": "stdout",
     "output_type": "stream",
     "text": [
      "MSE on test Dataset: 12.8019129425 Iteration of Bagging: 94 / 150\n",
      "MSE on train Dataset: 10.7495553791 Iteration of Bagging: 94 / 150\n"
     ]
    },
    {
     "name": "stderr",
     "output_type": "stream",
     "text": [
      "Iteration of bagging:96/150"
     ]
    },
    {
     "name": "stdout",
     "output_type": "stream",
     "text": [
      "MSE on test Dataset: 12.7891456898 Iteration of Bagging: 95 / 150\n",
      "MSE on train Dataset: 10.7125905961 Iteration of Bagging: 95 / 150\n"
     ]
    },
    {
     "name": "stderr",
     "output_type": "stream",
     "text": [
      "Iteration of bagging:97/150"
     ]
    },
    {
     "name": "stdout",
     "output_type": "stream",
     "text": [
      "MSE on test Dataset: 12.7549088522 Iteration of Bagging: 96 / 150\n",
      "MSE on train Dataset: 10.6715534869 Iteration of Bagging: 96 / 150\n"
     ]
    },
    {
     "name": "stderr",
     "output_type": "stream",
     "text": [
      "Iteration of bagging:98/150"
     ]
    },
    {
     "name": "stdout",
     "output_type": "stream",
     "text": [
      "MSE on test Dataset: 12.7561357462 Iteration of Bagging: 97 / 150\n",
      "MSE on train Dataset: 10.6353753645 Iteration of Bagging: 97 / 150\n"
     ]
    },
    {
     "name": "stderr",
     "output_type": "stream",
     "text": [
      "Iteration of bagging:99/150"
     ]
    },
    {
     "name": "stdout",
     "output_type": "stream",
     "text": [
      "MSE on test Dataset: 12.7992156049 Iteration of Bagging: 98 / 150\n",
      "MSE on train Dataset: 10.6835116266 Iteration of Bagging: 98 / 150\n"
     ]
    },
    {
     "name": "stderr",
     "output_type": "stream",
     "text": [
      "Iteration of bagging:100/150"
     ]
    },
    {
     "name": "stdout",
     "output_type": "stream",
     "text": [
      "MSE on test Dataset: 12.8102444263 Iteration of Bagging: 99 / 150\n",
      "MSE on train Dataset: 10.7122976624 Iteration of Bagging: 99 / 150\n"
     ]
    },
    {
     "name": "stderr",
     "output_type": "stream",
     "text": [
      "Iteration of bagging:101/150"
     ]
    },
    {
     "name": "stdout",
     "output_type": "stream",
     "text": [
      "MSE on test Dataset: 12.8329657087 Iteration of Bagging: 100 / 150\n",
      "MSE on train Dataset: 10.7158698356 Iteration of Bagging: 100 / 150\n"
     ]
    },
    {
     "name": "stderr",
     "output_type": "stream",
     "text": [
      "Iteration of bagging:102/150"
     ]
    },
    {
     "name": "stdout",
     "output_type": "stream",
     "text": [
      "MSE on test Dataset: 12.8302870467 Iteration of Bagging: 101 / 150\n",
      "MSE on train Dataset: 10.6986106561 Iteration of Bagging: 101 / 150\n"
     ]
    },
    {
     "name": "stderr",
     "output_type": "stream",
     "text": [
      "Iteration of bagging:103/150"
     ]
    },
    {
     "name": "stdout",
     "output_type": "stream",
     "text": [
      "MSE on test Dataset: 12.8850758296 Iteration of Bagging: 102 / 150\n",
      "MSE on train Dataset: 10.6787516916 Iteration of Bagging: 102 / 150\n"
     ]
    },
    {
     "name": "stderr",
     "output_type": "stream",
     "text": [
      "Iteration of bagging:104/150"
     ]
    },
    {
     "name": "stdout",
     "output_type": "stream",
     "text": [
      "MSE on test Dataset: 12.9766975608 Iteration of Bagging: 103 / 150\n",
      "MSE on train Dataset: 10.6407539947 Iteration of Bagging: 103 / 150\n"
     ]
    },
    {
     "name": "stderr",
     "output_type": "stream",
     "text": [
      "Iteration of bagging:105/150"
     ]
    },
    {
     "name": "stdout",
     "output_type": "stream",
     "text": [
      "MSE on test Dataset: 12.8772623447 Iteration of Bagging: 104 / 150\n",
      "MSE on train Dataset: 10.5998809631 Iteration of Bagging: 104 / 150\n"
     ]
    },
    {
     "name": "stderr",
     "output_type": "stream",
     "text": [
      "Iteration of bagging:106/150"
     ]
    },
    {
     "name": "stdout",
     "output_type": "stream",
     "text": [
      "MSE on test Dataset: 12.8296152365 Iteration of Bagging: 105 / 150\n",
      "MSE on train Dataset: 10.5918884507 Iteration of Bagging: 105 / 150\n"
     ]
    },
    {
     "name": "stderr",
     "output_type": "stream",
     "text": [
      "Iteration of bagging:107/150"
     ]
    },
    {
     "name": "stdout",
     "output_type": "stream",
     "text": [
      "MSE on test Dataset: 12.8432344169 Iteration of Bagging: 106 / 150\n",
      "MSE on train Dataset: 10.5337997572 Iteration of Bagging: 106 / 150\n"
     ]
    },
    {
     "name": "stderr",
     "output_type": "stream",
     "text": [
      "Iteration of bagging:108/150"
     ]
    },
    {
     "name": "stdout",
     "output_type": "stream",
     "text": [
      "MSE on test Dataset: 12.8469801746 Iteration of Bagging: 107 / 150\n",
      "MSE on train Dataset: 10.5675360175 Iteration of Bagging: 107 / 150\n"
     ]
    },
    {
     "name": "stderr",
     "output_type": "stream",
     "text": [
      "Iteration of bagging:109/150"
     ]
    },
    {
     "name": "stdout",
     "output_type": "stream",
     "text": [
      "MSE on test Dataset: 12.8549440514 Iteration of Bagging: 108 / 150\n",
      "MSE on train Dataset: 10.5212325364 Iteration of Bagging: 108 / 150\n"
     ]
    },
    {
     "name": "stderr",
     "output_type": "stream",
     "text": [
      "Iteration of bagging:110/150"
     ]
    },
    {
     "name": "stdout",
     "output_type": "stream",
     "text": [
      "MSE on test Dataset: 12.876123645 Iteration of Bagging: 109 / 150\n",
      "MSE on train Dataset: 10.4969719111 Iteration of Bagging: 109 / 150\n"
     ]
    },
    {
     "name": "stderr",
     "output_type": "stream",
     "text": [
      "Iteration of bagging:111/150"
     ]
    },
    {
     "name": "stdout",
     "output_type": "stream",
     "text": [
      "MSE on test Dataset: 12.8952028255 Iteration of Bagging: 110 / 150\n",
      "MSE on train Dataset: 10.4919914831 Iteration of Bagging: 110 / 150\n"
     ]
    },
    {
     "name": "stderr",
     "output_type": "stream",
     "text": [
      "Iteration of bagging:112/150"
     ]
    },
    {
     "name": "stdout",
     "output_type": "stream",
     "text": [
      "MSE on test Dataset: 12.9537066154 Iteration of Bagging: 111 / 150\n",
      "MSE on train Dataset: 10.4747413484 Iteration of Bagging: 111 / 150\n"
     ]
    },
    {
     "name": "stderr",
     "output_type": "stream",
     "text": [
      "Iteration of bagging:113/150"
     ]
    },
    {
     "name": "stdout",
     "output_type": "stream",
     "text": [
      "MSE on test Dataset: 12.8895680385 Iteration of Bagging: 112 / 150\n",
      "MSE on train Dataset: 10.481544514 Iteration of Bagging: 112 / 150\n"
     ]
    },
    {
     "name": "stderr",
     "output_type": "stream",
     "text": [
      "Iteration of bagging:114/150"
     ]
    },
    {
     "name": "stdout",
     "output_type": "stream",
     "text": [
      "MSE on test Dataset: 12.8695649562 Iteration of Bagging: 113 / 150\n",
      "MSE on train Dataset: 10.4983203937 Iteration of Bagging: 113 / 150\n"
     ]
    },
    {
     "name": "stderr",
     "output_type": "stream",
     "text": [
      "Iteration of bagging:115/150"
     ]
    },
    {
     "name": "stdout",
     "output_type": "stream",
     "text": [
      "MSE on test Dataset: 12.9261516 Iteration of Bagging: 114 / 150\n",
      "MSE on train Dataset: 10.5047877632 Iteration of Bagging: 114 / 150\n"
     ]
    },
    {
     "name": "stderr",
     "output_type": "stream",
     "text": [
      "Iteration of bagging:116/150"
     ]
    },
    {
     "name": "stdout",
     "output_type": "stream",
     "text": [
      "MSE on test Dataset: 12.9144037263 Iteration of Bagging: 115 / 150\n",
      "MSE on train Dataset: 10.5099215638 Iteration of Bagging: 115 / 150\n"
     ]
    },
    {
     "name": "stderr",
     "output_type": "stream",
     "text": [
      "Iteration of bagging:117/150"
     ]
    },
    {
     "name": "stdout",
     "output_type": "stream",
     "text": [
      "MSE on test Dataset: 13.0234489746 Iteration of Bagging: 116 / 150\n",
      "MSE on train Dataset: 10.5177275058 Iteration of Bagging: 116 / 150\n"
     ]
    },
    {
     "name": "stderr",
     "output_type": "stream",
     "text": [
      "Iteration of bagging:118/150"
     ]
    },
    {
     "name": "stdout",
     "output_type": "stream",
     "text": [
      "MSE on test Dataset: 13.0109684005 Iteration of Bagging: 117 / 150\n",
      "MSE on train Dataset: 10.4808255763 Iteration of Bagging: 117 / 150\n"
     ]
    },
    {
     "name": "stderr",
     "output_type": "stream",
     "text": [
      "Iteration of bagging:119/150"
     ]
    },
    {
     "name": "stdout",
     "output_type": "stream",
     "text": [
      "MSE on test Dataset: 12.9381856977 Iteration of Bagging: 118 / 150\n",
      "MSE on train Dataset: 10.4985582408 Iteration of Bagging: 118 / 150\n"
     ]
    },
    {
     "name": "stderr",
     "output_type": "stream",
     "text": [
      "Iteration of bagging:120/150"
     ]
    },
    {
     "name": "stdout",
     "output_type": "stream",
     "text": [
      "MSE on test Dataset: 12.8894901976 Iteration of Bagging: 119 / 150\n",
      "MSE on train Dataset: 10.4575008465 Iteration of Bagging: 119 / 150\n"
     ]
    },
    {
     "name": "stderr",
     "output_type": "stream",
     "text": [
      "Iteration of bagging:121/150"
     ]
    },
    {
     "name": "stdout",
     "output_type": "stream",
     "text": [
      "MSE on test Dataset: 12.856265007 Iteration of Bagging: 120 / 150\n",
      "MSE on train Dataset: 10.4392118273 Iteration of Bagging: 120 / 150\n"
     ]
    },
    {
     "name": "stderr",
     "output_type": "stream",
     "text": [
      "Iteration of bagging:122/150"
     ]
    },
    {
     "name": "stdout",
     "output_type": "stream",
     "text": [
      "MSE on test Dataset: 12.8459377927 Iteration of Bagging: 121 / 150\n",
      "MSE on train Dataset: 10.4154234516 Iteration of Bagging: 121 / 150\n"
     ]
    },
    {
     "name": "stderr",
     "output_type": "stream",
     "text": [
      "Iteration of bagging:123/150"
     ]
    },
    {
     "name": "stdout",
     "output_type": "stream",
     "text": [
      "MSE on test Dataset: 12.9633450154 Iteration of Bagging: 122 / 150\n",
      "MSE on train Dataset: 10.3941525373 Iteration of Bagging: 122 / 150\n"
     ]
    },
    {
     "name": "stderr",
     "output_type": "stream",
     "text": [
      "Iteration of bagging:124/150"
     ]
    },
    {
     "name": "stdout",
     "output_type": "stream",
     "text": [
      "MSE on test Dataset: 12.9285234201 Iteration of Bagging: 123 / 150\n",
      "MSE on train Dataset: 10.4149805411 Iteration of Bagging: 123 / 150\n"
     ]
    },
    {
     "name": "stderr",
     "output_type": "stream",
     "text": [
      "Iteration of bagging:125/150"
     ]
    },
    {
     "name": "stdout",
     "output_type": "stream",
     "text": [
      "MSE on test Dataset: 12.9065918525 Iteration of Bagging: 124 / 150\n",
      "MSE on train Dataset: 10.4369314907 Iteration of Bagging: 124 / 150\n"
     ]
    },
    {
     "name": "stderr",
     "output_type": "stream",
     "text": [
      "Iteration of bagging:126/150"
     ]
    },
    {
     "name": "stdout",
     "output_type": "stream",
     "text": [
      "MSE on test Dataset: 12.8747081024 Iteration of Bagging: 125 / 150\n",
      "MSE on train Dataset: 10.4439383117 Iteration of Bagging: 125 / 150\n"
     ]
    },
    {
     "name": "stderr",
     "output_type": "stream",
     "text": [
      "Iteration of bagging:127/150"
     ]
    },
    {
     "name": "stdout",
     "output_type": "stream",
     "text": [
      "MSE on test Dataset: 12.8929326535 Iteration of Bagging: 126 / 150\n",
      "MSE on train Dataset: 10.4489768973 Iteration of Bagging: 126 / 150\n"
     ]
    },
    {
     "name": "stderr",
     "output_type": "stream",
     "text": [
      "Iteration of bagging:128/150"
     ]
    },
    {
     "name": "stdout",
     "output_type": "stream",
     "text": [
      "MSE on test Dataset: 12.8924187678 Iteration of Bagging: 127 / 150\n",
      "MSE on train Dataset: 10.4514046215 Iteration of Bagging: 127 / 150\n"
     ]
    },
    {
     "name": "stderr",
     "output_type": "stream",
     "text": [
      "Iteration of bagging:129/150"
     ]
    },
    {
     "name": "stdout",
     "output_type": "stream",
     "text": [
      "MSE on test Dataset: 12.9131291146 Iteration of Bagging: 128 / 150\n",
      "MSE on train Dataset: 10.4793449926 Iteration of Bagging: 128 / 150\n"
     ]
    },
    {
     "name": "stderr",
     "output_type": "stream",
     "text": [
      "Iteration of bagging:130/150"
     ]
    },
    {
     "name": "stdout",
     "output_type": "stream",
     "text": [
      "MSE on test Dataset: 12.8731265143 Iteration of Bagging: 129 / 150\n",
      "MSE on train Dataset: 10.4824423454 Iteration of Bagging: 129 / 150\n"
     ]
    },
    {
     "name": "stderr",
     "output_type": "stream",
     "text": [
      "Iteration of bagging:131/150"
     ]
    },
    {
     "name": "stdout",
     "output_type": "stream",
     "text": [
      "MSE on test Dataset: 12.8738231278 Iteration of Bagging: 130 / 150\n",
      "MSE on train Dataset: 10.4726270503 Iteration of Bagging: 130 / 150\n"
     ]
    },
    {
     "name": "stderr",
     "output_type": "stream",
     "text": [
      "Iteration of bagging:132/150"
     ]
    },
    {
     "name": "stdout",
     "output_type": "stream",
     "text": [
      "MSE on test Dataset: 12.8842898468 Iteration of Bagging: 131 / 150\n",
      "MSE on train Dataset: 10.4905839311 Iteration of Bagging: 131 / 150\n"
     ]
    },
    {
     "name": "stderr",
     "output_type": "stream",
     "text": [
      "Iteration of bagging:133/150"
     ]
    },
    {
     "name": "stdout",
     "output_type": "stream",
     "text": [
      "MSE on test Dataset: 12.9193479252 Iteration of Bagging: 132 / 150\n",
      "MSE on train Dataset: 10.5061631296 Iteration of Bagging: 132 / 150\n"
     ]
    },
    {
     "name": "stderr",
     "output_type": "stream",
     "text": [
      "Iteration of bagging:134/150"
     ]
    },
    {
     "name": "stdout",
     "output_type": "stream",
     "text": [
      "MSE on test Dataset: 12.8428222844 Iteration of Bagging: 133 / 150\n",
      "MSE on train Dataset: 10.5366556159 Iteration of Bagging: 133 / 150\n"
     ]
    },
    {
     "name": "stderr",
     "output_type": "stream",
     "text": [
      "Iteration of bagging:135/150"
     ]
    },
    {
     "name": "stdout",
     "output_type": "stream",
     "text": [
      "MSE on test Dataset: 12.8102664168 Iteration of Bagging: 134 / 150\n",
      "MSE on train Dataset: 10.5377835845 Iteration of Bagging: 134 / 150\n"
     ]
    },
    {
     "name": "stderr",
     "output_type": "stream",
     "text": [
      "Iteration of bagging:136/150"
     ]
    },
    {
     "name": "stdout",
     "output_type": "stream",
     "text": [
      "MSE on test Dataset: 12.8436051793 Iteration of Bagging: 135 / 150\n",
      "MSE on train Dataset: 10.5464104841 Iteration of Bagging: 135 / 150\n"
     ]
    },
    {
     "name": "stderr",
     "output_type": "stream",
     "text": [
      "Iteration of bagging:137/150"
     ]
    },
    {
     "name": "stdout",
     "output_type": "stream",
     "text": [
      "MSE on test Dataset: 12.8411870626 Iteration of Bagging: 136 / 150\n",
      "MSE on train Dataset: 10.5342324558 Iteration of Bagging: 136 / 150\n"
     ]
    },
    {
     "name": "stderr",
     "output_type": "stream",
     "text": [
      "Iteration of bagging:138/150"
     ]
    },
    {
     "name": "stdout",
     "output_type": "stream",
     "text": [
      "MSE on test Dataset: 12.8406720379 Iteration of Bagging: 137 / 150\n",
      "MSE on train Dataset: 10.5253470636 Iteration of Bagging: 137 / 150\n"
     ]
    },
    {
     "name": "stderr",
     "output_type": "stream",
     "text": [
      "Iteration of bagging:139/150"
     ]
    },
    {
     "name": "stdout",
     "output_type": "stream",
     "text": [
      "MSE on test Dataset: 12.7899864927 Iteration of Bagging: 138 / 150\n",
      "MSE on train Dataset: 10.5095732494 Iteration of Bagging: 138 / 150\n"
     ]
    },
    {
     "name": "stderr",
     "output_type": "stream",
     "text": [
      "Iteration of bagging:140/150"
     ]
    },
    {
     "name": "stdout",
     "output_type": "stream",
     "text": [
      "MSE on test Dataset: 12.7308457609 Iteration of Bagging: 139 / 150\n",
      "MSE on train Dataset: 10.4906615774 Iteration of Bagging: 139 / 150\n"
     ]
    },
    {
     "name": "stderr",
     "output_type": "stream",
     "text": [
      "Iteration of bagging:141/150"
     ]
    },
    {
     "name": "stdout",
     "output_type": "stream",
     "text": [
      "MSE on test Dataset: 12.764372827 Iteration of Bagging: 140 / 150\n",
      "MSE on train Dataset: 10.4967949732 Iteration of Bagging: 140 / 150\n"
     ]
    },
    {
     "name": "stderr",
     "output_type": "stream",
     "text": [
      "Iteration of bagging:142/150"
     ]
    },
    {
     "name": "stdout",
     "output_type": "stream",
     "text": [
      "MSE on test Dataset: 12.7506836134 Iteration of Bagging: 141 / 150\n",
      "MSE on train Dataset: 10.5272424766 Iteration of Bagging: 141 / 150\n"
     ]
    },
    {
     "name": "stderr",
     "output_type": "stream",
     "text": [
      "Iteration of bagging:143/150"
     ]
    },
    {
     "name": "stdout",
     "output_type": "stream",
     "text": [
      "MSE on test Dataset: 12.7712394876 Iteration of Bagging: 142 / 150\n",
      "MSE on train Dataset: 10.5359471325 Iteration of Bagging: 142 / 150\n"
     ]
    },
    {
     "name": "stderr",
     "output_type": "stream",
     "text": [
      "Iteration of bagging:144/150"
     ]
    },
    {
     "name": "stdout",
     "output_type": "stream",
     "text": [
      "MSE on test Dataset: 12.7734811732 Iteration of Bagging: 143 / 150\n",
      "MSE on train Dataset: 10.5559080704 Iteration of Bagging: 143 / 150\n"
     ]
    },
    {
     "name": "stderr",
     "output_type": "stream",
     "text": [
      "Iteration of bagging:145/150"
     ]
    },
    {
     "name": "stdout",
     "output_type": "stream",
     "text": [
      "MSE on test Dataset: 12.738467199 Iteration of Bagging: 144 / 150\n",
      "MSE on train Dataset: 10.5521283591 Iteration of Bagging: 144 / 150\n"
     ]
    },
    {
     "name": "stderr",
     "output_type": "stream",
     "text": [
      "Iteration of bagging:146/150"
     ]
    },
    {
     "name": "stdout",
     "output_type": "stream",
     "text": [
      "MSE on test Dataset: 12.6945817364 Iteration of Bagging: 145 / 150\n",
      "MSE on train Dataset: 10.5465299642 Iteration of Bagging: 145 / 150\n"
     ]
    },
    {
     "name": "stderr",
     "output_type": "stream",
     "text": [
      "Iteration of bagging:147/150"
     ]
    },
    {
     "name": "stdout",
     "output_type": "stream",
     "text": [
      "MSE on test Dataset: 12.6688415584 Iteration of Bagging: 146 / 150\n",
      "MSE on train Dataset: 10.5573935584 Iteration of Bagging: 146 / 150\n"
     ]
    },
    {
     "name": "stderr",
     "output_type": "stream",
     "text": [
      "Iteration of bagging:148/150"
     ]
    },
    {
     "name": "stdout",
     "output_type": "stream",
     "text": [
      "MSE on test Dataset: 12.7359463077 Iteration of Bagging: 147 / 150\n",
      "MSE on train Dataset: 10.5337638933 Iteration of Bagging: 147 / 150\n"
     ]
    },
    {
     "name": "stderr",
     "output_type": "stream",
     "text": [
      "Iteration of bagging:149/150"
     ]
    },
    {
     "name": "stdout",
     "output_type": "stream",
     "text": [
      "MSE on test Dataset: 12.7199798536 Iteration of Bagging: 148 / 150\n",
      "MSE on train Dataset: 10.5638520069 Iteration of Bagging: 148 / 150\n"
     ]
    },
    {
     "name": "stderr",
     "output_type": "stream",
     "text": [
      "Learning estimator number: 14/15; MSE error on train dataset: 4.55125270767"
     ]
    },
    {
     "name": "stdout",
     "output_type": "stream",
     "text": [
      "MSE on test Dataset: 12.7469316573 Iteration of Bagging: 149 / 150\n",
      "MSE on train Dataset: 10.5610416228 Iteration of Bagging: 149 / 150\n"
     ]
    },
    {
     "name": "stderr",
     "output_type": "stream",
     "text": [
      "Iteration of bagging:1/150"
     ]
    },
    {
     "name": "stdout",
     "output_type": "stream",
     "text": [
      "MSE on test Dataset: 16.0941692181 Iteration of Bagging: 0 / 150\n",
      "MSE on train Dataset: 36.7095482481 Iteration of Bagging: 0 / 150\n"
     ]
    },
    {
     "name": "stderr",
     "output_type": "stream",
     "text": [
      "Iteration of bagging:2/150"
     ]
    },
    {
     "name": "stdout",
     "output_type": "stream",
     "text": [
      "MSE on test Dataset: 13.0505230767 Iteration of Bagging: 1 / 150\n",
      "MSE on train Dataset: 18.0531224322 Iteration of Bagging: 1 / 150\n"
     ]
    },
    {
     "name": "stderr",
     "output_type": "stream",
     "text": [
      "Iteration of bagging:3/150"
     ]
    },
    {
     "name": "stdout",
     "output_type": "stream",
     "text": [
      "MSE on test Dataset: 14.5994913995 Iteration of Bagging: 2 / 150\n",
      "MSE on train Dataset: 15.3838268707 Iteration of Bagging: 2 / 150\n"
     ]
    },
    {
     "name": "stderr",
     "output_type": "stream",
     "text": [
      "Iteration of bagging:4/150"
     ]
    },
    {
     "name": "stdout",
     "output_type": "stream",
     "text": [
      "MSE on test Dataset: 14.685424461 Iteration of Bagging: 3 / 150\n",
      "MSE on train Dataset: 13.2044906898 Iteration of Bagging: 3 / 150\n"
     ]
    },
    {
     "name": "stderr",
     "output_type": "stream",
     "text": [
      "Iteration of bagging:5/150"
     ]
    },
    {
     "name": "stdout",
     "output_type": "stream",
     "text": [
      "MSE on test Dataset: 13.7466539065 Iteration of Bagging: 4 / 150\n",
      "MSE on train Dataset: 11.573423244 Iteration of Bagging: 4 / 150\n"
     ]
    },
    {
     "name": "stderr",
     "output_type": "stream",
     "text": [
      "Iteration of bagging:6/150"
     ]
    },
    {
     "name": "stdout",
     "output_type": "stream",
     "text": [
      "MSE on test Dataset: 14.3887226081 Iteration of Bagging: 5 / 150\n",
      "MSE on train Dataset: 11.4438386067 Iteration of Bagging: 5 / 150\n"
     ]
    },
    {
     "name": "stderr",
     "output_type": "stream",
     "text": [
      "Iteration of bagging:7/150"
     ]
    },
    {
     "name": "stdout",
     "output_type": "stream",
     "text": [
      "MSE on test Dataset: 14.9520202804 Iteration of Bagging: 6 / 150\n",
      "MSE on train Dataset: 11.6765308286 Iteration of Bagging: 6 / 150\n"
     ]
    },
    {
     "name": "stderr",
     "output_type": "stream",
     "text": [
      "Iteration of bagging:8/150"
     ]
    },
    {
     "name": "stdout",
     "output_type": "stream",
     "text": [
      "MSE on test Dataset: 14.5075531064 Iteration of Bagging: 7 / 150\n",
      "MSE on train Dataset: 11.9531057978 Iteration of Bagging: 7 / 150\n"
     ]
    },
    {
     "name": "stderr",
     "output_type": "stream",
     "text": [
      "Iteration of bagging:9/150"
     ]
    },
    {
     "name": "stdout",
     "output_type": "stream",
     "text": [
      "MSE on test Dataset: 13.0384165999 Iteration of Bagging: 8 / 150\n",
      "MSE on train Dataset: 11.3814055512 Iteration of Bagging: 8 / 150\n"
     ]
    },
    {
     "name": "stderr",
     "output_type": "stream",
     "text": [
      "Iteration of bagging:10/150"
     ]
    },
    {
     "name": "stdout",
     "output_type": "stream",
     "text": [
      "MSE on test Dataset: 12.6743574325 Iteration of Bagging: 9 / 150\n",
      "MSE on train Dataset: 11.1782957026 Iteration of Bagging: 9 / 150\n"
     ]
    },
    {
     "name": "stderr",
     "output_type": "stream",
     "text": [
      "Iteration of bagging:11/150"
     ]
    },
    {
     "name": "stdout",
     "output_type": "stream",
     "text": [
      "MSE on test Dataset: 12.8264590429 Iteration of Bagging: 10 / 150\n",
      "MSE on train Dataset: 11.5700461594 Iteration of Bagging: 10 / 150\n"
     ]
    },
    {
     "name": "stderr",
     "output_type": "stream",
     "text": [
      "Iteration of bagging:12/150"
     ]
    },
    {
     "name": "stdout",
     "output_type": "stream",
     "text": [
      "MSE on test Dataset: 13.161864118 Iteration of Bagging: 11 / 150\n",
      "MSE on train Dataset: 11.6012725869 Iteration of Bagging: 11 / 150\n"
     ]
    },
    {
     "name": "stderr",
     "output_type": "stream",
     "text": [
      "Iteration of bagging:13/150"
     ]
    },
    {
     "name": "stdout",
     "output_type": "stream",
     "text": [
      "MSE on test Dataset: 13.7978897047 Iteration of Bagging: 12 / 150\n",
      "MSE on train Dataset: 11.2881824576 Iteration of Bagging: 12 / 150\n"
     ]
    },
    {
     "name": "stderr",
     "output_type": "stream",
     "text": [
      "Iteration of bagging:14/150"
     ]
    },
    {
     "name": "stdout",
     "output_type": "stream",
     "text": [
      "MSE on test Dataset: 13.9047171378 Iteration of Bagging: 13 / 150\n",
      "MSE on train Dataset: 10.7791029648 Iteration of Bagging: 13 / 150\n"
     ]
    },
    {
     "name": "stderr",
     "output_type": "stream",
     "text": [
      "Iteration of bagging:15/150"
     ]
    },
    {
     "name": "stdout",
     "output_type": "stream",
     "text": [
      "MSE on test Dataset: 14.2704803851 Iteration of Bagging: 14 / 150\n",
      "MSE on train Dataset: 10.9769917884 Iteration of Bagging: 14 / 150\n"
     ]
    },
    {
     "name": "stderr",
     "output_type": "stream",
     "text": [
      "Iteration of bagging:16/150"
     ]
    },
    {
     "name": "stdout",
     "output_type": "stream",
     "text": [
      "MSE on test Dataset: 14.7511311022 Iteration of Bagging: 15 / 150\n",
      "MSE on train Dataset: 10.392765077 Iteration of Bagging: 15 / 150\n"
     ]
    },
    {
     "name": "stderr",
     "output_type": "stream",
     "text": [
      "Iteration of bagging:17/150"
     ]
    },
    {
     "name": "stdout",
     "output_type": "stream",
     "text": [
      "MSE on test Dataset: 14.5434416928 Iteration of Bagging: 16 / 150\n",
      "MSE on train Dataset: 10.6646283784 Iteration of Bagging: 16 / 150\n"
     ]
    },
    {
     "name": "stderr",
     "output_type": "stream",
     "text": [
      "Iteration of bagging:18/150"
     ]
    },
    {
     "name": "stdout",
     "output_type": "stream",
     "text": [
      "MSE on test Dataset: 14.4404616375 Iteration of Bagging: 17 / 150\n",
      "MSE on train Dataset: 10.6231817695 Iteration of Bagging: 17 / 150\n"
     ]
    },
    {
     "name": "stderr",
     "output_type": "stream",
     "text": [
      "Iteration of bagging:19/150"
     ]
    },
    {
     "name": "stdout",
     "output_type": "stream",
     "text": [
      "MSE on test Dataset: 13.9573842284 Iteration of Bagging: 18 / 150\n",
      "MSE on train Dataset: 10.879791494 Iteration of Bagging: 18 / 150\n"
     ]
    },
    {
     "name": "stderr",
     "output_type": "stream",
     "text": [
      "Iteration of bagging:20/150"
     ]
    },
    {
     "name": "stdout",
     "output_type": "stream",
     "text": [
      "MSE on test Dataset: 13.7355012402 Iteration of Bagging: 19 / 150\n",
      "MSE on train Dataset: 10.5242954864 Iteration of Bagging: 19 / 150\n"
     ]
    },
    {
     "name": "stderr",
     "output_type": "stream",
     "text": [
      "Iteration of bagging:21/150"
     ]
    },
    {
     "name": "stdout",
     "output_type": "stream",
     "text": [
      "MSE on test Dataset: 13.5909928996 Iteration of Bagging: 20 / 150\n",
      "MSE on train Dataset: 10.4961704009 Iteration of Bagging: 20 / 150\n"
     ]
    },
    {
     "name": "stderr",
     "output_type": "stream",
     "text": [
      "Iteration of bagging:22/150"
     ]
    },
    {
     "name": "stdout",
     "output_type": "stream",
     "text": [
      "MSE on test Dataset: 13.8575387368 Iteration of Bagging: 21 / 150\n",
      "MSE on train Dataset: 10.2980743735 Iteration of Bagging: 21 / 150\n"
     ]
    },
    {
     "name": "stderr",
     "output_type": "stream",
     "text": [
      "Iteration of bagging:23/150"
     ]
    },
    {
     "name": "stdout",
     "output_type": "stream",
     "text": [
      "MSE on test Dataset: 13.3566514421 Iteration of Bagging: 22 / 150\n",
      "MSE on train Dataset: 10.3233936676 Iteration of Bagging: 22 / 150\n"
     ]
    },
    {
     "name": "stderr",
     "output_type": "stream",
     "text": [
      "Learning estimator number: 24/25; MSE error on train dataset: 6.18433014236"
     ]
    },
    {
     "name": "stdout",
     "output_type": "stream",
     "text": [
      "MSE on test Dataset: 13.6987957549 Iteration of Bagging: 23 / 150\n",
      "MSE on train Dataset: 10.1234779951 Iteration of Bagging: 23 / 150\n"
     ]
    },
    {
     "name": "stderr",
     "output_type": "stream",
     "text": [
      "Iteration of bagging:25/150"
     ]
    },
    {
     "name": "stdout",
     "output_type": "stream",
     "text": [
      "MSE on test Dataset: 13.5681694489 Iteration of Bagging: 24 / 150\n",
      "MSE on train Dataset: 10.0549970895 Iteration of Bagging: 24 / 150\n"
     ]
    },
    {
     "name": "stderr",
     "output_type": "stream",
     "text": [
      "Iteration of bagging:26/150"
     ]
    },
    {
     "name": "stdout",
     "output_type": "stream",
     "text": [
      "MSE on test Dataset: 13.2264931351 Iteration of Bagging: 25 / 150\n",
      "MSE on train Dataset: 10.0694223147 Iteration of Bagging: 25 / 150\n"
     ]
    },
    {
     "name": "stderr",
     "output_type": "stream",
     "text": [
      "Iteration of bagging:27/150"
     ]
    },
    {
     "name": "stdout",
     "output_type": "stream",
     "text": [
      "MSE on test Dataset: 13.1735296991 Iteration of Bagging: 26 / 150\n",
      "MSE on train Dataset: 10.0979527848 Iteration of Bagging: 26 / 150\n"
     ]
    },
    {
     "name": "stderr",
     "output_type": "stream",
     "text": [
      "Iteration of bagging:28/150"
     ]
    },
    {
     "name": "stdout",
     "output_type": "stream",
     "text": [
      "MSE on test Dataset: 13.1796505656 Iteration of Bagging: 27 / 150\n",
      "MSE on train Dataset: 9.9601032674 Iteration of Bagging: 27 / 150\n"
     ]
    },
    {
     "name": "stderr",
     "output_type": "stream",
     "text": [
      "Iteration of bagging:29/150"
     ]
    },
    {
     "name": "stdout",
     "output_type": "stream",
     "text": [
      "MSE on test Dataset: 13.1607576377 Iteration of Bagging: 28 / 150\n",
      "MSE on train Dataset: 10.1095807752 Iteration of Bagging: 28 / 150\n"
     ]
    },
    {
     "name": "stderr",
     "output_type": "stream",
     "text": [
      "Iteration of bagging:30/150"
     ]
    },
    {
     "name": "stdout",
     "output_type": "stream",
     "text": [
      "MSE on test Dataset: 13.0436114788 Iteration of Bagging: 29 / 150\n",
      "MSE on train Dataset: 10.0703501143 Iteration of Bagging: 29 / 150\n"
     ]
    },
    {
     "name": "stderr",
     "output_type": "stream",
     "text": [
      "Iteration of bagging:31/150"
     ]
    },
    {
     "name": "stdout",
     "output_type": "stream",
     "text": [
      "MSE on test Dataset: 13.4100630052 Iteration of Bagging: 30 / 150\n",
      "MSE on train Dataset: 9.99820258642 Iteration of Bagging: 30 / 150\n"
     ]
    },
    {
     "name": "stderr",
     "output_type": "stream",
     "text": [
      "Iteration of bagging:32/150"
     ]
    },
    {
     "name": "stdout",
     "output_type": "stream",
     "text": [
      "MSE on test Dataset: 13.5534497941 Iteration of Bagging: 31 / 150\n",
      "MSE on train Dataset: 10.002761555 Iteration of Bagging: 31 / 150\n"
     ]
    },
    {
     "name": "stderr",
     "output_type": "stream",
     "text": [
      "Iteration of bagging:33/150"
     ]
    },
    {
     "name": "stdout",
     "output_type": "stream",
     "text": [
      "MSE on test Dataset: 13.6734539336 Iteration of Bagging: 32 / 150\n",
      "MSE on train Dataset: 9.87977098949 Iteration of Bagging: 32 / 150\n"
     ]
    },
    {
     "name": "stderr",
     "output_type": "stream",
     "text": [
      "Iteration of bagging:34/150"
     ]
    },
    {
     "name": "stdout",
     "output_type": "stream",
     "text": [
      "MSE on test Dataset: 13.6585886057 Iteration of Bagging: 33 / 150\n",
      "MSE on train Dataset: 9.7128240858 Iteration of Bagging: 33 / 150\n"
     ]
    },
    {
     "name": "stderr",
     "output_type": "stream",
     "text": [
      "Iteration of bagging:35/150"
     ]
    },
    {
     "name": "stdout",
     "output_type": "stream",
     "text": [
      "MSE on test Dataset: 13.6030504695 Iteration of Bagging: 34 / 150\n",
      "MSE on train Dataset: 9.60474529375 Iteration of Bagging: 34 / 150\n"
     ]
    },
    {
     "name": "stderr",
     "output_type": "stream",
     "text": [
      "Iteration of bagging:36/150"
     ]
    },
    {
     "name": "stdout",
     "output_type": "stream",
     "text": [
      "MSE on test Dataset: 13.7672819993 Iteration of Bagging: 35 / 150\n",
      "MSE on train Dataset: 9.46792544358 Iteration of Bagging: 35 / 150\n"
     ]
    },
    {
     "name": "stderr",
     "output_type": "stream",
     "text": [
      "Iteration of bagging:37/150"
     ]
    },
    {
     "name": "stdout",
     "output_type": "stream",
     "text": [
      "MSE on test Dataset: 13.583081849 Iteration of Bagging: 36 / 150\n",
      "MSE on train Dataset: 9.51167644262 Iteration of Bagging: 36 / 150\n"
     ]
    },
    {
     "name": "stderr",
     "output_type": "stream",
     "text": [
      "Iteration of bagging:38/150"
     ]
    },
    {
     "name": "stdout",
     "output_type": "stream",
     "text": [
      "MSE on test Dataset: 13.1502413203 Iteration of Bagging: 37 / 150\n",
      "MSE on train Dataset: 9.43625243685 Iteration of Bagging: 37 / 150\n"
     ]
    },
    {
     "name": "stderr",
     "output_type": "stream",
     "text": [
      "Iteration of bagging:39/150"
     ]
    },
    {
     "name": "stdout",
     "output_type": "stream",
     "text": [
      "MSE on test Dataset: 13.0498105994 Iteration of Bagging: 38 / 150\n",
      "MSE on train Dataset: 9.44827167404 Iteration of Bagging: 38 / 150\n"
     ]
    },
    {
     "name": "stderr",
     "output_type": "stream",
     "text": [
      "Iteration of bagging:40/150"
     ]
    },
    {
     "name": "stdout",
     "output_type": "stream",
     "text": [
      "MSE on test Dataset: 13.1209086724 Iteration of Bagging: 39 / 150\n",
      "MSE on train Dataset: 9.46034815865 Iteration of Bagging: 39 / 150\n"
     ]
    },
    {
     "name": "stderr",
     "output_type": "stream",
     "text": [
      "Iteration of bagging:41/150"
     ]
    },
    {
     "name": "stdout",
     "output_type": "stream",
     "text": [
      "MSE on test Dataset: 13.1641974991 Iteration of Bagging: 40 / 150\n",
      "MSE on train Dataset: 9.46714719363 Iteration of Bagging: 40 / 150\n"
     ]
    },
    {
     "name": "stderr",
     "output_type": "stream",
     "text": [
      "Iteration of bagging:42/150"
     ]
    },
    {
     "name": "stdout",
     "output_type": "stream",
     "text": [
      "MSE on test Dataset: 13.1108429478 Iteration of Bagging: 41 / 150\n",
      "MSE on train Dataset: 9.44538381843 Iteration of Bagging: 41 / 150\n"
     ]
    },
    {
     "name": "stderr",
     "output_type": "stream",
     "text": [
      "Iteration of bagging:43/150"
     ]
    },
    {
     "name": "stdout",
     "output_type": "stream",
     "text": [
      "MSE on test Dataset: 13.2242945775 Iteration of Bagging: 42 / 150\n",
      "MSE on train Dataset: 9.4081311221 Iteration of Bagging: 42 / 150\n"
     ]
    },
    {
     "name": "stderr",
     "output_type": "stream",
     "text": [
      "Iteration of bagging:44/150"
     ]
    },
    {
     "name": "stdout",
     "output_type": "stream",
     "text": [
      "MSE on test Dataset: 13.0965527545 Iteration of Bagging: 43 / 150\n",
      "MSE on train Dataset: 9.35374170335 Iteration of Bagging: 43 / 150\n"
     ]
    },
    {
     "name": "stderr",
     "output_type": "stream",
     "text": [
      "Iteration of bagging:45/150"
     ]
    },
    {
     "name": "stdout",
     "output_type": "stream",
     "text": [
      "MSE on test Dataset: 12.9945922617 Iteration of Bagging: 44 / 150\n",
      "MSE on train Dataset: 9.2458678642 Iteration of Bagging: 44 / 150\n"
     ]
    },
    {
     "name": "stderr",
     "output_type": "stream",
     "text": [
      "Iteration of bagging:46/150"
     ]
    },
    {
     "name": "stdout",
     "output_type": "stream",
     "text": [
      "MSE on test Dataset: 12.9927264703 Iteration of Bagging: 45 / 150\n",
      "MSE on train Dataset: 9.29475454759 Iteration of Bagging: 45 / 150\n"
     ]
    },
    {
     "name": "stderr",
     "output_type": "stream",
     "text": [
      "Learning estimator number: 24/25; MSE error on train dataset: 1.94549604134"
     ]
    },
    {
     "name": "stdout",
     "output_type": "stream",
     "text": [
      "MSE on test Dataset: 12.9295166828 Iteration of Bagging: 46 / 150\n",
      "MSE on train Dataset: 9.2379454159 Iteration of Bagging: 46 / 150\n"
     ]
    },
    {
     "name": "stderr",
     "output_type": "stream",
     "text": [
      "Iteration of bagging:48/150"
     ]
    },
    {
     "name": "stdout",
     "output_type": "stream",
     "text": [
      "MSE on test Dataset: 12.9370635107 Iteration of Bagging: 47 / 150\n",
      "MSE on train Dataset: 9.19982702236 Iteration of Bagging: 47 / 150\n"
     ]
    },
    {
     "name": "stderr",
     "output_type": "stream",
     "text": [
      "Iteration of bagging:49/150"
     ]
    },
    {
     "name": "stdout",
     "output_type": "stream",
     "text": [
      "MSE on test Dataset: 12.9868531295 Iteration of Bagging: 48 / 150\n",
      "MSE on train Dataset: 9.28715574763 Iteration of Bagging: 48 / 150\n"
     ]
    },
    {
     "name": "stderr",
     "output_type": "stream",
     "text": [
      "Iteration of bagging:50/150"
     ]
    },
    {
     "name": "stdout",
     "output_type": "stream",
     "text": [
      "MSE on test Dataset: 13.0038029352 Iteration of Bagging: 49 / 150\n",
      "MSE on train Dataset: 9.23645503205 Iteration of Bagging: 49 / 150\n"
     ]
    },
    {
     "name": "stderr",
     "output_type": "stream",
     "text": [
      "Iteration of bagging:51/150"
     ]
    },
    {
     "name": "stdout",
     "output_type": "stream",
     "text": [
      "MSE on test Dataset: 12.8736981075 Iteration of Bagging: 50 / 150\n",
      "MSE on train Dataset: 9.25228018113 Iteration of Bagging: 50 / 150\n"
     ]
    },
    {
     "name": "stderr",
     "output_type": "stream",
     "text": [
      "Iteration of bagging:52/150"
     ]
    },
    {
     "name": "stdout",
     "output_type": "stream",
     "text": [
      "MSE on test Dataset: 12.7586903117 Iteration of Bagging: 51 / 150\n",
      "MSE on train Dataset: 9.29559294795 Iteration of Bagging: 51 / 150\n"
     ]
    },
    {
     "name": "stderr",
     "output_type": "stream",
     "text": [
      "Learning estimator number: 24/25; MSE error on train dataset: 2.09963815697"
     ]
    },
    {
     "name": "stdout",
     "output_type": "stream",
     "text": [
      "MSE on test Dataset: 12.7977633916 Iteration of Bagging: 52 / 150\n",
      "MSE on train Dataset: 9.23168385572 Iteration of Bagging: 52 / 150\n"
     ]
    },
    {
     "name": "stderr",
     "output_type": "stream",
     "text": [
      "Iteration of bagging:54/150"
     ]
    },
    {
     "name": "stdout",
     "output_type": "stream",
     "text": [
      "MSE on test Dataset: 12.8168928618 Iteration of Bagging: 53 / 150\n",
      "MSE on train Dataset: 9.22482944939 Iteration of Bagging: 53 / 150\n"
     ]
    },
    {
     "name": "stderr",
     "output_type": "stream",
     "text": [
      "Iteration of bagging:55/150"
     ]
    },
    {
     "name": "stdout",
     "output_type": "stream",
     "text": [
      "MSE on test Dataset: 12.7090462636 Iteration of Bagging: 54 / 150\n",
      "MSE on train Dataset: 9.2083291518 Iteration of Bagging: 54 / 150\n"
     ]
    },
    {
     "name": "stderr",
     "output_type": "stream",
     "text": [
      "Iteration of bagging:56/150"
     ]
    },
    {
     "name": "stdout",
     "output_type": "stream",
     "text": [
      "MSE on test Dataset: 12.6032591698 Iteration of Bagging: 55 / 150\n",
      "MSE on train Dataset: 9.19362081719 Iteration of Bagging: 55 / 150\n"
     ]
    },
    {
     "name": "stderr",
     "output_type": "stream",
     "text": [
      "Iteration of bagging:57/150"
     ]
    },
    {
     "name": "stdout",
     "output_type": "stream",
     "text": [
      "MSE on test Dataset: 12.435765593 Iteration of Bagging: 56 / 150\n",
      "MSE on train Dataset: 9.20301376484 Iteration of Bagging: 56 / 150\n"
     ]
    },
    {
     "name": "stderr",
     "output_type": "stream",
     "text": [
      "Iteration of bagging:58/150"
     ]
    },
    {
     "name": "stdout",
     "output_type": "stream",
     "text": [
      "MSE on test Dataset: 12.5252889938 Iteration of Bagging: 57 / 150\n",
      "MSE on train Dataset: 9.22982137228 Iteration of Bagging: 57 / 150\n"
     ]
    },
    {
     "name": "stderr",
     "output_type": "stream",
     "text": [
      "Iteration of bagging:59/150"
     ]
    },
    {
     "name": "stdout",
     "output_type": "stream",
     "text": [
      "MSE on test Dataset: 12.545315085 Iteration of Bagging: 58 / 150\n",
      "MSE on train Dataset: 9.24477464447 Iteration of Bagging: 58 / 150\n"
     ]
    },
    {
     "name": "stderr",
     "output_type": "stream",
     "text": [
      "Iteration of bagging:60/150"
     ]
    },
    {
     "name": "stdout",
     "output_type": "stream",
     "text": [
      "MSE on test Dataset: 12.4192065615 Iteration of Bagging: 59 / 150\n",
      "MSE on train Dataset: 9.27901463186 Iteration of Bagging: 59 / 150\n"
     ]
    },
    {
     "name": "stderr",
     "output_type": "stream",
     "text": [
      "Iteration of bagging:61/150"
     ]
    },
    {
     "name": "stdout",
     "output_type": "stream",
     "text": [
      "MSE on test Dataset: 12.3216847194 Iteration of Bagging: 60 / 150\n",
      "MSE on train Dataset: 9.32863022562 Iteration of Bagging: 60 / 150\n"
     ]
    },
    {
     "name": "stderr",
     "output_type": "stream",
     "text": [
      "Iteration of bagging:62/150"
     ]
    },
    {
     "name": "stdout",
     "output_type": "stream",
     "text": [
      "MSE on test Dataset: 12.3341085688 Iteration of Bagging: 61 / 150\n",
      "MSE on train Dataset: 9.32804802809 Iteration of Bagging: 61 / 150\n"
     ]
    },
    {
     "name": "stderr",
     "output_type": "stream",
     "text": [
      "Iteration of bagging:63/150"
     ]
    },
    {
     "name": "stdout",
     "output_type": "stream",
     "text": [
      "MSE on test Dataset: 12.3866452913 Iteration of Bagging: 62 / 150\n",
      "MSE on train Dataset: 9.38194866468 Iteration of Bagging: 62 / 150\n"
     ]
    },
    {
     "name": "stderr",
     "output_type": "stream",
     "text": [
      "Learning estimator number: 24/25; MSE error on train dataset: 2.22036000757"
     ]
    },
    {
     "name": "stdout",
     "output_type": "stream",
     "text": [
      "MSE on test Dataset: 12.4635449204 Iteration of Bagging: 63 / 150\n",
      "MSE on train Dataset: 9.39820237336 Iteration of Bagging: 63 / 150\n"
     ]
    },
    {
     "name": "stderr",
     "output_type": "stream",
     "text": [
      "Iteration of bagging:65/150"
     ]
    },
    {
     "name": "stdout",
     "output_type": "stream",
     "text": [
      "MSE on test Dataset: 12.4764965601 Iteration of Bagging: 64 / 150\n",
      "MSE on train Dataset: 9.46302338645 Iteration of Bagging: 64 / 150\n"
     ]
    },
    {
     "name": "stderr",
     "output_type": "stream",
     "text": [
      "Iteration of bagging:66/150"
     ]
    },
    {
     "name": "stdout",
     "output_type": "stream",
     "text": [
      "MSE on test Dataset: 12.5306864232 Iteration of Bagging: 65 / 150\n",
      "MSE on train Dataset: 9.43509551785 Iteration of Bagging: 65 / 150\n"
     ]
    },
    {
     "name": "stderr",
     "output_type": "stream",
     "text": [
      "Iteration of bagging:67/150"
     ]
    },
    {
     "name": "stdout",
     "output_type": "stream",
     "text": [
      "MSE on test Dataset: 12.6530557276 Iteration of Bagging: 66 / 150\n",
      "MSE on train Dataset: 9.49908586167 Iteration of Bagging: 66 / 150\n"
     ]
    },
    {
     "name": "stderr",
     "output_type": "stream",
     "text": [
      "Iteration of bagging:68/150"
     ]
    },
    {
     "name": "stdout",
     "output_type": "stream",
     "text": [
      "MSE on test Dataset: 12.6795737345 Iteration of Bagging: 67 / 150\n",
      "MSE on train Dataset: 9.5637363781 Iteration of Bagging: 67 / 150\n"
     ]
    },
    {
     "name": "stderr",
     "output_type": "stream",
     "text": [
      "Iteration of bagging:69/150"
     ]
    },
    {
     "name": "stdout",
     "output_type": "stream",
     "text": [
      "MSE on test Dataset: 12.5883798512 Iteration of Bagging: 68 / 150\n",
      "MSE on train Dataset: 9.56734300593 Iteration of Bagging: 68 / 150\n"
     ]
    },
    {
     "name": "stderr",
     "output_type": "stream",
     "text": [
      "Iteration of bagging:70/150"
     ]
    },
    {
     "name": "stdout",
     "output_type": "stream",
     "text": [
      "MSE on test Dataset: 12.8220001328 Iteration of Bagging: 69 / 150\n",
      "MSE on train Dataset: 9.61455537306 Iteration of Bagging: 69 / 150\n"
     ]
    },
    {
     "name": "stderr",
     "output_type": "stream",
     "text": [
      "Iteration of bagging:71/150"
     ]
    },
    {
     "name": "stdout",
     "output_type": "stream",
     "text": [
      "MSE on test Dataset: 12.9866785377 Iteration of Bagging: 70 / 150\n",
      "MSE on train Dataset: 9.65655509191 Iteration of Bagging: 70 / 150\n"
     ]
    },
    {
     "name": "stderr",
     "output_type": "stream",
     "text": [
      "Iteration of bagging:72/150"
     ]
    },
    {
     "name": "stdout",
     "output_type": "stream",
     "text": [
      "MSE on test Dataset: 12.9521016708 Iteration of Bagging: 71 / 150\n",
      "MSE on train Dataset: 9.66418238344 Iteration of Bagging: 71 / 150\n"
     ]
    },
    {
     "name": "stderr",
     "output_type": "stream",
     "text": [
      "Iteration of bagging:73/150"
     ]
    },
    {
     "name": "stdout",
     "output_type": "stream",
     "text": [
      "MSE on test Dataset: 12.8566785845 Iteration of Bagging: 72 / 150\n",
      "MSE on train Dataset: 9.69945892363 Iteration of Bagging: 72 / 150\n"
     ]
    },
    {
     "name": "stderr",
     "output_type": "stream",
     "text": [
      "Iteration of bagging:74/150"
     ]
    },
    {
     "name": "stdout",
     "output_type": "stream",
     "text": [
      "MSE on test Dataset: 12.9585303057 Iteration of Bagging: 73 / 150\n",
      "MSE on train Dataset: 9.67380031256 Iteration of Bagging: 73 / 150\n"
     ]
    },
    {
     "name": "stderr",
     "output_type": "stream",
     "text": [
      "Iteration of bagging:75/150"
     ]
    },
    {
     "name": "stdout",
     "output_type": "stream",
     "text": [
      "MSE on test Dataset: 12.8684433794 Iteration of Bagging: 74 / 150\n",
      "MSE on train Dataset: 9.59600055338 Iteration of Bagging: 74 / 150\n"
     ]
    },
    {
     "name": "stderr",
     "output_type": "stream",
     "text": [
      "Iteration of bagging:76/150"
     ]
    },
    {
     "name": "stdout",
     "output_type": "stream",
     "text": [
      "MSE on test Dataset: 12.8570565843 Iteration of Bagging: 75 / 150\n",
      "MSE on train Dataset: 9.55679731064 Iteration of Bagging: 75 / 150\n"
     ]
    },
    {
     "name": "stderr",
     "output_type": "stream",
     "text": [
      "Iteration of bagging:77/150"
     ]
    },
    {
     "name": "stdout",
     "output_type": "stream",
     "text": [
      "MSE on test Dataset: 12.7774666249 Iteration of Bagging: 76 / 150\n",
      "MSE on train Dataset: 9.52613305144 Iteration of Bagging: 76 / 150\n"
     ]
    },
    {
     "name": "stderr",
     "output_type": "stream",
     "text": [
      "Iteration of bagging:78/150"
     ]
    },
    {
     "name": "stdout",
     "output_type": "stream",
     "text": [
      "MSE on test Dataset: 12.7932757473 Iteration of Bagging: 77 / 150\n",
      "MSE on train Dataset: 9.55972975467 Iteration of Bagging: 77 / 150\n"
     ]
    },
    {
     "name": "stderr",
     "output_type": "stream",
     "text": [
      "Iteration of bagging:79/150"
     ]
    },
    {
     "name": "stdout",
     "output_type": "stream",
     "text": [
      "MSE on test Dataset: 12.6959785884 Iteration of Bagging: 78 / 150\n",
      "MSE on train Dataset: 9.56276420401 Iteration of Bagging: 78 / 150\n"
     ]
    },
    {
     "name": "stderr",
     "output_type": "stream",
     "text": [
      "Iteration of bagging:80/150"
     ]
    },
    {
     "name": "stdout",
     "output_type": "stream",
     "text": [
      "MSE on test Dataset: 12.6435135555 Iteration of Bagging: 79 / 150\n",
      "MSE on train Dataset: 9.61985680699 Iteration of Bagging: 79 / 150\n"
     ]
    },
    {
     "name": "stderr",
     "output_type": "stream",
     "text": [
      "Iteration of bagging:81/150"
     ]
    },
    {
     "name": "stdout",
     "output_type": "stream",
     "text": [
      "MSE on test Dataset: 12.7129666067 Iteration of Bagging: 80 / 150\n",
      "MSE on train Dataset: 9.6012556435 Iteration of Bagging: 80 / 150\n"
     ]
    },
    {
     "name": "stderr",
     "output_type": "stream",
     "text": [
      "Iteration of bagging:82/150"
     ]
    },
    {
     "name": "stdout",
     "output_type": "stream",
     "text": [
      "MSE on test Dataset: 12.6557497735 Iteration of Bagging: 81 / 150\n",
      "MSE on train Dataset: 9.56356377154 Iteration of Bagging: 81 / 150\n"
     ]
    },
    {
     "name": "stderr",
     "output_type": "stream",
     "text": [
      "Iteration of bagging:83/150"
     ]
    },
    {
     "name": "stdout",
     "output_type": "stream",
     "text": [
      "MSE on test Dataset: 12.52350448 Iteration of Bagging: 82 / 150\n",
      "MSE on train Dataset: 9.53904206426 Iteration of Bagging: 82 / 150\n"
     ]
    },
    {
     "name": "stderr",
     "output_type": "stream",
     "text": [
      "Iteration of bagging:84/150"
     ]
    },
    {
     "name": "stdout",
     "output_type": "stream",
     "text": [
      "MSE on test Dataset: 12.6818390598 Iteration of Bagging: 83 / 150\n",
      "MSE on train Dataset: 9.50638218216 Iteration of Bagging: 83 / 150\n"
     ]
    },
    {
     "name": "stderr",
     "output_type": "stream",
     "text": [
      "Iteration of bagging:85/150"
     ]
    },
    {
     "name": "stdout",
     "output_type": "stream",
     "text": [
      "MSE on test Dataset: 12.6470596558 Iteration of Bagging: 84 / 150\n",
      "MSE on train Dataset: 9.44033072047 Iteration of Bagging: 84 / 150\n"
     ]
    },
    {
     "name": "stderr",
     "output_type": "stream",
     "text": [
      "Iteration of bagging:86/150"
     ]
    },
    {
     "name": "stdout",
     "output_type": "stream",
     "text": [
      "MSE on test Dataset: 12.4850254373 Iteration of Bagging: 85 / 150\n",
      "MSE on train Dataset: 9.49471963422 Iteration of Bagging: 85 / 150\n"
     ]
    },
    {
     "name": "stderr",
     "output_type": "stream",
     "text": [
      "Iteration of bagging:87/150"
     ]
    },
    {
     "name": "stdout",
     "output_type": "stream",
     "text": [
      "MSE on test Dataset: 12.556981307 Iteration of Bagging: 86 / 150\n",
      "MSE on train Dataset: 9.51755824619 Iteration of Bagging: 86 / 150\n"
     ]
    },
    {
     "name": "stderr",
     "output_type": "stream",
     "text": [
      "Iteration of bagging:88/150"
     ]
    },
    {
     "name": "stdout",
     "output_type": "stream",
     "text": [
      "MSE on test Dataset: 12.5918191401 Iteration of Bagging: 87 / 150\n",
      "MSE on train Dataset: 9.50065935571 Iteration of Bagging: 87 / 150\n"
     ]
    },
    {
     "name": "stderr",
     "output_type": "stream",
     "text": [
      "Iteration of bagging:89/150"
     ]
    },
    {
     "name": "stdout",
     "output_type": "stream",
     "text": [
      "MSE on test Dataset: 12.589218443 Iteration of Bagging: 88 / 150\n",
      "MSE on train Dataset: 9.45696812663 Iteration of Bagging: 88 / 150\n"
     ]
    },
    {
     "name": "stderr",
     "output_type": "stream",
     "text": [
      "Iteration of bagging:90/150"
     ]
    },
    {
     "name": "stdout",
     "output_type": "stream",
     "text": [
      "MSE on test Dataset: 12.7314209128 Iteration of Bagging: 89 / 150\n",
      "MSE on train Dataset: 9.40030845809 Iteration of Bagging: 89 / 150\n"
     ]
    },
    {
     "name": "stderr",
     "output_type": "stream",
     "text": [
      "Iteration of bagging:91/150"
     ]
    },
    {
     "name": "stdout",
     "output_type": "stream",
     "text": [
      "MSE on test Dataset: 12.6711338562 Iteration of Bagging: 90 / 150\n",
      "MSE on train Dataset: 9.42519006487 Iteration of Bagging: 90 / 150\n"
     ]
    },
    {
     "name": "stderr",
     "output_type": "stream",
     "text": [
      "Iteration of bagging:92/150"
     ]
    },
    {
     "name": "stdout",
     "output_type": "stream",
     "text": [
      "MSE on test Dataset: 12.6016019911 Iteration of Bagging: 91 / 150\n",
      "MSE on train Dataset: 9.48503507601 Iteration of Bagging: 91 / 150\n"
     ]
    },
    {
     "name": "stderr",
     "output_type": "stream",
     "text": [
      "Iteration of bagging:93/150"
     ]
    },
    {
     "name": "stdout",
     "output_type": "stream",
     "text": [
      "MSE on test Dataset: 12.5413684706 Iteration of Bagging: 92 / 150\n",
      "MSE on train Dataset: 9.52710103672 Iteration of Bagging: 92 / 150\n"
     ]
    },
    {
     "name": "stderr",
     "output_type": "stream",
     "text": [
      "Iteration of bagging:94/150"
     ]
    },
    {
     "name": "stdout",
     "output_type": "stream",
     "text": [
      "MSE on test Dataset: 12.5886811387 Iteration of Bagging: 93 / 150\n",
      "MSE on train Dataset: 9.49333542543 Iteration of Bagging: 93 / 150\n"
     ]
    },
    {
     "name": "stderr",
     "output_type": "stream",
     "text": [
      "Iteration of bagging:95/150"
     ]
    },
    {
     "name": "stdout",
     "output_type": "stream",
     "text": [
      "MSE on test Dataset: 12.5029029253 Iteration of Bagging: 94 / 150\n",
      "MSE on train Dataset: 9.55519131385 Iteration of Bagging: 94 / 150\n"
     ]
    },
    {
     "name": "stderr",
     "output_type": "stream",
     "text": [
      "Iteration of bagging:96/150"
     ]
    },
    {
     "name": "stdout",
     "output_type": "stream",
     "text": [
      "MSE on test Dataset: 12.4426792435 Iteration of Bagging: 95 / 150\n",
      "MSE on train Dataset: 9.55653970758 Iteration of Bagging: 95 / 150\n"
     ]
    },
    {
     "name": "stderr",
     "output_type": "stream",
     "text": [
      "Iteration of bagging:97/150"
     ]
    },
    {
     "name": "stdout",
     "output_type": "stream",
     "text": [
      "MSE on test Dataset: 12.4149569957 Iteration of Bagging: 96 / 150\n",
      "MSE on train Dataset: 9.55684211202 Iteration of Bagging: 96 / 150\n"
     ]
    },
    {
     "name": "stderr",
     "output_type": "stream",
     "text": [
      "Iteration of bagging:98/150"
     ]
    },
    {
     "name": "stdout",
     "output_type": "stream",
     "text": [
      "MSE on test Dataset: 12.3997806485 Iteration of Bagging: 97 / 150\n",
      "MSE on train Dataset: 9.56142157302 Iteration of Bagging: 97 / 150\n"
     ]
    },
    {
     "name": "stderr",
     "output_type": "stream",
     "text": [
      "Iteration of bagging:99/150"
     ]
    },
    {
     "name": "stdout",
     "output_type": "stream",
     "text": [
      "MSE on test Dataset: 12.4613847691 Iteration of Bagging: 98 / 150\n",
      "MSE on train Dataset: 9.55523846554 Iteration of Bagging: 98 / 150\n"
     ]
    },
    {
     "name": "stderr",
     "output_type": "stream",
     "text": [
      "Iteration of bagging:100/150"
     ]
    },
    {
     "name": "stdout",
     "output_type": "stream",
     "text": [
      "MSE on test Dataset: 12.4812220796 Iteration of Bagging: 99 / 150\n",
      "MSE on train Dataset: 9.58696893628 Iteration of Bagging: 99 / 150\n"
     ]
    },
    {
     "name": "stderr",
     "output_type": "stream",
     "text": [
      "Iteration of bagging:101/150"
     ]
    },
    {
     "name": "stdout",
     "output_type": "stream",
     "text": [
      "MSE on test Dataset: 12.4060907676 Iteration of Bagging: 100 / 150\n",
      "MSE on train Dataset: 9.64005557652 Iteration of Bagging: 100 / 150\n"
     ]
    },
    {
     "name": "stderr",
     "output_type": "stream",
     "text": [
      "Iteration of bagging:102/150"
     ]
    },
    {
     "name": "stdout",
     "output_type": "stream",
     "text": [
      "MSE on test Dataset: 12.4017478774 Iteration of Bagging: 101 / 150\n",
      "MSE on train Dataset: 9.60113304829 Iteration of Bagging: 101 / 150\n"
     ]
    },
    {
     "name": "stderr",
     "output_type": "stream",
     "text": [
      "Iteration of bagging:103/150"
     ]
    },
    {
     "name": "stdout",
     "output_type": "stream",
     "text": [
      "MSE on test Dataset: 12.3311798755 Iteration of Bagging: 102 / 150\n",
      "MSE on train Dataset: 9.60378611415 Iteration of Bagging: 102 / 150\n"
     ]
    },
    {
     "name": "stderr",
     "output_type": "stream",
     "text": [
      "Iteration of bagging:104/150"
     ]
    },
    {
     "name": "stdout",
     "output_type": "stream",
     "text": [
      "MSE on test Dataset: 12.335007416 Iteration of Bagging: 103 / 150\n",
      "MSE on train Dataset: 9.61845700327 Iteration of Bagging: 103 / 150\n"
     ]
    },
    {
     "name": "stderr",
     "output_type": "stream",
     "text": [
      "Iteration of bagging:105/150"
     ]
    },
    {
     "name": "stdout",
     "output_type": "stream",
     "text": [
      "MSE on test Dataset: 12.313648867 Iteration of Bagging: 104 / 150\n",
      "MSE on train Dataset: 9.64123211429 Iteration of Bagging: 104 / 150\n"
     ]
    },
    {
     "name": "stderr",
     "output_type": "stream",
     "text": [
      "Iteration of bagging:106/150"
     ]
    },
    {
     "name": "stdout",
     "output_type": "stream",
     "text": [
      "MSE on test Dataset: 12.3020765566 Iteration of Bagging: 105 / 150\n",
      "MSE on train Dataset: 9.6582402153 Iteration of Bagging: 105 / 150\n"
     ]
    },
    {
     "name": "stderr",
     "output_type": "stream",
     "text": [
      "Iteration of bagging:107/150"
     ]
    },
    {
     "name": "stdout",
     "output_type": "stream",
     "text": [
      "MSE on test Dataset: 12.3179048202 Iteration of Bagging: 106 / 150\n",
      "MSE on train Dataset: 9.6673162873 Iteration of Bagging: 106 / 150\n"
     ]
    },
    {
     "name": "stderr",
     "output_type": "stream",
     "text": [
      "Iteration of bagging:108/150"
     ]
    },
    {
     "name": "stdout",
     "output_type": "stream",
     "text": [
      "MSE on test Dataset: 12.3496398003 Iteration of Bagging: 107 / 150\n",
      "MSE on train Dataset: 9.63116551265 Iteration of Bagging: 107 / 150\n"
     ]
    },
    {
     "name": "stderr",
     "output_type": "stream",
     "text": [
      "Iteration of bagging:109/150"
     ]
    },
    {
     "name": "stdout",
     "output_type": "stream",
     "text": [
      "MSE on test Dataset: 12.3154476703 Iteration of Bagging: 108 / 150\n",
      "MSE on train Dataset: 9.63579432401 Iteration of Bagging: 108 / 150\n"
     ]
    },
    {
     "name": "stderr",
     "output_type": "stream",
     "text": [
      "Iteration of bagging:110/150"
     ]
    },
    {
     "name": "stdout",
     "output_type": "stream",
     "text": [
      "MSE on test Dataset: 12.355232267 Iteration of Bagging: 109 / 150\n",
      "MSE on train Dataset: 9.65845796583 Iteration of Bagging: 109 / 150\n"
     ]
    },
    {
     "name": "stderr",
     "output_type": "stream",
     "text": [
      "Iteration of bagging:111/150"
     ]
    },
    {
     "name": "stdout",
     "output_type": "stream",
     "text": [
      "MSE on test Dataset: 12.3112637535 Iteration of Bagging: 110 / 150\n",
      "MSE on train Dataset: 9.70104595243 Iteration of Bagging: 110 / 150\n"
     ]
    },
    {
     "name": "stderr",
     "output_type": "stream",
     "text": [
      "Iteration of bagging:112/150"
     ]
    },
    {
     "name": "stdout",
     "output_type": "stream",
     "text": [
      "MSE on test Dataset: 12.2603491529 Iteration of Bagging: 111 / 150\n",
      "MSE on train Dataset: 9.70558918821 Iteration of Bagging: 111 / 150\n"
     ]
    },
    {
     "name": "stderr",
     "output_type": "stream",
     "text": [
      "Iteration of bagging:113/150"
     ]
    },
    {
     "name": "stdout",
     "output_type": "stream",
     "text": [
      "MSE on test Dataset: 12.2684194554 Iteration of Bagging: 112 / 150\n",
      "MSE on train Dataset: 9.65433515509 Iteration of Bagging: 112 / 150\n"
     ]
    },
    {
     "name": "stderr",
     "output_type": "stream",
     "text": [
      "Iteration of bagging:114/150"
     ]
    },
    {
     "name": "stdout",
     "output_type": "stream",
     "text": [
      "MSE on test Dataset: 12.2645504638 Iteration of Bagging: 113 / 150\n",
      "MSE on train Dataset: 9.6790375715 Iteration of Bagging: 113 / 150\n"
     ]
    },
    {
     "name": "stderr",
     "output_type": "stream",
     "text": [
      "Iteration of bagging:115/150"
     ]
    },
    {
     "name": "stdout",
     "output_type": "stream",
     "text": [
      "MSE on test Dataset: 12.2422756692 Iteration of Bagging: 114 / 150\n",
      "MSE on train Dataset: 9.70366549524 Iteration of Bagging: 114 / 150\n"
     ]
    },
    {
     "name": "stderr",
     "output_type": "stream",
     "text": [
      "Iteration of bagging:116/150"
     ]
    },
    {
     "name": "stdout",
     "output_type": "stream",
     "text": [
      "MSE on test Dataset: 12.224595502 Iteration of Bagging: 115 / 150\n",
      "MSE on train Dataset: 9.68551513673 Iteration of Bagging: 115 / 150\n"
     ]
    },
    {
     "name": "stderr",
     "output_type": "stream",
     "text": [
      "Iteration of bagging:117/150"
     ]
    },
    {
     "name": "stdout",
     "output_type": "stream",
     "text": [
      "MSE on test Dataset: 12.2572971849 Iteration of Bagging: 116 / 150\n",
      "MSE on train Dataset: 9.71104787992 Iteration of Bagging: 116 / 150\n"
     ]
    },
    {
     "name": "stderr",
     "output_type": "stream",
     "text": [
      "Iteration of bagging:118/150"
     ]
    },
    {
     "name": "stdout",
     "output_type": "stream",
     "text": [
      "MSE on test Dataset: 12.2567409681 Iteration of Bagging: 117 / 150\n",
      "MSE on train Dataset: 9.71123080752 Iteration of Bagging: 117 / 150\n"
     ]
    },
    {
     "name": "stderr",
     "output_type": "stream",
     "text": [
      "Iteration of bagging:119/150"
     ]
    },
    {
     "name": "stdout",
     "output_type": "stream",
     "text": [
      "MSE on test Dataset: 12.2078947688 Iteration of Bagging: 118 / 150\n",
      "MSE on train Dataset: 9.71510686205 Iteration of Bagging: 118 / 150\n"
     ]
    },
    {
     "name": "stderr",
     "output_type": "stream",
     "text": [
      "Iteration of bagging:120/150"
     ]
    },
    {
     "name": "stdout",
     "output_type": "stream",
     "text": [
      "MSE on test Dataset: 12.2661236696 Iteration of Bagging: 119 / 150\n",
      "MSE on train Dataset: 9.72160867023 Iteration of Bagging: 119 / 150\n"
     ]
    },
    {
     "name": "stderr",
     "output_type": "stream",
     "text": [
      "Iteration of bagging:121/150"
     ]
    },
    {
     "name": "stdout",
     "output_type": "stream",
     "text": [
      "MSE on test Dataset: 12.22624621 Iteration of Bagging: 120 / 150\n",
      "MSE on train Dataset: 9.76135857341 Iteration of Bagging: 120 / 150\n"
     ]
    },
    {
     "name": "stderr",
     "output_type": "stream",
     "text": [
      "Iteration of bagging:122/150"
     ]
    },
    {
     "name": "stdout",
     "output_type": "stream",
     "text": [
      "MSE on test Dataset: 12.1837330584 Iteration of Bagging: 121 / 150\n",
      "MSE on train Dataset: 9.79047020599 Iteration of Bagging: 121 / 150\n"
     ]
    },
    {
     "name": "stderr",
     "output_type": "stream",
     "text": [
      "Iteration of bagging:123/150"
     ]
    },
    {
     "name": "stdout",
     "output_type": "stream",
     "text": [
      "MSE on test Dataset: 12.1619818732 Iteration of Bagging: 122 / 150\n",
      "MSE on train Dataset: 9.7692359121 Iteration of Bagging: 122 / 150\n"
     ]
    },
    {
     "name": "stderr",
     "output_type": "stream",
     "text": [
      "Iteration of bagging:124/150"
     ]
    },
    {
     "name": "stdout",
     "output_type": "stream",
     "text": [
      "MSE on test Dataset: 12.1349996491 Iteration of Bagging: 123 / 150\n",
      "MSE on train Dataset: 9.73327157557 Iteration of Bagging: 123 / 150\n"
     ]
    },
    {
     "name": "stderr",
     "output_type": "stream",
     "text": [
      "Iteration of bagging:125/150"
     ]
    },
    {
     "name": "stdout",
     "output_type": "stream",
     "text": [
      "MSE on test Dataset: 12.1221780371 Iteration of Bagging: 124 / 150\n",
      "MSE on train Dataset: 9.70697733651 Iteration of Bagging: 124 / 150\n"
     ]
    },
    {
     "name": "stderr",
     "output_type": "stream",
     "text": [
      "Iteration of bagging:126/150"
     ]
    },
    {
     "name": "stdout",
     "output_type": "stream",
     "text": [
      "MSE on test Dataset: 12.1144471083 Iteration of Bagging: 125 / 150\n",
      "MSE on train Dataset: 9.70606775427 Iteration of Bagging: 125 / 150\n"
     ]
    },
    {
     "name": "stderr",
     "output_type": "stream",
     "text": [
      "Iteration of bagging:127/150"
     ]
    },
    {
     "name": "stdout",
     "output_type": "stream",
     "text": [
      "MSE on test Dataset: 12.2675933408 Iteration of Bagging: 126 / 150\n",
      "MSE on train Dataset: 9.64073503709 Iteration of Bagging: 126 / 150\n"
     ]
    },
    {
     "name": "stderr",
     "output_type": "stream",
     "text": [
      "Iteration of bagging:128/150"
     ]
    },
    {
     "name": "stdout",
     "output_type": "stream",
     "text": [
      "MSE on test Dataset: 12.2584984323 Iteration of Bagging: 127 / 150\n",
      "MSE on train Dataset: 9.66630012468 Iteration of Bagging: 127 / 150\n"
     ]
    },
    {
     "name": "stderr",
     "output_type": "stream",
     "text": [
      "Iteration of bagging:129/150"
     ]
    },
    {
     "name": "stdout",
     "output_type": "stream",
     "text": [
      "MSE on test Dataset: 12.2740395899 Iteration of Bagging: 128 / 150\n",
      "MSE on train Dataset: 9.66601522746 Iteration of Bagging: 128 / 150\n"
     ]
    },
    {
     "name": "stderr",
     "output_type": "stream",
     "text": [
      "Iteration of bagging:130/150"
     ]
    },
    {
     "name": "stdout",
     "output_type": "stream",
     "text": [
      "MSE on test Dataset: 12.4039012507 Iteration of Bagging: 129 / 150\n",
      "MSE on train Dataset: 9.63981379388 Iteration of Bagging: 129 / 150\n"
     ]
    },
    {
     "name": "stderr",
     "output_type": "stream",
     "text": [
      "Iteration of bagging:131/150"
     ]
    },
    {
     "name": "stdout",
     "output_type": "stream",
     "text": [
      "MSE on test Dataset: 12.486184053 Iteration of Bagging: 130 / 150\n",
      "MSE on train Dataset: 9.63192018366 Iteration of Bagging: 130 / 150\n"
     ]
    },
    {
     "name": "stderr",
     "output_type": "stream",
     "text": [
      "Iteration of bagging:132/150"
     ]
    },
    {
     "name": "stdout",
     "output_type": "stream",
     "text": [
      "MSE on test Dataset: 12.4372609667 Iteration of Bagging: 131 / 150\n",
      "MSE on train Dataset: 9.64308559503 Iteration of Bagging: 131 / 150\n"
     ]
    },
    {
     "name": "stderr",
     "output_type": "stream",
     "text": [
      "Iteration of bagging:133/150"
     ]
    },
    {
     "name": "stdout",
     "output_type": "stream",
     "text": [
      "MSE on test Dataset: 12.3926590147 Iteration of Bagging: 132 / 150\n",
      "MSE on train Dataset: 9.614626093 Iteration of Bagging: 132 / 150\n"
     ]
    },
    {
     "name": "stderr",
     "output_type": "stream",
     "text": [
      "Iteration of bagging:134/150"
     ]
    },
    {
     "name": "stdout",
     "output_type": "stream",
     "text": [
      "MSE on test Dataset: 12.3702225898 Iteration of Bagging: 133 / 150\n",
      "MSE on train Dataset: 9.61034501915 Iteration of Bagging: 133 / 150\n"
     ]
    },
    {
     "name": "stderr",
     "output_type": "stream",
     "text": [
      "Iteration of bagging:135/150"
     ]
    },
    {
     "name": "stdout",
     "output_type": "stream",
     "text": [
      "MSE on test Dataset: 12.3365887165 Iteration of Bagging: 134 / 150\n",
      "MSE on train Dataset: 9.6106108275 Iteration of Bagging: 134 / 150\n"
     ]
    },
    {
     "name": "stderr",
     "output_type": "stream",
     "text": [
      "Iteration of bagging:136/150"
     ]
    },
    {
     "name": "stdout",
     "output_type": "stream",
     "text": [
      "MSE on test Dataset: 12.2941311728 Iteration of Bagging: 135 / 150\n",
      "MSE on train Dataset: 9.61111609257 Iteration of Bagging: 135 / 150\n"
     ]
    },
    {
     "name": "stderr",
     "output_type": "stream",
     "text": [
      "Iteration of bagging:137/150"
     ]
    },
    {
     "name": "stdout",
     "output_type": "stream",
     "text": [
      "MSE on test Dataset: 12.2574443353 Iteration of Bagging: 136 / 150\n",
      "MSE on train Dataset: 9.6168565081 Iteration of Bagging: 136 / 150\n"
     ]
    },
    {
     "name": "stderr",
     "output_type": "stream",
     "text": [
      "Iteration of bagging:138/150"
     ]
    },
    {
     "name": "stdout",
     "output_type": "stream",
     "text": [
      "MSE on test Dataset: 12.2874651076 Iteration of Bagging: 137 / 150\n",
      "MSE on train Dataset: 9.65501622311 Iteration of Bagging: 137 / 150\n"
     ]
    },
    {
     "name": "stderr",
     "output_type": "stream",
     "text": [
      "Iteration of bagging:139/150"
     ]
    },
    {
     "name": "stdout",
     "output_type": "stream",
     "text": [
      "MSE on test Dataset: 12.341207957 Iteration of Bagging: 138 / 150\n",
      "MSE on train Dataset: 9.6589889212 Iteration of Bagging: 138 / 150\n"
     ]
    },
    {
     "name": "stderr",
     "output_type": "stream",
     "text": [
      "Iteration of bagging:140/150"
     ]
    },
    {
     "name": "stdout",
     "output_type": "stream",
     "text": [
      "MSE on test Dataset: 12.3776025587 Iteration of Bagging: 139 / 150\n",
      "MSE on train Dataset: 9.65295862186 Iteration of Bagging: 139 / 150\n"
     ]
    },
    {
     "name": "stderr",
     "output_type": "stream",
     "text": [
      "Iteration of bagging:141/150"
     ]
    },
    {
     "name": "stdout",
     "output_type": "stream",
     "text": [
      "MSE on test Dataset: 12.3875236122 Iteration of Bagging: 140 / 150\n",
      "MSE on train Dataset: 9.68678925701 Iteration of Bagging: 140 / 150\n"
     ]
    },
    {
     "name": "stderr",
     "output_type": "stream",
     "text": [
      "Iteration of bagging:142/150"
     ]
    },
    {
     "name": "stdout",
     "output_type": "stream",
     "text": [
      "MSE on test Dataset: 12.4039464632 Iteration of Bagging: 141 / 150\n",
      "MSE on train Dataset: 9.68516730576 Iteration of Bagging: 141 / 150\n"
     ]
    },
    {
     "name": "stderr",
     "output_type": "stream",
     "text": [
      "Iteration of bagging:143/150"
     ]
    },
    {
     "name": "stdout",
     "output_type": "stream",
     "text": [
      "MSE on test Dataset: 12.4045008077 Iteration of Bagging: 142 / 150\n",
      "MSE on train Dataset: 9.71220604267 Iteration of Bagging: 142 / 150\n"
     ]
    },
    {
     "name": "stderr",
     "output_type": "stream",
     "text": [
      "Iteration of bagging:144/150"
     ]
    },
    {
     "name": "stdout",
     "output_type": "stream",
     "text": [
      "MSE on test Dataset: 12.4220698958 Iteration of Bagging: 143 / 150\n",
      "MSE on train Dataset: 9.7008632048 Iteration of Bagging: 143 / 150\n"
     ]
    },
    {
     "name": "stderr",
     "output_type": "stream",
     "text": [
      "Iteration of bagging:145/150"
     ]
    },
    {
     "name": "stdout",
     "output_type": "stream",
     "text": [
      "MSE on test Dataset: 12.4858621716 Iteration of Bagging: 144 / 150\n",
      "MSE on train Dataset: 9.72381448665 Iteration of Bagging: 144 / 150\n"
     ]
    },
    {
     "name": "stderr",
     "output_type": "stream",
     "text": [
      "Iteration of bagging:146/150"
     ]
    },
    {
     "name": "stdout",
     "output_type": "stream",
     "text": [
      "MSE on test Dataset: 12.4856227109 Iteration of Bagging: 145 / 150\n",
      "MSE on train Dataset: 9.75828648322 Iteration of Bagging: 145 / 150\n"
     ]
    },
    {
     "name": "stderr",
     "output_type": "stream",
     "text": [
      "Iteration of bagging:147/150"
     ]
    },
    {
     "name": "stdout",
     "output_type": "stream",
     "text": [
      "MSE on test Dataset: 12.5417058576 Iteration of Bagging: 146 / 150\n",
      "MSE on train Dataset: 9.80167444808 Iteration of Bagging: 146 / 150\n"
     ]
    },
    {
     "name": "stderr",
     "output_type": "stream",
     "text": [
      "Iteration of bagging:148/150"
     ]
    },
    {
     "name": "stdout",
     "output_type": "stream",
     "text": [
      "MSE on test Dataset: 12.4997733368 Iteration of Bagging: 147 / 150\n",
      "MSE on train Dataset: 9.78681065567 Iteration of Bagging: 147 / 150\n"
     ]
    },
    {
     "name": "stderr",
     "output_type": "stream",
     "text": [
      "Iteration of bagging:149/150"
     ]
    },
    {
     "name": "stdout",
     "output_type": "stream",
     "text": [
      "MSE on test Dataset: 12.4631944738 Iteration of Bagging: 148 / 150\n",
      "MSE on train Dataset: 9.79904532579 Iteration of Bagging: 148 / 150\n"
     ]
    },
    {
     "name": "stderr",
     "output_type": "stream",
     "text": [
      "Iteration of bagging:0/150"
     ]
    },
    {
     "name": "stdout",
     "output_type": "stream",
     "text": [
      "MSE on test Dataset: 12.5315252013 Iteration of Bagging: 149 / 150\n",
      "MSE on train Dataset: 9.83604756446 Iteration of Bagging: 149 / 150\n"
     ]
    },
    {
     "name": "stderr",
     "output_type": "stream",
     "text": [
      "Iteration of bagging:1/150"
     ]
    },
    {
     "name": "stdout",
     "output_type": "stream",
     "text": [
      "MSE on test Dataset: 17.3130579769 Iteration of Bagging: 0 / 150\n",
      "MSE on train Dataset: 28.1075126853 Iteration of Bagging: 0 / 150\n"
     ]
    },
    {
     "name": "stderr",
     "output_type": "stream",
     "text": [
      "Iteration of bagging:2/150"
     ]
    },
    {
     "name": "stdout",
     "output_type": "stream",
     "text": [
      "MSE on test Dataset: 18.5387321667 Iteration of Bagging: 1 / 150\n",
      "MSE on train Dataset: 21.5940403634 Iteration of Bagging: 1 / 150\n"
     ]
    },
    {
     "name": "stderr",
     "output_type": "stream",
     "text": [
      "Iteration of bagging:3/150"
     ]
    },
    {
     "name": "stdout",
     "output_type": "stream",
     "text": [
      "MSE on test Dataset: 17.4690844681 Iteration of Bagging: 2 / 150\n",
      "MSE on train Dataset: 13.7529588313 Iteration of Bagging: 2 / 150\n"
     ]
    },
    {
     "name": "stderr",
     "output_type": "stream",
     "text": [
      "Iteration of bagging:4/150"
     ]
    },
    {
     "name": "stdout",
     "output_type": "stream",
     "text": [
      "MSE on test Dataset: 18.590071197 Iteration of Bagging: 3 / 150\n",
      "MSE on train Dataset: 13.6317360137 Iteration of Bagging: 3 / 150\n"
     ]
    },
    {
     "name": "stderr",
     "output_type": "stream",
     "text": [
      "Iteration of bagging:5/150"
     ]
    },
    {
     "name": "stdout",
     "output_type": "stream",
     "text": [
      "MSE on test Dataset: 18.0741517151 Iteration of Bagging: 4 / 150\n",
      "MSE on train Dataset: 13.0161119412 Iteration of Bagging: 4 / 150\n"
     ]
    },
    {
     "name": "stderr",
     "output_type": "stream",
     "text": [
      "Iteration of bagging:6/150"
     ]
    },
    {
     "name": "stdout",
     "output_type": "stream",
     "text": [
      "MSE on test Dataset: 16.0931596393 Iteration of Bagging: 5 / 150\n",
      "MSE on train Dataset: 12.4377040007 Iteration of Bagging: 5 / 150\n"
     ]
    },
    {
     "name": "stderr",
     "output_type": "stream",
     "text": [
      "Iteration of bagging:7/150"
     ]
    },
    {
     "name": "stdout",
     "output_type": "stream",
     "text": [
      "MSE on test Dataset: 15.2124833869 Iteration of Bagging: 6 / 150\n",
      "MSE on train Dataset: 13.4241647382 Iteration of Bagging: 6 / 150\n"
     ]
    },
    {
     "name": "stderr",
     "output_type": "stream",
     "text": [
      "Iteration of bagging:8/150"
     ]
    },
    {
     "name": "stdout",
     "output_type": "stream",
     "text": [
      "MSE on test Dataset: 14.4487975644 Iteration of Bagging: 7 / 150\n",
      "MSE on train Dataset: 12.9204697456 Iteration of Bagging: 7 / 150\n"
     ]
    },
    {
     "name": "stderr",
     "output_type": "stream",
     "text": [
      "Iteration of bagging:9/150"
     ]
    },
    {
     "name": "stdout",
     "output_type": "stream",
     "text": [
      "MSE on test Dataset: 14.4788601861 Iteration of Bagging: 8 / 150\n",
      "MSE on train Dataset: 13.1429941408 Iteration of Bagging: 8 / 150\n"
     ]
    },
    {
     "name": "stderr",
     "output_type": "stream",
     "text": [
      "Iteration of bagging:10/150"
     ]
    },
    {
     "name": "stdout",
     "output_type": "stream",
     "text": [
      "MSE on test Dataset: 14.3456704395 Iteration of Bagging: 9 / 150\n",
      "MSE on train Dataset: 12.0723144846 Iteration of Bagging: 9 / 150\n"
     ]
    },
    {
     "name": "stderr",
     "output_type": "stream",
     "text": [
      "Iteration of bagging:11/150"
     ]
    },
    {
     "name": "stdout",
     "output_type": "stream",
     "text": [
      "MSE on test Dataset: 13.7992526143 Iteration of Bagging: 10 / 150\n",
      "MSE on train Dataset: 11.7189897652 Iteration of Bagging: 10 / 150\n"
     ]
    },
    {
     "name": "stderr",
     "output_type": "stream",
     "text": [
      "Iteration of bagging:12/150"
     ]
    },
    {
     "name": "stdout",
     "output_type": "stream",
     "text": [
      "MSE on test Dataset: 13.1019693318 Iteration of Bagging: 11 / 150\n",
      "MSE on train Dataset: 10.8035778854 Iteration of Bagging: 11 / 150\n"
     ]
    },
    {
     "name": "stderr",
     "output_type": "stream",
     "text": [
      "Iteration of bagging:13/150"
     ]
    },
    {
     "name": "stdout",
     "output_type": "stream",
     "text": [
      "MSE on test Dataset: 13.8406601358 Iteration of Bagging: 12 / 150\n",
      "MSE on train Dataset: 10.378944151 Iteration of Bagging: 12 / 150\n"
     ]
    },
    {
     "name": "stderr",
     "output_type": "stream",
     "text": [
      "Iteration of bagging:14/150"
     ]
    },
    {
     "name": "stdout",
     "output_type": "stream",
     "text": [
      "MSE on test Dataset: 13.5694246339 Iteration of Bagging: 13 / 150\n",
      "MSE on train Dataset: 9.9663119754 Iteration of Bagging: 13 / 150\n"
     ]
    },
    {
     "name": "stderr",
     "output_type": "stream",
     "text": [
      "Iteration of bagging:15/150"
     ]
    },
    {
     "name": "stdout",
     "output_type": "stream",
     "text": [
      "MSE on test Dataset: 13.8907638132 Iteration of Bagging: 14 / 150\n",
      "MSE on train Dataset: 9.52534997954 Iteration of Bagging: 14 / 150\n"
     ]
    },
    {
     "name": "stderr",
     "output_type": "stream",
     "text": [
      "Iteration of bagging:16/150"
     ]
    },
    {
     "name": "stdout",
     "output_type": "stream",
     "text": [
      "MSE on test Dataset: 14.2435656221 Iteration of Bagging: 15 / 150\n",
      "MSE on train Dataset: 9.87045014064 Iteration of Bagging: 15 / 150\n"
     ]
    },
    {
     "name": "stderr",
     "output_type": "stream",
     "text": [
      "Iteration of bagging:17/150"
     ]
    },
    {
     "name": "stdout",
     "output_type": "stream",
     "text": [
      "MSE on test Dataset: 13.7855473164 Iteration of Bagging: 16 / 150\n",
      "MSE on train Dataset: 9.34102932883 Iteration of Bagging: 16 / 150\n"
     ]
    },
    {
     "name": "stderr",
     "output_type": "stream",
     "text": [
      "Iteration of bagging:18/150"
     ]
    },
    {
     "name": "stdout",
     "output_type": "stream",
     "text": [
      "MSE on test Dataset: 13.4057722875 Iteration of Bagging: 17 / 150\n",
      "MSE on train Dataset: 8.98824296193 Iteration of Bagging: 17 / 150\n"
     ]
    },
    {
     "name": "stderr",
     "output_type": "stream",
     "text": [
      "Iteration of bagging:19/150"
     ]
    },
    {
     "name": "stdout",
     "output_type": "stream",
     "text": [
      "MSE on test Dataset: 13.2761369411 Iteration of Bagging: 18 / 150\n",
      "MSE on train Dataset: 9.04737339598 Iteration of Bagging: 18 / 150\n"
     ]
    },
    {
     "name": "stderr",
     "output_type": "stream",
     "text": [
      "Iteration of bagging:20/150"
     ]
    },
    {
     "name": "stdout",
     "output_type": "stream",
     "text": [
      "MSE on test Dataset: 13.6433785756 Iteration of Bagging: 19 / 150\n",
      "MSE on train Dataset: 9.18688762703 Iteration of Bagging: 19 / 150\n"
     ]
    },
    {
     "name": "stderr",
     "output_type": "stream",
     "text": [
      "Iteration of bagging:21/150"
     ]
    },
    {
     "name": "stdout",
     "output_type": "stream",
     "text": [
      "MSE on test Dataset: 13.5672874502 Iteration of Bagging: 20 / 150\n",
      "MSE on train Dataset: 9.23893858151 Iteration of Bagging: 20 / 150\n"
     ]
    },
    {
     "name": "stderr",
     "output_type": "stream",
     "text": [
      "Iteration of bagging:22/150"
     ]
    },
    {
     "name": "stdout",
     "output_type": "stream",
     "text": [
      "MSE on test Dataset: 13.2029559576 Iteration of Bagging: 21 / 150\n",
      "MSE on train Dataset: 9.4310514565 Iteration of Bagging: 21 / 150\n"
     ]
    },
    {
     "name": "stderr",
     "output_type": "stream",
     "text": [
      "Iteration of bagging:23/150"
     ]
    },
    {
     "name": "stdout",
     "output_type": "stream",
     "text": [
      "MSE on test Dataset: 13.2680141331 Iteration of Bagging: 22 / 150\n",
      "MSE on train Dataset: 9.43905491774 Iteration of Bagging: 22 / 150\n"
     ]
    },
    {
     "name": "stderr",
     "output_type": "stream",
     "text": [
      "Iteration of bagging:24/150"
     ]
    },
    {
     "name": "stdout",
     "output_type": "stream",
     "text": [
      "MSE on test Dataset: 13.1080468736 Iteration of Bagging: 23 / 150\n",
      "MSE on train Dataset: 9.62509348888 Iteration of Bagging: 23 / 150\n"
     ]
    },
    {
     "name": "stderr",
     "output_type": "stream",
     "text": [
      "Iteration of bagging:25/150"
     ]
    },
    {
     "name": "stdout",
     "output_type": "stream",
     "text": [
      "MSE on test Dataset: 13.2263440554 Iteration of Bagging: 24 / 150\n",
      "MSE on train Dataset: 9.68038807113 Iteration of Bagging: 24 / 150\n"
     ]
    },
    {
     "name": "stderr",
     "output_type": "stream",
     "text": [
      "Iteration of bagging:26/150"
     ]
    },
    {
     "name": "stdout",
     "output_type": "stream",
     "text": [
      "MSE on test Dataset: 13.3787554635 Iteration of Bagging: 25 / 150\n",
      "MSE on train Dataset: 9.61335458281 Iteration of Bagging: 25 / 150\n"
     ]
    },
    {
     "name": "stderr",
     "output_type": "stream",
     "text": [
      "Iteration of bagging:27/150"
     ]
    },
    {
     "name": "stdout",
     "output_type": "stream",
     "text": [
      "MSE on test Dataset: 13.5860671229 Iteration of Bagging: 26 / 150\n",
      "MSE on train Dataset: 9.68357107341 Iteration of Bagging: 26 / 150\n"
     ]
    },
    {
     "name": "stderr",
     "output_type": "stream",
     "text": [
      "Iteration of bagging:28/150"
     ]
    },
    {
     "name": "stdout",
     "output_type": "stream",
     "text": [
      "MSE on test Dataset: 13.535352536 Iteration of Bagging: 27 / 150\n",
      "MSE on train Dataset: 9.78448818407 Iteration of Bagging: 27 / 150\n"
     ]
    },
    {
     "name": "stderr",
     "output_type": "stream",
     "text": [
      "Iteration of bagging:29/150"
     ]
    },
    {
     "name": "stdout",
     "output_type": "stream",
     "text": [
      "MSE on test Dataset: 13.2845138425 Iteration of Bagging: 28 / 150\n",
      "MSE on train Dataset: 9.72590037259 Iteration of Bagging: 28 / 150\n"
     ]
    },
    {
     "name": "stderr",
     "output_type": "stream",
     "text": [
      "Iteration of bagging:30/150"
     ]
    },
    {
     "name": "stdout",
     "output_type": "stream",
     "text": [
      "MSE on test Dataset: 13.3137459878 Iteration of Bagging: 29 / 150\n",
      "MSE on train Dataset: 9.73961725033 Iteration of Bagging: 29 / 150\n"
     ]
    },
    {
     "name": "stderr",
     "output_type": "stream",
     "text": [
      "Iteration of bagging:31/150"
     ]
    },
    {
     "name": "stdout",
     "output_type": "stream",
     "text": [
      "MSE on test Dataset: 13.395749009 Iteration of Bagging: 30 / 150\n",
      "MSE on train Dataset: 9.88522257262 Iteration of Bagging: 30 / 150\n"
     ]
    },
    {
     "name": "stderr",
     "output_type": "stream",
     "text": [
      "Iteration of bagging:32/150"
     ]
    },
    {
     "name": "stdout",
     "output_type": "stream",
     "text": [
      "MSE on test Dataset: 13.3217723367 Iteration of Bagging: 31 / 150\n",
      "MSE on train Dataset: 9.90517524995 Iteration of Bagging: 31 / 150\n"
     ]
    },
    {
     "name": "stderr",
     "output_type": "stream",
     "text": [
      "Iteration of bagging:33/150"
     ]
    },
    {
     "name": "stdout",
     "output_type": "stream",
     "text": [
      "MSE on test Dataset: 13.3283509909 Iteration of Bagging: 32 / 150\n",
      "MSE on train Dataset: 10.0277608325 Iteration of Bagging: 32 / 150\n"
     ]
    },
    {
     "name": "stderr",
     "output_type": "stream",
     "text": [
      "Iteration of bagging:34/150"
     ]
    },
    {
     "name": "stdout",
     "output_type": "stream",
     "text": [
      "MSE on test Dataset: 13.1531958998 Iteration of Bagging: 33 / 150\n",
      "MSE on train Dataset: 10.1370246068 Iteration of Bagging: 33 / 150\n"
     ]
    },
    {
     "name": "stderr",
     "output_type": "stream",
     "text": [
      "Iteration of bagging:35/150"
     ]
    },
    {
     "name": "stdout",
     "output_type": "stream",
     "text": [
      "MSE on test Dataset: 13.3649349095 Iteration of Bagging: 34 / 150\n",
      "MSE on train Dataset: 10.1755448845 Iteration of Bagging: 34 / 150\n"
     ]
    },
    {
     "name": "stderr",
     "output_type": "stream",
     "text": [
      "Iteration of bagging:36/150"
     ]
    },
    {
     "name": "stdout",
     "output_type": "stream",
     "text": [
      "MSE on test Dataset: 13.2229047798 Iteration of Bagging: 35 / 150\n",
      "MSE on train Dataset: 10.2096499521 Iteration of Bagging: 35 / 150\n"
     ]
    },
    {
     "name": "stderr",
     "output_type": "stream",
     "text": [
      "Iteration of bagging:37/150"
     ]
    },
    {
     "name": "stdout",
     "output_type": "stream",
     "text": [
      "MSE on test Dataset: 13.1775378129 Iteration of Bagging: 36 / 150\n",
      "MSE on train Dataset: 10.0704560758 Iteration of Bagging: 36 / 150\n"
     ]
    },
    {
     "name": "stderr",
     "output_type": "stream",
     "text": [
      "Iteration of bagging:38/150"
     ]
    },
    {
     "name": "stdout",
     "output_type": "stream",
     "text": [
      "MSE on test Dataset: 13.4577390749 Iteration of Bagging: 37 / 150\n",
      "MSE on train Dataset: 9.89058924786 Iteration of Bagging: 37 / 150\n"
     ]
    },
    {
     "name": "stderr",
     "output_type": "stream",
     "text": [
      "Iteration of bagging:39/150"
     ]
    },
    {
     "name": "stdout",
     "output_type": "stream",
     "text": [
      "MSE on test Dataset: 13.5647575715 Iteration of Bagging: 38 / 150\n",
      "MSE on train Dataset: 9.9683475591 Iteration of Bagging: 38 / 150\n"
     ]
    },
    {
     "name": "stderr",
     "output_type": "stream",
     "text": [
      "Iteration of bagging:40/150"
     ]
    },
    {
     "name": "stdout",
     "output_type": "stream",
     "text": [
      "MSE on test Dataset: 13.5024205336 Iteration of Bagging: 39 / 150\n",
      "MSE on train Dataset: 9.92089936211 Iteration of Bagging: 39 / 150\n"
     ]
    },
    {
     "name": "stderr",
     "output_type": "stream",
     "text": [
      "Iteration of bagging:41/150"
     ]
    },
    {
     "name": "stdout",
     "output_type": "stream",
     "text": [
      "MSE on test Dataset: 13.2768750876 Iteration of Bagging: 40 / 150\n",
      "MSE on train Dataset: 9.93772576653 Iteration of Bagging: 40 / 150\n"
     ]
    },
    {
     "name": "stderr",
     "output_type": "stream",
     "text": [
      "Iteration of bagging:42/150"
     ]
    },
    {
     "name": "stdout",
     "output_type": "stream",
     "text": [
      "MSE on test Dataset: 13.1158906966 Iteration of Bagging: 41 / 150\n",
      "MSE on train Dataset: 9.78925272546 Iteration of Bagging: 41 / 150\n"
     ]
    },
    {
     "name": "stderr",
     "output_type": "stream",
     "text": [
      "Iteration of bagging:43/150"
     ]
    },
    {
     "name": "stdout",
     "output_type": "stream",
     "text": [
      "MSE on test Dataset: 13.1587325462 Iteration of Bagging: 42 / 150\n",
      "MSE on train Dataset: 9.87491240001 Iteration of Bagging: 42 / 150\n"
     ]
    },
    {
     "name": "stderr",
     "output_type": "stream",
     "text": [
      "Iteration of bagging:44/150"
     ]
    },
    {
     "name": "stdout",
     "output_type": "stream",
     "text": [
      "MSE on test Dataset: 13.2547717402 Iteration of Bagging: 43 / 150\n",
      "MSE on train Dataset: 10.0103959254 Iteration of Bagging: 43 / 150\n"
     ]
    },
    {
     "name": "stderr",
     "output_type": "stream",
     "text": [
      "Iteration of bagging:45/150"
     ]
    },
    {
     "name": "stdout",
     "output_type": "stream",
     "text": [
      "MSE on test Dataset: 13.1231436249 Iteration of Bagging: 44 / 150\n",
      "MSE on train Dataset: 9.91925800788 Iteration of Bagging: 44 / 150\n"
     ]
    },
    {
     "name": "stderr",
     "output_type": "stream",
     "text": [
      "Iteration of bagging:46/150"
     ]
    },
    {
     "name": "stdout",
     "output_type": "stream",
     "text": [
      "MSE on test Dataset: 13.0605394156 Iteration of Bagging: 45 / 150\n",
      "MSE on train Dataset: 9.86088796729 Iteration of Bagging: 45 / 150\n"
     ]
    },
    {
     "name": "stderr",
     "output_type": "stream",
     "text": [
      "Iteration of bagging:47/150"
     ]
    },
    {
     "name": "stdout",
     "output_type": "stream",
     "text": [
      "MSE on test Dataset: 12.9074021522 Iteration of Bagging: 46 / 150\n",
      "MSE on train Dataset: 9.88127527415 Iteration of Bagging: 46 / 150\n"
     ]
    },
    {
     "name": "stderr",
     "output_type": "stream",
     "text": [
      "Iteration of bagging:48/150"
     ]
    },
    {
     "name": "stdout",
     "output_type": "stream",
     "text": [
      "MSE on test Dataset: 12.8147770476 Iteration of Bagging: 47 / 150\n",
      "MSE on train Dataset: 9.86942119618 Iteration of Bagging: 47 / 150\n"
     ]
    },
    {
     "name": "stderr",
     "output_type": "stream",
     "text": [
      "Iteration of bagging:49/150"
     ]
    },
    {
     "name": "stdout",
     "output_type": "stream",
     "text": [
      "MSE on test Dataset: 12.7787313844 Iteration of Bagging: 48 / 150\n",
      "MSE on train Dataset: 9.78552818794 Iteration of Bagging: 48 / 150\n"
     ]
    },
    {
     "name": "stderr",
     "output_type": "stream",
     "text": [
      "Iteration of bagging:50/150"
     ]
    },
    {
     "name": "stdout",
     "output_type": "stream",
     "text": [
      "MSE on test Dataset: 12.8652378339 Iteration of Bagging: 49 / 150\n",
      "MSE on train Dataset: 9.83533015753 Iteration of Bagging: 49 / 150\n"
     ]
    },
    {
     "name": "stderr",
     "output_type": "stream",
     "text": [
      "Iteration of bagging:51/150"
     ]
    },
    {
     "name": "stdout",
     "output_type": "stream",
     "text": [
      "MSE on test Dataset: 12.8375178534 Iteration of Bagging: 50 / 150\n",
      "MSE on train Dataset: 9.74512031452 Iteration of Bagging: 50 / 150\n"
     ]
    },
    {
     "name": "stderr",
     "output_type": "stream",
     "text": [
      "Iteration of bagging:52/150"
     ]
    },
    {
     "name": "stdout",
     "output_type": "stream",
     "text": [
      "MSE on test Dataset: 12.644540209 Iteration of Bagging: 51 / 150\n",
      "MSE on train Dataset: 9.75281012658 Iteration of Bagging: 51 / 150\n"
     ]
    },
    {
     "name": "stderr",
     "output_type": "stream",
     "text": [
      "Iteration of bagging:53/150"
     ]
    },
    {
     "name": "stdout",
     "output_type": "stream",
     "text": [
      "MSE on test Dataset: 12.8173163073 Iteration of Bagging: 52 / 150\n",
      "MSE on train Dataset: 9.80382060795 Iteration of Bagging: 52 / 150\n"
     ]
    },
    {
     "name": "stderr",
     "output_type": "stream",
     "text": [
      "Iteration of bagging:54/150"
     ]
    },
    {
     "name": "stdout",
     "output_type": "stream",
     "text": [
      "MSE on test Dataset: 12.8185960188 Iteration of Bagging: 53 / 150\n",
      "MSE on train Dataset: 9.72692533202 Iteration of Bagging: 53 / 150\n"
     ]
    },
    {
     "name": "stderr",
     "output_type": "stream",
     "text": [
      "Iteration of bagging:55/150"
     ]
    },
    {
     "name": "stdout",
     "output_type": "stream",
     "text": [
      "MSE on test Dataset: 12.7381026913 Iteration of Bagging: 54 / 150\n",
      "MSE on train Dataset: 9.66454071165 Iteration of Bagging: 54 / 150\n"
     ]
    },
    {
     "name": "stderr",
     "output_type": "stream",
     "text": [
      "Iteration of bagging:56/150"
     ]
    },
    {
     "name": "stdout",
     "output_type": "stream",
     "text": [
      "MSE on test Dataset: 12.7152582306 Iteration of Bagging: 55 / 150\n",
      "MSE on train Dataset: 9.65852379824 Iteration of Bagging: 55 / 150\n"
     ]
    },
    {
     "name": "stderr",
     "output_type": "stream",
     "text": [
      "Iteration of bagging:57/150"
     ]
    },
    {
     "name": "stdout",
     "output_type": "stream",
     "text": [
      "MSE on test Dataset: 12.7446753278 Iteration of Bagging: 56 / 150\n",
      "MSE on train Dataset: 9.69562881071 Iteration of Bagging: 56 / 150\n"
     ]
    },
    {
     "name": "stderr",
     "output_type": "stream",
     "text": [
      "Iteration of bagging:58/150"
     ]
    },
    {
     "name": "stdout",
     "output_type": "stream",
     "text": [
      "MSE on test Dataset: 12.8459541414 Iteration of Bagging: 57 / 150\n",
      "MSE on train Dataset: 9.67287117569 Iteration of Bagging: 57 / 150\n"
     ]
    },
    {
     "name": "stderr",
     "output_type": "stream",
     "text": [
      "Iteration of bagging:59/150"
     ]
    },
    {
     "name": "stdout",
     "output_type": "stream",
     "text": [
      "MSE on test Dataset: 13.0097433184 Iteration of Bagging: 58 / 150\n",
      "MSE on train Dataset: 9.60420421996 Iteration of Bagging: 58 / 150\n"
     ]
    },
    {
     "name": "stderr",
     "output_type": "stream",
     "text": [
      "Iteration of bagging:60/150"
     ]
    },
    {
     "name": "stdout",
     "output_type": "stream",
     "text": [
      "MSE on test Dataset: 13.0636801888 Iteration of Bagging: 59 / 150\n",
      "MSE on train Dataset: 9.60175464173 Iteration of Bagging: 59 / 150\n"
     ]
    },
    {
     "name": "stderr",
     "output_type": "stream",
     "text": [
      "Iteration of bagging:61/150"
     ]
    },
    {
     "name": "stdout",
     "output_type": "stream",
     "text": [
      "MSE on test Dataset: 13.013384935 Iteration of Bagging: 60 / 150\n",
      "MSE on train Dataset: 9.65178172618 Iteration of Bagging: 60 / 150\n"
     ]
    },
    {
     "name": "stderr",
     "output_type": "stream",
     "text": [
      "Iteration of bagging:62/150"
     ]
    },
    {
     "name": "stdout",
     "output_type": "stream",
     "text": [
      "MSE on test Dataset: 13.0650387992 Iteration of Bagging: 61 / 150\n",
      "MSE on train Dataset: 9.68190860855 Iteration of Bagging: 61 / 150\n"
     ]
    },
    {
     "name": "stderr",
     "output_type": "stream",
     "text": [
      "Iteration of bagging:63/150"
     ]
    },
    {
     "name": "stdout",
     "output_type": "stream",
     "text": [
      "MSE on test Dataset: 13.0630738895 Iteration of Bagging: 62 / 150\n",
      "MSE on train Dataset: 9.62673339443 Iteration of Bagging: 62 / 150\n"
     ]
    },
    {
     "name": "stderr",
     "output_type": "stream",
     "text": [
      "Iteration of bagging:64/150"
     ]
    },
    {
     "name": "stdout",
     "output_type": "stream",
     "text": [
      "MSE on test Dataset: 12.9361751055 Iteration of Bagging: 63 / 150\n",
      "MSE on train Dataset: 9.6930071176 Iteration of Bagging: 63 / 150\n"
     ]
    },
    {
     "name": "stderr",
     "output_type": "stream",
     "text": [
      "Iteration of bagging:65/150"
     ]
    },
    {
     "name": "stdout",
     "output_type": "stream",
     "text": [
      "MSE on test Dataset: 12.8803398813 Iteration of Bagging: 64 / 150\n",
      "MSE on train Dataset: 9.71265832112 Iteration of Bagging: 64 / 150\n"
     ]
    },
    {
     "name": "stderr",
     "output_type": "stream",
     "text": [
      "Iteration of bagging:66/150"
     ]
    },
    {
     "name": "stdout",
     "output_type": "stream",
     "text": [
      "MSE on test Dataset: 12.8373236729 Iteration of Bagging: 65 / 150\n",
      "MSE on train Dataset: 9.58870805943 Iteration of Bagging: 65 / 150\n"
     ]
    },
    {
     "name": "stderr",
     "output_type": "stream",
     "text": [
      "Iteration of bagging:67/150"
     ]
    },
    {
     "name": "stdout",
     "output_type": "stream",
     "text": [
      "MSE on test Dataset: 12.7482316166 Iteration of Bagging: 66 / 150\n",
      "MSE on train Dataset: 9.49033884085 Iteration of Bagging: 66 / 150\n"
     ]
    },
    {
     "name": "stderr",
     "output_type": "stream",
     "text": [
      "Iteration of bagging:68/150"
     ]
    },
    {
     "name": "stdout",
     "output_type": "stream",
     "text": [
      "MSE on test Dataset: 12.6639100748 Iteration of Bagging: 67 / 150\n",
      "MSE on train Dataset: 9.42809485063 Iteration of Bagging: 67 / 150\n"
     ]
    },
    {
     "name": "stderr",
     "output_type": "stream",
     "text": [
      "Iteration of bagging:69/150"
     ]
    },
    {
     "name": "stdout",
     "output_type": "stream",
     "text": [
      "MSE on test Dataset: 12.6960184251 Iteration of Bagging: 68 / 150\n",
      "MSE on train Dataset: 9.4525294938 Iteration of Bagging: 68 / 150\n"
     ]
    },
    {
     "name": "stderr",
     "output_type": "stream",
     "text": [
      "Iteration of bagging:70/150"
     ]
    },
    {
     "name": "stdout",
     "output_type": "stream",
     "text": [
      "MSE on test Dataset: 12.8803929728 Iteration of Bagging: 69 / 150\n",
      "MSE on train Dataset: 9.47546493783 Iteration of Bagging: 69 / 150\n"
     ]
    },
    {
     "name": "stderr",
     "output_type": "stream",
     "text": [
      "Iteration of bagging:71/150"
     ]
    },
    {
     "name": "stdout",
     "output_type": "stream",
     "text": [
      "MSE on test Dataset: 12.8195087474 Iteration of Bagging: 70 / 150\n",
      "MSE on train Dataset: 9.50765103194 Iteration of Bagging: 70 / 150\n"
     ]
    },
    {
     "name": "stderr",
     "output_type": "stream",
     "text": [
      "Iteration of bagging:72/150"
     ]
    },
    {
     "name": "stdout",
     "output_type": "stream",
     "text": [
      "MSE on test Dataset: 12.7665366454 Iteration of Bagging: 71 / 150\n",
      "MSE on train Dataset: 9.44284823335 Iteration of Bagging: 71 / 150\n"
     ]
    },
    {
     "name": "stderr",
     "output_type": "stream",
     "text": [
      "Iteration of bagging:73/150"
     ]
    },
    {
     "name": "stdout",
     "output_type": "stream",
     "text": [
      "MSE on test Dataset: 12.63496306 Iteration of Bagging: 72 / 150\n",
      "MSE on train Dataset: 9.40069289937 Iteration of Bagging: 72 / 150\n"
     ]
    },
    {
     "name": "stderr",
     "output_type": "stream",
     "text": [
      "Iteration of bagging:74/150"
     ]
    },
    {
     "name": "stdout",
     "output_type": "stream",
     "text": [
      "MSE on test Dataset: 12.57736752 Iteration of Bagging: 73 / 150\n",
      "MSE on train Dataset: 9.41989496715 Iteration of Bagging: 73 / 150\n"
     ]
    },
    {
     "name": "stderr",
     "output_type": "stream",
     "text": [
      "Iteration of bagging:75/150"
     ]
    },
    {
     "name": "stdout",
     "output_type": "stream",
     "text": [
      "MSE on test Dataset: 12.5283783355 Iteration of Bagging: 74 / 150\n",
      "MSE on train Dataset: 9.36097013041 Iteration of Bagging: 74 / 150\n"
     ]
    },
    {
     "name": "stderr",
     "output_type": "stream",
     "text": [
      "Iteration of bagging:76/150"
     ]
    },
    {
     "name": "stdout",
     "output_type": "stream",
     "text": [
      "MSE on test Dataset: 12.5896657063 Iteration of Bagging: 75 / 150\n",
      "MSE on train Dataset: 9.29162853487 Iteration of Bagging: 75 / 150\n"
     ]
    },
    {
     "name": "stderr",
     "output_type": "stream",
     "text": [
      "Iteration of bagging:77/150"
     ]
    },
    {
     "name": "stdout",
     "output_type": "stream",
     "text": [
      "MSE on test Dataset: 12.6008495112 Iteration of Bagging: 76 / 150\n",
      "MSE on train Dataset: 9.28542392232 Iteration of Bagging: 76 / 150\n"
     ]
    },
    {
     "name": "stderr",
     "output_type": "stream",
     "text": [
      "Iteration of bagging:78/150"
     ]
    },
    {
     "name": "stdout",
     "output_type": "stream",
     "text": [
      "MSE on test Dataset: 12.5706844094 Iteration of Bagging: 77 / 150\n",
      "MSE on train Dataset: 9.29396783523 Iteration of Bagging: 77 / 150\n"
     ]
    },
    {
     "name": "stderr",
     "output_type": "stream",
     "text": [
      "Iteration of bagging:79/150"
     ]
    },
    {
     "name": "stdout",
     "output_type": "stream",
     "text": [
      "MSE on test Dataset: 12.6045054327 Iteration of Bagging: 78 / 150\n",
      "MSE on train Dataset: 9.2255247429 Iteration of Bagging: 78 / 150\n"
     ]
    },
    {
     "name": "stderr",
     "output_type": "stream",
     "text": [
      "Iteration of bagging:80/150"
     ]
    },
    {
     "name": "stdout",
     "output_type": "stream",
     "text": [
      "MSE on test Dataset: 12.6478839309 Iteration of Bagging: 79 / 150\n",
      "MSE on train Dataset: 9.14094944582 Iteration of Bagging: 79 / 150\n"
     ]
    },
    {
     "name": "stderr",
     "output_type": "stream",
     "text": [
      "Iteration of bagging:81/150"
     ]
    },
    {
     "name": "stdout",
     "output_type": "stream",
     "text": [
      "MSE on test Dataset: 12.6412073141 Iteration of Bagging: 80 / 150\n",
      "MSE on train Dataset: 9.16107528827 Iteration of Bagging: 80 / 150\n"
     ]
    },
    {
     "name": "stderr",
     "output_type": "stream",
     "text": [
      "Iteration of bagging:82/150"
     ]
    },
    {
     "name": "stdout",
     "output_type": "stream",
     "text": [
      "MSE on test Dataset: 12.6099086642 Iteration of Bagging: 81 / 150\n",
      "MSE on train Dataset: 9.13631761677 Iteration of Bagging: 81 / 150\n"
     ]
    },
    {
     "name": "stderr",
     "output_type": "stream",
     "text": [
      "Iteration of bagging:83/150"
     ]
    },
    {
     "name": "stdout",
     "output_type": "stream",
     "text": [
      "MSE on test Dataset: 12.5841072175 Iteration of Bagging: 82 / 150\n",
      "MSE on train Dataset: 9.13690724311 Iteration of Bagging: 82 / 150\n"
     ]
    },
    {
     "name": "stderr",
     "output_type": "stream",
     "text": [
      "Iteration of bagging:84/150"
     ]
    },
    {
     "name": "stdout",
     "output_type": "stream",
     "text": [
      "MSE on test Dataset: 12.570530617 Iteration of Bagging: 83 / 150\n",
      "MSE on train Dataset: 9.21712820094 Iteration of Bagging: 83 / 150\n"
     ]
    },
    {
     "name": "stderr",
     "output_type": "stream",
     "text": [
      "Iteration of bagging:85/150"
     ]
    },
    {
     "name": "stdout",
     "output_type": "stream",
     "text": [
      "MSE on test Dataset: 12.5508141598 Iteration of Bagging: 84 / 150\n",
      "MSE on train Dataset: 9.25916135133 Iteration of Bagging: 84 / 150\n"
     ]
    },
    {
     "name": "stderr",
     "output_type": "stream",
     "text": [
      "Iteration of bagging:86/150"
     ]
    },
    {
     "name": "stdout",
     "output_type": "stream",
     "text": [
      "MSE on test Dataset: 12.5870852662 Iteration of Bagging: 85 / 150\n",
      "MSE on train Dataset: 9.22563154333 Iteration of Bagging: 85 / 150\n"
     ]
    },
    {
     "name": "stderr",
     "output_type": "stream",
     "text": [
      "Iteration of bagging:87/150"
     ]
    },
    {
     "name": "stdout",
     "output_type": "stream",
     "text": [
      "MSE on test Dataset: 12.4937614516 Iteration of Bagging: 86 / 150\n",
      "MSE on train Dataset: 9.24074176365 Iteration of Bagging: 86 / 150\n"
     ]
    },
    {
     "name": "stderr",
     "output_type": "stream",
     "text": [
      "Iteration of bagging:88/150"
     ]
    },
    {
     "name": "stdout",
     "output_type": "stream",
     "text": [
      "MSE on test Dataset: 12.5337621894 Iteration of Bagging: 87 / 150\n",
      "MSE on train Dataset: 9.20259262211 Iteration of Bagging: 87 / 150\n"
     ]
    },
    {
     "name": "stderr",
     "output_type": "stream",
     "text": [
      "Iteration of bagging:89/150"
     ]
    },
    {
     "name": "stdout",
     "output_type": "stream",
     "text": [
      "MSE on test Dataset: 12.5251254439 Iteration of Bagging: 88 / 150\n",
      "MSE on train Dataset: 9.22595888038 Iteration of Bagging: 88 / 150\n"
     ]
    },
    {
     "name": "stderr",
     "output_type": "stream",
     "text": [
      "Iteration of bagging:90/150"
     ]
    },
    {
     "name": "stdout",
     "output_type": "stream",
     "text": [
      "MSE on test Dataset: 12.5068026177 Iteration of Bagging: 89 / 150\n",
      "MSE on train Dataset: 9.19627950165 Iteration of Bagging: 89 / 150\n"
     ]
    },
    {
     "name": "stderr",
     "output_type": "stream",
     "text": [
      "Iteration of bagging:91/150"
     ]
    },
    {
     "name": "stdout",
     "output_type": "stream",
     "text": [
      "MSE on test Dataset: 12.4666709525 Iteration of Bagging: 90 / 150\n",
      "MSE on train Dataset: 9.22991081895 Iteration of Bagging: 90 / 150\n"
     ]
    },
    {
     "name": "stderr",
     "output_type": "stream",
     "text": [
      "Iteration of bagging:92/150"
     ]
    },
    {
     "name": "stdout",
     "output_type": "stream",
     "text": [
      "MSE on test Dataset: 12.47571226 Iteration of Bagging: 91 / 150\n",
      "MSE on train Dataset: 9.23862051386 Iteration of Bagging: 91 / 150\n"
     ]
    },
    {
     "name": "stderr",
     "output_type": "stream",
     "text": [
      "Iteration of bagging:93/150"
     ]
    },
    {
     "name": "stdout",
     "output_type": "stream",
     "text": [
      "MSE on test Dataset: 12.5401643703 Iteration of Bagging: 92 / 150\n",
      "MSE on train Dataset: 9.26913515591 Iteration of Bagging: 92 / 150\n"
     ]
    },
    {
     "name": "stderr",
     "output_type": "stream",
     "text": [
      "Iteration of bagging:94/150"
     ]
    },
    {
     "name": "stdout",
     "output_type": "stream",
     "text": [
      "MSE on test Dataset: 12.453978188 Iteration of Bagging: 93 / 150\n",
      "MSE on train Dataset: 9.23392906557 Iteration of Bagging: 93 / 150\n"
     ]
    },
    {
     "name": "stderr",
     "output_type": "stream",
     "text": [
      "Iteration of bagging:95/150"
     ]
    },
    {
     "name": "stdout",
     "output_type": "stream",
     "text": [
      "MSE on test Dataset: 12.5205895456 Iteration of Bagging: 94 / 150\n",
      "MSE on train Dataset: 9.26307131777 Iteration of Bagging: 94 / 150\n"
     ]
    },
    {
     "name": "stderr",
     "output_type": "stream",
     "text": [
      "Iteration of bagging:96/150"
     ]
    },
    {
     "name": "stdout",
     "output_type": "stream",
     "text": [
      "MSE on test Dataset: 12.4670166338 Iteration of Bagging: 95 / 150\n",
      "MSE on train Dataset: 9.23686447743 Iteration of Bagging: 95 / 150\n"
     ]
    },
    {
     "name": "stderr",
     "output_type": "stream",
     "text": [
      "Iteration of bagging:97/150"
     ]
    },
    {
     "name": "stdout",
     "output_type": "stream",
     "text": [
      "MSE on test Dataset: 12.4574243397 Iteration of Bagging: 96 / 150\n",
      "MSE on train Dataset: 9.25486452436 Iteration of Bagging: 96 / 150\n"
     ]
    },
    {
     "name": "stderr",
     "output_type": "stream",
     "text": [
      "Iteration of bagging:98/150"
     ]
    },
    {
     "name": "stdout",
     "output_type": "stream",
     "text": [
      "MSE on test Dataset: 12.5455457983 Iteration of Bagging: 97 / 150\n",
      "MSE on train Dataset: 9.24862489059 Iteration of Bagging: 97 / 150\n"
     ]
    },
    {
     "name": "stderr",
     "output_type": "stream",
     "text": [
      "Iteration of bagging:99/150"
     ]
    },
    {
     "name": "stdout",
     "output_type": "stream",
     "text": [
      "MSE on test Dataset: 12.5555284285 Iteration of Bagging: 98 / 150\n",
      "MSE on train Dataset: 9.25362349099 Iteration of Bagging: 98 / 150\n"
     ]
    },
    {
     "name": "stderr",
     "output_type": "stream",
     "text": [
      "Iteration of bagging:100/150"
     ]
    },
    {
     "name": "stdout",
     "output_type": "stream",
     "text": [
      "MSE on test Dataset: 12.5860704426 Iteration of Bagging: 99 / 150\n",
      "MSE on train Dataset: 9.26770589841 Iteration of Bagging: 99 / 150\n"
     ]
    },
    {
     "name": "stderr",
     "output_type": "stream",
     "text": [
      "Iteration of bagging:101/150"
     ]
    },
    {
     "name": "stdout",
     "output_type": "stream",
     "text": [
      "MSE on test Dataset: 12.6536855781 Iteration of Bagging: 100 / 150\n",
      "MSE on train Dataset: 9.29613566721 Iteration of Bagging: 100 / 150\n"
     ]
    },
    {
     "name": "stderr",
     "output_type": "stream",
     "text": [
      "Iteration of bagging:102/150"
     ]
    },
    {
     "name": "stdout",
     "output_type": "stream",
     "text": [
      "MSE on test Dataset: 12.6192739064 Iteration of Bagging: 101 / 150\n",
      "MSE on train Dataset: 9.25576364369 Iteration of Bagging: 101 / 150\n"
     ]
    },
    {
     "name": "stderr",
     "output_type": "stream",
     "text": [
      "Iteration of bagging:103/150"
     ]
    },
    {
     "name": "stdout",
     "output_type": "stream",
     "text": [
      "MSE on test Dataset: 12.5938916049 Iteration of Bagging: 102 / 150\n",
      "MSE on train Dataset: 9.21400911724 Iteration of Bagging: 102 / 150\n"
     ]
    },
    {
     "name": "stderr",
     "output_type": "stream",
     "text": [
      "Iteration of bagging:104/150"
     ]
    },
    {
     "name": "stdout",
     "output_type": "stream",
     "text": [
      "MSE on test Dataset: 12.6240799229 Iteration of Bagging: 103 / 150\n",
      "MSE on train Dataset: 9.2361105782 Iteration of Bagging: 103 / 150\n"
     ]
    },
    {
     "name": "stderr",
     "output_type": "stream",
     "text": [
      "Iteration of bagging:105/150"
     ]
    },
    {
     "name": "stdout",
     "output_type": "stream",
     "text": [
      "MSE on test Dataset: 12.671207201 Iteration of Bagging: 104 / 150\n",
      "MSE on train Dataset: 9.25075625368 Iteration of Bagging: 104 / 150\n"
     ]
    },
    {
     "name": "stderr",
     "output_type": "stream",
     "text": [
      "Iteration of bagging:106/150"
     ]
    },
    {
     "name": "stdout",
     "output_type": "stream",
     "text": [
      "MSE on test Dataset: 12.6023887774 Iteration of Bagging: 105 / 150\n",
      "MSE on train Dataset: 9.26950453546 Iteration of Bagging: 105 / 150\n"
     ]
    },
    {
     "name": "stderr",
     "output_type": "stream",
     "text": [
      "Iteration of bagging:107/150"
     ]
    },
    {
     "name": "stdout",
     "output_type": "stream",
     "text": [
      "MSE on test Dataset: 12.5999999942 Iteration of Bagging: 106 / 150\n",
      "MSE on train Dataset: 9.30854152493 Iteration of Bagging: 106 / 150\n"
     ]
    },
    {
     "name": "stderr",
     "output_type": "stream",
     "text": [
      "Iteration of bagging:108/150"
     ]
    },
    {
     "name": "stdout",
     "output_type": "stream",
     "text": [
      "MSE on test Dataset: 12.576885456 Iteration of Bagging: 107 / 150\n",
      "MSE on train Dataset: 9.33425206172 Iteration of Bagging: 107 / 150\n"
     ]
    },
    {
     "name": "stderr",
     "output_type": "stream",
     "text": [
      "Iteration of bagging:109/150"
     ]
    },
    {
     "name": "stdout",
     "output_type": "stream",
     "text": [
      "MSE on test Dataset: 12.5764577855 Iteration of Bagging: 108 / 150\n",
      "MSE on train Dataset: 9.31221380186 Iteration of Bagging: 108 / 150\n"
     ]
    },
    {
     "name": "stderr",
     "output_type": "stream",
     "text": [
      "Iteration of bagging:110/150"
     ]
    },
    {
     "name": "stdout",
     "output_type": "stream",
     "text": [
      "MSE on test Dataset: 12.5434559755 Iteration of Bagging: 109 / 150\n",
      "MSE on train Dataset: 9.3652492741 Iteration of Bagging: 109 / 150\n"
     ]
    },
    {
     "name": "stderr",
     "output_type": "stream",
     "text": [
      "Iteration of bagging:111/150"
     ]
    },
    {
     "name": "stdout",
     "output_type": "stream",
     "text": [
      "MSE on test Dataset: 12.5271103612 Iteration of Bagging: 110 / 150\n",
      "MSE on train Dataset: 9.38416823617 Iteration of Bagging: 110 / 150\n"
     ]
    },
    {
     "name": "stderr",
     "output_type": "stream",
     "text": [
      "Iteration of bagging:112/150"
     ]
    },
    {
     "name": "stdout",
     "output_type": "stream",
     "text": [
      "MSE on test Dataset: 12.4399417941 Iteration of Bagging: 111 / 150\n",
      "MSE on train Dataset: 9.38321744995 Iteration of Bagging: 111 / 150\n"
     ]
    },
    {
     "name": "stderr",
     "output_type": "stream",
     "text": [
      "Iteration of bagging:113/150"
     ]
    },
    {
     "name": "stdout",
     "output_type": "stream",
     "text": [
      "MSE on test Dataset: 12.5022013221 Iteration of Bagging: 112 / 150\n",
      "MSE on train Dataset: 9.4362357401 Iteration of Bagging: 112 / 150\n"
     ]
    },
    {
     "name": "stderr",
     "output_type": "stream",
     "text": [
      "Iteration of bagging:114/150"
     ]
    },
    {
     "name": "stdout",
     "output_type": "stream",
     "text": [
      "MSE on test Dataset: 12.5202521862 Iteration of Bagging: 113 / 150\n",
      "MSE on train Dataset: 9.41028559087 Iteration of Bagging: 113 / 150\n"
     ]
    },
    {
     "name": "stderr",
     "output_type": "stream",
     "text": [
      "Iteration of bagging:115/150"
     ]
    },
    {
     "name": "stdout",
     "output_type": "stream",
     "text": [
      "MSE on test Dataset: 12.5718624309 Iteration of Bagging: 114 / 150\n",
      "MSE on train Dataset: 9.35174753891 Iteration of Bagging: 114 / 150\n"
     ]
    },
    {
     "name": "stderr",
     "output_type": "stream",
     "text": [
      "Iteration of bagging:116/150"
     ]
    },
    {
     "name": "stdout",
     "output_type": "stream",
     "text": [
      "MSE on test Dataset: 12.6408764237 Iteration of Bagging: 115 / 150\n",
      "MSE on train Dataset: 9.34728994976 Iteration of Bagging: 115 / 150\n"
     ]
    },
    {
     "name": "stderr",
     "output_type": "stream",
     "text": [
      "Iteration of bagging:117/150"
     ]
    },
    {
     "name": "stdout",
     "output_type": "stream",
     "text": [
      "MSE on test Dataset: 12.6411211625 Iteration of Bagging: 116 / 150\n",
      "MSE on train Dataset: 9.37362541849 Iteration of Bagging: 116 / 150\n"
     ]
    },
    {
     "name": "stderr",
     "output_type": "stream",
     "text": [
      "Iteration of bagging:118/150"
     ]
    },
    {
     "name": "stdout",
     "output_type": "stream",
     "text": [
      "MSE on test Dataset: 12.6182099401 Iteration of Bagging: 117 / 150\n",
      "MSE on train Dataset: 9.38230316153 Iteration of Bagging: 117 / 150\n"
     ]
    },
    {
     "name": "stderr",
     "output_type": "stream",
     "text": [
      "Iteration of bagging:119/150"
     ]
    },
    {
     "name": "stdout",
     "output_type": "stream",
     "text": [
      "MSE on test Dataset: 12.5013636738 Iteration of Bagging: 118 / 150\n",
      "MSE on train Dataset: 9.3791368261 Iteration of Bagging: 118 / 150\n"
     ]
    },
    {
     "name": "stderr",
     "output_type": "stream",
     "text": [
      "Iteration of bagging:120/150"
     ]
    },
    {
     "name": "stdout",
     "output_type": "stream",
     "text": [
      "MSE on test Dataset: 12.4898397479 Iteration of Bagging: 119 / 150\n",
      "MSE on train Dataset: 9.33178197904 Iteration of Bagging: 119 / 150\n"
     ]
    },
    {
     "name": "stderr",
     "output_type": "stream",
     "text": [
      "Iteration of bagging:121/150"
     ]
    },
    {
     "name": "stdout",
     "output_type": "stream",
     "text": [
      "MSE on test Dataset: 12.4834767488 Iteration of Bagging: 120 / 150\n",
      "MSE on train Dataset: 9.33759065093 Iteration of Bagging: 120 / 150\n"
     ]
    },
    {
     "name": "stderr",
     "output_type": "stream",
     "text": [
      "Iteration of bagging:122/150"
     ]
    },
    {
     "name": "stdout",
     "output_type": "stream",
     "text": [
      "MSE on test Dataset: 12.5350335282 Iteration of Bagging: 121 / 150\n",
      "MSE on train Dataset: 9.31647338824 Iteration of Bagging: 121 / 150\n"
     ]
    },
    {
     "name": "stderr",
     "output_type": "stream",
     "text": [
      "Iteration of bagging:123/150"
     ]
    },
    {
     "name": "stdout",
     "output_type": "stream",
     "text": [
      "MSE on test Dataset: 12.4869116761 Iteration of Bagging: 122 / 150\n",
      "MSE on train Dataset: 9.29991471008 Iteration of Bagging: 122 / 150\n"
     ]
    },
    {
     "name": "stderr",
     "output_type": "stream",
     "text": [
      "Iteration of bagging:124/150"
     ]
    },
    {
     "name": "stdout",
     "output_type": "stream",
     "text": [
      "MSE on test Dataset: 12.4985117109 Iteration of Bagging: 123 / 150\n",
      "MSE on train Dataset: 9.25744116366 Iteration of Bagging: 123 / 150\n"
     ]
    },
    {
     "name": "stderr",
     "output_type": "stream",
     "text": [
      "Iteration of bagging:125/150"
     ]
    },
    {
     "name": "stdout",
     "output_type": "stream",
     "text": [
      "MSE on test Dataset: 12.5218743244 Iteration of Bagging: 124 / 150\n",
      "MSE on train Dataset: 9.27901994024 Iteration of Bagging: 124 / 150\n"
     ]
    },
    {
     "name": "stderr",
     "output_type": "stream",
     "text": [
      "Iteration of bagging:126/150"
     ]
    },
    {
     "name": "stdout",
     "output_type": "stream",
     "text": [
      "MSE on test Dataset: 12.5135732326 Iteration of Bagging: 125 / 150\n",
      "MSE on train Dataset: 9.26760361914 Iteration of Bagging: 125 / 150\n"
     ]
    },
    {
     "name": "stderr",
     "output_type": "stream",
     "text": [
      "Iteration of bagging:127/150"
     ]
    },
    {
     "name": "stdout",
     "output_type": "stream",
     "text": [
      "MSE on test Dataset: 12.5170639891 Iteration of Bagging: 126 / 150\n",
      "MSE on train Dataset: 9.26168268602 Iteration of Bagging: 126 / 150\n"
     ]
    },
    {
     "name": "stderr",
     "output_type": "stream",
     "text": [
      "Iteration of bagging:128/150"
     ]
    },
    {
     "name": "stdout",
     "output_type": "stream",
     "text": [
      "MSE on test Dataset: 12.5088935562 Iteration of Bagging: 127 / 150\n",
      "MSE on train Dataset: 9.22070480576 Iteration of Bagging: 127 / 150\n"
     ]
    },
    {
     "name": "stderr",
     "output_type": "stream",
     "text": [
      "Iteration of bagging:129/150"
     ]
    },
    {
     "name": "stdout",
     "output_type": "stream",
     "text": [
      "MSE on test Dataset: 12.4658351609 Iteration of Bagging: 128 / 150\n",
      "MSE on train Dataset: 9.2481875881 Iteration of Bagging: 128 / 150\n"
     ]
    },
    {
     "name": "stderr",
     "output_type": "stream",
     "text": [
      "Iteration of bagging:130/150"
     ]
    },
    {
     "name": "stdout",
     "output_type": "stream",
     "text": [
      "MSE on test Dataset: 12.3855991423 Iteration of Bagging: 129 / 150\n",
      "MSE on train Dataset: 9.25582460325 Iteration of Bagging: 129 / 150\n"
     ]
    },
    {
     "name": "stderr",
     "output_type": "stream",
     "text": [
      "Iteration of bagging:131/150"
     ]
    },
    {
     "name": "stdout",
     "output_type": "stream",
     "text": [
      "MSE on test Dataset: 12.4008775211 Iteration of Bagging: 130 / 150\n",
      "MSE on train Dataset: 9.23759435678 Iteration of Bagging: 130 / 150\n"
     ]
    },
    {
     "name": "stderr",
     "output_type": "stream",
     "text": [
      "Iteration of bagging:132/150"
     ]
    },
    {
     "name": "stdout",
     "output_type": "stream",
     "text": [
      "MSE on test Dataset: 12.3788670205 Iteration of Bagging: 131 / 150\n",
      "MSE on train Dataset: 9.22859098607 Iteration of Bagging: 131 / 150\n"
     ]
    },
    {
     "name": "stderr",
     "output_type": "stream",
     "text": [
      "Iteration of bagging:133/150"
     ]
    },
    {
     "name": "stdout",
     "output_type": "stream",
     "text": [
      "MSE on test Dataset: 12.3136256673 Iteration of Bagging: 132 / 150\n",
      "MSE on train Dataset: 9.24585883214 Iteration of Bagging: 132 / 150\n"
     ]
    },
    {
     "name": "stderr",
     "output_type": "stream",
     "text": [
      "Iteration of bagging:134/150"
     ]
    },
    {
     "name": "stdout",
     "output_type": "stream",
     "text": [
      "MSE on test Dataset: 12.3066506938 Iteration of Bagging: 133 / 150\n",
      "MSE on train Dataset: 9.25120314803 Iteration of Bagging: 133 / 150\n"
     ]
    },
    {
     "name": "stderr",
     "output_type": "stream",
     "text": [
      "Iteration of bagging:135/150"
     ]
    },
    {
     "name": "stdout",
     "output_type": "stream",
     "text": [
      "MSE on test Dataset: 12.2616241708 Iteration of Bagging: 134 / 150\n",
      "MSE on train Dataset: 9.23499573932 Iteration of Bagging: 134 / 150\n"
     ]
    },
    {
     "name": "stderr",
     "output_type": "stream",
     "text": [
      "Iteration of bagging:136/150"
     ]
    },
    {
     "name": "stdout",
     "output_type": "stream",
     "text": [
      "MSE on test Dataset: 12.2204904778 Iteration of Bagging: 135 / 150\n",
      "MSE on train Dataset: 9.218792123 Iteration of Bagging: 135 / 150\n"
     ]
    },
    {
     "name": "stderr",
     "output_type": "stream",
     "text": [
      "Iteration of bagging:137/150"
     ]
    },
    {
     "name": "stdout",
     "output_type": "stream",
     "text": [
      "MSE on test Dataset: 12.1650761862 Iteration of Bagging: 136 / 150\n",
      "MSE on train Dataset: 9.16093783868 Iteration of Bagging: 136 / 150\n"
     ]
    },
    {
     "name": "stderr",
     "output_type": "stream",
     "text": [
      "Iteration of bagging:138/150"
     ]
    },
    {
     "name": "stdout",
     "output_type": "stream",
     "text": [
      "MSE on test Dataset: 12.1183862348 Iteration of Bagging: 137 / 150\n",
      "MSE on train Dataset: 9.10466899114 Iteration of Bagging: 137 / 150\n"
     ]
    },
    {
     "name": "stderr",
     "output_type": "stream",
     "text": [
      "Iteration of bagging:139/150"
     ]
    },
    {
     "name": "stdout",
     "output_type": "stream",
     "text": [
      "MSE on test Dataset: 12.1384838116 Iteration of Bagging: 138 / 150\n",
      "MSE on train Dataset: 9.10929060831 Iteration of Bagging: 138 / 150\n"
     ]
    },
    {
     "name": "stderr",
     "output_type": "stream",
     "text": [
      "Iteration of bagging:140/150"
     ]
    },
    {
     "name": "stdout",
     "output_type": "stream",
     "text": [
      "MSE on test Dataset: 12.2023891345 Iteration of Bagging: 139 / 150\n",
      "MSE on train Dataset: 9.12369025881 Iteration of Bagging: 139 / 150\n"
     ]
    },
    {
     "name": "stderr",
     "output_type": "stream",
     "text": [
      "Iteration of bagging:141/150"
     ]
    },
    {
     "name": "stdout",
     "output_type": "stream",
     "text": [
      "MSE on test Dataset: 12.2469122085 Iteration of Bagging: 140 / 150\n",
      "MSE on train Dataset: 9.15929715316 Iteration of Bagging: 140 / 150\n"
     ]
    },
    {
     "name": "stderr",
     "output_type": "stream",
     "text": [
      "Iteration of bagging:142/150"
     ]
    },
    {
     "name": "stdout",
     "output_type": "stream",
     "text": [
      "MSE on test Dataset: 12.2490870347 Iteration of Bagging: 141 / 150\n",
      "MSE on train Dataset: 9.18733394489 Iteration of Bagging: 141 / 150\n"
     ]
    },
    {
     "name": "stderr",
     "output_type": "stream",
     "text": [
      "Iteration of bagging:143/150"
     ]
    },
    {
     "name": "stdout",
     "output_type": "stream",
     "text": [
      "MSE on test Dataset: 12.2191510494 Iteration of Bagging: 142 / 150\n",
      "MSE on train Dataset: 9.18990338966 Iteration of Bagging: 142 / 150\n"
     ]
    },
    {
     "name": "stderr",
     "output_type": "stream",
     "text": [
      "Iteration of bagging:144/150"
     ]
    },
    {
     "name": "stdout",
     "output_type": "stream",
     "text": [
      "MSE on test Dataset: 12.2166398911 Iteration of Bagging: 143 / 150\n",
      "MSE on train Dataset: 9.16578912165 Iteration of Bagging: 143 / 150\n"
     ]
    },
    {
     "name": "stderr",
     "output_type": "stream",
     "text": [
      "Iteration of bagging:145/150"
     ]
    },
    {
     "name": "stdout",
     "output_type": "stream",
     "text": [
      "MSE on test Dataset: 12.2542184312 Iteration of Bagging: 144 / 150\n",
      "MSE on train Dataset: 9.15151794581 Iteration of Bagging: 144 / 150\n"
     ]
    },
    {
     "name": "stderr",
     "output_type": "stream",
     "text": [
      "Iteration of bagging:146/150"
     ]
    },
    {
     "name": "stdout",
     "output_type": "stream",
     "text": [
      "MSE on test Dataset: 12.2432182817 Iteration of Bagging: 145 / 150\n",
      "MSE on train Dataset: 9.1742684858 Iteration of Bagging: 145 / 150\n"
     ]
    },
    {
     "name": "stderr",
     "output_type": "stream",
     "text": [
      "Iteration of bagging:147/150"
     ]
    },
    {
     "name": "stdout",
     "output_type": "stream",
     "text": [
      "MSE on test Dataset: 12.2639107671 Iteration of Bagging: 146 / 150\n",
      "MSE on train Dataset: 9.19631441384 Iteration of Bagging: 146 / 150\n"
     ]
    },
    {
     "name": "stderr",
     "output_type": "stream",
     "text": [
      "Iteration of bagging:148/150"
     ]
    },
    {
     "name": "stdout",
     "output_type": "stream",
     "text": [
      "MSE on test Dataset: 12.2552443139 Iteration of Bagging: 147 / 150\n",
      "MSE on train Dataset: 9.18165954576 Iteration of Bagging: 147 / 150\n"
     ]
    },
    {
     "name": "stderr",
     "output_type": "stream",
     "text": [
      "Iteration of bagging:149/150"
     ]
    },
    {
     "name": "stdout",
     "output_type": "stream",
     "text": [
      "MSE on test Dataset: 12.241265012 Iteration of Bagging: 148 / 150\n",
      "MSE on train Dataset: 9.16289947149 Iteration of Bagging: 148 / 150\n"
     ]
    },
    {
     "name": "stderr",
     "output_type": "stream",
     "text": [
      "Learning estimator number: 33/35; MSE error on train dataset: 1.77348407191"
     ]
    },
    {
     "name": "stdout",
     "output_type": "stream",
     "text": [
      "MSE on test Dataset: 12.2467382291 Iteration of Bagging: 149 / 150\n",
      "MSE on train Dataset: 9.14590341937 Iteration of Bagging: 149 / 150\n"
     ]
    },
    {
     "name": "stderr",
     "output_type": "stream",
     "text": [
      "\r",
      "Learning estimator number: 34/35; MSE error on train dataset: 1.69935324716"
     ]
    }
   ],
   "source": [
    "error_stat[15] = BagBoo(n_boo= 15, n_bag= 150, max_depth=3, bagging_ratio=0.2).fit(house_train_data,\\\n",
    "                                                                                   house_train_target, \\\n",
    "                                                                                  verbose = 1, \\\n",
    "                                                                                    X_test = house_test_data, \\\n",
    "                                                                                  Y_test= house_test_target)\n",
    "\n",
    "error_stat[25] = BagBoo(n_boo= 25, n_bag= 150, max_depth=3, bagging_ratio=0.2).fit(house_train_data,\\\n",
    "                                                                                   house_train_target, \\\n",
    "                                                                                  verbose = 1, \\\n",
    "                                                                                    X_test = house_test_data, \\\n",
    "                                                                                  Y_test= house_test_target)\n",
    "\n",
    "error_stat[35] = BagBoo(n_boo= 35, n_bag= 150, max_depth=3, bagging_ratio=0.2).fit(house_train_data,\\\n",
    "                                                                                   house_train_target, \\\n",
    "                                                                                  verbose = 1, \\\n",
    "                                                                                    X_test = house_test_data, \\\n",
    "                                                                                  Y_test= house_test_target)"
   ]
  },
  {
   "cell_type": "code",
   "execution_count": 7,
   "metadata": {
    "collapsed": false
   },
   "outputs": [],
   "source": [
    "boo_list = range(1, 150, 2)\n",
    "skl_error= [MSE(GradientBoostingRegressor(criterion='mse', min_impurity_split=0,\\\n",
    "                                        learning_rate=0.1, max_depth=3, n_estimators=boo).fit(house_train_data, house_train_target).predict(house_test_data), house_test_target) \\\n",
    "            for boo in boo_list]"
   ]
  },
  {
   "cell_type": "code",
   "execution_count": 9,
   "metadata": {
    "collapsed": false
   },
   "outputs": [
    {
     "data": {
      "text/plain": [
       "<matplotlib.text.Text at 0x7fa0ccaa7590>"
      ]
     },
     "execution_count": 9,
     "metadata": {},
     "output_type": "execute_result"
    },
    {
     "data": {
      "image/png": "[encoded data removed]",
      "text/plain": [
       "<matplotlib.figure.Figure at 0x7fa0ccd88810>"
      ]
     },
     "metadata": {},
     "output_type": "display_data"
    }
   ],
   "source": [
    "fig, ax = plt.subplots(figsize = (15, 15))\n",
    "for k in error_stat.keys():\n",
    "    \n",
    "    plt.plot(range(0, 150), error_stat[k], label='BagBoo, N_Boo = ' + str(k) + \\\n",
    "                                                 ', max_depth = 3, bagging_ratio=0.2')\n",
    "    \n",
    "plt.plot(boo_list, skl_error, label='Sklearn DB, max_depth = 3, subsample = 1')\n",
    "ax.legend(loc='right')\n",
    "ax.set_title('Dependence of Bagging iterations count')\n",
    "ax.set_xlabel('Bagging iterations count')\n",
    "ax.set_ylabel('MSE')"
   ]
  },
  {
   "cell_type": "code",
   "execution_count": null,
   "metadata": {
    "collapsed": true
   },
   "outputs": [],
   "source": []
  }
 ],
 "metadata": {
  "anaconda-cloud": {},
  "kernelspec": {
   "display_name": "Python [conda root]",
   "language": "python",
   "name": "conda-root-py"
  },
  "language_info": {
   "codemirror_mode": {
    "name": "ipython",
    "version": 2
   },
   "file_extension": ".py",
   "mimetype": "text/x-python",
   "name": "python",
   "nbconvert_exporter": "python",
   "pygments_lexer": "ipython2",
   "version": "2.7.12"
  }
 },
 "nbformat": 4,
 "nbformat_minor": 1
}
