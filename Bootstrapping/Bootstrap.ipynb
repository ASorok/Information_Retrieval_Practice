{
 "cells": [
  {
   "cell_type": "markdown",
   "metadata": {},
   "source": [
    "# Bootstrap: оценка метрик для 2х сплитов"
   ]
  },
  {
   "cell_type": "code",
   "execution_count": 176,
   "metadata": {
    "collapsed": false
   },
   "outputs": [
    {
     "name": "stdout",
     "output_type": "stream",
     "text": [
      "\n"
     ]
    }
   ],
   "source": [
    "import numpy as np\n",
    "from random import randrange, shuffle\n",
    "import random\n",
    "import sys"
   ]
  },
  {
   "cell_type": "code",
   "execution_count": 132,
   "metadata": {
    "collapsed": false
   },
   "outputs": [
    {
     "name": "stdout",
     "output_type": "stream",
     "text": [
      "The number of observations(split 1):  1000000\n",
      "The number of observations(split 2):  1000000\n"
     ]
    }
   ],
   "source": [
    "data_1 = open(\"c1.txt\", \"r\")\n",
    "data_2 = open(\"c2.txt\", \"r\")\n",
    "\n",
    "observ_1 = []\n",
    "observ_2 = []\n",
    "for i, line in enumerate(data_1):\n",
    "    l = [int(x) for x in line.strip().split()]\n",
    "    observ_1.append(np.asarray(l))\n",
    "    pass\n",
    "\n",
    "print \"The number of observations(split 1): \", len(observ_1)\n",
    "for i, line in enumerate(data_2):\n",
    "    l = [int(x) for x in line.strip().split()]\n",
    "    observ_2.append(np.asarray(l))\n",
    "    \n",
    "print \"The number of observations(split 2): \", len(observ_2)"
   ]
  },
  {
   "cell_type": "code",
   "execution_count": 133,
   "metadata": {
    "collapsed": false
   },
   "outputs": [],
   "source": [
    "#Формируем выборки значений CTR, для подсчета одного значения метрики беру 1000 наблюдений(сессий).\n",
    "#В качестве 2-ой метрики считаю среднюю долю кликов на сессию\n",
    "\n",
    "observ_in_group = 1000.0\n",
    "cnt_group = len(observ_1) / observ_in_group\n",
    "\n",
    "CTRs_1 = []\n",
    "CTRs_2 = []\n",
    "MeanClicks_1 = []\n",
    "MeanClicks_2 = []\n",
    "\n",
    "cnt_observ = 0\n",
    "cur_CTR_1 = 0\n",
    "cur_CTR_2 = 0\n",
    "cur_MeanClick_1 = 0\n",
    "cur_MeanClick_2 = 0\n",
    "\n",
    "for idx in range(len(observ_1)):\n",
    "    if cnt_observ == observ_in_group:\n",
    "        CTRs_1.append(cur_CTR_1 / observ_in_group)\n",
    "        CTRs_2.append(cur_CTR_2 / observ_in_group)\n",
    "        MeanClicks_1.append(cur_MeanClick_1 / observ_in_group)\n",
    "        MeanClicks_2.append(cur_MeanClick_2 / observ_in_group)\n",
    "        cur_CTR_1 = 0\n",
    "        cur_CTR_2 = 0\n",
    "        cur_MeanClick_1 = 0\n",
    "        cur_MeanClick_2 = 0\n",
    "        cnt_observ = 0\n",
    "    \n",
    "    cur_CTR_1 += 1 if (observ_1[idx].sum() > 0) else 0\n",
    "    cur_CTR_2 += 1 if (observ_2[idx].sum() > 0) else 0\n",
    "    cur_MeanClick_1 += observ_1[idx].sum() / float(len(observ_1[idx]))\n",
    "    cur_MeanClick_2 += observ_2[idx].sum() / float(len(observ_2[idx]))\n",
    "    cnt_observ += 1    \n",
    "    \n",
    "if cnt_observ == observ_in_group:\n",
    "    CTRs_1.append(cur_CTR_1 / observ_in_group)\n",
    "    CTRs_2.append(cur_CTR_2 / observ_in_group)\n",
    "    MeanClicks_1.append(cur_MeanClick_1 / observ_in_group)\n",
    "    MeanClicks_2.append(cur_MeanClick_2 / observ_in_group)\n",
    "    \n",
    "CTRs_1 = np.asarray(CTRs_1)\n",
    "CTRs_2 = np.asarray(CTRs_2)\n",
    "MeanClicks_1 = np.asarray(MeanClicks_1)\n",
    "MeanClicks_2 = np.asarray(MeanClicks_2)"
   ]
  },
  {
   "cell_type": "code",
   "execution_count": 134,
   "metadata": {
    "collapsed": false
   },
   "outputs": [
    {
     "name": "stdout",
     "output_type": "stream",
     "text": [
      "0.699946\n",
      "0.670108\n",
      "1000\n",
      "1000\n",
      "0.1619103\n",
      "0.0862814\n",
      "1000\n",
      "1000\n"
     ]
    }
   ],
   "source": [
    "print CTRs_1.mean()\n",
    "print CTRs_2.mean()\n",
    "print len(CTRs_1)\n",
    "print len(CTRs_2)\n",
    "\n",
    "print MeanClicks_1.mean()\n",
    "print MeanClicks_2.mean()\n",
    "print len(MeanClicks_1)\n",
    "print len(MeanClicks_2)"
   ]
  },
  {
   "cell_type": "code",
   "execution_count": 135,
   "metadata": {
    "collapsed": false
   },
   "outputs": [
    {
     "name": "stdout",
     "output_type": "stream",
     "text": [
      "[ 0.1639  0.1585  0.1574  0.1637  0.1554  0.1604  0.1697  0.1638  0.171\n",
      "  0.1685]\n",
      "[ 0.0895  0.0854  0.0837  0.0859  0.0858  0.0889  0.0845  0.087   0.0854\n",
      "  0.0781]\n"
     ]
    }
   ],
   "source": [
    "print MeanClicks_1[:10]\n",
    "print MeanClicks_2[:10]"
   ]
  },
  {
   "cell_type": "code",
   "execution_count": 166,
   "metadata": {
    "collapsed": false
   },
   "outputs": [],
   "source": [
    "#Процедура Bootstrap, сэмплирование с возвращением\n",
    "def GetBootstrap(sessions):\n",
    "    shuffle_idx = [random.randint(0, len(sessions) - 1) for i in range(len(sessions))]\n",
    "    return sessions[shuffle_idx]"
   ]
  },
  {
   "cell_type": "code",
   "execution_count": 179,
   "metadata": {
    "collapsed": false
   },
   "outputs": [
    {
     "name": "stdout",
     "output_type": "stream",
     "text": [
      "\n"
     ]
    }
   ],
   "source": [
    "#alpha = 0.05\n",
    "#возвращает номер принятой гипотезы\n",
    "def t_criterion(split_1, split_2, t_importance = 1.96):\n",
    "    t_value = abs(split_1.mean() - split_2.mean()) / \\\n",
    "        np.sqrt((split_1.var(ddof = 1) / float(split_1.shape[0])) + (split_2.var(ddof = 1) / float(split_2.shape[0])))\n",
    "                  \n",
    "    return (1 if (t_value > t_importance) else 0)\n",
    "\n",
    "\n",
    "#вычисляем уровень значимости с помощью bootstrap\n",
    "def calculate_ASL(split_1, split_2, bootstrap_iter = 10):\n",
    "    res_criterion = 0\n",
    "    for it in range(bootstrap_iter):\n",
    "        if it % 500 == 0:\n",
    "            sys.stderr.write('\\rBootstrap iteration: ' + str(it))\n",
    "        bs_split_1 = GetBootstrap(split_1)\n",
    "        bs_split_2 = GetBootstrap(split_2)\n",
    "        res_criterion += t_criterion(bs_split_1, bs_split_2)\n",
    "    \n",
    "#     print res_criterion\n",
    "    return res_criterion / float(bootstrap_iter)"
   ]
  },
  {
   "cell_type": "markdown",
   "metadata": {},
   "source": [
    "Считаем ASL для двух метрик:  "
   ]
  },
  {
   "cell_type": "code",
   "execution_count": 181,
   "metadata": {
    "collapsed": false,
    "scrolled": true
   },
   "outputs": [
    {
     "name": "stdout",
     "output_type": "stream",
     "text": [
      " ASL for CTR: "
     ]
    },
    {
     "name": "stderr",
     "output_type": "stream",
     "text": [
      "Bootstrap iteration: 999500"
     ]
    },
    {
     "name": "stdout",
     "output_type": "stream",
     "text": [
      " 1.0\n"
     ]
    }
   ],
   "source": [
    "print \"ASL for CTR: \", calculate_ASL(CTRs_1, CTRs_2, bootstrap_iter=1000000)"
   ]
  },
  {
   "cell_type": "code",
   "execution_count": 182,
   "metadata": {
    "collapsed": false
   },
   "outputs": [
    {
     "name": "stdout",
     "output_type": "stream",
     "text": [
      "ASL for MeanCountOfClicks:"
     ]
    },
    {
     "name": "stderr",
     "output_type": "stream",
     "text": [
      "Bootstrap iteration: 999500"
     ]
    },
    {
     "name": "stdout",
     "output_type": "stream",
     "text": [
      " 1.0\n"
     ]
    }
   ],
   "source": [
    "print \"ASL for MeanCountOfClicks:\", calculate_ASL(MeanClicks_1, MeanClicks_2, bootstrap_iter=1000000)"
   ]
  },
  {
   "cell_type": "markdown",
   "metadata": {},
   "source": [
    "Получили, что в обоих случаях мы имеем основание отвергнуть гипотезу о том, что разница в сплитах обусловлена шумами."
   ]
  }
 ],
 "metadata": {
  "anaconda-cloud": {},
  "kernelspec": {
   "display_name": "Python [conda root]",
   "language": "python",
   "name": "conda-root-py"
  },
  "language_info": {
   "codemirror_mode": {
    "name": "ipython",
    "version": 2
   },
   "file_extension": ".py",
   "mimetype": "text/x-python",
   "name": "python",
   "nbconvert_exporter": "python",
   "pygments_lexer": "ipython2",
   "version": "2.7.12"
  }
 },
 "nbformat": 4,
 "nbformat_minor": 1
}
